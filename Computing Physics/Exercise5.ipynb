{
 "cells": [
  {
   "cell_type": "markdown",
   "metadata": {},
   "source": [
    "과제<br>\n",
    "Random 사용<br>\n",
    "-randint()<br>\n",
    "-poisson()<br>\n",
    "\n",
    "Numpy 사용<br>\n",
    "-exponential<br>\n",
    "-factorial<br>\n",
    "\n"
   ]
  },
  {
   "cell_type": "code",
   "execution_count": 2,
   "metadata": {},
   "outputs": [],
   "source": [
    "import numpy as np\n",
    "import random"
   ]
  },
  {
   "cell_type": "markdown",
   "metadata": {},
   "source": [
    "## Number Python"
   ]
  },
  {
   "cell_type": "markdown",
   "metadata": {},
   "source": [
    "#### arange"
   ]
  },
  {
   "cell_type": "code",
   "execution_count": 3,
   "metadata": {},
   "outputs": [
    {
     "data": {
      "text/plain": [
       "array([[-10,  -9,  -8,  -7,  -6],\n",
       "       [ -5,  -4,  -3,  -2,  -1],\n",
       "       [  0,   1,   2,   3,   4],\n",
       "       [  5,   6,   7,   8,   9]])"
      ]
     },
     "execution_count": 3,
     "metadata": {},
     "output_type": "execute_result"
    }
   ],
   "source": [
    "l1 = np.arange(-10,10)\n",
    "l1.reshape(4,5)"
   ]
  },
  {
   "cell_type": "code",
   "execution_count": 4,
   "metadata": {},
   "outputs": [
    {
     "data": {
      "text/plain": [
       "array([[-10,  -9,  -8,  -7],\n",
       "       [ -6,  -5,  -4,  -3],\n",
       "       [ -2,  -1,   0,   1],\n",
       "       [  2,   3,   4,   5],\n",
       "       [  6,   7,   8,   9]])"
      ]
     },
     "execution_count": 4,
     "metadata": {},
     "output_type": "execute_result"
    }
   ],
   "source": [
    "l2 = np.arange(-10,10).reshape(5,4)\n",
    "l2"
   ]
  },
  {
   "cell_type": "markdown",
   "metadata": {},
   "source": [
    "reshape(self,(행,열),order=C,F,A) C, Fortran, depends on elements type"
   ]
  },
  {
   "cell_type": "code",
   "execution_count": 766,
   "metadata": {},
   "outputs": [
    {
     "data": {
      "text/plain": [
       "array([[0, 1],\n",
       "       [2, 3],\n",
       "       [4, 5]])"
      ]
     },
     "execution_count": 766,
     "metadata": {},
     "output_type": "execute_result"
    }
   ],
   "source": [
    "l2 = np.arange(6).reshape((3,2))\n",
    "l2"
   ]
  },
  {
   "cell_type": "code",
   "execution_count": 767,
   "metadata": {},
   "outputs": [
    {
     "data": {
      "text/plain": [
       "array([[0, 1, 2],\n",
       "       [3, 4, 5]])"
      ]
     },
     "execution_count": 767,
     "metadata": {},
     "output_type": "execute_result"
    }
   ],
   "source": [
    "l2.reshape((2,3), order = 'C') #column first"
   ]
  },
  {
   "cell_type": "code",
   "execution_count": 768,
   "metadata": {},
   "outputs": [
    {
     "data": {
      "text/plain": [
       "array([[0, 1],\n",
       "       [2, 3],\n",
       "       [4, 5]])"
      ]
     },
     "execution_count": 768,
     "metadata": {},
     "output_type": "execute_result"
    }
   ],
   "source": [
    "l2.reshape((3,2), order = 'C')"
   ]
  },
  {
   "cell_type": "code",
   "execution_count": 769,
   "metadata": {},
   "outputs": [
    {
     "data": {
      "text/plain": [
       "array([[0, 1],\n",
       "       [2, 3],\n",
       "       [4, 5]])"
      ]
     },
     "execution_count": 769,
     "metadata": {},
     "output_type": "execute_result"
    }
   ],
   "source": [
    "l2.reshape((3,2),order = 'F') #row first 02,41,35"
   ]
  },
  {
   "cell_type": "code",
   "execution_count": 770,
   "metadata": {},
   "outputs": [
    {
     "data": {
      "text/plain": [
       "array([[0, 4, 3],\n",
       "       [2, 1, 5]])"
      ]
     },
     "execution_count": 770,
     "metadata": {},
     "output_type": "execute_result"
    }
   ],
   "source": [
    "l2.reshape((2,3),order = 'F')"
   ]
  },
  {
   "cell_type": "markdown",
   "metadata": {},
   "source": [
    "#### 숫자로 채우기"
   ]
  },
  {
   "cell_type": "markdown",
   "metadata": {},
   "source": [
    "zeros() $\\rightarrow$ 0으로 채우기<br>\n",
    "ones() $\\rightarrow$ 1로 채우기<br>\n",
    "empty() $\\rightarrow$ 빈 배열 만들기 (쓰레기값)<br> "
   ]
  },
  {
   "cell_type": "code",
   "execution_count": 5,
   "metadata": {},
   "outputs": [
    {
     "data": {
      "text/plain": [
       "array([0., 0., 0., 0., 0.])"
      ]
     },
     "execution_count": 5,
     "metadata": {},
     "output_type": "execute_result"
    }
   ],
   "source": [
    "l1 = np.zeros(5)\n",
    "l1"
   ]
  },
  {
   "cell_type": "code",
   "execution_count": 6,
   "metadata": {},
   "outputs": [
    {
     "data": {
      "text/plain": [
       "array([[0., 0., 0.],\n",
       "       [0., 0., 0.],\n",
       "       [0., 0., 0.],\n",
       "       [0., 0., 0.]])"
      ]
     },
     "execution_count": 6,
     "metadata": {},
     "output_type": "execute_result"
    }
   ],
   "source": [
    "l1 = np.zeros((4,3))\n",
    "l1"
   ]
  },
  {
   "cell_type": "code",
   "execution_count": 7,
   "metadata": {},
   "outputs": [
    {
     "data": {
      "text/plain": [
       "array([[1., 1., 1., 1., 1.],\n",
       "       [1., 1., 1., 1., 1.],\n",
       "       [1., 1., 1., 1., 1.],\n",
       "       [1., 1., 1., 1., 1.],\n",
       "       [1., 1., 1., 1., 1.]])"
      ]
     },
     "execution_count": 7,
     "metadata": {},
     "output_type": "execute_result"
    }
   ],
   "source": [
    "l1 = np.ones((5,5))\n",
    "l1"
   ]
  },
  {
   "cell_type": "code",
   "execution_count": 8,
   "metadata": {
    "scrolled": true
   },
   "outputs": [
    {
     "data": {
      "text/plain": [
       "array([[2.45364936e-316, 0.00000000e+000],\n",
       "       [1.65879078e-202, 7.51728978e-304]])"
      ]
     },
     "execution_count": 8,
     "metadata": {},
     "output_type": "execute_result"
    }
   ],
   "source": [
    "l1 = np.empty((2,2))\n",
    "l1"
   ]
  },
  {
   "cell_type": "markdown",
   "metadata": {},
   "source": [
    "구간 분할<br>\n",
    "np.linspace(시작,끝,갯수)<br>\n",
    "np.logspace(x)=return y $\\rightarrow$ $x=\\log_{10} y$<br>"
   ]
  },
  {
   "cell_type": "code",
   "execution_count": 775,
   "metadata": {},
   "outputs": [
    {
     "data": {
      "text/plain": [
       "array([  0.,  25.,  50.,  75., 100.])"
      ]
     },
     "execution_count": 775,
     "metadata": {},
     "output_type": "execute_result"
    }
   ],
   "source": [
    "np.linspace(0,100,5)"
   ]
  },
  {
   "cell_type": "code",
   "execution_count": 9,
   "metadata": {},
   "outputs": [
    {
     "data": {
      "text/plain": [
       "array([ 1.25892541,  1.58489319,  1.99526231,  2.51188643,  3.16227766,\n",
       "        3.98107171,  5.01187234,  6.30957344,  7.94328235, 10.        ])"
      ]
     },
     "execution_count": 9,
     "metadata": {},
     "output_type": "execute_result"
    }
   ],
   "source": [
    "np.logspace(0.1,1,10)"
   ]
  },
  {
   "cell_type": "markdown",
   "metadata": {},
   "source": [
    "#### Transpose"
   ]
  },
  {
   "cell_type": "markdown",
   "metadata": {},
   "source": [
    "T = attribute not method"
   ]
  },
  {
   "cell_type": "code",
   "execution_count": 10,
   "metadata": {},
   "outputs": [
    {
     "data": {
      "text/plain": [
       "array([[0, 1],\n",
       "       [2, 3],\n",
       "       [4, 5],\n",
       "       [6, 7],\n",
       "       [8, 9]])"
      ]
     },
     "execution_count": 10,
     "metadata": {},
     "output_type": "execute_result"
    }
   ],
   "source": [
    "l1 = np.arange(0,10).reshape(5,-1) #-1로 대체 가능\n",
    "l1"
   ]
  },
  {
   "cell_type": "code",
   "execution_count": 11,
   "metadata": {},
   "outputs": [
    {
     "data": {
      "text/plain": [
       "array([[0, 2, 4, 6, 8],\n",
       "       [1, 3, 5, 7, 9]])"
      ]
     },
     "execution_count": 11,
     "metadata": {},
     "output_type": "execute_result"
    }
   ],
   "source": [
    "l1.T"
   ]
  },
  {
   "cell_type": "markdown",
   "metadata": {},
   "source": []
  },
  {
   "cell_type": "markdown",
   "metadata": {},
   "source": [
    "."
   ]
  },
  {
   "cell_type": "code",
   "execution_count": 12,
   "metadata": {},
   "outputs": [
    {
     "data": {
      "text/plain": [
       "array([[100,  99,  98,  97,  96,  95,  94,  93,  92,  91],\n",
       "       [ 90,  89,  88,  87,  86,  85,  84,  83,  82,  81],\n",
       "       [ 80,  79,  78,  77,  76,  75,  74,  73,  72,  71],\n",
       "       [ 70,  69,  68,  67,  66,  65,  64,  63,  62,  61],\n",
       "       [ 60,  59,  58,  57,  56,  55,  54,  53,  52,  51],\n",
       "       [ 50,  49,  48,  47,  46,  45,  44,  43,  42,  41],\n",
       "       [ 40,  39,  38,  37,  36,  35,  34,  33,  32,  31],\n",
       "       [ 30,  29,  28,  27,  26,  25,  24,  23,  22,  21],\n",
       "       [ 20,  19,  18,  17,  16,  15,  14,  13,  12,  11],\n",
       "       [ 10,   9,   8,   7,   6,   5,   4,   3,   2,   1]])"
      ]
     },
     "execution_count": 12,
     "metadata": {},
     "output_type": "execute_result"
    }
   ],
   "source": [
    "a = np.arange(100,0,-1).reshape(10,10)\n",
    "a"
   ]
  },
  {
   "cell_type": "code",
   "execution_count": 13,
   "metadata": {},
   "outputs": [
    {
     "data": {
      "text/plain": [
       "array([100,  98,  96,  94,  92,  90,  88,  86,  84,  82,  80,  78,  76,\n",
       "        74,  72,  70,  68,  66,  64,  62,  60,  58,  56,  54,  52,  50,\n",
       "        48,  46,  44,  42,  40,  38,  36,  34,  32,  30,  28,  26,  24,\n",
       "        22,  20,  18,  16,  14,  12,  10,   8,   6,   4,   2])"
      ]
     },
     "execution_count": 13,
     "metadata": {},
     "output_type": "execute_result"
    }
   ],
   "source": [
    "a[a%2==0]"
   ]
  },
  {
   "cell_type": "code",
   "execution_count": 14,
   "metadata": {},
   "outputs": [
    {
     "data": {
      "text/plain": [
       "array([99, 97, 95, 93, 91, 89, 87, 85, 83, 81, 79, 77, 75, 73, 71, 69, 67,\n",
       "       65, 63, 61, 59, 57, 55, 53, 51, 49, 47, 45, 43, 41, 39, 37, 35, 33,\n",
       "       31, 29, 27, 25, 23, 21, 19, 17, 15, 13, 11,  9,  7,  5,  3,  1])"
      ]
     },
     "execution_count": 14,
     "metadata": {},
     "output_type": "execute_result"
    }
   ],
   "source": [
    "a[a%2==1]"
   ]
  },
  {
   "cell_type": "code",
   "execution_count": 15,
   "metadata": {},
   "outputs": [
    {
     "data": {
      "text/plain": [
       "array([100,  99,  98,  97,  96,  95,  94,  93,  92,  91,  90,  89,  88,\n",
       "        87,  86,  85,  84,  83,  82,  81,  80,  79,  78,  77,  76,  75,\n",
       "        74,  73,  72,  71,  70,  69,  68,  67,  66,  65,  64,  63,  62,\n",
       "        61,  60,  59,  58,  57,  56,  55,  54,  53,  52,  51,  50])"
      ]
     },
     "execution_count": 15,
     "metadata": {},
     "output_type": "execute_result"
    }
   ],
   "source": [
    "a[a>=50]"
   ]
  },
  {
   "cell_type": "code",
   "execution_count": 17,
   "metadata": {},
   "outputs": [
    {
     "data": {
      "text/plain": [
       "array([10,  9,  8,  7,  6,  5,  4,  3,  2,  1])"
      ]
     },
     "execution_count": 17,
     "metadata": {},
     "output_type": "execute_result"
    }
   ],
   "source": [
    "a.min(axis=0) # 행 = 1 , 열 = 0"
   ]
  },
  {
   "cell_type": "code",
   "execution_count": 784,
   "metadata": {},
   "outputs": [
    {
     "data": {
      "text/plain": [
       "array([100,  99,  98,  97,  96,  95,  94,  93,  92,  91])"
      ]
     },
     "execution_count": 784,
     "metadata": {},
     "output_type": "execute_result"
    }
   ],
   "source": [
    "a.max(axis=0)"
   ]
  },
  {
   "cell_type": "code",
   "execution_count": 785,
   "metadata": {},
   "outputs": [
    {
     "data": {
      "text/plain": [
       "array([55., 54., 53., 52., 51., 50., 49., 48., 47., 46.])"
      ]
     },
     "execution_count": 785,
     "metadata": {},
     "output_type": "execute_result"
    }
   ],
   "source": [
    "a.mean(axis=0)"
   ]
  },
  {
   "cell_type": "code",
   "execution_count": 18,
   "metadata": {},
   "outputs": [
    {
     "data": {
      "text/plain": [
       "array([[ 10,   9,   8,   7,   6,   5,   4,   3,   2,   1],\n",
       "       [ 20,  19,  18,  17,  16,  15,  14,  13,  12,  11],\n",
       "       [ 30,  29,  28,  27,  26,  25,  24,  23,  22,  21],\n",
       "       [ 40,  39,  38,  37,  36,  35,  34,  33,  32,  31],\n",
       "       [ 50,  49,  48,  47,  46,  45,  44,  43,  42,  41],\n",
       "       [ 60,  59,  58,  57,  56,  55,  54,  53,  52,  51],\n",
       "       [ 70,  69,  68,  67,  66,  65,  64,  63,  62,  61],\n",
       "       [ 80,  79,  78,  77,  76,  75,  74,  73,  72,  71],\n",
       "       [ 90,  89,  88,  87,  86,  85,  84,  83,  82,  81],\n",
       "       [100,  99,  98,  97,  96,  95,  94,  93,  92,  91]])"
      ]
     },
     "execution_count": 18,
     "metadata": {},
     "output_type": "execute_result"
    }
   ],
   "source": [
    "a.sort(axis=0)\n",
    "a"
   ]
  },
  {
   "cell_type": "code",
   "execution_count": 19,
   "metadata": {},
   "outputs": [
    {
     "data": {
      "text/plain": [
       "array([[  1,   2,   3,   4,   5,   6,   7,   8,   9,  10],\n",
       "       [ 11,  12,  13,  14,  15,  16,  17,  18,  19,  20],\n",
       "       [ 21,  22,  23,  24,  25,  26,  27,  28,  29,  30],\n",
       "       [ 31,  32,  33,  34,  35,  36,  37,  38,  39,  40],\n",
       "       [ 41,  42,  43,  44,  45,  46,  47,  48,  49,  50],\n",
       "       [ 51,  52,  53,  54,  55,  56,  57,  58,  59,  60],\n",
       "       [ 61,  62,  63,  64,  65,  66,  67,  68,  69,  70],\n",
       "       [ 71,  72,  73,  74,  75,  76,  77,  78,  79,  80],\n",
       "       [ 81,  82,  83,  84,  85,  86,  87,  88,  89,  90],\n",
       "       [ 91,  92,  93,  94,  95,  96,  97,  98,  99, 100]])"
      ]
     },
     "execution_count": 19,
     "metadata": {},
     "output_type": "execute_result"
    }
   ],
   "source": [
    "a.sort(axis=1)\n",
    "a"
   ]
  },
  {
   "cell_type": "markdown",
   "metadata": {},
   "source": [
    "#### Random"
   ]
  },
  {
   "cell_type": "code",
   "execution_count": 31,
   "metadata": {},
   "outputs": [
    {
     "data": {
      "text/plain": [
       "array([7, 8, 2, 6, 7, 5, 7, 2, 2, 5])"
      ]
     },
     "execution_count": 31,
     "metadata": {},
     "output_type": "execute_result"
    }
   ],
   "source": [
    "#import random\n",
    "a = np.random.randint(1,10,(10)) # random array\n",
    "a"
   ]
  },
  {
   "cell_type": "markdown",
   "metadata": {},
   "source": [
    "numpy.random.randint(low,high,size,dtype)"
   ]
  },
  {
   "cell_type": "code",
   "execution_count": 35,
   "metadata": {},
   "outputs": [
    {
     "ename": "TypeError",
     "evalue": "randint() takes 3 positional arguments but 4 were given",
     "output_type": "error",
     "traceback": [
      "\u001b[0;31m---------------------------------------------------------------------------\u001b[0m",
      "\u001b[0;31mTypeError\u001b[0m                                 Traceback (most recent call last)",
      "\u001b[0;32m<ipython-input-35-1f9ab7a90aa4>\u001b[0m in \u001b[0;36m<module>\u001b[0;34m()\u001b[0m\n\u001b[0;32m----> 1\u001b[0;31m \u001b[0merr\u001b[0m \u001b[0;34m=\u001b[0m \u001b[0mrandom\u001b[0m\u001b[0;34m.\u001b[0m\u001b[0mrandint\u001b[0m\u001b[0;34m(\u001b[0m\u001b[0;36m1\u001b[0m\u001b[0;34m,\u001b[0m\u001b[0;36m10\u001b[0m\u001b[0;34m,\u001b[0m\u001b[0;34m(\u001b[0m\u001b[0;36m10\u001b[0m\u001b[0;34m)\u001b[0m\u001b[0;34m)\u001b[0m \u001b[0;31m#array 기능이 없음\u001b[0m\u001b[0;34m\u001b[0m\u001b[0m\n\u001b[0m",
      "\u001b[0;31mTypeError\u001b[0m: randint() takes 3 positional arguments but 4 were given"
     ]
    }
   ],
   "source": [
    "err = random.randint(1,10,(10)) #array 기능이 없음"
   ]
  },
  {
   "cell_type": "code",
   "execution_count": 37,
   "metadata": {},
   "outputs": [
    {
     "data": {
      "text/plain": [
       "array([False,  True,  True,  True, False, False, False,  True,  True,\n",
       "       False])"
      ]
     },
     "execution_count": 37,
     "metadata": {},
     "output_type": "execute_result"
    }
   ],
   "source": [
    "b = a%2 == 0\n",
    "b"
   ]
  },
  {
   "cell_type": "code",
   "execution_count": 42,
   "metadata": {},
   "outputs": [],
   "source": [
    "evn = a[a%2 == 0]\n",
    "od = a[a%2==1]"
   ]
  },
  {
   "cell_type": "code",
   "execution_count": 43,
   "metadata": {},
   "outputs": [
    {
     "name": "stdout",
     "output_type": "stream",
     "text": [
      "[8 2 6 2 2]\n",
      "[7 7 5 7 5]\n"
     ]
    }
   ],
   "source": [
    "print(evn)\n",
    "print(od)"
   ]
  },
  {
   "cell_type": "code",
   "execution_count": 44,
   "metadata": {},
   "outputs": [],
   "source": [
    "od.sort()"
   ]
  },
  {
   "cell_type": "code",
   "execution_count": 45,
   "metadata": {
    "scrolled": true
   },
   "outputs": [
    {
     "data": {
      "text/plain": [
       "array([5, 5, 7, 7, 7])"
      ]
     },
     "execution_count": 45,
     "metadata": {},
     "output_type": "execute_result"
    }
   ],
   "source": [
    "od"
   ]
  },
  {
   "cell_type": "markdown",
   "metadata": {},
   "source": [
    "Seed"
   ]
  },
  {
   "cell_type": "code",
   "execution_count": 56,
   "metadata": {},
   "outputs": [],
   "source": [
    "np.random.seed(0)"
   ]
  },
  {
   "cell_type": "code",
   "execution_count": 58,
   "metadata": {},
   "outputs": [
    {
     "data": {
      "text/plain": [
       "array([0.64589411, 0.43758721, 0.891773  , 0.96366276, 0.38344152])"
      ]
     },
     "execution_count": 58,
     "metadata": {},
     "output_type": "execute_result"
    }
   ],
   "source": [
    "np.random.rand(5)"
   ]
  },
  {
   "cell_type": "code",
   "execution_count": 59,
   "metadata": {},
   "outputs": [
    {
     "data": {
      "text/plain": [
       "array([0.79172504, 0.52889492, 0.56804456, 0.92559664, 0.07103606])"
      ]
     },
     "execution_count": 59,
     "metadata": {},
     "output_type": "execute_result"
    }
   ],
   "source": [
    "np.random.rand(5)"
   ]
  },
  {
   "cell_type": "code",
   "execution_count": 84,
   "metadata": {
    "scrolled": true
   },
   "outputs": [
    {
     "data": {
      "text/plain": [
       "array([4.17022005e-01, 7.20324493e-01, 1.14374817e-04, 3.02332573e-01,\n",
       "       1.46755891e-01])"
      ]
     },
     "execution_count": 84,
     "metadata": {},
     "output_type": "execute_result"
    }
   ],
   "source": [
    "np.random.seed(1)\n",
    "np.random.rand(5)"
   ]
  },
  {
   "cell_type": "code",
   "execution_count": 159,
   "metadata": {},
   "outputs": [
    {
     "data": {
      "text/plain": [
       "array([0.64651632, 0.05379692, 0.90006661, 0.92203602, 0.64818011])"
      ]
     },
     "execution_count": 159,
     "metadata": {},
     "output_type": "execute_result"
    }
   ],
   "source": [
    "import time\n",
    "np.random.seed(int(time.time()))#second\n",
    "np.random.rand(5)"
   ]
  },
  {
   "cell_type": "code",
   "execution_count": 200,
   "metadata": {},
   "outputs": [
    {
     "data": {
      "text/plain": [
       "array([0.04872488, 0.28910966, 0.72096635, 0.02161625, 0.20592277])"
      ]
     },
     "execution_count": 200,
     "metadata": {},
     "output_type": "execute_result"
    }
   ],
   "source": [
    "sdd = int(100*(time.time()%int(time.time())))\n",
    "np.random.seed(sdd)#msecond\n",
    "np.random.rand(5)"
   ]
  },
  {
   "cell_type": "markdown",
   "metadata": {},
   "source": [
    "Shuffle"
   ]
  },
  {
   "cell_type": "code",
   "execution_count": 201,
   "metadata": {},
   "outputs": [
    {
     "data": {
      "text/plain": [
       "array([1, 2, 3, 4, 5, 6, 7, 8, 9])"
      ]
     },
     "execution_count": 201,
     "metadata": {},
     "output_type": "execute_result"
    }
   ],
   "source": [
    "a = np.arange(1,10)\n",
    "a"
   ]
  },
  {
   "cell_type": "code",
   "execution_count": 217,
   "metadata": {},
   "outputs": [
    {
     "data": {
      "text/plain": [
       "array([1, 5, 9, 3, 7, 4, 2, 8, 6])"
      ]
     },
     "execution_count": 217,
     "metadata": {},
     "output_type": "execute_result"
    }
   ],
   "source": [
    "np.random.shuffle(a)\n",
    "a"
   ]
  },
  {
   "cell_type": "code",
   "execution_count": 218,
   "metadata": {},
   "outputs": [
    {
     "data": {
      "text/plain": [
       "(array([1, 1, 1, 1, 1, 1, 1, 1, 1]),\n",
       " array([ 1,  2,  3,  4,  5,  6,  7,  8,  9, 10]))"
      ]
     },
     "execution_count": 218,
     "metadata": {},
     "output_type": "execute_result"
    }
   ],
   "source": [
    "#bin = 1~2,2~3,3~4, ... ,10~11\n",
    "np.histogram(a,bins=np.arange(1,11))"
   ]
  },
  {
   "cell_type": "code",
   "execution_count": 219,
   "metadata": {},
   "outputs": [],
   "source": [
    "import matplotlib.pyplot as plt\n",
    "%matplotlib inline"
   ]
  },
  {
   "cell_type": "code",
   "execution_count": 220,
   "metadata": {},
   "outputs": [
    {
     "data": {
      "image/png": "[encoded data removed]",
      "text/plain": [
       "<Figure size 432x288 with 1 Axes>"
      ]
     },
     "metadata": {
      "needs_background": "light"
     },
     "output_type": "display_data"
    }
   ],
   "source": [
    "a = np.random.randint(0,5,5)\n",
    "plt.hist(a, bins = np.arange(1,6))\n",
    "plt.show()"
   ]
  },
  {
   "cell_type": "markdown",
   "metadata": {},
   "source": [
    "np.where<br>\n",
    "where[statement, when true, when false]"
   ]
  },
  {
   "cell_type": "code",
   "execution_count": 227,
   "metadata": {},
   "outputs": [
    {
     "data": {
      "text/plain": [
       "array([7.7777707 , 4.96132131, 2.74250621, 8.09833305, 3.3767612 ,\n",
       "       1.95610392, 3.41969953, 6.72769845, 2.83114444, 2.6565566 ])"
      ]
     },
     "execution_count": 227,
     "metadata": {},
     "output_type": "execute_result"
    }
   ],
   "source": [
    "a = np.random.uniform(0,10,10)\n",
    "a"
   ]
  },
  {
   "cell_type": "code",
   "execution_count": 232,
   "metadata": {},
   "outputs": [
    {
     "name": "stdout",
     "output_type": "stream",
     "text": [
      "[1.95610392]\n"
     ]
    }
   ],
   "source": [
    "print(a[np.where(a==a.min())]) #minimum value"
   ]
  },
  {
   "cell_type": "markdown",
   "metadata": {},
   "source": [
    "손으로 where 구현"
   ]
  },
  {
   "cell_type": "code",
   "execution_count": 233,
   "metadata": {},
   "outputs": [
    {
     "name": "stdout",
     "output_type": "stream",
     "text": [
      "1.9561039162894633\n"
     ]
    }
   ],
   "source": [
    "for i in range(len(a)):\n",
    "    if a[i]==a.min():\n",
    "        print(a[i])"
   ]
  },
  {
   "cell_type": "code",
   "execution_count": 235,
   "metadata": {
    "scrolled": true
   },
   "outputs": [
    {
     "name": "stdout",
     "output_type": "stream",
     "text": [
      "a1: [[ 8  7 10  1  6  9  3  8  6  2]\n",
      " [ 6  2  3  3  9  5 10  2  3  3]\n",
      " [ 6 10  4 10  9  6  5  9  5 10]\n",
      " [ 5 10  6  5  9  7  5  6  2  2]\n",
      " [10 10  7 10  9  4  1  6  6 10]\n",
      " [ 6  7  6  5  2  9  5  6  4  2]\n",
      " [ 4  7  4  5  4  8 10  6  4  7]\n",
      " [10  1 10  2 10  7  4 10  2 10]\n",
      " [ 5  2 10  9  8  7  1  3  1 10]\n",
      " [ 7  3 10  4 10  3  3  6  7  9]]\n",
      "a2: [[ 4  8  2  1  6  1  9  6  9  6]\n",
      " [ 3  1  8  3  1  5  4  5  8  9]\n",
      " [ 7  6  4  8  1  3  6  7  3  4]\n",
      " [ 4  3  3  7  1  4  1  2  9  2]\n",
      " [ 8  7  3  9  8  7  2  3 10  4]\n",
      " [ 1  7  1  5  9 10  1 10  5  4]\n",
      " [ 5  5  1  3  5  7  7  1  3  9]\n",
      " [ 1  2 10 10  4 10  8  6  5  9]\n",
      " [ 2  2  3  9  1  4  9  5  6  4]\n",
      " [ 5  2  9  8  9  3  3  9  9  1]]\n"
     ]
    }
   ],
   "source": [
    "a1 = np.random.randint(1,11,100).reshape(10,10)\n",
    "a2 = np.random.randint(1,11,(10,10))\n",
    "print(\"a1:\",a1)\n",
    "print(\"a2:\",a2)\n"
   ]
  },
  {
   "cell_type": "code",
   "execution_count": 236,
   "metadata": {
    "scrolled": true
   },
   "outputs": [
    {
     "name": "stdout",
     "output_type": "stream",
     "text": [
      "[[ 4  8  2  0  6  1  0  6  9  0]\n",
      " [ 3  0  0  0  1  5  4  0  0  0]\n",
      " [ 7  6  0  8  1  3  6  7  3  4]\n",
      " [ 4  3  3  7  1  4  1  2  0  0]\n",
      " [ 8  7  3  9  8  0  0  3 10  4]\n",
      " [ 1  7  1  5  0 10  1 10  0  0]\n",
      " [ 0  5  0  3  0  7  7  1  0  9]\n",
      " [ 1  0 10  0  4 10  0  6  0  9]\n",
      " [ 2  0  3  9  1  4  0  0  0  4]\n",
      " [ 5  0  9  0  9  0  0  9  9  1]]\n"
     ]
    }
   ],
   "source": [
    "b1 = np.where(a1>=5, a2, 0)\n",
    "print(b1)"
   ]
  },
  {
   "cell_type": "markdown",
   "metadata": {},
   "source": [
    "## Math Plot libraray"
   ]
  },
  {
   "cell_type": "code",
   "execution_count": 237,
   "metadata": {},
   "outputs": [],
   "source": [
    "#import numpy as np\n",
    "#import matplotlib.pyplot as plt\n",
    "import matplotlib.gridspec as gs"
   ]
  },
  {
   "cell_type": "markdown",
   "metadata": {},
   "source": [
    "반복문으로 subplot 만들기"
   ]
  },
  {
   "cell_type": "code",
   "execution_count": 238,
   "metadata": {},
   "outputs": [
    {
     "data": {
      "text/plain": [
       "<Figure size 648x648 with 0 Axes>"
      ]
     },
     "metadata": {},
     "output_type": "display_data"
    }
   ],
   "source": [
    "fig = plt.figure(figsize=(9,9))"
   ]
  },
  {
   "cell_type": "code",
   "execution_count": 240,
   "metadata": {},
   "outputs": [
    {
     "name": "stderr",
     "output_type": "stream",
     "text": [
      "/usr/local/lib/python3.6/dist-packages/matplotlib/cbook/deprecation.py:107: MatplotlibDeprecationWarning: Adding an axes using the same arguments as a previous axes currently reuses the earlier instance.  In a future version, a new instance will always be created and returned.  Meanwhile, this warning can be suppressed, and the future behavior ensured, by passing a unique label to each axes instance.\n",
      "  warnings.warn(message, mplDeprecation, stacklevel=1)\n"
     ]
    }
   ],
   "source": [
    "ax = [fig.add_subplot(3,3,i+1) for i in range(9)]"
   ]
  },
  {
   "cell_type": "code",
   "execution_count": 245,
   "metadata": {},
   "outputs": [],
   "source": [
    "for a in ax:\n",
    "    a.set_aspect('equal') #x,y tick ratio equal or auto or numner y/x\n",
    "    a.grid(True)"
   ]
  },
  {
   "cell_type": "code",
   "execution_count": 247,
   "metadata": {},
   "outputs": [
    {
     "data": {
      "image/png": "[encoded data removed]",
      "text/plain": [
       "<Figure size 648x648 with 9 Axes>"
      ]
     },
     "execution_count": 247,
     "metadata": {},
     "output_type": "execute_result"
    }
   ],
   "source": [
    "ax[0].plot([0,1,2],[0,1,2])\n",
    "fig"
   ]
  },
  {
   "cell_type": "markdown",
   "metadata": {},
   "source": [
    "2D vector"
   ]
  },
  {
   "cell_type": "code",
   "execution_count": 257,
   "metadata": {},
   "outputs": [],
   "source": [
    "#2d vectors in cart\n",
    "class vec2d():\n",
    "    cart = np.zeros(2, dtype = np.float)\n",
    "    pola = np.zeros(2, dtype = np.float)\n",
    "    \n",
    "    def __init__(self,a,b):\n",
    "        self.cart = vec2d.cart.copy()\n",
    "        self.pola = vec2d.pola.copy() #in radian\n",
    "        \n",
    "        self.cart[0] = a\n",
    "        self.cart[1] = b\n",
    "        self.pola[0] = np.sqrt(a**2 + b**2)\n",
    "        if a != 0:   \n",
    "            self.pola[1] = np.arctan(b/a) \n",
    "        elif a==0 and b>0:\n",
    "            self.pola[1] = np.pi/2\n",
    "        elif a==0 and b<0:\n",
    "            self.pola[1] = np.pi*3/2\n",
    "        \n",
    "    def dot_prod(self,other):\n",
    "        return (self.cart[0]*other.cart[0]+self.cart[1]*other.cart[1])//0.01\n",
    "    \n",
    "    #rotate in degree\n",
    "    def rotate2d(self,dtheta):\n",
    "        #degree to radian\n",
    "        rtheta = np.deg2rad(dtheta)\n",
    "        #rotation matrix\n",
    "        R = np.array([[np.cos(rtheta),-np.sin(rtheta)],\n",
    "                     [np.sin(rtheta),np.cos(rtheta)]])\n",
    "        self.cart = np.matmul(R,self.cart)\n",
    "        self.pola[1] += rtheta\n",
    "        \n",
    "    def __str__(self):\n",
    "        return \"x:{0:.2f}, y:{1:.2f} | r:{2:.2f}, d:{3:.2f}\".format(self.cart[0],self.cart[1],self.pola[0],np.rad2deg(self.pola[1]))"
   ]
  },
  {
   "cell_type": "code",
   "execution_count": 258,
   "metadata": {},
   "outputs": [],
   "source": [
    "vec = vec2d(1,0)"
   ]
  },
  {
   "cell_type": "code",
   "execution_count": 259,
   "metadata": {},
   "outputs": [],
   "source": [
    "vec.rotate2d(90)"
   ]
  },
  {
   "cell_type": "code",
   "execution_count": 260,
   "metadata": {},
   "outputs": [
    {
     "name": "stdout",
     "output_type": "stream",
     "text": [
      "x:0.00, y:1.00 | r:1.00, d:90.00\n"
     ]
    }
   ],
   "source": [
    "print(vec)"
   ]
  },
  {
   "cell_type": "code",
   "execution_count": 262,
   "metadata": {},
   "outputs": [
    {
     "name": "stdout",
     "output_type": "stream",
     "text": [
      "x:2.00, y:0.00 | r:2.00, d:0.00\n",
      "0.0\n"
     ]
    }
   ],
   "source": [
    "vec2 = vec2d(2,0)\n",
    "print(vec2)\n",
    "print(vec.dot_prod(vec2))"
   ]
  },
  {
   "cell_type": "code",
   "execution_count": 263,
   "metadata": {},
   "outputs": [
    {
     "name": "stdout",
     "output_type": "stream",
     "text": [
      "x:1.00, y:1.00 | r:1.41, d:45.00\n"
     ]
    }
   ],
   "source": [
    "#data\n",
    "vec3 = vec2d(1,1)\n",
    "vec4 = vec2d(2,0)\n",
    "print(vec3)"
   ]
  },
  {
   "cell_type": "code",
   "execution_count": 266,
   "metadata": {},
   "outputs": [
    {
     "data": {
      "image/png": "[encoded data removed]",
      "text/plain": [
       "<Figure size 864x360 with 2 Axes>"
      ]
     },
     "metadata": {
      "needs_background": "light"
     },
     "output_type": "display_data"
    }
   ],
   "source": [
    "fig = plt.figure(figsize=(12,5))\n",
    "#polar coordinate supplot at 1x2 1st\n",
    "ax1 = fig.add_subplot(121, projection='polar')\n",
    "ax2 = fig.add_subplot(122)\n",
    "\n",
    "#domain\n",
    "theta = np.arange(0,360,20)\n",
    "\n",
    "#quiver(originx(theta),originy(r),vectorx,vectory,color=rgb,headlength,scale)\n",
    "for i in range(len(theta)):\n",
    "    ax1.quiver(vec3.pola[1],vec3.pola[0], vec4.cart[0],vec4.cart[1], color='green', headlength=3,scale=8)\n",
    "    ax2.quiver(vec3.cart[0],vec3.cart[1], vec4.cart[0],vec4.cart[1], color='blue', headlength=5,scale=8)\n",
    "    vec4.rotate2d(20)\n",
    "    \n",
    "ax1.grid(True)\n",
    "ax1.set_rlim(0,5) #radial limit\n",
    "ax1.set_xlabel('x')\n",
    "ax1.set_ylabel('y',labelpad=30)#labelpad = offset\n",
    "\n",
    "ax2.grid(True)\n",
    "ax2.set_xlim(-5,5)\n",
    "ax2.set_ylim(-5,5)\n",
    "ax2.set_xlabel('x')\n",
    "ax2.set_ylabel('y')\n",
    "\n",
    "plt.show()"
   ]
  },
  {
   "cell_type": "markdown",
   "metadata": {},
   "source": [
    "## Random & Matplot & Numpy\n",
    "(시간이 되면)"
   ]
  },
  {
   "cell_type": "markdown",
   "metadata": {},
   "source": [
    "t는 1차원 단진자 위치의 관측량 x(t)을 측정했을때의 시간이라 하자. t∈[0,2] 범위에서, 임의의 시간 t에 100번의 측정을 하였다고 했을때, 이 측정시간에 대응되는 100개의 실수형 난수 t의 리스트(numpy.array) T를 생성해보자.\n",
    "\n",
    "단진자의 위치를 x(t)=asin(2πt)+b라 할 때, x(t)에 대한 측정오차 δx(t)가 가우시안 분포 G(x|μ=0,σ=x(t)2)를 따른다고 가정하자. 위의 측정시간 T에 대응되는 단진자 위치 측정값의 예상치 데이터 X(T)를 가우시안 (난수) 오차를 고려하여 리스트(numpy.array)로 생성해보자.\n",
    "\n",
    "위에서 생성한 T vs X(T)를 matplotlib를 활용하여 그려보자.\n"
   ]
  },
  {
   "cell_type": "code",
   "execution_count": 267,
   "metadata": {},
   "outputs": [],
   "source": [
    "#Data\n",
    "#array of 100 elements between 0 to 2\n",
    "t = np.random.uniform(0,2,100)\n",
    "t.sort() #sort\n",
    "\n",
    "def osc(tm):\n",
    "    return np.sin(np.pi*2*tm)\n",
    "\n",
    "#noise randn = gaussian(0,1)\n",
    "dx = osc(t)/2*np.random.randn(len(osc(t)))\n",
    "#experimentl value = model+noise\n",
    "xexp = osc(t)+dx"
   ]
  },
  {
   "cell_type": "code",
   "execution_count": 270,
   "metadata": {},
   "outputs": [
    {
     "data": {
      "image/png": "[encoded data removed]",
      "text/plain": [
       "<Figure size 864x576 with 1 Axes>"
      ]
     },
     "metadata": {
      "needs_background": "light"
     },
     "output_type": "display_data"
    }
   ],
   "source": [
    "#Plot\n",
    "fig1 = plt.figure(figsize=(12,8))\n",
    "ax1 = fig1.add_subplot(111)\n",
    "\n",
    "ax1.plot(t, xexp, 'r.',t,osc(t),'g-')\n",
    "#ax1.plot(t,xexp,'r.')\n",
    "ax1.grid(True)\n",
    "\n",
    "#x 변위가 커질수록 sd 커지는 모양"
   ]
  },
  {
   "cell_type": "markdown",
   "metadata": {},
   "source": [
    "2d random plot"
   ]
  },
  {
   "cell_type": "markdown",
   "metadata": {},
   "source": [
    "\n",
    "    각각 중심이 (x0,y0)=(−3,−3), (x0,y0)=(+3,+3)이고 σx,y=1인 () 두 가우시안 분포를 따르는, 2차원 난수 배열을 구해보자.\n",
    "\n",
    "    이를 x,y∈[−10,10]에서, scatter plot을 통하여 시각화해보자.\n",
    "\n",
    "    이를 plt.hist2D를 통하여 시각화해보자\n"
   ]
  },
  {
   "cell_type": "code",
   "execution_count": 273,
   "metadata": {
    "scrolled": true
   },
   "outputs": [
    {
     "data": {
      "text/plain": [
       "Text(0,0.5,'y')"
      ]
     },
     "execution_count": 273,
     "metadata": {},
     "output_type": "execute_result"
    },
    {
     "data": {
      "image/png": "[encoded data removed]",
      "text/plain": [
       "<Figure size 432x1296 with 4 Axes>"
      ]
     },
     "metadata": {
      "needs_background": "light"
     },
     "output_type": "display_data"
    }
   ],
   "source": [
    "# Data generation\n",
    "Ng_point = 1000\n",
    "\n",
    "# 2xNg_point shape의 Gaussian 난수 생성\n",
    "gauss1 = 3 + np.random.randn(2,Ng_point)\n",
    "gauss2 = -3 + np.random.randn(2,Ng_point)\n",
    "\n",
    "#행으로 이어붙임\n",
    "gauss_tot_x = np.hstack((gauss1[0],gauss2[0]))\n",
    "gauss_tot_y = np.hstack((gauss1[1],gauss2[1]))\n",
    "#열로 이어붙임 \n",
    "gauss_tot = np.vstack((gauss_tot_x,gauss_tot_y))\n",
    "\n",
    "\n",
    "# Plotting object (figure & axes)\n",
    "fig = plt.figure(figsize=(6,18))\n",
    "\n",
    "ax1 = fig.add_subplot(311)\n",
    "ax1.scatter(gauss1[0],gauss1[1], c='r', s=0.5)\n",
    "ax1.scatter(gauss2[0],gauss2[1], c='g', s=0.5)\n",
    "ax1.grid(True)\n",
    "ax1.set_xlabel('x')\n",
    "ax1.set_ylabel('y')\n",
    "\n",
    "ax2 = fig.add_subplot(312)\n",
    "#ax2.scatter(gauss_tot[0],gauss_tot[1], c='b', s=0.5)\n",
    "#ax2.plot(gauss_tot[0],gauss_tot[1],'b.')\n",
    "\n",
    "#두개가 비슷한데 scatter는 점의 크기를 지정해 줄 수 있음\n",
    "#'''\n",
    "#eg)\n",
    "clr = np.random.rand(1000)\n",
    "siz = np.random.rand(1000)*100\n",
    "ax2.scatter(gauss1[0],gauss1[1], c=clr, s=siz, alpha = 0.3)\n",
    "#'''\n",
    "\n",
    "ax2.grid(True)\n",
    "ax2.set_xlabel('x')\n",
    "ax2.set_ylabel('y')\n",
    "\n",
    "#cmap = color map\n",
    "ax3 = fig.add_subplot(313)\n",
    "ax3_hist = ax3.hist2d(gauss_tot[0],gauss_tot[1],50,cmap=plt.cm.jet)\n",
    "fig.colorbar(ax3_hist[3], ax=ax3, pad=0.01)\n",
    "\n",
    "ax3.grid(True)\n",
    "ax3.set_xlabel('x')\n",
    "ax3.set_ylabel('y')\n"
   ]
  },
  {
   "cell_type": "markdown",
   "metadata": {},
   "source": [
    "## 실습해보기"
   ]
  },
  {
   "cell_type": "markdown",
   "metadata": {},
   "source": [
    "1. 0부터 10 까지의 실수값을 갖는 난수 10개를 요소로 갖는 numpy array를 만들고, 인접한 두 요소의 차이의 최소값을 출력하는 프로그램을 만들자! (where 이용)"
   ]
  },
  {
   "cell_type": "markdown",
   "metadata": {},
   "source": [
    "2. linspace나 arange 를 이용하여 도메인을 만들고 방정식의 해를 구해보아요!<br>\n",
    "$x^2 - x = 0$<br>\n",
    "$-1<x<2$ 의 모든해"
   ]
  },
  {
   "cell_type": "markdown",
   "metadata": {},
   "source": [
    "3. 2d cartesian 벡터 클래스를 구현하고 벡터의 회전을 클라스 메소드로 만들어 보아요!"
   ]
  }
 ],
 "metadata": {
  "kernelspec": {
   "display_name": "Python 3",
   "language": "python",
   "name": "python3"
  },
  "language_info": {
   "codemirror_mode": {
    "name": "ipython",
    "version": 3
   },
   "file_extension": ".py",
   "mimetype": "text/x-python",
   "name": "python",
   "nbconvert_exporter": "python",
   "pygments_lexer": "ipython3",
   "version": "3.6.6"
  }
 },
 "nbformat": 4,
 "nbformat_minor": 2
}
