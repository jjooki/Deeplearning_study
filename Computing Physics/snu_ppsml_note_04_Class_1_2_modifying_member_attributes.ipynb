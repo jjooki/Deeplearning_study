{
 "cells": [
  {
   "cell_type": "markdown",
   "metadata": {
    "colab_type": "text",
    "id": "g8em0N-akz3C"
   },
   "source": [
    "## Class 1"
   ]
  },
  {
   "cell_type": "markdown",
   "metadata": {
    "colab_type": "text",
    "id": "qCqQnBAvpgzK"
   },
   "source": [
    "### 2. 멤버변수 변경 및 추가 & 삭제에 관하여 \n",
    "\n",
    "파이썬의 클래스에 속한 어떤 인스턴스 객체나 클래스 객체의 멤버 변수들은, 기본적으로 public 속성으로서, 매우 쉽게 변경이 가능하며, 더 나아가 런타임에서 추가 및 삭제가 가능합니다.\n"
   ]
  },
  {
   "cell_type": "markdown",
   "metadata": {
    "colab_type": "text",
    "id": "Bz7NjxGapATT"
   },
   "source": [
    "* **멤버변수값의 변경**\n",
    "\n",
    "1) 인스턴스들과 클래스 각각, 독립적인 이름공간을 가지고 있지만, 인스턴스가 처음 선언된 직후 모든 멤버 변수값들은 클래스의 기본값을 공유한다.\n",
    "\n",
    "2) 어떤 멤버변수값을 제대로 다루기 위해서는, 그 멤버변수가 속한 이름공간(인스턴스/클래스)을 '.'을 사용하여 명시해야한다는 점을 잊지말자.\n"
   ]
  },
  {
   "cell_type": "code",
   "execution_count": 1,
   "metadata": {
    "cellView": "code",
    "colab": {
     "autoexec": {
      "startup": false,
      "wait_interval": 0
     }
    },
    "colab_type": "code",
    "id": "bx8-IgUSoFYd"
   },
   "outputs": [],
   "source": [
    "# 클래스 정의\n",
    "class human:\n",
    "    name=\"babo\" # 클래스 멤버변수, name (기본값 \"babo\")\n",
    "    def mynameis(self):\n",
    "        print(\"My name is {0}.\".format(self.name))"
   ]
  },
  {
   "cell_type": "code",
   "execution_count": 2,
   "metadata": {
    "colab": {
     "autoexec": {
      "startup": false,
      "wait_interval": 0
     }
    },
    "colab_type": "code",
    "id": "TcoAh8I20aBj"
   },
   "outputs": [],
   "source": [
    "h1 = human() # human클래스에 속한 h1 인스턴스의 생성\n",
    "h2 = human() # human클래스에 속한 h2 인스턴스의 생성"
   ]
  },
  {
   "cell_type": "code",
   "execution_count": 3,
   "metadata": {
    "colab": {
     "autoexec": {
      "startup": false,
      "wait_interval": 0
     }
    },
    "colab_type": "code",
    "id": "EAB9-onL0v70"
   },
   "outputs": [
    {
     "data": {
      "text/plain": [
       "['__class__',\n",
       " '__delattr__',\n",
       " '__dict__',\n",
       " '__dir__',\n",
       " '__doc__',\n",
       " '__eq__',\n",
       " '__format__',\n",
       " '__ge__',\n",
       " '__getattribute__',\n",
       " '__gt__',\n",
       " '__hash__',\n",
       " '__init__',\n",
       " '__le__',\n",
       " '__lt__',\n",
       " '__module__',\n",
       " '__ne__',\n",
       " '__new__',\n",
       " '__reduce__',\n",
       " '__reduce_ex__',\n",
       " '__repr__',\n",
       " '__setattr__',\n",
       " '__sizeof__',\n",
       " '__str__',\n",
       " '__subclasshook__',\n",
       " '__weakref__',\n",
       " 'mynameis',\n",
       " 'name']"
      ]
     },
     "execution_count": 3,
     "metadata": {},
     "output_type": "execute_result"
    }
   ],
   "source": [
    "dir(h1) # h1 인스턴의 이름공간 확인"
   ]
  },
  {
   "cell_type": "code",
   "execution_count": 4,
   "metadata": {
    "colab": {
     "autoexec": {
      "startup": false,
      "wait_interval": 0
     }
    },
    "colab_type": "code",
    "id": "iG2QZF7e09mP"
   },
   "outputs": [
    {
     "data": {
      "text/plain": [
       "['__class__',\n",
       " '__delattr__',\n",
       " '__dict__',\n",
       " '__dir__',\n",
       " '__doc__',\n",
       " '__eq__',\n",
       " '__format__',\n",
       " '__ge__',\n",
       " '__getattribute__',\n",
       " '__gt__',\n",
       " '__hash__',\n",
       " '__init__',\n",
       " '__le__',\n",
       " '__lt__',\n",
       " '__module__',\n",
       " '__ne__',\n",
       " '__new__',\n",
       " '__reduce__',\n",
       " '__reduce_ex__',\n",
       " '__repr__',\n",
       " '__setattr__',\n",
       " '__sizeof__',\n",
       " '__str__',\n",
       " '__subclasshook__',\n",
       " '__weakref__',\n",
       " 'mynameis',\n",
       " 'name']"
      ]
     },
     "execution_count": 4,
     "metadata": {},
     "output_type": "execute_result"
    }
   ],
   "source": [
    "dir(h2) # h2 인스턴스의 이름공간 확인"
   ]
  },
  {
   "cell_type": "code",
   "execution_count": 5,
   "metadata": {
    "colab": {
     "autoexec": {
      "startup": false,
      "wait_interval": 0
     }
    },
    "colab_type": "code",
    "id": "jGScNzoG1Ctb"
   },
   "outputs": [
    {
     "name": "stdout",
     "output_type": "stream",
     "text": [
      "My name is babo.\n"
     ]
    }
   ],
   "source": [
    "h1.name # h1 인스턴스 이름공간의 멤버변수 name의 값 확인\n",
    "h1.mynameis() # h1 인스턴스 이름공간의 메소드를 통한 h1.name 값 확인 "
   ]
  },
  {
   "cell_type": "code",
   "execution_count": 6,
   "metadata": {
    "colab": {
     "autoexec": {
      "startup": false,
      "wait_interval": 0
     }
    },
    "colab_type": "code",
    "id": "TUs0jdPa1b8t"
   },
   "outputs": [
    {
     "name": "stdout",
     "output_type": "stream",
     "text": [
      "My name is Neo.\n"
     ]
    }
   ],
   "source": [
    "h1.name = \"Neo\"  # h1 인스턴스의 멤버변수 name값 변경\n",
    "h1.mynameis()  # 바뀐 h1.name 값 확인 "
   ]
  },
  {
   "cell_type": "markdown",
   "metadata": {
    "colab_type": "text",
    "id": "HlqvbffepATk"
   },
   "source": [
    "* **멤버변수의 추가**\n",
    "\n",
    "1) 인스턴스들과 클래스 각각, 독립적인 이름공간을 가지고 있지만, 인스턴스가 처음 선언된 직후 모든 멤버 변수과 그 값들은 클래스의 기본값을 공유한다.\n",
    "\n",
    "2) 이후 인스턴스들은 각각, 자신의 독립적인 이름공간에 자신만의 변수를 **추가**할 수 있다.\n",
    "\n",
    "3) 클래스 자체의 이름공간에 변수를 **추가**하면, 역시 클래스에 속한 인스턴스의 이름공간에도 **추가**된다. "
   ]
  },
  {
   "cell_type": "code",
   "execution_count": 8,
   "metadata": {
    "colab": {
     "autoexec": {
      "startup": false,
      "wait_interval": 0
     }
    },
    "colab_type": "code",
    "id": "0YBvaktopNAe"
   },
   "outputs": [
    {
     "name": "stdout",
     "output_type": "stream",
     "text": [
      "h1.age = 20\n"
     ]
    },
    {
     "data": {
      "text/plain": [
       "['__class__',\n",
       " '__delattr__',\n",
       " '__dict__',\n",
       " '__dir__',\n",
       " '__doc__',\n",
       " '__eq__',\n",
       " '__format__',\n",
       " '__ge__',\n",
       " '__getattribute__',\n",
       " '__gt__',\n",
       " '__hash__',\n",
       " '__init__',\n",
       " '__le__',\n",
       " '__lt__',\n",
       " '__module__',\n",
       " '__ne__',\n",
       " '__new__',\n",
       " '__reduce__',\n",
       " '__reduce_ex__',\n",
       " '__repr__',\n",
       " '__setattr__',\n",
       " '__sizeof__',\n",
       " '__str__',\n",
       " '__subclasshook__',\n",
       " '__weakref__',\n",
       " 'age',\n",
       " 'mynameis',\n",
       " 'name']"
      ]
     },
     "execution_count": 8,
     "metadata": {},
     "output_type": "execute_result"
    }
   ],
   "source": [
    "h1.age = 20 # 멤버 변수(age) 추가 \n",
    "print (\"h1.age = {0}\".format(h1.age))\n",
    "dir(h1) # h1 이름공간에서 추가된 변수 확인"
   ]
  },
  {
   "cell_type": "code",
   "execution_count": 9,
   "metadata": {
    "colab": {
     "autoexec": {
      "startup": false,
      "wait_interval": 0
     }
    },
    "colab_type": "code",
    "id": "30U-dlDPpATr"
   },
   "outputs": [
    {
     "data": {
      "text/plain": [
       "['__class__',\n",
       " '__delattr__',\n",
       " '__dict__',\n",
       " '__dir__',\n",
       " '__doc__',\n",
       " '__eq__',\n",
       " '__format__',\n",
       " '__ge__',\n",
       " '__getattribute__',\n",
       " '__gt__',\n",
       " '__hash__',\n",
       " '__init__',\n",
       " '__le__',\n",
       " '__lt__',\n",
       " '__module__',\n",
       " '__ne__',\n",
       " '__new__',\n",
       " '__reduce__',\n",
       " '__reduce_ex__',\n",
       " '__repr__',\n",
       " '__setattr__',\n",
       " '__sizeof__',\n",
       " '__str__',\n",
       " '__subclasshook__',\n",
       " '__weakref__',\n",
       " 'mynameis',\n",
       " 'name']"
      ]
     },
     "execution_count": 9,
     "metadata": {},
     "output_type": "execute_result"
    }
   ],
   "source": [
    "dir(human) # human 이름공간도 확인 (age가 없다.)"
   ]
  },
  {
   "cell_type": "code",
   "execution_count": 10,
   "metadata": {
    "colab": {
     "autoexec": {
      "startup": false,
      "wait_interval": 0
     }
    },
    "colab_type": "code",
    "id": "XoSk3PDupATt"
   },
   "outputs": [
    {
     "data": {
      "text/plain": [
       "['__class__',\n",
       " '__delattr__',\n",
       " '__dict__',\n",
       " '__dir__',\n",
       " '__doc__',\n",
       " '__eq__',\n",
       " '__format__',\n",
       " '__ge__',\n",
       " '__getattribute__',\n",
       " '__gt__',\n",
       " '__hash__',\n",
       " '__init__',\n",
       " '__le__',\n",
       " '__lt__',\n",
       " '__module__',\n",
       " '__ne__',\n",
       " '__new__',\n",
       " '__reduce__',\n",
       " '__reduce_ex__',\n",
       " '__repr__',\n",
       " '__setattr__',\n",
       " '__sizeof__',\n",
       " '__str__',\n",
       " '__subclasshook__',\n",
       " '__weakref__',\n",
       " 'mynameis',\n",
       " 'name',\n",
       " 'weight']"
      ]
     },
     "execution_count": 10,
     "metadata": {},
     "output_type": "execute_result"
    }
   ],
   "source": [
    "human.weight = 60 # human 클래스에 weight 변수 추가 (기본값 60)\n",
    "dir(human) # 추가 후 클래스 이름공간 확인"
   ]
  },
  {
   "cell_type": "code",
   "execution_count": 11,
   "metadata": {
    "colab": {
     "autoexec": {
      "startup": false,
      "wait_interval": 0
     }
    },
    "colab_type": "code",
    "id": "BXu_5RFDpATv"
   },
   "outputs": [
    {
     "data": {
      "text/plain": [
       "['__class__',\n",
       " '__delattr__',\n",
       " '__dict__',\n",
       " '__dir__',\n",
       " '__doc__',\n",
       " '__eq__',\n",
       " '__format__',\n",
       " '__ge__',\n",
       " '__getattribute__',\n",
       " '__gt__',\n",
       " '__hash__',\n",
       " '__init__',\n",
       " '__le__',\n",
       " '__lt__',\n",
       " '__module__',\n",
       " '__ne__',\n",
       " '__new__',\n",
       " '__reduce__',\n",
       " '__reduce_ex__',\n",
       " '__repr__',\n",
       " '__setattr__',\n",
       " '__sizeof__',\n",
       " '__str__',\n",
       " '__subclasshook__',\n",
       " '__weakref__',\n",
       " 'age',\n",
       " 'mynameis',\n",
       " 'name',\n",
       " 'weight']"
      ]
     },
     "execution_count": 11,
     "metadata": {},
     "output_type": "execute_result"
    }
   ],
   "source": [
    "dir(h1) # 추가 후 h1인스턴스도 이름공간 확인 (weight가 있다.)"
   ]
  },
  {
   "cell_type": "code",
   "execution_count": 12,
   "metadata": {
    "colab": {
     "autoexec": {
      "startup": false,
      "wait_interval": 0
     }
    },
    "colab_type": "code",
    "id": "TuFblCmdpATx"
   },
   "outputs": [
    {
     "data": {
      "text/plain": [
       "['__class__',\n",
       " '__delattr__',\n",
       " '__dict__',\n",
       " '__dir__',\n",
       " '__doc__',\n",
       " '__eq__',\n",
       " '__format__',\n",
       " '__ge__',\n",
       " '__getattribute__',\n",
       " '__gt__',\n",
       " '__hash__',\n",
       " '__init__',\n",
       " '__le__',\n",
       " '__lt__',\n",
       " '__module__',\n",
       " '__ne__',\n",
       " '__new__',\n",
       " '__reduce__',\n",
       " '__reduce_ex__',\n",
       " '__repr__',\n",
       " '__setattr__',\n",
       " '__sizeof__',\n",
       " '__str__',\n",
       " '__subclasshook__',\n",
       " '__weakref__',\n",
       " 'mynameis',\n",
       " 'name',\n",
       " 'weight']"
      ]
     },
     "execution_count": 12,
     "metadata": {},
     "output_type": "execute_result"
    }
   ],
   "source": [
    "dir(h2) # 추가 후 h1인스턴스도 이름공간 확인 (weight가 있다.)"
   ]
  },
  {
   "cell_type": "markdown",
   "metadata": {
    "colab_type": "text",
    "id": "MZAzUkTZpAT0"
   },
   "source": [
    "* **멤버변수/인스턴스/클래스의 삭제 (del)**\n",
    "\n",
    "1) 인스턴스들과 클래스 각각, 독립적인 이름공간을 가지고 있지만, 인스턴스가 처음 선언된 직후 모든 멤버 변수과 그 값들은 클래스의 기본값을 공유한다.\n",
    "\n",
    "2) 이후 인스턴스들은 각각, 자신의 독립적인 이름공간에서 자신만의 변수를 **삭제**할 수 있다.\n",
    "\n",
    "3) 클래스 자체의 이름공간에서 변수를 **삭제**하면, 역시 클래스에 속한 인스턴스의 이름공간에서도 **삭제**된다. \n",
    "\n",
    "4) 인스턴스나 클래스도 del 명령을 통하여 삭제할 수 있다."
   ]
  },
  {
   "cell_type": "code",
   "execution_count": 13,
   "metadata": {
    "colab": {
     "autoexec": {
      "startup": false,
      "wait_interval": 0
     }
    },
    "colab_type": "code",
    "id": "Ng3cdEUMo5-W"
   },
   "outputs": [
    {
     "data": {
      "text/plain": [
       "['__class__',\n",
       " '__delattr__',\n",
       " '__dict__',\n",
       " '__dir__',\n",
       " '__doc__',\n",
       " '__eq__',\n",
       " '__format__',\n",
       " '__ge__',\n",
       " '__getattribute__',\n",
       " '__gt__',\n",
       " '__hash__',\n",
       " '__init__',\n",
       " '__le__',\n",
       " '__lt__',\n",
       " '__module__',\n",
       " '__ne__',\n",
       " '__new__',\n",
       " '__reduce__',\n",
       " '__reduce_ex__',\n",
       " '__repr__',\n",
       " '__setattr__',\n",
       " '__sizeof__',\n",
       " '__str__',\n",
       " '__subclasshook__',\n",
       " '__weakref__',\n",
       " 'mynameis',\n",
       " 'name',\n",
       " 'weight']"
      ]
     },
     "execution_count": 13,
     "metadata": {},
     "output_type": "execute_result"
    }
   ],
   "source": [
    "del h1.age # h1 이름 공간에서 변수(age) 삭제\n",
    "dir(h1) # 삭제된 변수 확인"
   ]
  },
  {
   "cell_type": "code",
   "execution_count": null,
   "metadata": {
    "colab": {
     "autoexec": {
      "startup": false,
      "wait_interval": 0
     }
    },
    "colab_type": "code",
    "id": "xo7zCZ-8pAT3"
   },
   "outputs": [],
   "source": [
    "dir(h2)"
   ]
  },
  {
   "cell_type": "code",
   "execution_count": null,
   "metadata": {
    "colab": {
     "autoexec": {
      "startup": false,
      "wait_interval": 0
     }
    },
    "colab_type": "code",
    "id": "cudjMQl3pAT6"
   },
   "outputs": [],
   "source": [
    "dir(human)"
   ]
  },
  {
   "cell_type": "code",
   "execution_count": null,
   "metadata": {
    "colab": {
     "autoexec": {
      "startup": false,
      "wait_interval": 0
     }
    },
    "colab_type": "code",
    "id": "WsfCU0mkpAT8"
   },
   "outputs": [],
   "source": [
    "del human.weight # human 클래스에서 weight변수의 삭제 => 모든 인스턴스에 적용\n",
    "dir(human)"
   ]
  },
  {
   "cell_type": "code",
   "execution_count": null,
   "metadata": {
    "colab": {
     "autoexec": {
      "startup": false,
      "wait_interval": 0
     }
    },
    "colab_type": "code",
    "id": "MMo-4crcpAT-"
   },
   "outputs": [],
   "source": [
    "dir(h1)"
   ]
  },
  {
   "cell_type": "code",
   "execution_count": null,
   "metadata": {
    "colab": {
     "autoexec": {
      "startup": false,
      "wait_interval": 0
     }
    },
    "colab_type": "code",
    "id": "FcfJPHWnpAUA"
   },
   "outputs": [],
   "source": [
    "dir(h2)"
   ]
  },
  {
   "cell_type": "code",
   "execution_count": null,
   "metadata": {
    "colab": {
     "autoexec": {
      "startup": false,
      "wait_interval": 0
     }
    },
    "colab_type": "code",
    "id": "BFVNzN7-pAUC"
   },
   "outputs": [],
   "source": [
    "del h1 # h1 인스턴스의 삭제\n",
    "del h2 # h2 인스턴스의 삭제"
   ]
  },
  {
   "cell_type": "code",
   "execution_count": null,
   "metadata": {
    "colab": {
     "autoexec": {
      "startup": false,
      "wait_interval": 0
     }
    },
    "colab_type": "code",
    "id": "7xLIJHbypAUG"
   },
   "outputs": [],
   "source": [
    "del human # human 클래스의 삭제"
   ]
  },
  {
   "cell_type": "markdown",
   "metadata": {
    "colab_type": "text",
    "id": "klKG7XPAqiZf"
   },
   "source": [
    "### 3. 생성자와 소멸자 \n",
    "\n",
    "* 생성자 메소드(\\_\\_init\\_\\_(self))는 클래스의 어떤 인스턴스가 생성될 때, 그 인스턴스가 가진 변수들의 초기화를 위해 쓰이며, **생성순간 생성자 메소드가 자동호출**됩니다. \n",
    "\n",
    "\n",
    "* 소멸자 메소드(\\_\\_del_\\_(self))는 클래스의 인스턴스들이 쓰임새를 다하고, 메모리에서 사라질 때의 정리작업을 위한 **자동호출 메소드**입니다. \n",
    "    \n",
    "> ex1) 정수형 변수 a를 메모리에서 제거\n",
    "```python \n",
    "a = 10  # 정수형 변수의 선언\n",
    "del a  # 정수형 변수 a를 메모리에서 제거 (~ 정수 클래스의 인스턴스 a를 메모리에서 제거)\n",
    "```\n",
    "\n",
    "> ex2) 인스턴스의 제거(밑의 수업내용 예제에 대하여):\n",
    "```python\n",
    "a = myClass(10)\n",
    "del a.Value  # Value 멤버변수를 a 인스턴스에서 제거\n",
    "del a  # ***인스턴스 a를 제거 (인스턴스 객체 a에 해당하는 레퍼런스 갯수가 1일때, 소멸자 __del__()도 호출)***\n",
    "```\n",
    "\n",
    "> ex3) 어떤 인스턴스 a의 클래스에 소멸자 메소드가 정의되어 있을 경우, 그 인스턴스는 소멸자를 직접 호출하여 제거할 수도 있다:\n",
    "```python\n",
    "a = myClass(10)\n",
    "a.__del__()  # 바운드 호출 방식으로 소멸자를 직접 호출하여 인스턴스 a를 삭제\n",
    "myClass.__del__(a)  # 언바운드 호출 방식으로 소멸자를 직접 호출하여 myClass의 인스턴스 a를 삭제\n",
    "```\n",
    "\n",
    "> **소멸자의 호출 시점에 대하여** : 일반적으로 인스턴스 객체가 메모리에서 최종적으로 지워질 때 자동 호출됩니다. 만일 한 인스턴스 객체에 대한 레퍼런스(이름)가 복수개라면, 마지막 최종 레퍼런스가 지워질 때 호출 됩니다 (다음 셀 예제 참조).\n",
    "\n",
    "\n",
    "* 생성자와 소멸자 모두, 인스턴스 이름공간에 정의된 변수들 각각의 초기화와 삭제에 관계하기 때문에, 반드시 첫번째 인자를 self로 지정하여, 이름공간의 구분에 혼선이 없게 사용합니다.\n"
   ]
  },
  {
   "cell_type": "code",
   "execution_count": null,
   "metadata": {
    "colab": {
     "autoexec": {
      "startup": false,
      "wait_interval": 0
     }
    },
    "colab_type": "code",
    "id": "-xC8tL6Wr0pe"
   },
   "outputs": [],
   "source": [
    "# 수업 내용 중\n",
    "class myClass:\n",
    "    def __init__(self,value): # 인스턴스의 생성 순간, (인스턴스 객체(self)와 value)를 전달 받고, 인스턴스 객체의 이름공간에 Value라는 멤버변수를 만들어 value값으로 저장.\n",
    "            self.Value=value  \n",
    "            print('myClass is created, Value=',self.Value)\n",
    "    def __del__(self):\n",
    "        print(\"myClass is deleted\")x\\d\\7\\7s\n",
    "\n",
    "\n",
    "def foo():\n",
    "    a=myClass(10) # 함수 foo()안에서 myClass 클래스의 인스턴스 a의 생성 선언. 동시에 (인스턴스 객체 a와 정수10)을 생성자에 전달 (바운드 호출 방식).\n",
    "    \n",
    "foo() # 인스턴스가 함수안에서 생성되기 때문에, 함수의 호출이 끝남과 동시에 인스턴스도 사라지게되어 소멸자가 자동으로 호출된다."
   ]
  },
  {
   "cell_type": "code",
   "execution_count": null,
   "metadata": {
    "colab": {
     "autoexec": {
      "startup": false,
      "wait_interval": 0
     }
    },
    "colab_type": "code",
    "id": "msI8YLptr8WB"
   },
   "outputs": [],
   "source": [
    "# 변형\n",
    "class myClass:\n",
    "    def __init__(self,value):\n",
    "            self.Value=value\n",
    "            print('myClass is created, Value=',self.Value)\n",
    "    def __del__(self):\n",
    "        print(\"myClass is deleted\")\n"
   ]
  },
  {
   "cell_type": "code",
   "execution_count": null,
   "metadata": {
    "colab": {
     "autoexec": {
      "startup": false,
      "wait_interval": 0
     }
    },
    "colab_type": "code",
    "id": "fai6vnb0z0mW"
   },
   "outputs": [],
   "source": [
    "a = myClass(10) # instance의 생성 및 생성자 __init__(self) 호출 (reference count = 1)"
   ]
  },
  {
   "cell_type": "code",
   "execution_count": null,
   "metadata": {
    "colab": {
     "autoexec": {
      "startup": false,
      "wait_interval": 0
     }
    },
    "colab_type": "code",
    "id": "xmUM9vtsz03x"
   },
   "outputs": [],
   "source": [
    "a2 = a # instance객체에 또다른 레퍼런스 추가 (reference count = 2)"
   ]
  },
  {
   "cell_type": "code",
   "execution_count": null,
   "metadata": {
    "colab": {
     "autoexec": {
      "startup": false,
      "wait_interval": 0
     }
    },
    "colab_type": "code",
    "id": "TlJJI8Qsz1Hg"
   },
   "outputs": [],
   "source": [
    "del a # instance a를 지움 (reference count = 2 > 1, 소멸자 __del__(self) 호출없음)"
   ]
  },
  {
   "cell_type": "code",
   "execution_count": null,
   "metadata": {
    "colab": {
     "autoexec": {
      "startup": false,
      "wait_interval": 0
     }
    },
    "colab_type": "code",
    "id": "s0OFKsL8z1cc"
   },
   "outputs": [],
   "source": [
    "del a2 # instance 객체에 연결된 마지막 레퍼런스 a2를 지움 (reference count = 2 > 1, 소멸자 __del__(self) 호출)"
   ]
  }
 ],
 "metadata": {
  "colab": {
   "collapsed_sections": [],
   "default_view": {},
   "name": "Class_1_2_modifying_member_attributes.ipynb",
   "provenance": [],
   "version": "0.3.2",
   "views": {}
  },
  "kernelspec": {
   "display_name": "Python 3",
   "language": "python",
   "name": "python3"
  },
  "language_info": {
   "codemirror_mode": {
    "name": "ipython",
    "version": 3
   },
   "file_extension": ".py",
   "mimetype": "text/x-python",
   "name": "python",
   "nbconvert_exporter": "python",
   "pygments_lexer": "ipython3",
   "version": "3.5.2"
  }
 },
 "nbformat": 4,
 "nbformat_minor": 2
}
