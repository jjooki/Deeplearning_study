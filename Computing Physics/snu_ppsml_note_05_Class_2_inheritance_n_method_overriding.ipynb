{
 "cells": [
  {
   "cell_type": "markdown",
   "metadata": {
    "colab_type": "text",
    "id": "g8em0N-akz3C"
   },
   "source": [
    "## Class 2"
   ]
  },
  {
   "cell_type": "markdown",
   "metadata": {
    "colab_type": "text",
    "id": "qCqQnBAvpgzK"
   },
   "source": [
    "### 4. 상속 (inheritance) & 메소드 재정의 (method overriding)\n",
    "\n",
    "* 상속 클래스의 정의\n",
    "\n",
    "* 부모 클래스의 생성자 호출​\n",
    "\n",
    "* 클래스간의 상속 관계 확인​\n",
    "\n",
    "* 메소드 추가하기​\n",
    "\n",
    "* 메소드 재정의하기​\n",
    "\n",
    "* 메소드 확장하기​\n",
    "\n",
    "* 클래스 상속과 이름공간​\n",
    "\n",
    "* 다중 상속​\n",
    "\n",
    "* super()를 사용한 상위클래스 메소드 호출\n"
   ]
  },
  {
   "cell_type": "markdown",
   "metadata": {
    "colab_type": "text",
    "id": "4rsAyXiUEy2j"
   },
   "source": [
    "#### **1) 상속 클래스란? **\n",
    "\n",
    "여러가지 클래스들을 정의할 때, 클래스의 '상속'기능을 이용하면 부모 클래스의 모든 속성(데이터, 메소드)들을 자식 클래스에 물려줄 수 있다.\n",
    "즉, 여러 클래스들에 공통적으로 존재하는 속성을 부모 클래스에 정의하고, 자식 클래스에는 그에 맞는 보다 세부적이고 특화된 데이터와 메소드를 정의할 수 있게되는 것이다.\n",
    "\n",
    "- 이를 통하여 중복된 코드의 작성을 방지하고, 코드의 유지보수가 훨씬 쉬워지게 된다. \n",
    "- 또한 부모 클래스에 정의된 인터페이스만 알고 호출함으로써, 각 개별 클래스에 특화된 기능을 공통된 인터페이스로 접근할 수 있게 된다.\n"
   ]
  },
  {
   "cell_type": "code",
   "execution_count": null,
   "metadata": {
    "colab": {
     "autoexec": {
      "startup": false,
      "wait_interval": 0
     }
    },
    "colab_type": "code",
    "id": "9M0juFRoEy2m"
   },
   "outputs": [],
   "source": [
    "# 부모 클래스 \n",
    "class Parent:\n",
    "    \n",
    "    str_var = \"string_parent\" \n",
    "    \n",
    "    def __init__(self, a, b):\n",
    "        self.A = a\n",
    "        self.B = b\n",
    " \n",
    "    def print_parent_data(self):\n",
    "        print(\" Parent_Data (A:{0}, B:{1})\".format(self.A, self.B))\n",
    "        \n",
    "    def print_all_data(self):\n",
    "        print(\" Parent_Data (A:{0}, B:{1})\".format(self.A, self.B))\n",
    "        "
   ]
  },
  {
   "cell_type": "code",
   "execution_count": null,
   "metadata": {
    "colab": {
     "autoexec": {
      "startup": false,
      "wait_interval": 0
     }
    },
    "colab_type": "code",
    "id": "8DpSOLrYEy2y"
   },
   "outputs": [],
   "source": [
    "# 자식 클래스\n",
    "class Child(Parent):  # <-- 자식 클래스는 상속받을 부모 클래스의 리스트를 괄호 안에 기입한다. 한 개 이상의 다중 상속일경우 ','로 구분해서 기입한다. \n",
    "    # 이렇게 부모클래스를 상속하면 부모 클래스의 모든 속성을 그대로 물려받음.\n",
    "    \n",
    "    def __init__(self, a, b, c, d):\n",
    "        self.A = a\n",
    "        self.B = b\n",
    "        self.C = c\n",
    "        self.D = d\n",
    "    "
   ]
  },
  {
   "cell_type": "code",
   "execution_count": null,
   "metadata": {
    "colab": {
     "autoexec": {
      "startup": false,
      "wait_interval": 0
     }
    },
    "colab_type": "code",
    "id": "NgRw9di8Ey26"
   },
   "outputs": [],
   "source": [
    "p = Parent(\"A_parent\",\"B_parent\")  # 부모 클래스의 인스턴스 p 생성\n",
    "c = Child(\"A_child\",\"B_child\",\"C_child\",\"D_child\")  # 자식 클래스의 인스턴스 c 생성"
   ]
  },
  {
   "cell_type": "code",
   "execution_count": null,
   "metadata": {
    "colab": {
     "autoexec": {
      "startup": false,
      "wait_interval": 0
     }
    },
    "colab_type": "code",
    "id": "l6wysJQ2Ey3D",
    "outputId": "da6e4047-4882-4777-f614-ca984b429792"
   },
   "outputs": [
    {
     "data": {
      "text/plain": [
       "{'A': 'A_parent', 'B': 'B_parent'}"
      ]
     },
     "execution_count": 4,
     "metadata": {
      "tags": []
     },
     "output_type": "execute_result"
    }
   ],
   "source": [
    "# 클래스의 정보는 내부적으로 __dict__라는 이름의 사전 객체로 관리된다. \n",
    "p.__dict__ # 현재 p 인스턴스 이름공간의 데이터 상태(사전)보기."
   ]
  },
  {
   "cell_type": "code",
   "execution_count": null,
   "metadata": {
    "colab": {
     "autoexec": {
      "startup": false,
      "wait_interval": 0
     }
    },
    "colab_type": "code",
    "id": "1yW1cRwaEy3W",
    "outputId": "301d7cd6-601f-41c1-c650-e915cede01ae"
   },
   "outputs": [
    {
     "data": {
      "text/plain": [
       "{'A': 'A_child', 'B': 'B_child', 'C': 'C_child', 'D': 'D_child'}"
      ]
     },
     "execution_count": 5,
     "metadata": {
      "tags": []
     },
     "output_type": "execute_result"
    }
   ],
   "source": [
    "c.__dict__ # 현재 c 인스턴스 이름공간의 데이터 상태(사전) 보기."
   ]
  },
  {
   "cell_type": "code",
   "execution_count": null,
   "metadata": {
    "colab": {
     "autoexec": {
      "startup": false,
      "wait_interval": 0
     }
    },
    "colab_type": "code",
    "id": "dfzUY-1tEy3h",
    "outputId": "02150a09-8fef-4bd8-82ca-153fb760935c"
   },
   "outputs": [
    {
     "data": {
      "text/plain": [
       "'string_parent'"
      ]
     },
     "execution_count": 6,
     "metadata": {
      "tags": []
     },
     "output_type": "execute_result"
    }
   ],
   "source": [
    "# 자식 클래스의 인스턴스에서, 부모 클래스에 정의된 변수의 호출\n",
    "c.str_var"
   ]
  },
  {
   "cell_type": "code",
   "execution_count": null,
   "metadata": {
    "colab": {
     "autoexec": {
      "startup": false,
      "wait_interval": 0
     }
    },
    "colab_type": "code",
    "id": "D_HEnYGdEy3t",
    "outputId": "3a7c81c8-df91-460a-a65b-4d4635a3ad20"
   },
   "outputs": [
    {
     "name": "stdout",
     "output_type": "stream",
     "text": [
      " Parent_Data (A:A_child, B:B_child)\n",
      " Parent_Data (A:A_child, B:B_child)\n"
     ]
    }
   ],
   "source": [
    "# 자식 클래스의 인스턴스 c에서, 부모 클래스에 정의된 메소드의 호출\n",
    "c.print_all_data()\n",
    "c.print_parent_data()"
   ]
  },
  {
   "cell_type": "markdown",
   "metadata": {
    "colab_type": "text",
    "id": "Pc_i4EK5Ey36"
   },
   "source": [
    "#### **2) 부모 클래스의 생성자 호출 **\n",
    "\n",
    "- 앞의 자식 클래스 생성자를 보면, 부모 클래스의 멤버변수(A,B)를 초기화하는 부분이 있다. 이는 부모 클래스의 생성자와 중복되는 코드로서, 이는 부모 클래스의 생성자 메소드를 호출하여 다시 적을 수 있다"
   ]
  },
  {
   "cell_type": "code",
   "execution_count": null,
   "metadata": {
    "colab": {
     "autoexec": {
      "startup": false,
      "wait_interval": 0
     }
    },
    "colab_type": "code",
    "id": "kXa4CyLKEy3_"
   },
   "outputs": [],
   "source": [
    "# 자식 클래스\n",
    "class Child2(Parent):  # <-- 자식 클래스는 상속받을 부모 클래스의 리스트를 괄호 안에 기입한다. 한 개 이상의 다중 상속일경우 ','로 구분해서 기입한다. \n",
    "    # 이렇게 부모클래스를 상속하면 부모 클래스의 모든 속성을 그대로 물려받음.\n",
    "    \n",
    "    def __init__(self, a, b, c, d):\n",
    "        Parent.__init__(self, a, b)  # <-- 언바운드 호출 방식으로, 부모 클래스의 생성자를 호출(명시적으로 self를 전달)\n",
    "        self.C = c\n",
    "        self.D = d\n",
    "    "
   ]
  },
  {
   "cell_type": "code",
   "execution_count": null,
   "metadata": {
    "colab": {
     "autoexec": {
      "startup": false,
      "wait_interval": 0
     }
    },
    "colab_type": "code",
    "id": "hCyKtKEMEy4M",
    "outputId": "8fa14e88-c360-46f2-fef6-97f438fa1c22"
   },
   "outputs": [
    {
     "data": {
      "text/plain": [
       "{'A': 'A_child2', 'B': 'B_child2', 'C': 'C_child2', 'D': 'D_child2'}"
      ]
     },
     "execution_count": 9,
     "metadata": {
      "tags": []
     },
     "output_type": "execute_result"
    }
   ],
   "source": [
    "c2 = Child2(\"A_child2\",\"B_child2\",\"C_child2\",\"D_child2\")  # 자식 클래스의 인스턴스 생성\n",
    "c2.__dict__"
   ]
  },
  {
   "cell_type": "markdown",
   "metadata": {
    "colab_type": "text",
    "id": "JK5zJwLCEy4Y"
   },
   "source": [
    "#### **3) 클래스간의 상속 관계 확인 **\n",
    "\n",
    "- 클래스 간의 상속관계를 확인할 때 여러가지 방법이 있다.\n",
    "    1. issubclass() 내장함수 사용.\n",
    "    ```python\n",
    "    issubclass(<자식 클래스>,<부모 클래스>)\n",
    "    ```\n",
    "    2. \\_\\_bases\\_\\_ 속성 사용.\n",
    "    \n",
    "    \n",
    "- 파이썬3부터 모든 클래스틑 암묵적으로 object 클래스를 상속받는다."
   ]
  },
  {
   "cell_type": "code",
   "execution_count": null,
   "metadata": {
    "colab": {
     "autoexec": {
      "startup": false,
      "wait_interval": 0
     }
    },
    "colab_type": "code",
    "id": "xmDJv8ECEy4b",
    "outputId": "1f0bc1cd-060d-4db0-d238-a21719ebcbfd"
   },
   "outputs": [
    {
     "data": {
      "text/plain": [
       "True"
      ]
     },
     "execution_count": 10,
     "metadata": {
      "tags": []
     },
     "output_type": "execute_result"
    }
   ],
   "source": [
    "# Child 클래스가 Parent 클래스의 자식 클래스인지 확인\n",
    "issubclass(Child, Parent)"
   ]
  },
  {
   "cell_type": "code",
   "execution_count": null,
   "metadata": {
    "colab": {
     "autoexec": {
      "startup": false,
      "wait_interval": 0
     }
    },
    "colab_type": "code",
    "id": "EJv-AZ-xEy4o",
    "outputId": "836ac0d7-c9f3-4fc0-b44b-c0ae2511f92e"
   },
   "outputs": [
    {
     "data": {
      "text/plain": [
       "False"
      ]
     },
     "execution_count": 11,
     "metadata": {
      "tags": []
     },
     "output_type": "execute_result"
    }
   ],
   "source": [
    "# Parent 클래스가 Child 클래스의 자식 클래스인지 확인\n",
    "issubclass(Parent, Child)"
   ]
  },
  {
   "cell_type": "code",
   "execution_count": null,
   "metadata": {
    "colab": {
     "autoexec": {
      "startup": false,
      "wait_interval": 0
     }
    },
    "colab_type": "code",
    "id": "SV4bx0LiEy47",
    "outputId": "cb5b02e5-8740-45be-ee36-6a12778e3e52"
   },
   "outputs": [
    {
     "data": {
      "text/plain": [
       "True"
      ]
     },
     "execution_count": 12,
     "metadata": {
      "tags": []
     },
     "output_type": "execute_result"
    }
   ],
   "source": [
    "# Parent 클래스가 자신의 자식 클래스인지 확인: 자신은 항상 자신의 서브클래스이다.\n",
    "issubclass(Parent, Parent)\n",
    "issubclass(Child, Child)"
   ]
  },
  {
   "cell_type": "code",
   "execution_count": null,
   "metadata": {
    "colab": {
     "autoexec": {
      "startup": false,
      "wait_interval": 0
     }
    },
    "colab_type": "code",
    "id": "exUIjx01Ey5M",
    "outputId": "dfc3c7b8-bd25-4da3-f721-a20b9f97b550"
   },
   "outputs": [
    {
     "data": {
      "text/plain": [
       "(__main__.Parent,)"
      ]
     },
     "execution_count": 13,
     "metadata": {
      "tags": []
     },
     "output_type": "execute_result"
    }
   ],
   "source": [
    "# __bases__ 속성을 사용하면, 어떤 클래스의 부모 클래스를 알 수 있다. 직계 부모의 클래스를 튜플 형식으로 반환한다.\n",
    "Child.__bases__"
   ]
  },
  {
   "cell_type": "code",
   "execution_count": null,
   "metadata": {
    "colab": {
     "autoexec": {
      "startup": false,
      "wait_interval": 0
     }
    },
    "colab_type": "code",
    "id": "xfiEDHNuEy5c",
    "outputId": "fdf035a8-3281-4dd2-e1cf-4626788d575d"
   },
   "outputs": [
    {
     "data": {
      "text/plain": [
       "True"
      ]
     },
     "execution_count": 14,
     "metadata": {
      "tags": []
     },
     "output_type": "execute_result"
    }
   ],
   "source": [
    "# 모든 클래스는 object 클래스를 암묵적으로 상속받는다\n",
    "issubclass(Parent, object)\n",
    "issubclass(Child, object)"
   ]
  },
  {
   "cell_type": "markdown",
   "metadata": {
    "colab_type": "text",
    "id": "qRaathYyEy5p"
   },
   "source": [
    "#### **4) 자식 클래스에 메소드 추가하기 **\n",
    "\n",
    "- 위의 예제에서 볼 수 있듯이, 부모 클래스를 상속받은 자식 클래스는 멤버변수와 메서드를 모두 상속받게 된다. 여기에 추가적인 기능이 필요할 경우, 자식 클래스에 메소드를 추가할 수 있다.\n",
    "- 구현 방법은 클래스에서 보통의 메소드 정의하는 방식과 동일하다."
   ]
  },
  {
   "cell_type": "code",
   "execution_count": null,
   "metadata": {
    "colab": {
     "autoexec": {
      "startup": false,
      "wait_interval": 0
     }
    },
    "colab_type": "code",
    "id": "0XHPNBo_Ey5r"
   },
   "outputs": [],
   "source": [
    "# 자식 클래스에 변수와 메소드를 추가\n",
    "\n",
    "class Child3(Parent):\n",
    "    \n",
    "    C = \"default C of Child3\"  # 자식 클래스만의 새로운 변수 C추가\n",
    "    D = \"default D of Child3\"  # 자식 클래스만의 새로운 변수 D추가\n",
    "    \n",
    "    def __init__(self, a, b, c, d):\n",
    "        Parent.__init__(self, a, b)\n",
    "        self.C = c\n",
    "        self.D = d\n",
    "    \n",
    "    def print_child_data(self):  # <-- 자식 클래스만의 새로운 메소드 추가\n",
    "        print(\" Child_Data (C:{0}, D:{1})\".format(self.C, self.D))\n"
   ]
  },
  {
   "cell_type": "code",
   "execution_count": null,
   "metadata": {
    "colab": {
     "autoexec": {
      "startup": false,
      "wait_interval": 0
     }
    },
    "colab_type": "code",
    "id": "q9FQpyLSEy5y"
   },
   "outputs": [],
   "source": [
    "c3 = Child3(\"A_child3\",\"B_child3\",\"C_child3\",\"D_child3\")   # Child3 클래스의 인스턴스 생성"
   ]
  },
  {
   "cell_type": "code",
   "execution_count": null,
   "metadata": {
    "colab": {
     "autoexec": {
      "startup": false,
      "wait_interval": 0
     }
    },
    "colab_type": "code",
    "id": "1pv2xpe_Ey56",
    "outputId": "3576cad0-8f5c-4e4a-ab94-b2b4eecff3a4"
   },
   "outputs": [
    {
     "name": "stdout",
     "output_type": "stream",
     "text": [
      " Parent_Data (A:A_child3, B:B_child3)\n"
     ]
    }
   ],
   "source": [
    "c3.print_parent_data()  # <-- 부모 클래스로부터 상속받은 메소드 호출 "
   ]
  },
  {
   "cell_type": "code",
   "execution_count": null,
   "metadata": {
    "colab": {
     "autoexec": {
      "startup": false,
      "wait_interval": 0
     }
    },
    "colab_type": "code",
    "id": "SifCn4PvEy6G",
    "outputId": "e282efb9-b5d6-4086-9f98-d0a6ceb9108f"
   },
   "outputs": [
    {
     "name": "stdout",
     "output_type": "stream",
     "text": [
      " Child_Data (C:C_child3, D:D_child3)\n"
     ]
    }
   ],
   "source": [
    "c3.print_child_data()  # <-- 자식 클래스(Child3)에 추가된 메소드 호출"
   ]
  },
  {
   "cell_type": "code",
   "execution_count": null,
   "metadata": {
    "colab": {
     "autoexec": {
      "startup": false,
      "wait_interval": 0
     }
    },
    "colab_type": "code",
    "id": "KPHCgOOzEy6R",
    "outputId": "d3e55eb8-2e10-4b19-a382-9ca64e77bf7e"
   },
   "outputs": [
    {
     "data": {
      "text/plain": [
       "['A',\n",
       " 'B',\n",
       " 'C',\n",
       " 'D',\n",
       " '__class__',\n",
       " '__delattr__',\n",
       " '__dict__',\n",
       " '__dir__',\n",
       " '__doc__',\n",
       " '__eq__',\n",
       " '__format__',\n",
       " '__ge__',\n",
       " '__getattribute__',\n",
       " '__gt__',\n",
       " '__hash__',\n",
       " '__init__',\n",
       " '__le__',\n",
       " '__lt__',\n",
       " '__module__',\n",
       " '__ne__',\n",
       " '__new__',\n",
       " '__reduce__',\n",
       " '__reduce_ex__',\n",
       " '__repr__',\n",
       " '__setattr__',\n",
       " '__sizeof__',\n",
       " '__str__',\n",
       " '__subclasshook__',\n",
       " '__weakref__',\n",
       " 'print_all_data',\n",
       " 'print_child_data',\n",
       " 'print_parent_data',\n",
       " 'str_var']"
      ]
     },
     "execution_count": 19,
     "metadata": {
      "tags": []
     },
     "output_type": "execute_result"
    }
   ],
   "source": [
    "dir(c3)  # <-- 현재 자식 클래스의 이름공간에 등록된 변수와 메소드 확인. 상속받은 변수와 메소드가 역시 확인된다."
   ]
  },
  {
   "cell_type": "code",
   "execution_count": null,
   "metadata": {
    "colab": {
     "autoexec": {
      "startup": false,
      "wait_interval": 0
     }
    },
    "colab_type": "code",
    "id": "SOtB823jEy6a",
    "outputId": "e89cd240-b5f6-42f9-e9fd-63c5c8215b29"
   },
   "outputs": [
    {
     "data": {
      "text/plain": [
       "{'A': 'A_child3', 'B': 'B_child3', 'C': 'C_child3', 'D': 'D_child3'}"
      ]
     },
     "execution_count": 20,
     "metadata": {
      "tags": []
     },
     "output_type": "execute_result"
    }
   ],
   "source": [
    "c3.__dict__  # <-- 현재 c3 인스턴스의 이름공간에 정의된 변수들의 상태를 사전형으로 출력"
   ]
  },
  {
   "cell_type": "markdown",
   "metadata": {
    "colab_type": "text",
    "id": "lwcOn2AIEy6l"
   },
   "source": [
    "#### **5) 메소드 재정의(method overriding)하기 **\n",
    "\n",
    "- 부모 클래스에서 상속받은 메소드 가운데, 기능의 수정이 필요할 경우 이를 (자식 클래스에서) 재정의하여 사용할 수 있다.\n",
    "\n",
    "- 이때 자식 클래스에서 새롭게 정의되는 메소드의 이름은, 부모 클래스 메소드의 이름과 동일해야 한다. 이름이 다르다면, 메소드의 추가에 해당.\n",
    "\n",
    "- 부모 클래스에서 정의된 메소드를 자식 클래스에서 새롭게 정의하는 것을 메소드 재정의(method overriding)이라고 한다. 파이썬에서는 부모와 자식 클래스 간 두 메소드의 이름만 같으면 된다.\n",
    "\n",
    "- 이를 통하여, 부모 클래스나 자식 클래스에 속한 조금씩 다른 기능을 동일한 인터페이스로 호출 가능하다.\n"
   ]
  },
  {
   "cell_type": "code",
   "execution_count": null,
   "metadata": {
    "colab": {
     "autoexec": {
      "startup": false,
      "wait_interval": 0
     }
    },
    "colab_type": "code",
    "id": "pt64xGhyEy6n"
   },
   "outputs": [],
   "source": [
    "# 자식 클래스에서 메소드의 재정의\n",
    "class Child4(Parent):\n",
    "    \n",
    "    C = \"default C of Child3\"  # 자식 클래스만의 새로운 변수 C추가\n",
    "    D = \"default D of Child3\"  # 자식 클래스만의 새로운 변수 D추가\n",
    "    \n",
    "    def __init__(self, a, b, c, d):\n",
    "        Parent.__init__(self, a, b)\n",
    "        self.C = c\n",
    "        self.D = d\n",
    "    \n",
    "    def print_child_data(self):  # <-- 자식 클래스만의 새로운 메소드 추가\n",
    "        print(\" Child_Data (C:{0}, D:{1})\".format(self.C, self.D))\n",
    "\n",
    "    def print_all_data(self):  # <-- 자식 클래스에서 print_all_data() 메소드를 재정의\n",
    "        print(\" Parent_Data (A:{0}, A:{1})\".format(self.A, self.B))\n",
    "        print(\" Child_Data (C:{0}, D:{1})\".format(self.C, self.D))\n"
   ]
  },
  {
   "cell_type": "code",
   "execution_count": null,
   "metadata": {
    "colab": {
     "autoexec": {
      "startup": false,
      "wait_interval": 0
     }
    },
    "colab_type": "code",
    "id": "sB8oQOU5Ey6z"
   },
   "outputs": [],
   "source": [
    "c4 = Child4(\"A_child4\",\"B_child4\",\"C_child4\",\"D_child4\")   # Child4 클래스의 인스턴스 생성"
   ]
  },
  {
   "cell_type": "code",
   "execution_count": null,
   "metadata": {
    "colab": {
     "autoexec": {
      "startup": false,
      "wait_interval": 0
     }
    },
    "colab_type": "code",
    "id": "1EfAEMlKEy67",
    "outputId": "34d9bf14-a7ae-4176-e92a-a6dab7eaf729"
   },
   "outputs": [
    {
     "name": "stdout",
     "output_type": "stream",
     "text": [
      " Parent_Data (A:A_child4, A:B_child4)\n",
      " Child_Data (C:C_child4, D:D_child4)\n"
     ]
    }
   ],
   "source": [
    "c4.print_all_data()  # <-- 재정의한 메소드를 호출 (이름만 같으면 부모 클래스의 메소드 대신 자식 클래스의 메소드를 호출)"
   ]
  },
  {
   "cell_type": "code",
   "execution_count": null,
   "metadata": {
    "colab": {
     "autoexec": {
      "startup": false,
      "wait_interval": 0
     }
    },
    "colab_type": "code",
    "id": "Wc-c0WK8Ey7I"
   },
   "outputs": [],
   "source": [
    "# 동일 인터페이스로 부모와, 자식의 메소드 호출\n",
    "p4 = Parent(\"A_parent4\",\"B_parent4\")\n",
    "c4 = Child4(\"A_child4\",\"B_child4\",\"C_child4\",\"D_child4\")\n",
    "family_member = [p4, c4]  # <-- 부모 클래스의 인스턴스와 자식 클래스의 인스턴스로 이루어진 인스턴스 리스트를 만듬 "
   ]
  },
  {
   "cell_type": "code",
   "execution_count": null,
   "metadata": {
    "colab": {
     "autoexec": {
      "startup": false,
      "wait_interval": 0
     }
    },
    "colab_type": "code",
    "id": "ZmtErebCEy7O",
    "outputId": "a7063943-0b9f-4047-b028-721473b7d582"
   },
   "outputs": [
    {
     "name": "stdout",
     "output_type": "stream",
     "text": [
      " Parent_Data (A:A_parent4, B:B_parent4)\n",
      " Parent_Data (A:A_child4, A:B_child4)\n",
      " Child_Data (C:C_child4, D:D_child4)\n"
     ]
    }
   ],
   "source": [
    "for item in family_member:\n",
    "    item.print_all_data()  # <-- 각 인스턴스에 서로 비슷한 기능으로 재정의된 함수 호출"
   ]
  },
  {
   "cell_type": "markdown",
   "metadata": {
    "colab_type": "text",
    "id": "FG3gswFsEy7d"
   },
   "source": [
    "#### **6) 메소드 확장하기 **\n",
    "\n",
    "- 자식 클래스에서 (메소드의 추가)와 상속받은 (메소드의 재정의) 뿐만이 아니라, 추가적인 기능이 필요한 경우 (메소드의 확장)도 가능하다. 이러한 경우 부모 클래스의 메소드의 기능은 그대로 유지하면서, 자식 클래스의 메소드에서 필요한 기능만 추가할 수 있다.\n",
    "\n",
    "- 위의 메소드 재정의시, 재정의되는 메소드(print_all_data)는 사실 부모 클래스의 메소드를 확장한 경우로서, 이렇게 확실히 중복되는 기능이 있을 경우, 부모 클래스의 메소드를 명시적으로 호출하여 사용하여, 나머지 기능만을 추가적으로 정의하여, 최소한의 작업으로 메소드를 확장하여 사용할 수 있다."
   ]
  },
  {
   "cell_type": "code",
   "execution_count": null,
   "metadata": {
    "colab": {
     "autoexec": {
      "startup": false,
      "wait_interval": 0
     }
    },
    "colab_type": "code",
    "id": "mweqKf9cEy7f"
   },
   "outputs": [],
   "source": [
    "# 자식 클래스에서 부모 클래스 메소드의 확장\n",
    "class Child5(Parent):\n",
    "    \n",
    "    C = \"default C of Child5\"  # 자식 클래스만의 새로운 변수 C추가\n",
    "    D = \"default D of Child5\"  # 자식 클래스만의 새로운 변수 D추가\n",
    "    \n",
    "    def __init__(self, a, b, c, d):\n",
    "        Parent.__init__(self, a, b)\n",
    "        self.C = c\n",
    "        self.D = d\n",
    "    \n",
    "    def print_child_data(self):  # <-- 자식 클래스만의 새로운 메소드 추가\n",
    "        print(\" Child_Data (C:{0}, D:{1})\".format(self.C, self.D))\n",
    "\n",
    "    def print_all_data(self):  # <-- 자식 클래스에서 print_all_data() 메소드를 확장\n",
    "        # print(\" Parent_Data (A:{0}, A:{1})\".format(self.A, self.B))  # <-- 기존 Child4클래스에서 재정의시에, 부모 클래스 Parent.print_all_data()의 내용과 중복됨.\n",
    "        Parent.print_all_data(self)  # <-- 확장시, 부모 클래스와 중복되는 내용은 부모 클래스의 메소드를 직접 명시적으로 호출 \n",
    "        print(\" Child_Data (C:{0}, D:{1})\".format(self.C, self.D))  # <-- 자식 클래스에서 확장되는 부문 "
   ]
  },
  {
   "cell_type": "code",
   "execution_count": null,
   "metadata": {
    "colab": {
     "autoexec": {
      "startup": false,
      "wait_interval": 0
     }
    },
    "colab_type": "code",
    "id": "O9cdratCEy7q"
   },
   "outputs": [],
   "source": [
    "c5 = Child5(\"A_child5\",\"B_child5\",\"C_child5\",\"D_child5\")   # Child5 클래스의 인스턴스 생성"
   ]
  },
  {
   "cell_type": "code",
   "execution_count": null,
   "metadata": {
    "colab": {
     "autoexec": {
      "startup": false,
      "wait_interval": 0
     }
    },
    "colab_type": "code",
    "id": "HaGMnpKiEy7y",
    "outputId": "1e8c8a3c-8021-498a-f610-28db881aa8e7"
   },
   "outputs": [
    {
     "name": "stdout",
     "output_type": "stream",
     "text": [
      " Parent_Data (A:A_child5, B:B_child5)\n",
      " Child_Data (C:C_child5, D:D_child5)\n"
     ]
    }
   ],
   "source": [
    "c5.print_all_data()  # <-- 확장한 메소드를 호출"
   ]
  },
  {
   "cell_type": "markdown",
   "metadata": {
    "colab_type": "text",
    "id": "7XpsQ4EcEy77"
   },
   "source": [
    "#### **7) 클래스 상속과 이름공간 **\n",
    "\n",
    "1. 자식 클래스의 인스턴스에서 속성(변수와 메소드)의 이름을 검색할 때, 개별적으로 독립된 영역을 가지고 있는 클래스 간의 상속관계 순서로, 윗 방향으로 검색하며 이름을 찾게된다.\n",
    "\n",
    "2. 자식 클래스가 상속받은 멤버 변수나 메소드를 재정의하거나 변경하지 않은 경우, 자식 클래스 내부 이름 공간에 해당 변수와 메소드를 위한 저장공간을 생성하는 대신, \n",
    "단순히 부모 클래스의 이름 공간에 존재하는 변수와 메소드를 참조한다. 이는 중복된 데이터와 메소드를 최소화 하여 메모리 사용의 효율성을 높이기 위함이다.\n",
    "\n",
    "3. 클래스 객체와 인스턴스 객체 각각이 실제로 저장하고 있는 속성은, 2번의 원칙에 의해 결정되며, 내부 변수 \\_\\_dict\\_\\_ 에 사전형으로 관리되고, 이 변수를 통해 확인할 수 있다.\n",
    "\n",
    "4. 클래스 객체와 인스턴스 객체가 가진 전체 속성은 dir(<클래스 객체> 혹은 <인스턴스 객치>)로 확인할 수 있다.\n",
    "\n"
   ]
  },
  {
   "cell_type": "code",
   "execution_count": null,
   "metadata": {
    "colab": {
     "autoexec": {
      "startup": false,
      "wait_interval": 0
     }
    },
    "colab_type": "code",
    "id": "HFB76f21Ey79"
   },
   "outputs": [],
   "source": [
    "# 클래스 상속과 이름공간 예1)\n",
    "\n",
    "# 부모 클래스 정의\n",
    "class class_high:\n",
    "    var_high = \"var_high\"\n",
    "    def print_var_high(self):\n",
    "        print(self.var_high)\n",
    "        \n",
    "# 자식 클래스 정의\n",
    "class class_low(class_high):\n",
    "    var_low = \"var_low\"\n",
    "    def print_var_low(self):\n",
    "        print(self.var_low)"
   ]
  },
  {
   "cell_type": "code",
   "execution_count": null,
   "metadata": {
    "colab": {
     "autoexec": {
      "startup": false,
      "wait_interval": 0
     }
    },
    "colab_type": "code",
    "id": "aCKqLN_1Ey8D"
   },
   "outputs": [],
   "source": [
    "c_high = class_high() # 부모 클래스 인스턴스 선언\n",
    "c_low = class_low() # 자식 클래스 인스턴스 선언"
   ]
  },
  {
   "cell_type": "code",
   "execution_count": null,
   "metadata": {
    "colab": {
     "autoexec": {
      "startup": false,
      "wait_interval": 0
     }
    },
    "colab_type": "code",
    "id": "VCP605WFEy8J"
   },
   "outputs": [],
   "source": [
    "c_low.var_high = \"var_high_from_an_instance_c_low\" # 자식 클래스의 인스턴스에서 부모 클래스에서 상속받은 변수의 값을 변경\n",
    "c_low.var_low_new = \"var_low_new\" # 자식 클래스의 인스턴스의 이름공간에 새 멤버변수 정의\n",
    "# <-- 이로서, 자식 클래스의 인스턴스 객체 c_low는 각각 다음의 속성멤버들을 가지고 있음을 예측할 수 있다:\n",
    "# var_high, print_var_high(), var_low, print_var_low(), var_low_new"
   ]
  },
  {
   "cell_type": "code",
   "execution_count": null,
   "metadata": {
    "colab": {
     "autoexec": {
      "startup": false,
      "wait_interval": 0
     }
    },
    "colab_type": "code",
    "id": "gwF36Kh3Ey8R",
    "outputId": "e3e40f32-75a9-4860-964d-78686965dddd"
   },
   "outputs": [
    {
     "data": {
      "text/plain": [
       "['__class__',\n",
       " '__delattr__',\n",
       " '__dict__',\n",
       " '__dir__',\n",
       " '__doc__',\n",
       " '__eq__',\n",
       " '__format__',\n",
       " '__ge__',\n",
       " '__getattribute__',\n",
       " '__gt__',\n",
       " '__hash__',\n",
       " '__init__',\n",
       " '__le__',\n",
       " '__lt__',\n",
       " '__module__',\n",
       " '__ne__',\n",
       " '__new__',\n",
       " '__reduce__',\n",
       " '__reduce_ex__',\n",
       " '__repr__',\n",
       " '__setattr__',\n",
       " '__sizeof__',\n",
       " '__str__',\n",
       " '__subclasshook__',\n",
       " '__weakref__',\n",
       " 'print_var_high',\n",
       " 'print_var_low',\n",
       " 'var_high',\n",
       " 'var_low',\n",
       " 'var_low_new']"
      ]
     },
     "execution_count": 32,
     "metadata": {
      "tags": []
     },
     "output_type": "execute_result"
    }
   ],
   "source": [
    "# c_low 의 멤버 속성(변수, 메소드) 확인\n",
    "dir(c_low) # <-- 예상대로 총 다섯가지 속성 멤버들을 확인할 수 있다. 그럼 구체적으로 이들 각각이 정의된 위치는?"
   ]
  },
  {
   "cell_type": "code",
   "execution_count": null,
   "metadata": {
    "colab": {
     "autoexec": {
      "startup": false,
      "wait_interval": 0
     }
    },
    "colab_type": "code",
    "id": "5I8PIJHkEy8a",
    "outputId": "bbe0a1de-4e8e-477e-d057-a6a13ed37309"
   },
   "outputs": [
    {
     "data": {
      "text/plain": [
       "{'var_high': 'var_high_from_an_instance_c_low', 'var_low_new': 'var_low_new'}"
      ]
     },
     "execution_count": 33,
     "metadata": {
      "tags": []
     },
     "output_type": "execute_result"
    }
   ],
   "source": [
    "# c_low가 가진 다섯가지 속성 중, c_low 인스턴스 객체 자체에는, \n",
    "# 실제로 class_low 객체에서 정의되었었지만 값을 변경했었던 var_high와, \n",
    "# 또한 새로이 정의했던 var_low_new 두 가지 정보만 담고 있음을 알 수 있다.\n",
    "c_low.__dict__ "
   ]
  },
  {
   "cell_type": "code",
   "execution_count": null,
   "metadata": {
    "colab": {
     "autoexec": {
      "startup": false,
      "wait_interval": 0
     }
    },
    "colab_type": "code",
    "id": "RkgjL71ZEy8i",
    "outputId": "5d012884-9da6-4762-c547-12220f81b3ad"
   },
   "outputs": [
    {
     "name": "stdout",
     "output_type": "stream",
     "text": [
      "class_low: {'__doc__': None, 'var_low': 'var_low', '__module__': '__main__', 'print_var_low': <function class_low.print_var_low at 0x7fd8580fb9d8>}\n"
     ]
    }
   ],
   "source": [
    "# 또한 c_low 인스턴스가 가진 다섯가지 속성 중, var_low 와 print_var_low는 \n",
    "# 그것이 처음 정의되었었던 class_low 클래스 객체에 담겨져 있음을 알 수 있다.\n",
    "\n",
    "print(\"class_low:\", class_low.__dict__)"
   ]
  },
  {
   "cell_type": "code",
   "execution_count": null,
   "metadata": {
    "colab": {
     "autoexec": {
      "startup": false,
      "wait_interval": 0
     }
    },
    "colab_type": "code",
    "id": "FxWobTwGEy8r",
    "outputId": "dc8ec963-eebf-4c12-a0fa-891505c45569"
   },
   "outputs": [
    {
     "name": "stdout",
     "output_type": "stream",
     "text": [
      "class_high: {'__dict__': <attribute '__dict__' of 'class_high' objects>, '__weakref__': <attribute '__weakref__' of 'class_high' objects>, 'var_high': 'var_high', '__doc__': None, '__module__': '__main__', 'print_var_high': <function class_high.print_var_high at 0x7fd8580fb400>}\n"
     ]
    }
   ],
   "source": [
    "#  c_low 인스턴스가 가진 다섯가지 속성 중, 마지막으로 print_var_high는 \n",
    "# 그것이 처음 정의되었었던 class_high 클래스 객체에 담겨져 있음을 알 수 있다.\n",
    "print(\"class_high:\", class_high.__dict__)"
   ]
  },
  {
   "cell_type": "code",
   "execution_count": null,
   "metadata": {
    "colab": {
     "autoexec": {
      "startup": false,
      "wait_interval": 0
     }
    },
    "colab_type": "code",
    "id": "nAggo7AVEy83",
    "outputId": "61dddd92-df6f-42db-9666-f2fd37916924"
   },
   "outputs": [
    {
     "data": {
      "text/plain": [
       "['__class__',\n",
       " '__delattr__',\n",
       " '__dict__',\n",
       " '__dir__',\n",
       " '__doc__',\n",
       " '__eq__',\n",
       " '__format__',\n",
       " '__ge__',\n",
       " '__getattribute__',\n",
       " '__gt__',\n",
       " '__hash__',\n",
       " '__init__',\n",
       " '__le__',\n",
       " '__lt__',\n",
       " '__module__',\n",
       " '__ne__',\n",
       " '__new__',\n",
       " '__reduce__',\n",
       " '__reduce_ex__',\n",
       " '__repr__',\n",
       " '__setattr__',\n",
       " '__sizeof__',\n",
       " '__str__',\n",
       " '__subclasshook__',\n",
       " '__weakref__',\n",
       " 'print_var_high',\n",
       " 'var_high']"
      ]
     },
     "execution_count": 36,
     "metadata": {
      "tags": []
     },
     "output_type": "execute_result"
    }
   ],
   "source": [
    "dir(c_high)"
   ]
  },
  {
   "cell_type": "code",
   "execution_count": null,
   "metadata": {
    "colab": {
     "autoexec": {
      "startup": false,
      "wait_interval": 0
     }
    },
    "colab_type": "code",
    "id": "TYA9BtNTEy9L"
   },
   "outputs": [],
   "source": [
    "# <-- 처음 인스턴스 객체에서 c_low.print_var_low() 메소드를 호출하면, 인스턴스 객체 c_low의 이름공간에서 print_var_low()가 존재하는지 확인\n",
    "# 존재하지 않으면, 인스턴스 객체를 생성한 클래스 객체 class_low의 이름 공간을 확인,\n",
    "# 존재하지 않으면, 부모 클래스인 class_high 의 이름공간을 확인\n",
    "# 이러한 순서로 검색해도 속성의 이름을 찾을 수 없다면, AttributeError가 반환됨"
   ]
  },
  {
   "cell_type": "code",
   "execution_count": null,
   "metadata": {
    "colab": {
     "autoexec": {
      "startup": false,
      "wait_interval": 0
     }
    },
    "colab_type": "code",
    "id": "9fsLIy7BEy9R"
   },
   "outputs": [],
   "source": [
    "# 클래스 상속과 이름공간 예2)\n",
    "\n",
    "# 부모 클래스 정의\n",
    "class class_high:\n",
    "    var_high = \"var_high\"\n",
    "    def print_var_high(self):\n",
    "        print(self.var_high)\n",
    "        \n",
    "# 자식 클래스 정의 --> 부모클래스의 메소드도 재정의\n",
    "class class_low(class_high):\n",
    "    var_low = \"var_low\"\n",
    "    \n",
    "    def print_var_high(self):\n",
    "        print(\"var_high_at_class_low\",self.var_high) # --> 부모클래스의 메소드 재정의\n",
    "    \n",
    "    def print_var_low(self):\n",
    "        print(self.var_low)"
   ]
  },
  {
   "cell_type": "code",
   "execution_count": null,
   "metadata": {
    "colab": {
     "autoexec": {
      "startup": false,
      "wait_interval": 0
     }
    },
    "colab_type": "code",
    "id": "YZvCE3FSEy9c",
    "outputId": "7c65d93b-f08c-4d93-9ce0-e5442ee5ec27"
   },
   "outputs": [
    {
     "name": "stdout",
     "output_type": "stream",
     "text": [
      "class_low: {'var_low': 'var_low', 'print_var_low': <function class_low.print_var_low at 0x7fd8581181e0>, '__doc__': None, '__module__': '__main__', 'print_var_high': <function class_low.print_var_high at 0x7fd858118158>}\n"
     ]
    }
   ],
   "source": [
    "print(\"class_low:\", class_low.__dict__) # <-- var_low와 print_var_low()뿐만이 아니라, 재정의한 메소드 print_var_high()까지 클래스 객체의 이름 공간에 생성되었다.  "
   ]
  },
  {
   "cell_type": "markdown",
   "metadata": {
    "colab_type": "text",
    "id": "qiaQSnlcEy9k"
   },
   "source": [
    "#### **8) 다중 상속 **\n",
    "\n",
    "- 다중 상속이란 2개 이상의 부모 클래스에서 속성들을 상속받는 경우를 말한다. 그 결과로 부모 클래스들의 모든 속성을 물려받게 된다.\n",
    "\n",
    "- 상속 순서는 자식 클래스 정의시 나열한 부모 클래스의 순서에 따른다.\n",
    "\n",
    "- 다양한 상속 구조에서 메소드의 이름을 찾는 순서는 \\_\\_mro\\_\\_ (mro = method resolution order)내부 변수에 튜플로 정의되어 있다.\n"
   ]
  },
  {
   "cell_type": "code",
   "execution_count": null,
   "metadata": {
    "colab": {
     "autoexec": {
      "startup": false,
      "wait_interval": 0
     }
    },
    "colab_type": "code",
    "id": "6KgHj2KnEy9r"
   },
   "outputs": [],
   "source": [
    "# 다중 상속 예1)\n",
    "\n",
    "class mother:\n",
    "    def playing_piano(self):\n",
    "        print(\"I can play the piano very well\")\n",
    "        \n",
    "class father:\n",
    "    def playing_soccer(self):\n",
    "        print(\"I can play soccer very well\")\n",
    "    \n",
    "class baby(mother, father):  # <-- 다중 상속받은 자식 클래스\n",
    "    def drawing(self):\n",
    "        print(\"I can also draw a picture quite well\")\n",
    "        "
   ]
  },
  {
   "cell_type": "code",
   "execution_count": null,
   "metadata": {
    "colab": {
     "autoexec": {
      "startup": false,
      "wait_interval": 0
     }
    },
    "colab_type": "code",
    "id": "sj7K1_LPEy92"
   },
   "outputs": [],
   "source": [
    "b = baby()  # 자식 클래스의 인스턴스 선언"
   ]
  },
  {
   "cell_type": "code",
   "execution_count": null,
   "metadata": {
    "colab": {
     "autoexec": {
      "startup": false,
      "wait_interval": 0
     }
    },
    "colab_type": "code",
    "id": "RHw6L0hSEy98",
    "outputId": "043c5498-807e-4c99-9514-8fb162604146"
   },
   "outputs": [
    {
     "name": "stdout",
     "output_type": "stream",
     "text": [
      "I can play the piano very well\n",
      "I can play soccer very well\n",
      "I can also draw a picture quite well\n"
     ]
    }
   ],
   "source": [
    "b.playing_piano()  # <-- 엄마 클래스의 메소드\n",
    "b.playing_soccer()  # <-- 아빠 클래스의 메소드\n",
    "b.drawing()  # <-- 자식 클래스의 메소드"
   ]
  },
  {
   "cell_type": "code",
   "execution_count": null,
   "metadata": {
    "colab": {
     "autoexec": {
      "startup": false,
      "wait_interval": 0
     }
    },
    "colab_type": "code",
    "id": "vLomkJIrEy-F"
   },
   "outputs": [],
   "source": [
    "# 다중 상속 예2)\n",
    "\n",
    "class mother:\n",
    "    \n",
    "    def playing_piano(self):\n",
    "        print(\"I can play the piano very well\")\n",
    "        \n",
    "    def cooking(self):\n",
    "        print(\"I cook so well like as mother\")\n",
    "        \n",
    "class father:\n",
    "    \n",
    "    def playing_soccer(self):\n",
    "        print(\"I can play soccer very well\")\n",
    "        \n",
    "    def cooking(self):\n",
    "        print(\"I cook so well like as father\")\n",
    "    \n",
    "class baby(mother, father):  # <-- 다중 상속받은 자식 클래스. (<1>,<2>,...) 순서로 상속\n",
    "    def drawing(self):\n",
    "        print(\"I can also draw a picture quite well\")\n",
    "        "
   ]
  },
  {
   "cell_type": "code",
   "execution_count": null,
   "metadata": {
    "colab": {
     "autoexec": {
      "startup": false,
      "wait_interval": 0
     }
    },
    "colab_type": "code",
    "id": "RTkLSXrZEy-O",
    "outputId": "79f1b852-a572-40ea-b381-6265a7d9da8a"
   },
   "outputs": [
    {
     "name": "stdout",
     "output_type": "stream",
     "text": [
      "I cook so well like as mother\n"
     ]
    }
   ],
   "source": [
    "b2 = baby()\n",
    "b2.cooking()  # <-- 엄마 클래스의 cooking()메소드를 호출한다 (상속 순서에 따라)"
   ]
  },
  {
   "cell_type": "code",
   "execution_count": 1,
   "metadata": {
    "colab": {
     "autoexec": {
      "startup": false,
      "wait_interval": 0
     },
     "base_uri": "https://localhost:8080/",
     "height": 172
    },
    "colab_type": "code",
    "executionInfo": {
     "elapsed": 1198,
     "status": "error",
     "timestamp": 1523089978966,
     "user": {
      "displayName": "Wonsang Cho",
      "photoUrl": "https://lh3.googleusercontent.com/a/default-user=s128",
      "userId": "104337466362937093046"
     },
     "user_tz": -540
    },
    "id": "ERhqLD32Ey-W",
    "outputId": "77470ca8-555c-4457-dbe5-736349137eae"
   },
   "outputs": [
    {
     "ename": "NameError",
     "evalue": "ignored",
     "output_type": "error",
     "traceback": [
      "\u001b[0;31m---------------------------------------------------------------------------\u001b[0m",
      "\u001b[0;31mNameError\u001b[0m                                 Traceback (most recent call last)",
      "\u001b[0;32m<ipython-input-1-28650418a2e1>\u001b[0m in \u001b[0;36m<module>\u001b[0;34m()\u001b[0m\n\u001b[0;32m----> 1\u001b[0;31m \u001b[0mbaby\u001b[0m\u001b[0;34m.\u001b[0m\u001b[0m__mro__\u001b[0m   \u001b[0;31m# 자식 클래스 baby가 메소드의 이름을 찾는 순서의 확인 (상속 순서에 따른다). 'MRO' = Method Resolution Order\u001b[0m\u001b[0;34m\u001b[0m\u001b[0m\n\u001b[0m",
      "\u001b[0;31mNameError\u001b[0m: name 'baby' is not defined"
     ]
    }
   ],
   "source": [
    "baby.__mro__   # 자식 클래스 baby가 메소드의 이름을 찾는 순서의 확인 (상속 순서에 따른다). 'MRO' = Method Resolution Order"
   ]
  },
  {
   "cell_type": "markdown",
   "metadata": {
    "colab_type": "text",
    "id": "t2cJtCMMEy-k"
   },
   "source": [
    "#### **9) super()를 사용한 상위 클래스의 메소드 호출 **\n",
    "\n",
    "- ```super()``` 내장 함수를 사용하면 ```super().메소드이름(인자)``` 의 형태로 자동적으로 부모 클래스의 메소드를 호출하게 해준다. 이를 통하여 명시적으로 부모 클래스의 이름을 쓰는 것보다 코드의 관리가 쉬워지며, 다중 상속에서 발생할 수 있는 부모 클래스 메소드의 중복 호출을 자동적으로 방지해준다. "
   ]
  },
  {
   "cell_type": "code",
   "execution_count": null,
   "metadata": {
    "colab": {
     "autoexec": {
      "startup": false,
      "wait_interval": 0
     }
    },
    "colab_type": "code",
    "id": "WRF0mil2Ey-p"
   },
   "outputs": [],
   "source": [
    "# 부모 클래스 메소드의 중복 호출 예) \n",
    "# --> 다중 상속받은 baby를 통한 인스턴스의 생성시 최상위 클래스의 생성자가 두번 중복 호출됨을 알 수 있다.\n",
    "\n",
    "class grand_parents: # 최상위 클래스\n",
    "    \n",
    "    def __init__(self):\n",
    "        print(\"grand parent's __init__()\")\n",
    "\n",
    "class mother(grand_parents): # 상위 클래스 1 (상속)\n",
    "    \n",
    "    def __init__(self):\n",
    "        grand_parents.__init__(self)\n",
    "        print(\"mother's __init__()\")\n",
    "                \n",
    "class father(grand_parents): # 상위 클래스 2 (상속)\n",
    "    \n",
    "    def __init__(self):\n",
    "        grand_parents.__init__(self)\n",
    "        print(\"father's __init__()\")\n",
    "        \n",
    "class baby(mother, father):  # <-- 하위 클래스 (다중 상속)\n",
    "\n",
    "    def __init__(self):\n",
    "        mother.__init__(self)\n",
    "        father.__init__(self)\n",
    "        print(\"baby's __init__()\")\n",
    "        "
   ]
  },
  {
   "cell_type": "code",
   "execution_count": null,
   "metadata": {
    "colab": {
     "autoexec": {
      "startup": false,
      "wait_interval": 0
     }
    },
    "colab_type": "code",
    "id": "i3TadHzrEy-t",
    "outputId": "8035c329-ef2f-49ef-9d9f-aaa9bca452e0"
   },
   "outputs": [
    {
     "name": "stdout",
     "output_type": "stream",
     "text": [
      "grand parent's __init__()\n",
      "mother's __init__()\n",
      "grand parent's __init__()\n",
      "father's __init__()\n",
      "baby's __init__()\n"
     ]
    }
   ],
   "source": [
    "b3 = baby()  # <-- 다중 상속받은 baby를 통한 인스턴스의 생성시 최상위 클래스의 생성자가 두번 중복 호출됨을 알 수 있다. "
   ]
  },
  {
   "cell_type": "code",
   "execution_count": null,
   "metadata": {
    "colab": {
     "autoexec": {
      "startup": false,
      "wait_interval": 0
     }
    },
    "colab_type": "code",
    "id": "G1N8Xw9aEy-2"
   },
   "outputs": [],
   "source": [
    "# super()를 활용한 부모 클래스 메소드의 호출 예) \n",
    "# --> 다중 상속받은 baby를 통한 인스턴스의 생성시 최상위 클래스의 생성자의 중복 호출을 피할 수 있다.\n",
    "# --> 생성자뿐아니라 다른 일반 메소드에서도 유용하게 적용할 수 있다.\n",
    "\n",
    "class grand_parents: # 최상위 클래스\n",
    "    \n",
    "    def __init__(self):\n",
    "        print(\"grand parent's __init__()\")\n",
    "\n",
    "class mother(grand_parents): # 상위 클래스 1 (상속)\n",
    "    \n",
    "    def __init__(self):\n",
    "        super().__init__()  # <-- super()가 mother의 부모 클래스의 객체를 반환 해준다.\n",
    "        print(\"mother's __init__()\")\n",
    "                \n",
    "class father(grand_parents): # 상위 클래스 2 (상속)\n",
    "    \n",
    "    def __init__(self):\n",
    "        super().__init__()  # <-- super()가 father의 부모 클래스의 객체를 반환 해준다.\n",
    "        print(\"father's __init__()\")\n",
    "        \n",
    "class baby(mother, father):  # <-- 하위 클래스 (다중 상속)\n",
    "\n",
    "    def __init__(self):\n",
    "        super().__init__()  # <-- super()가 baby의 부모 클래스의 객체를 반환 해준다. 단일 상속이나 다중상속을 고려할 필요가 없음.\n",
    "        print(\"baby's __init__()\")\n",
    "        "
   ]
  },
  {
   "cell_type": "code",
   "execution_count": null,
   "metadata": {
    "colab": {
     "autoexec": {
      "startup": false,
      "wait_interval": 0
     }
    },
    "colab_type": "code",
    "id": "7rFyDz9kEy-8",
    "outputId": "821400e0-0282-44c0-c14b-b3053de52f90"
   },
   "outputs": [
    {
     "name": "stdout",
     "output_type": "stream",
     "text": [
      "grand parent's __init__()\n",
      "father's __init__()\n",
      "mother's __init__()\n",
      "baby's __init__()\n"
     ]
    }
   ],
   "source": [
    "b4 = baby()  # <-- super()함수의 사용을 통해 최상위 클래스의 생성자가 한번만 호출됨을 알 수 있다."
   ]
  },
  {
   "cell_type": "code",
   "execution_count": null,
   "metadata": {
    "colab": {
     "autoexec": {
      "startup": false,
      "wait_interval": 0
     }
    },
    "colab_type": "code",
    "id": "kYBg2slQEy_D",
    "outputId": "f3164a59-b919-462b-e1d5-0733aa06801b"
   },
   "outputs": [
    {
     "data": {
      "text/plain": [
       "(__main__.baby,\n",
       " __main__.mother,\n",
       " __main__.father,\n",
       " __main__.grand_parents,\n",
       " object)"
      ]
     },
     "execution_count": 50,
     "metadata": {
      "tags": []
     },
     "output_type": "execute_result"
    }
   ],
   "source": [
    "baby.__mro__  # <-- baby클래스의 메소드 호출 순서, 생성자 호출 순서는 MRO의 역순으로 상위 클래스부터 호출된다."
   ]
  },
  {
   "cell_type": "code",
   "execution_count": null,
   "metadata": {
    "colab": {
     "autoexec": {
      "startup": false,
      "wait_interval": 0
     }
    },
    "colab_type": "code",
    "id": "o0GeiYXpEy_P",
    "outputId": "68fd4230-3816-4533-da52-236db505748f"
   },
   "outputs": [
    {
     "data": {
      "text/plain": [
       "__main__.mother"
      ]
     },
     "execution_count": 51,
     "metadata": {
      "tags": []
     },
     "output_type": "execute_result"
    }
   ],
   "source": [
    "baby.__base__  # <-- 1단계 상위 클래스 "
   ]
  },
  {
   "cell_type": "code",
   "execution_count": null,
   "metadata": {
    "colab": {
     "autoexec": {
      "startup": false,
      "wait_interval": 0
     }
    },
    "colab_type": "code",
    "id": "bgSEukbYEy_Y",
    "outputId": "3dab6f6f-a85e-4b70-c7af-798455bc93e9"
   },
   "outputs": [
    {
     "data": {
      "text/plain": [
       "__main__.grand_parents"
      ]
     },
     "execution_count": 52,
     "metadata": {
      "tags": []
     },
     "output_type": "execute_result"
    }
   ],
   "source": [
    "baby.__base__.__base__  # <-- 2단계 상위 클래스"
   ]
  }
 ],
 "metadata": {
  "colab": {
   "collapsed_sections": [],
   "default_view": {},
   "name": "Class_2_inheritance_n_method_overriding.ipynb",
   "provenance": [],
   "version": "0.3.2",
   "views": {}
  },
  "kernelspec": {
   "display_name": "Python 3",
   "language": "python",
   "name": "python3"
  },
  "language_info": {
   "codemirror_mode": {
    "name": "ipython",
    "version": 3
   },
   "file_extension": ".py",
   "mimetype": "text/x-python",
   "name": "python",
   "nbconvert_exporter": "python",
   "pygments_lexer": "ipython3",
   "version": "3.5.2"
  }
 },
 "nbformat": 4,
 "nbformat_minor": 2
}
