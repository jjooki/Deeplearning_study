{
 "cells": [
  {
   "cell_type": "markdown",
   "metadata": {
    "colab_type": "text",
    "id": "iBK6Q7AV7_L5"
   },
   "source": [
    "# (응용)전산물리학 기말 기계학습 프로젝트 (2018 가을학기)\n",
    "## Teach Your Machines Arithmetic Operations \n",
    "### (마감 12월 23일(일) 24:00)\n",
    "\n"
   ]
  },
  {
   "cell_type": "code",
   "execution_count": 0,
   "metadata": {
    "colab": {},
    "colab_type": "code",
    "id": "KBZ-KAMU8SK8"
   },
   "outputs": [],
   "source": []
  },
  {
   "cell_type": "markdown",
   "metadata": {
    "colab_type": "text",
    "id": "W4Z9pNdvuHhK"
   },
   "source": [
    "---\n",
    "### ** 개요 **\n",
    "\n",
    "우리는 지금까지 단(single) 퍼셉트론 유닛의 연결로 이루어진 인공신경망 프레임을 건설하여,   \n",
    "입력 데이터와 목적 함수의 종류에 따라서, 이러한 기계모형 프레임에 회귀(regression)모형, 분류(classification)모형, 그리고 생성모형(generative model)과 같은 다양한 모형을 학습시켜 보았다.  \n",
    "이러한 과정을 통해서 보다 구체적으로는,  \n",
    "- 인공신경망 모형이 가지는 **표현**능력(capacity)을 체험해보았고,  \n",
    "- 이 프레임을 학습시킬 수 있는 **최적화 (& 전파)** 알고리즘을 구현해보았으며,  \n",
    "- 또한 훈련된 모형의 성능을 **평가**해보았다. \n",
    "\n",
    "즉 일반적으로 데이터를 기반으로 한 통계적 기계학습(Statistical Learning/Machine Learning)모형을 (파이썬을 활용하여) 건설할 수 있는 능력을 길러왔다고 할 수 있겠다. \n",
    "\n",
    "---\n",
    "\n",
    "## ** [기말 프로젝트] ** \n",
    "\n",
    "\n",
    "### **\"주어진 두 개의 실수 입력값 $(x_1, x_2 \\in \\mathcal{R})$에 대한 덧셈(뺄셈)과 곱셈(나눗셈)을 수행할 수 있는 인공신경망 모형을 건설해보자.\" **\n",
    "\n",
    "---\n",
    "- **모형의 규격 및 제한조건**:  \n",
    "  **입력-은닉-출력층**에 대해 다음과 같은 제한조건을 만족시키는, 사칙연산 이항연산자(binary operator)로서의 신경망 모형 - [덧셈:madd(x1,x2), 곱셈:mmul(x1,x2), ...]   \n",
    "  1) **입력층**: 노드수 (**2개**), 활성화 함수 종류 (linear: $f(a)=a$ 로 제한)  \n",
    "  2) **은닉층**: 층 수 (**1개 이상**) & 노드 수 (자유), 활성화 함수 종류(자유), 연결 구조(**자유**)  \n",
    "  3) **출력층**: 노드 수 (**1개**), 활성화 함수 종류(linear: $f(a)=a$ 로 제한)  \n",
    "  4) **연결가중치의 초기값**: 적절한 확률분포함수(Gaussian/Uniform/..., 선택 자유)를 사용한 **랜덤값**  \n",
    "  5) **훈련 데이터 전처리**에 사용가능한 산술연산: (math, numpy)에 내장된 수학 함수/연산자\n",
    "    - 기본 산술연산(내장): $+$, $\\times$, ...\n",
    "    - 기타 산술연산(내장): $log(x)$, $exp(x)$, ...     \n",
    "   \n",
    "  6) **최종평가시 테스트 데이터 전처리**에 사용가능한 산술연산: 훈련 데이터 전처리에 쓰였던 모든 산술연산자의 기계학습모형 버전의 연산자 \n",
    "   - 기본 산술연산(데이터로부터 학습시킨): madd(x1, x2), mmul(x1, x2), ...\n",
    "   - 기타 산술연산(데이터로부터 학습시킨): mlog(x), $log(x)$, mexp(x) for $exp(x)$, ...\n",
    "\n",
    "  \n",
    "---\n",
    "- **평가 1 [모형성능점수 70%]**:  \n",
    "주어진 $N(=3)$개의 실수 사이에서 아래와 같이 정의된 테스트 산술 연산식을, 제출한 기계모형으로 처리하여,  \n",
    "테스트 연산식 셋에 대한 최종오차의 순위를 평가지표로 활용 [정규분포로 환산(0-100) 후, 기본점수 100에 더함].\n",
    "\n",
    "    **$\\rightarrow$ 테스트 산술 연산식의 평가 방법예**:  \n",
    "\n",
    " * (제출을 위한)성능 순위 평가를 위한 산술 연산식($A+B\\times C$)을 위한\n",
    "    변수($[A,B,C]$) 셋 자료:  \n",
    "    > ['test_abc_set_20k.npy'](https://drive.google.com/open?id=1Sz7U8uopn49PHfD-NLJfMrQxCDsyVQj)  \n",
    " * 최종오차 평가식:  $E =\\frac{\\sum_{} \\log\\left(\\cosh(y_{true}-y_{predict})\\right)}{N_{total}=20000}$    \n",
    "   * 아래와 같이 정의된, 모든 산술 연산식에 대한 각 오차의 평균을 위의 최종오차($E$)로 정의함 ($A, B, C$ 는 shape이 (20000,3)인 첨부된 테스트 자료 행렬에서의 각 열값을 의미)\n",
    "      \n",
    "    *    $y_{true}= A + B \\times C$  \n",
    "    *    $y_{predict}' = \\text{madd.feedforward}(\\,[A', \\text{mmul.feedforward}(\\,[B',C']\\,)\\,]\\,)$    \n",
    "      * $ A',B',C'=f_1(A), f_2(B), f_2(C)$ 는, 덧셈과 곱셈을 위해 각각 $f_1$ 와 $f_2$ 으로 적절히 정의된 데이터 전처리 과정(data preprocessing) 후의 변수값을 의미.\n",
    "    * $y_{predict} = g^{-1}(\\,y_{predict}'\\,)$  \n",
    "      * $ y'=g(y)$은 전처리된 정답 라벨값으로서, 전처리 대응자 $g$는 주어진 $f_1 \\& f_2$에 의해 정의. \n",
    "    \n",
    "---\n",
    "- **평가 2 [본 산술연산 신경망 모형의 설계 및 훈련/평가 과정에의 독창성 20%]**\n",
    "---\n",
    "\n",
    "- **평가 3 [신경망 프레임(myNN.py)의 기능개선/최적화 여부 10%]**\n",
    "\n",
    "---\n",
    "- 훈련 및 테스트 데이터는 각자 적절한 방식으로 마련  \n",
    "\n",
    "- 모형의 건설과 훈련 및 테스트시, 노트북(ipynb) 파일 이외에도, myNN.py를 활용하여도 좋음 [GAN이나 AE의 예제를 위해 (NNfactory_GAN_AE.py)내부에 독립적인 클래스로 구현하였던 방식].\n",
    "\n",
    "```python\n",
    "    > class madd          \n",
    "    > class mmul\n",
    "    > class ...\n",
    "```\n",
    "\n",
    "---  \n",
    "- **결과물 제출 방식**: \n",
    "\n",
    "    1. *.npz* 파일로 저장된 신경망 모형 (NNfactor_GAN_AE.py 와 호환)  \n",
    "        **ex) madd_학번.npz, mmul_학번.npz ...**  \n",
    "        \n",
    "    2. 이를 로드할 수 있는 자체적인 신경망 프레임 코드 ('평가 2,3' 참조: 기존*NNfractory.py*와 비교하여 기능개선/최적화 사항이 있다면, 작은 사안이라도 맨 앞에 주석으로 적극적으로 홍보 및 설명을 추가)  \n",
    "        **ex) myNN_학번.py **\n",
    "        \n",
    "    3. 훈련에 사용한 데이터와 노트북 코드 ('평가 2, 3' 참조)  \n",
    "        **ex) ml_arithmetic_train_학번_이름.ipynb & data (data_train_xxx.npy)**\n",
    "         \n",
    "    4. 성능을 테스트 할 수 있는 노트북 코드 ('평가 1' 항목 참조)  \n",
    "        **ex) ml_arithmetic_test_학번_이름.ipynb & data (data_test_xxx.npy)**  \n",
    "        \n",
    "    5. 3과4를 통합하여 제출가능   \n",
    "        **ex) ml_arithmetic_train_test_학번_이름.ipynb & data (data_test_xxx.npy & data_train_xxx.npy)**\n",
    "        \n",
    "    6. 제출기한내 자신의 과제물 제출함(하위폴더 'final'를 생성)에 자유롭게 결과물을 업로드 \n",
    "      \n",
    "\n",
    "---\n",
    "- ** 기타 참고자료 **\n",
    "\n",
    "    1. [Neural Arithmetic Logic Unit (arXiv:1808.00508)](https://arxiv.org/pdf/1808.00508/)"
   ]
  },
  {
   "cell_type": "markdown",
   "metadata": {
    "colab_type": "text",
    "id": "BcVs-4Pl8AhU"
   },
   "source": [
    "---\n",
    "#### ** 모형의 설계와 훈련 관련 스크립트 (for ml_arithmetic_train.ipynb) **\n"
   ]
  },
  {
   "cell_type": "code",
   "execution_count": 0,
   "metadata": {
    "colab": {},
    "colab_type": "code",
    "id": "xEQYMFdV8AhZ"
   },
   "outputs": [],
   "source": []
  },
  {
   "cell_type": "markdown",
   "metadata": {
    "colab_type": "text",
    "id": "E9W_e9IS8Ahh"
   },
   "source": [
    "---\n",
    "#### ** 모형의 테스트 관련 스크립트 (for ml_arithmetic_test.ipynb) **\n"
   ]
  },
  {
   "cell_type": "code",
   "execution_count": 0,
   "metadata": {
    "colab": {},
    "colab_type": "code",
    "id": "j4GLFJ4T8Ahk"
   },
   "outputs": [],
   "source": []
  },
  {
   "cell_type": "markdown",
   "metadata": {
    "colab_type": "text",
    "id": "81lyvlJu7_O2"
   },
   "source": [
    "---\n",
    "#### ** 한 학기동안 매우 수고 많았습니다 ! **"
   ]
  }
 ],
 "metadata": {
  "colab": {
   "collapsed_sections": [],
   "name": "snu_ppsml_final_ml_project.ipynb",
   "provenance": [],
   "version": "0.3.2"
  },
  "kernelspec": {
   "display_name": "Python 3",
   "language": "python",
   "name": "python3"
  },
  "language_info": {
   "codemirror_mode": {
    "name": "ipython",
    "version": 3
   },
   "file_extension": ".py",
   "mimetype": "text/x-python",
   "name": "python",
   "nbconvert_exporter": "python",
   "pygments_lexer": "ipython3",
   "version": "3.5.2"
  }
 },
 "nbformat": 4,
 "nbformat_minor": 1
}
