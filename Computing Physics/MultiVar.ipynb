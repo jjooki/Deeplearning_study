{
 "cells": [
  {
   "cell_type": "markdown",
   "metadata": {},
   "source": [
    "# Multi variable linear regression"
   ]
  },
  {
   "cell_type": "markdown",
   "metadata": {},
   "source": [
    "Finding error minimalizing W,b"
   ]
  },
  {
   "cell_type": "markdown",
   "metadata": {},
   "source": [
    "$H(x) = Wx + b$<br>\n",
    "$Error = \\sum (H(x) -target)^2$"
   ]
  },
  {
   "cell_type": "code",
   "execution_count": 1,
   "metadata": {},
   "outputs": [],
   "source": [
    "import numpy as np\n",
    "import matplotlib.pyplot as plt\n",
    "%matplotlib inline"
   ]
  },
  {
   "cell_type": "code",
   "execution_count": 80,
   "metadata": {},
   "outputs": [
    {
     "name": "stdout",
     "output_type": "stream",
     "text": [
      "--------done446026-----\n",
      "W: [[ 0.4415192   0.58059092 -0.02086161]]\n",
      "E: [[0.60411401]]\n",
      "expected y: [[77.11355452 90.21315688 90.25143768 97.19759242 69.08958966]]\n",
      "real y: [[77. 89. 90. 98. 70.]]\n"
     ]
    }
   ],
   "source": [
    "x1_data = [73.,93.,89.,96.,73.]\n",
    "x2_data = [80.,88.,91.,98.,66.]\n",
    "x3_data = [75.,93.,90.,100.,70.]\n",
    "y_data = np.array([77.,89.,90.,98.,70.]).reshape(5,-1) #target\n",
    "W = np.random.uniform(0,2,3).reshape(3,-1) #weight\n",
    "#b = np.random.uniform()\n",
    "x = np.array([x1_data,x2_data,x3_data]).reshape(-1,5)\n",
    "#print((np.matmul(x.T,W)-y_data).T)\n",
    "\n",
    "eta = 0.00001\n",
    "E = np.matmul((np.matmul(x.T,W)-y_data).T,np.matmul(x.T,W)-y_data)/5.\n",
    "#print(E)\n",
    "temp = E+1.\n",
    "c=0\n",
    "while temp>E:\n",
    "    c+=1\n",
    "    temp = E\n",
    "    dE = 2*np.matmul((np.matmul(x.T,W)-y_data).T,x.T)/5.\n",
    "    W -= eta*dE.T\n",
    "    E = np.matmul((np.matmul(x.T,W)-y_data).T,np.matmul(x.T,W)-y_data)/5.\n",
    "\n",
    "print(\"--------done{0}-----\".format(c))\n",
    "print('W:',W.T)\n",
    "print('E:',E.T)\n",
    "print('expected y:',np.matmul(x.T,W).T)\n",
    "print('real y:',y_data.T)"
   ]
  },
  {
   "cell_type": "code",
   "execution_count": 81,
   "metadata": {},
   "outputs": [],
   "source": [
    "myx = np.array([80.,86.,91.])"
   ]
  },
  {
   "cell_type": "code",
   "execution_count": 82,
   "metadata": {},
   "outputs": [
    {
     "data": {
      "text/plain": [
       "array([83.35394864])"
      ]
     },
     "execution_count": 82,
     "metadata": {},
     "output_type": "execute_result"
    }
   ],
   "source": [
    "np.matmul(myx,W)"
   ]
  },
  {
   "cell_type": "code",
   "execution_count": null,
   "metadata": {},
   "outputs": [],
   "source": []
  }
 ],
 "metadata": {
  "kernelspec": {
   "display_name": "Python 3",
   "language": "python",
   "name": "python3"
  },
  "language_info": {
   "codemirror_mode": {
    "name": "ipython",
    "version": 3
   },
   "file_extension": ".py",
   "mimetype": "text/x-python",
   "name": "python",
   "nbconvert_exporter": "python",
   "pygments_lexer": "ipython3",
   "version": "3.5.2"
  }
 },
 "nbformat": 4,
 "nbformat_minor": 2
}
