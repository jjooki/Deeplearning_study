{
 "cells": [
  {
   "cell_type": "markdown",
   "metadata": {
    "colab_type": "text",
    "id": "g8em0N-akz3C"
   },
   "source": [
    "## Class 3"
   ]
  },
  {
   "cell_type": "markdown",
   "metadata": {
    "colab_type": "text",
    "id": "qCqQnBAvpgzK"
   },
   "source": [
    "### 5. 연산자 중복 정의\n",
    "\n",
    "* 연산자의 중복 정의란, 파이썬에 내장되어 있는 여러가지 수치 연산자(`+,-,*,/...`), 비교 연산자(`<,<=,==...`), 시퀀스 연산자(`len, in, ...`)들을, 각각 미리 대응되어 정의되어 있는 메소드 이름들 (```__add__, __sub__, __mul__, ...```)등을 활용하여, 임의의 클래스 안의 메소드로 중복 정의하여 사용할 수 있는 기능을 말한다. 예를 들자면 어떤 클래스에서 ```'def __add__(self):...'```라는 이름을 활용한 메소드를 정의하면, 이 메소드를 인스턴스가 호출할 때 ```__add__```와 미리 대응되어있는 수치연산자(`+`)를 활용하여 호출이 가능하다. \n",
    "\n",
    "* 즉, (`+`) 연산자의 기능(기본 메소드)이, 기본 기능 이외에도, 임의의 클래스 안에 추가적인```'def __add__(self):...'``` 메소드를 통하여 중복 정의되어, 이 클래스의 인스턴스들까지 중복 정의된 (`+`)연산의 피연산자로 사용될 수 있다.\n",
    "\n",
    "<!-- | Operator |\tFunction \t | Method Description |\n",
    "|+  \t   |  __add__(self, other)|  \t Addition |\n",
    "|*  \t  __mul__(self, other)  \t Multiplication\n",
    "-  \t  __sub__(self, other)  \t Subtraction\n",
    "%  \t  __mod__(self, other)  \t Remainder\n",
    "/  \t  __truediv__(self, other)  \t Division\n",
    "<  \t  __lt__(self, other)  \t Less than\n",
    "<=  \t  __le__(self, other)  \t Less than or equal to\n",
    "==  \t  __eq__(self, other)  \t Equal to\n",
    "!=  \t  __ne__(self, other)  \t Not equal to\n",
    ">  \t  __gt__(self, other)  \tGreater than\n",
    ">=  \t  __ge__(self, other)  \t Greater than or equal to\n",
    "[index]  \t  __getitem__(self, index)  \t Index operator\n",
    "in  \t  __contains__(self, value)  \tCheck membership\n",
    "len  \t__len__(self)  \t The number of elements\n",
    "str  \t__str__(self)  \t The string representation\n",
    " -->\n",
    "\n",
    "|operator(연산자) |     Function(메소드)             |Method Description  | 사용 예 (A는 연산자 중복을 작성한 클래스의 인스턴스 객체)\n",
    "| ---\n",
    "|+        |`__add__(self, other)`      |Addition | A+B, A+=B\n",
    "|-        |`__sub__(self, other)`      |Subtraction | A-B, A-=B\n",
    "|\\*       |`__mul__(self, other)`      |Multiplication  | A\\*B, A\\*=B\n",
    "|/        |`__truediv__(self, other)`  |Division  | A/B, A/=B \n",
    "|//       |`__floordiv__(self, other)` |Floor Division| A//B, A//=B\n",
    "|%        |`__mod__(self, other)`      |Remainder | A%B, A%=B\n",
    "|pow,\\*\\* |`__pow__(self, other)`      |Power     | pow(A,B), A\\*\\*B\n",
    "|  -  |   -  |   -  |     -\n",
    "|<        |`__lt__(self, other)`       |Less than | A<B, A>B\n",
    "|<=       |`__le__(self, other)`       |Less than or equal to  | A<=B, A>=B\n",
    "|==       |`__eq__(self, other)`       |Equal to | A==B, B==A\n",
    "|!=       |`__ne__(self, other)`       |Not equal to | A!=B, B!=A\n",
    "|>        |`__gt__(self, other)`       |Greater than | A>B, B<A\n",
    "|>=       |`__ge__(self, other)`       |Greater than or equal to | A>=B, B<=A\n",
    "|   -  |   -  |  -   |     -\n",
    "|[index]  |`__getitem__(self, index)`  |Index operator | A[index]  \n",
    "|[index] = value |`__setitem__(self, index, value)` | Value set operator | A[index] = value\n",
    "|in       |`__contains__(self, value)` |Check membership | for value in A \n",
    "|len      |`__len__(self)`            |The number of elements | len(A)\n",
    "|str      |`__str__(self)`             |The string representation | str(A)\n",
    "\n",
    "\n"
   ]
  },
  {
   "cell_type": "code",
   "execution_count": null,
   "metadata": {
    "colab": {
     "autoexec": {
      "startup": false,
      "wait_interval": 0
     }
    },
    "colab_type": "code",
    "id": "iNtxE3zrkz3c"
   },
   "outputs": [],
   "source": [
    "# Printing all outputs in a cell (not only the last output)\n",
    "from IPython.core.interactiveshell import InteractiveShell\n",
    "InteractiveShell.ast_node_interactivity = \"all\""
   ]
  },
  {
   "cell_type": "code",
   "execution_count": null,
   "metadata": {
    "colab": {
     "autoexec": {
      "startup": false,
      "wait_interval": 0
     }
    },
    "colab_type": "code",
    "id": "ncQiSvbKkz4W"
   },
   "outputs": [],
   "source": [
    "# 예1) 수치 연산자의 간단한 중복정의\n",
    "\n",
    "class arithmetic:\n",
    "    \n",
    "    def __init__(self,num):\n",
    "        self.num = num\n",
    "        print(\"initializer called with num = \",self.num)\n",
    "        \n",
    "    def __add__(self,num2):\n",
    "        self.num += num2\n",
    "        return arithmetic(self.num)\n",
    "    \n",
    "    def __sub__(self,num2):\n",
    "        self.num -= num2\n",
    "        return arithmetic(self.num)\n",
    "\n",
    "    def __mul__(self,num2):\n",
    "        self.num *= num2\n",
    "        return arithmetic(self.num)\n",
    "    \n",
    "    def __truediv__(self,num2):\n",
    "        self.num /= num2\n",
    "        return arithmetic(self.num)\n",
    "        \n",
    "    def __gt__(self,num2):  # 대소비교 :True or False\n",
    "        return self.num > num2\n",
    "    \n",
    "    def __lt__(self,num2):  # 대소비교 :True or False\n",
    "        return self.num < num2\n",
    "    \n",
    "    def __str__(self):  # print시 호출될 문자열 지정\n",
    "#         print(\"num value of this object = {0}\".format(self.num))\n",
    "        return \"num value of this object = {0}\".format(self.num)"
   ]
  },
  {
   "cell_type": "code",
   "execution_count": 3,
   "metadata": {
    "colab": {
     "autoexec": {
      "startup": false,
      "wait_interval": 0
     },
     "base_uri": "https://localhost:8080/",
     "height": 89
    },
    "colab_type": "code",
    "executionInfo": {
     "elapsed": 930,
     "status": "ok",
     "timestamp": 1523940198088,
     "user": {
      "displayName": "Wonsang Cho",
      "photoUrl": "https://lh3.googleusercontent.com/a/default-user=s128",
      "userId": "104337466362937093046"
     },
     "user_tz": -540
    },
    "id": "nxCm6xjgkz5E",
    "outputId": "a02ccb55-5ec7-4c01-dbaf-1bcb93782be6"
   },
   "outputs": [
    {
     "name": "stdout",
     "output_type": "stream",
     "text": [
      "initializer called with num =  100\n",
      "initializer called with num =  200\n",
      "num value of this object = 100\n",
      "num value of this object = 200\n"
     ]
    }
   ],
   "source": [
    "A = arithmetic(100)  # arithmetic 클래스의 인스턴스 - A를 생성하여 A의 num변수 값을 100으로 초기화\n",
    "B = arithmetic(200)\n",
    "#A.num \n",
    "#A # 인스턴스 객체 \n",
    "print(A)  # A.__str__() 와 같이, A인스턴스를 통하여 바운드 메소드로 __str__()를 호출하는 것과 같다.\n",
    "print(B)\n",
    "# A.__str__()\n",
    "# B.__str__()"
   ]
  },
  {
   "cell_type": "code",
   "execution_count": 25,
   "metadata": {
    "colab": {
     "autoexec": {
      "startup": false,
      "wait_interval": 0
     },
     "base_uri": "https://localhost:8080/",
     "height": 71
    },
    "colab_type": "code",
    "executionInfo": {
     "elapsed": 994,
     "status": "ok",
     "timestamp": 1523598499428,
     "user": {
      "displayName": "Wonsang Cho",
      "photoUrl": "https://lh3.googleusercontent.com/a/default-user=s128",
      "userId": "104337466362937093046"
     },
     "user_tz": -540
    },
    "id": "3cL7HHpykz5-",
    "outputId": "a2f66585-6525-4b7c-f2cc-faf673d20f22"
   },
   "outputs": [
    {
     "name": "stdout",
     "output_type": "stream",
     "text": [
      "initializer called with num =  300\n"
     ]
    },
    {
     "data": {
      "text/plain": [
       "300"
      ]
     },
     "execution_count": 25,
     "metadata": {
      "tags": []
     },
     "output_type": "execute_result"
    },
    {
     "name": "stdout",
     "output_type": "stream",
     "text": [
      "num value of this object = 300\n"
     ]
    },
    {
     "data": {
      "text/plain": [
       "<__main__.arithmetic at 0x7f02a4b309b0>"
      ]
     },
     "execution_count": 25,
     "metadata": {
      "tags": []
     },
     "output_type": "execute_result"
    }
   ],
   "source": [
    "B = A + 100 # A.__add__(100)\n",
    "B.num\n",
    "print(B)  # B.__str__()\n",
    "B"
   ]
  },
  {
   "cell_type": "code",
   "execution_count": 26,
   "metadata": {
    "colab": {
     "autoexec": {
      "startup": false,
      "wait_interval": 0
     },
     "base_uri": "https://localhost:8080/",
     "height": 53
    },
    "colab_type": "code",
    "executionInfo": {
     "elapsed": 840,
     "status": "ok",
     "timestamp": 1523598579500,
     "user": {
      "displayName": "Wonsang Cho",
      "photoUrl": "https://lh3.googleusercontent.com/a/default-user=s128",
      "userId": "104337466362937093046"
     },
     "user_tz": -540
    },
    "id": "J5x6774ukz6m",
    "outputId": "0dfe44bc-b060-427c-c0b8-07987d65da7a"
   },
   "outputs": [
    {
     "name": "stdout",
     "output_type": "stream",
     "text": [
      "initializer called with num =  30000\n",
      "num value of this object = 30000\n"
     ]
    }
   ],
   "source": [
    "C = B * 100    # B.__mul__(100)\n",
    "print(C)"
   ]
  },
  {
   "cell_type": "code",
   "execution_count": 14,
   "metadata": {
    "colab": {
     "autoexec": {
      "startup": false,
      "wait_interval": 0
     },
     "base_uri": "https://localhost:8080/",
     "height": 53
    },
    "colab_type": "code",
    "executionInfo": {
     "elapsed": 1034,
     "status": "ok",
     "timestamp": 1523586591640,
     "user": {
      "displayName": "Wonsang Cho",
      "photoUrl": "https://lh3.googleusercontent.com/a/default-user=s128",
      "userId": "104337466362937093046"
     },
     "user_tz": -540
    },
    "id": "MaVjzT2Okz7M",
    "outputId": "34158f64-36fc-45a3-fa1f-6736bc7416ff"
   },
   "outputs": [
    {
     "name": "stdout",
     "output_type": "stream",
     "text": [
      "initializer called with num =  500.0\n",
      "num value of this object = 500.0\n"
     ]
    }
   ],
   "source": [
    "D = C / 100.0    # C.__truediv__(100.0)\n",
    "print(D)"
   ]
  },
  {
   "cell_type": "code",
   "execution_count": 27,
   "metadata": {
    "colab": {
     "autoexec": {
      "startup": false,
      "wait_interval": 0
     },
     "base_uri": "https://localhost:8080/",
     "height": 53
    },
    "colab_type": "code",
    "executionInfo": {
     "elapsed": 916,
     "status": "ok",
     "timestamp": 1523598667756,
     "user": {
      "displayName": "Wonsang Cho",
      "photoUrl": "https://lh3.googleusercontent.com/a/default-user=s128",
      "userId": "104337466362937093046"
     },
     "user_tz": -540
    },
    "id": "ClRSAljzmQk8",
    "outputId": "ad0c69a6-e931-4013-e7ed-dc79f61d324e"
   },
   "outputs": [
    {
     "name": "stdout",
     "output_type": "stream",
     "text": [
      "False\n",
      "True\n"
     ]
    }
   ],
   "source": [
    "print(A > B)   # A.__gt__(B.num)\n",
    "print(A < B)"
   ]
  },
  {
   "cell_type": "code",
   "execution_count": null,
   "metadata": {
    "colab": {
     "autoexec": {
      "startup": false,
      "wait_interval": 0
     }
    },
    "colab_type": "code",
    "id": "XYpKdgCskz7u"
   },
   "outputs": [],
   "source": [
    "# 예2) ** 중요 예제 ** 연산자 중복 정의를 활용한 복소수의 연산\n",
    "class mycomplex:\n",
    "        \n",
    "    __real = 0. # __를 붙인 멤버변수는 private변수의 '의미'를 가지고 단순히 '인스턴스.__real'로 접근되지 않는다. (하지만 인스턴스._mycomplex__real 로 접근가능. 굳이 개별적으로 접근하지 말라는 의미.)  \n",
    "    __image = 0.\n",
    "    \n",
    "    def __init__(self,real=0,image=0):\n",
    "        self.__real = real\n",
    "        self.__image = image\n",
    "        print('initializer called with real = ',real,' image = ',image)\n",
    " \n",
    "    def __add__(self,B):\n",
    "        real = self.__real+B.__real\n",
    "        image = self.__image+B.__image\n",
    "        return mycomplex(real,image)\n",
    " \n",
    "    def __sub__(self, B):\n",
    "        real = self.__real-B.__real\n",
    "        image = self.__image-B.__image\n",
    "        return mycomplex(real,image)\n",
    " \n",
    "    def __mul__(self, B):\n",
    "        real = (self.__real*B.__real)-(self.__image*B.__image)\n",
    "        image = (self.__real*B.__image)+(self.__image*B.__real)\n",
    "        return mycomplex(real,image)\n",
    " \n",
    "    def __truediv__(self,B):\n",
    "        real_u = (self.__real*B.__real)+(self.__image*B.__image)\n",
    "        image_u = (self.__image*B.__real)-(self.__real*B.__image)\n",
    "        d_val = (B.__real*B.__real)+(B.__image*B.__image)\n",
    "        real = real_u/d_val\n",
    "        image = image_u/d_val\n",
    "        return mycomplex(real,image)\n",
    " \n",
    "    def __pos__(self):\n",
    "        return self\n",
    " \n",
    "    def __neg__(self):\n",
    "        return mycomplex(-self.__real, -self.__image)\n",
    "  \n",
    "    def __str__(self):  # => 인스턴스를 print(인스턴스) 했을때 출력할 문자열의 형태를 지정해준다.\n",
    "        if(self.__image>=0):\n",
    "            return str(self.__real)+\"+\"+str(self.__image)+\"i\"\n",
    "        else:\n",
    "            return str(self.__real)+str(self.__image)+\"i\"\n",
    " "
   ]
  },
  {
   "cell_type": "code",
   "execution_count": 34,
   "metadata": {
    "colab": {
     "autoexec": {
      "startup": false,
      "wait_interval": 0
     },
     "base_uri": "https://localhost:8080/",
     "height": 89
    },
    "colab_type": "code",
    "executionInfo": {
     "elapsed": 998,
     "status": "ok",
     "timestamp": 1523599026770,
     "user": {
      "displayName": "Wonsang Cho",
      "photoUrl": "https://lh3.googleusercontent.com/a/default-user=s128",
      "userId": "104337466362937093046"
     },
     "user_tz": -540
    },
    "id": "k-uMSKXhkz8O",
    "outputId": "d90c29fa-9188-4ea5-ad50-6a4be7859a0e"
   },
   "outputs": [
    {
     "name": "stdout",
     "output_type": "stream",
     "text": [
      "initializer called with real =  1  image =  2\n",
      "initializer called with real =  3  image =  4\n",
      "1+2i\n",
      "3+4i\n"
     ]
    }
   ],
   "source": [
    "A = mycomplex(1,2)  # mycomplex 클래스의 인스턴스 A 선언 = 1+2i라는 복소수 객체 생성 \n",
    "B = mycomplex(3,4)  # 또다른 인스턴스 B 선언\n",
    "print(A)  # A.__str__() \n",
    "print(B)  # B.__str__() 호출"
   ]
  },
  {
   "cell_type": "code",
   "execution_count": 35,
   "metadata": {
    "colab": {
     "autoexec": {
      "startup": false,
      "wait_interval": 0
     },
     "base_uri": "https://localhost:8080/",
     "height": 89
    },
    "colab_type": "code",
    "executionInfo": {
     "elapsed": 898,
     "status": "ok",
     "timestamp": 1523599102026,
     "user": {
      "displayName": "Wonsang Cho",
      "photoUrl": "https://lh3.googleusercontent.com/a/default-user=s128",
      "userId": "104337466362937093046"
     },
     "user_tz": -540
    },
    "id": "lbdQ8kwIkz9S",
    "outputId": "aec334ad-3b32-4e51-cf26-7189c0540165"
   },
   "outputs": [
    {
     "name": "stdout",
     "output_type": "stream",
     "text": [
      "initializer called with real =  4  image =  6\n",
      "initializer called with real =  -2  image =  -2\n",
      "initializer called with real =  -5  image =  10\n",
      "initializer called with real =  0.44  image =  0.08\n"
     ]
    }
   ],
   "source": [
    "C_add = A+B  # 중복 정의된 + (= def __add__() in class mycomplex)를 통하여, 복소수끼리의 합을 계산하고, 새로운 복소수 인스턴스 C_add를 생성 \n",
    "C_sub = A-B  # 중복 정의된 - (= def __sub__() in class mycomplex)를 통하여, 복소수끼리의 차를 계산하고, 새로운 복소수 인스턴스 C_sub를 생성\n",
    "C_mul = A*B  # 중복 정의된 * (= def __mul__() in class mycomplex)를 통하여, 복소수끼리의 곱을 계산하고, 새로운 복소수 인스턴스 C_mul를 생성 \n",
    "C_div = A/B  # 중복 정의된 / (= def __truediv__() in class mycomplex)를 통하여, 복소수끼리의 나누기를 계산하고, 새로운 복소수 인스턴스 C_div를 생성 "
   ]
  },
  {
   "cell_type": "code",
   "execution_count": 36,
   "metadata": {
    "colab": {
     "autoexec": {
      "startup": false,
      "wait_interval": 0
     },
     "base_uri": "https://localhost:8080/",
     "height": 35
    },
    "colab_type": "code",
    "executionInfo": {
     "elapsed": 818,
     "status": "ok",
     "timestamp": 1523599231010,
     "user": {
      "displayName": "Wonsang Cho",
      "photoUrl": "https://lh3.googleusercontent.com/a/default-user=s128",
      "userId": "104337466362937093046"
     },
     "user_tz": -540
    },
    "id": "Kts_-6Gskz94",
    "outputId": "694d0857-bcaf-4d3b-a248-6319aaa0f4f2"
   },
   "outputs": [
    {
     "name": "stdout",
     "output_type": "stream",
     "text": [
      "4+6i\n"
     ]
    }
   ],
   "source": [
    "#C_add\n",
    "#str(C_add)\n",
    "#C_add.__str__()\n",
    "print(C_add)  # C_add.__str__() 호출"
   ]
  },
  {
   "cell_type": "code",
   "execution_count": 37,
   "metadata": {
    "colab": {
     "autoexec": {
      "startup": false,
      "wait_interval": 0
     },
     "base_uri": "https://localhost:8080/",
     "height": 71
    },
    "colab_type": "code",
    "executionInfo": {
     "elapsed": 974,
     "status": "ok",
     "timestamp": 1523599267214,
     "user": {
      "displayName": "Wonsang Cho",
      "photoUrl": "https://lh3.googleusercontent.com/a/default-user=s128",
      "userId": "104337466362937093046"
     },
     "user_tz": -540
    },
    "id": "JRlp3w48kz-e",
    "outputId": "980c84d6-5b83-4c8b-f3fc-ede087159296"
   },
   "outputs": [
    {
     "name": "stdout",
     "output_type": "stream",
     "text": [
      "initializer called with real =  2  image =  0\n",
      "initializer called with real =  8  image =  12\n",
      "8+12i\n"
     ]
    }
   ],
   "source": [
    "D = C_add * mycomplex(2,0)\n",
    "print(D)"
   ]
  },
  {
   "cell_type": "code",
   "execution_count": 38,
   "metadata": {
    "colab": {
     "autoexec": {
      "startup": false,
      "wait_interval": 0
     },
     "base_uri": "https://localhost:8080/",
     "height": 297
    },
    "colab_type": "code",
    "executionInfo": {
     "elapsed": 1010,
     "status": "error",
     "timestamp": 1523599273158,
     "user": {
      "displayName": "Wonsang Cho",
      "photoUrl": "https://lh3.googleusercontent.com/a/default-user=s128",
      "userId": "104337466362937093046"
     },
     "user_tz": -540
    },
    "id": "nJEU1o69kz-6",
    "outputId": "78ba4e2f-d2b8-45ad-cc91-5a756b18af4f"
   },
   "outputs": [
    {
     "ename": "AttributeError",
     "evalue": "ignored",
     "output_type": "error",
     "traceback": [
      "\u001b[0;31m---------------------------------------------------------------------------\u001b[0m",
      "\u001b[0;31mAttributeError\u001b[0m                            Traceback (most recent call last)",
      "\u001b[0;32m<ipython-input-38-189156f02f05>\u001b[0m in \u001b[0;36m<module>\u001b[0;34m()\u001b[0m\n\u001b[0;32m----> 1\u001b[0;31m \u001b[0mE\u001b[0m \u001b[0;34m=\u001b[0m \u001b[0mC_add\u001b[0m \u001b[0;34m*\u001b[0m \u001b[0;36m2\u001b[0m\u001b[0;34m\u001b[0m\u001b[0m\n\u001b[0m",
      "\u001b[0;32m<ipython-input-28-6f63c9503138>\u001b[0m in \u001b[0;36m__mul__\u001b[0;34m(self, B)\u001b[0m\n\u001b[1;32m     20\u001b[0m \u001b[0;34m\u001b[0m\u001b[0m\n\u001b[1;32m     21\u001b[0m     \u001b[0;32mdef\u001b[0m \u001b[0m__mul__\u001b[0m\u001b[0;34m(\u001b[0m\u001b[0mself\u001b[0m\u001b[0;34m,\u001b[0m \u001b[0mB\u001b[0m\u001b[0;34m)\u001b[0m\u001b[0;34m:\u001b[0m\u001b[0;34m\u001b[0m\u001b[0m\n\u001b[0;32m---> 22\u001b[0;31m         \u001b[0mreal\u001b[0m \u001b[0;34m=\u001b[0m \u001b[0;34m(\u001b[0m\u001b[0mself\u001b[0m\u001b[0;34m.\u001b[0m\u001b[0m__real\u001b[0m\u001b[0;34m*\u001b[0m\u001b[0mB\u001b[0m\u001b[0;34m.\u001b[0m\u001b[0m__real\u001b[0m\u001b[0;34m)\u001b[0m\u001b[0;34m-\u001b[0m\u001b[0;34m(\u001b[0m\u001b[0mself\u001b[0m\u001b[0;34m.\u001b[0m\u001b[0m__image\u001b[0m\u001b[0;34m*\u001b[0m\u001b[0mB\u001b[0m\u001b[0;34m.\u001b[0m\u001b[0m__image\u001b[0m\u001b[0;34m)\u001b[0m\u001b[0;34m\u001b[0m\u001b[0m\n\u001b[0m\u001b[1;32m     23\u001b[0m         \u001b[0mimage\u001b[0m \u001b[0;34m=\u001b[0m \u001b[0;34m(\u001b[0m\u001b[0mself\u001b[0m\u001b[0;34m.\u001b[0m\u001b[0m__real\u001b[0m\u001b[0;34m*\u001b[0m\u001b[0mB\u001b[0m\u001b[0;34m.\u001b[0m\u001b[0m__image\u001b[0m\u001b[0;34m)\u001b[0m\u001b[0;34m+\u001b[0m\u001b[0;34m(\u001b[0m\u001b[0mself\u001b[0m\u001b[0;34m.\u001b[0m\u001b[0m__image\u001b[0m\u001b[0;34m*\u001b[0m\u001b[0mB\u001b[0m\u001b[0;34m.\u001b[0m\u001b[0m__real\u001b[0m\u001b[0;34m)\u001b[0m\u001b[0;34m\u001b[0m\u001b[0m\n\u001b[1;32m     24\u001b[0m         \u001b[0;32mreturn\u001b[0m \u001b[0mmycomplex\u001b[0m\u001b[0;34m(\u001b[0m\u001b[0mreal\u001b[0m\u001b[0;34m,\u001b[0m\u001b[0mimage\u001b[0m\u001b[0;34m)\u001b[0m\u001b[0;34m\u001b[0m\u001b[0m\n",
      "\u001b[0;31mAttributeError\u001b[0m: 'int' object has no attribute '_mycomplex__real'"
     ]
    }
   ],
   "source": [
    "# 에러발생 : an error because 2 is not an instance of 'mycomplex' with __real & __image\n",
    "E = C_add * 2  "
   ]
  },
  {
   "cell_type": "code",
   "execution_count": 39,
   "metadata": {
    "colab": {
     "autoexec": {
      "startup": false,
      "wait_interval": 0
     },
     "base_uri": "https://localhost:8080/",
     "height": 35
    },
    "colab_type": "code",
    "executionInfo": {
     "elapsed": 968,
     "status": "ok",
     "timestamp": 1523599317582,
     "user": {
      "displayName": "Wonsang Cho",
      "photoUrl": "https://lh3.googleusercontent.com/a/default-user=s128",
      "userId": "104337466362937093046"
     },
     "user_tz": -540
    },
    "id": "8G6x4h09kz_m",
    "outputId": "a2031b75-b768-4d12-bad0-3ef499bbb584"
   },
   "outputs": [
    {
     "data": {
      "text/plain": [
       "{'_mycomplex__image': 2, '_mycomplex__real': 1}"
      ]
     },
     "execution_count": 39,
     "metadata": {
      "tags": []
     },
     "output_type": "execute_result"
    }
   ],
   "source": [
    "# 명목상 숨김변수(private variable)인 __real과 __image가, A인스턴스의 이름공간에 어떻게 저장되어 있는지 확인해보기\n",
    "A.__dict__"
   ]
  },
  {
   "cell_type": "code",
   "execution_count": 40,
   "metadata": {
    "colab": {
     "autoexec": {
      "startup": false,
      "wait_interval": 0
     },
     "base_uri": "https://localhost:8080/",
     "height": 35
    },
    "colab_type": "code",
    "executionInfo": {
     "elapsed": 828,
     "status": "ok",
     "timestamp": 1523599353954,
     "user": {
      "displayName": "Wonsang Cho",
      "photoUrl": "https://lh3.googleusercontent.com/a/default-user=s128",
      "userId": "104337466362937093046"
     },
     "user_tz": -540
    },
    "id": "oVhKL1zvk0AA",
    "outputId": "f244cacc-a320-400a-886d-1ab76b28a40d"
   },
   "outputs": [
    {
     "data": {
      "text/plain": [
       "1"
      ]
     },
     "execution_count": 40,
     "metadata": {
      "tags": []
     },
     "output_type": "execute_result"
    },
    {
     "data": {
      "text/plain": [
       "2"
      ]
     },
     "execution_count": 40,
     "metadata": {
      "tags": []
     },
     "output_type": "execute_result"
    }
   ],
   "source": [
    "# 숨김변수에 접근해보기.\n",
    "A._mycomplex__real\n",
    "A._mycomplex__image"
   ]
  },
  {
   "cell_type": "code",
   "execution_count": 41,
   "metadata": {
    "colab": {
     "autoexec": {
      "startup": false,
      "wait_interval": 0
     },
     "base_uri": "https://localhost:8080/",
     "height": 35
    },
    "colab_type": "code",
    "executionInfo": {
     "elapsed": 1056,
     "status": "ok",
     "timestamp": 1523599358282,
     "user": {
      "displayName": "Wonsang Cho",
      "photoUrl": "https://lh3.googleusercontent.com/a/default-user=s128",
      "userId": "104337466362937093046"
     },
     "user_tz": -540
    },
    "id": "mZ8nig_7k0Ae",
    "outputId": "f0aaf4cb-ef0e-44ee-af76-7952e4ecf9ee"
   },
   "outputs": [
    {
     "data": {
      "text/plain": [
       "100"
      ]
     },
     "execution_count": 41,
     "metadata": {
      "tags": []
     },
     "output_type": "execute_result"
    },
    {
     "data": {
      "text/plain": [
       "200"
      ]
     },
     "execution_count": 41,
     "metadata": {
      "tags": []
     },
     "output_type": "execute_result"
    }
   ],
   "source": [
    "# 값도 한 번 바꿔보기 \n",
    "A._mycomplex__real = 100\n",
    "A._mycomplex__image = 200\n",
    "A._mycomplex__real\n",
    "A._mycomplex__image"
   ]
  },
  {
   "cell_type": "code",
   "execution_count": null,
   "metadata": {
    "colab": {
     "autoexec": {
      "startup": false,
      "wait_interval": 0
     }
    },
    "colab_type": "code",
    "id": "2JcE9pvZk0B6"
   },
   "outputs": [],
   "source": [
    "# 예3) 시퀀스형 연산자 활용, 문자열 연산\n",
    "\n",
    "class mystring:\n",
    "    \n",
    "    def __init__(self, input1=None):\n",
    "        self.input1 = input1\n",
    "    \n",
    "    def __add__(self, input2):  # '+' 연산자 중복 : 기존 문자열(input1)에 새로운 문자열을 새로운 방식으로 덧붙임\n",
    "        self.input1 = self.input1 + \" and \" + str(input2)\n",
    "        return mystring(self.input1)\n",
    "    \n",
    "    def __sub__(self, input2):   # '-' 연산자 중복 : 문자열(input2)에 속한 문자를 기존 문자열(input1)에서 소거 \n",
    "        for i in input2:\n",
    "            self.input1 = self.input1.replace(i,\"\")\n",
    "        return mystring(self.input1)\n",
    "\n",
    "    def __abs__(self):   # \n",
    "        return mystring(self.input1.upper())\n",
    "    \n",
    "    def __str__(self):\n",
    "        return str(self.input1)\n",
    "    "
   ]
  },
  {
   "cell_type": "code",
   "execution_count": 44,
   "metadata": {
    "colab": {
     "autoexec": {
      "startup": false,
      "wait_interval": 0
     },
     "base_uri": "https://localhost:8080/",
     "height": 35
    },
    "colab_type": "code",
    "executionInfo": {
     "elapsed": 670,
     "status": "ok",
     "timestamp": 1523599495388,
     "user": {
      "displayName": "Wonsang Cho",
      "photoUrl": "https://lh3.googleusercontent.com/a/default-user=s128",
      "userId": "104337466362937093046"
     },
     "user_tz": -540
    },
    "id": "uSj3Dm8mk0CS",
    "outputId": "6a62851b-9879-432f-e574-cdaeeea62aa0"
   },
   "outputs": [
    {
     "name": "stdout",
     "output_type": "stream",
     "text": [
      "Hello, world\n"
     ]
    }
   ],
   "source": [
    "a = mystring(\"Hello, world\")\n",
    "print(a)"
   ]
  },
  {
   "cell_type": "code",
   "execution_count": 45,
   "metadata": {
    "colab": {
     "autoexec": {
      "startup": false,
      "wait_interval": 0
     },
     "base_uri": "https://localhost:8080/",
     "height": 35
    },
    "colab_type": "code",
    "executionInfo": {
     "elapsed": 896,
     "status": "ok",
     "timestamp": 1523599551226,
     "user": {
      "displayName": "Wonsang Cho",
      "photoUrl": "https://lh3.googleusercontent.com/a/default-user=s128",
      "userId": "104337466362937093046"
     },
     "user_tz": -540
    },
    "id": "JalxQUH-k0C2",
    "outputId": "dfc2f2b3-758c-47a1-9288-c67c5d7df0ea"
   },
   "outputs": [
    {
     "name": "stdout",
     "output_type": "stream",
     "text": [
      "Hello, world and you\n"
     ]
    }
   ],
   "source": [
    "b = a + \"you\"    #  a.__add__(\"you\")\n",
    "print(b)"
   ]
  },
  {
   "cell_type": "code",
   "execution_count": 46,
   "metadata": {
    "colab": {
     "autoexec": {
      "startup": false,
      "wait_interval": 0
     },
     "base_uri": "https://localhost:8080/",
     "height": 35
    },
    "colab_type": "code",
    "executionInfo": {
     "elapsed": 846,
     "status": "ok",
     "timestamp": 1523599587602,
     "user": {
      "displayName": "Wonsang Cho",
      "photoUrl": "https://lh3.googleusercontent.com/a/default-user=s128",
      "userId": "104337466362937093046"
     },
     "user_tz": -540
    },
    "id": "vZE-rgOtk0Da",
    "outputId": "db685cb9-f03e-4fbc-fea8-52f584000f71"
   },
   "outputs": [
    {
     "name": "stdout",
     "output_type": "stream",
     "text": [
      "HELLO, WORLD AND YOU\n"
     ]
    }
   ],
   "source": [
    "b = abs(b)\n",
    "print(b)"
   ]
  },
  {
   "cell_type": "code",
   "execution_count": 47,
   "metadata": {
    "colab": {
     "autoexec": {
      "startup": false,
      "wait_interval": 0
     },
     "base_uri": "https://localhost:8080/",
     "height": 35
    },
    "colab_type": "code",
    "executionInfo": {
     "elapsed": 806,
     "status": "ok",
     "timestamp": 1523599628638,
     "user": {
      "displayName": "Wonsang Cho",
      "photoUrl": "https://lh3.googleusercontent.com/a/default-user=s128",
      "userId": "104337466362937093046"
     },
     "user_tz": -540
    },
    "id": "I05M0N6ck0EA",
    "outputId": "1fd01fa0-9131-41c9-e7ab-1ca87c56e5c9"
   },
   "outputs": [
    {
     "name": "stdout",
     "output_type": "stream",
     "text": [
      "HE,  AN YU\n"
     ]
    }
   ],
   "source": [
    "c = b - \"WORLD\"\n",
    "print(c)"
   ]
  },
  {
   "cell_type": "code",
   "execution_count": 48,
   "metadata": {
    "colab": {
     "autoexec": {
      "startup": false,
      "wait_interval": 0
     },
     "base_uri": "https://localhost:8080/",
     "height": 53
    },
    "colab_type": "code",
    "executionInfo": {
     "elapsed": 994,
     "status": "ok",
     "timestamp": 1523599633702,
     "user": {
      "displayName": "Wonsang Cho",
      "photoUrl": "https://lh3.googleusercontent.com/a/default-user=s128",
      "userId": "104337466362937093046"
     },
     "user_tz": -540
    },
    "id": "7wuiCR_xk0Ea",
    "outputId": "a0176339-3b75-4aea-baa3-d426e1c951aa"
   },
   "outputs": [
    {
     "name": "stdout",
     "output_type": "stream",
     "text": [
      "Hello, world and you\n",
      "HE,  AN YU\n"
     ]
    }
   ],
   "source": [
    "print(a)\n",
    "print(c)"
   ]
  }
 ],
 "metadata": {
  "colab": {
   "collapsed_sections": [],
   "default_view": {},
   "name": "Class_3_operator_overloading.ipynb",
   "provenance": [],
   "version": "0.3.2",
   "views": {}
  },
  "kernelspec": {
   "display_name": "Python 3",
   "language": "python",
   "name": "python3"
  },
  "language_info": {
   "codemirror_mode": {
    "name": "ipython",
    "version": 3
   },
   "file_extension": ".py",
   "mimetype": "text/x-python",
   "name": "python",
   "nbconvert_exporter": "python",
   "pygments_lexer": "ipython3",
   "version": "3.5.2"
  }
 },
 "nbformat": 4,
 "nbformat_minor": 2
}
