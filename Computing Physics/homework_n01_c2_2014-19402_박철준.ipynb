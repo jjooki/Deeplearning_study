{
 "cells": [
  {
   "cell_type": "markdown",
   "metadata": {
    "colab_type": "text",
    "id": "gfrKNROhioFg"
   },
   "source": [
    "## SNU PPSML 1차 정규과제\n",
    "\n",
    "- Python data containers, conditional statements & loops \n",
    "- [9/14(금) 소개 ~  9/21(금) 24:00 마감] [총 100점]"
   ]
  },
  {
   "cell_type": "code",
   "execution_count": 1,
   "metadata": {
    "colab": {},
    "colab_type": "code",
    "id": "m7Ghj7f0ioFm"
   },
   "outputs": [],
   "source": [
    "# Printing all outputs in a cell (not only the last output)\n",
    "from IPython.core.interactiveshell import InteractiveShell\n",
    "InteractiveShell.ast_node_interactivity = \"all\""
   ]
  },
  {
   "cell_type": "markdown",
   "metadata": {
    "colab_type": "text",
    "id": "dR9JSYIG7_MH"
   },
   "source": [
    "---\n",
    "#### **문제1) 여러가지 자료형에 따른 print문의 활용 (formatted output) (10pt)** \n",
    "\n",
    "1) 물리상수 테이블([테이블1](https://en.wikipedia.org/wiki/Physical_constant), [테이블2](http://pdg.lbl.gov/2018/reviews/rpp2018-rev-phys-constants.pdf))을 참조하여, 이들 중 빛의 속력(speed of light in vacuum), 뉴튼중력상수(Newtonian constant of Gravitation), 플랑크상수(Planck constant)에 대하여, 각각 다음의 속성값 - (1. 물리상수 이름(str), 2. 상수심볼(str),  3. 상수값(float), 4. 단위(str), 5. )을 가진 Python data container를 작성해보자 (list & dictionary 등등 활용).\n",
    "\n",
    "\n",
    "2) 1)에서 작성한 data container에 담긴 정보를, 순환문 & print 내장함수를 활용하여, 테이블 형식으로 출력해보자. (각 행당 열간격과 좌우정렬유지) [[ref1](https://docs.python.org/3/tutorial/inputoutput.html),[ref2](https://www.python-course.eu/python3_formatted_output.php)]\n",
    "\n"
   ]
  },
  {
   "cell_type": "code",
   "execution_count": 29,
   "metadata": {},
   "outputs": [
    {
     "name": "stdout",
     "output_type": "stream",
     "text": [
      "            speed of light in vaccum  c   2.9979245800e+08          m⋅s^−1\n",
      "   Newtonian constant of Gravitation  G   6.6740800000e-11  m^3⋅kg^−1⋅s^−2\n",
      "                     Planck constant  h   6.6260700406e-34             J⋅s\n"
     ]
    }
   ],
   "source": [
    "constant_list = [['speed of light in vaccum', 'c', 299792458., 'm⋅s^−1'],\n",
    "                 ['Newtonian constant of Gravitation','G', 6.67408e-11, 'm^3⋅kg^−1⋅s^−2'],\n",
    "                 ['Planck constant', 'h', 6.6260700406e-34, 'J⋅s']]\n",
    "\n",
    "for x in constant_list:\n",
    "    print(\"%36s %2s %18.10e %15s\"%(x[0],x[1],x[2],x[3]))"
   ]
  },
  {
   "cell_type": "markdown",
   "metadata": {
    "colab_type": "text",
    "id": "axjKTDNU7_Md"
   },
   "source": [
    "---\n",
    "#### **문제2) math 모듈과 여러가지 수치연산 (내장) 함수의 활용 (10pt)**\n",
    "\n",
    "input내장함수를 사용하여 숫자 a,b를 입력받아, 여러가지 수치연산의 결과를 다음과 같이 출력하는 프로그램을 작성하라.\n",
    "\n",
    "- 입력\n",
    ">```\n",
    "a : 10\n",
    "b : 3\n",
    "```\n",
    "\n",
    "- 출력\n",
    ">```\n",
    "10.0 / 3.0 의 몫은 3.0, 나머지는 1.0\n",
    "10.0의 3.0승은 1000.0\n",
    "Exp[10.0] * 상용로그[3.0]은 10509.2944...\n",
    "sin[10.0도] + cos[3.0도]는 0.1734...\n",
    "수정필요) 0.1734는 radian으로 계산한 값이고 도 단위로 계산하면 1.1723이 맞음\n",
    "```"
   ]
  },
  {
   "cell_type": "code",
   "execution_count": 11,
   "metadata": {},
   "outputs": [
    {
     "name": "stdout",
     "output_type": "stream",
     "text": [
      "a : 10\n",
      "b : 3\n",
      "10.0 / 3.0 의 몫은 3.0, 나머지는 1.0\n",
      "10.0의 3.0승은 1000.0\n",
      "Exp[10.0] * 상용로그[3.0]은 10509.2950...\n",
      "sin[10.0도] + cos[3.0도]는 1.1723...\n"
     ]
    }
   ],
   "source": [
    "import math\n",
    "\n",
    "a = input(\"a : \")\n",
    "a = int(a)\n",
    "b = input(\"b : \")\n",
    "b = int(b)\n",
    "\n",
    "q = a/b\n",
    "print(\"%.1f / %.1f 의 몫은 %.1f, 나머지는 %.1f\"%(a,b,q,a-q*b))\n",
    "print(\"%.1f의 %.1f승은 %.1f\"%(a,b,pow(a,b)))\n",
    "print(\"Exp[%.1f] * 상용로그[%.1f]은 %.4f...\"%(a,b,math.exp(a)*math.log10(b)))\n",
    "print(\"sin[%.1f도] + cos[%.1f도]는 %.4f...\"%(a,b,math.sin(a*math.pi/180)+math.cos(b*math.pi/180)))"
   ]
  },
  {
   "cell_type": "markdown",
   "metadata": {
    "colab_type": "text",
    "id": "kBWqdVku7_Ml"
   },
   "source": [
    "---\n",
    "**문제3) for loop iteration of integer objects (10pt)**\n",
    "\n",
    "(짝수 * 홀수) 조합의 구구단 테이블을 출력하는 프로그램을 작성하라\n",
    "\n",
    "출력예)\n",
    "> ```\n",
    "...\n",
    "------ 2단 ------\n",
    "2 x 1 = 2\n",
    "2 x 3 = 6\n",
    "2 x 5 = 10\n",
    "2 x 7 = 14\n",
    "2 x 9 = 18\n",
    "...\n",
    "```\n"
   ]
  },
  {
   "cell_type": "code",
   "execution_count": 12,
   "metadata": {},
   "outputs": [
    {
     "name": "stdout",
     "output_type": "stream",
     "text": [
      "------ 2단 ------\n",
      "2 x 1 = 2\n",
      "2 x 3 = 6\n",
      "2 x 5 = 10\n",
      "2 x 7 = 14\n",
      "2 x 9 = 18\n",
      "\n",
      "\n",
      "------ 4단 ------\n",
      "4 x 1 = 4\n",
      "4 x 3 = 12\n",
      "4 x 5 = 20\n",
      "4 x 7 = 28\n",
      "4 x 9 = 36\n",
      "\n",
      "\n",
      "------ 6단 ------\n",
      "6 x 1 = 6\n",
      "6 x 3 = 18\n",
      "6 x 5 = 30\n",
      "6 x 7 = 42\n",
      "6 x 9 = 54\n",
      "\n",
      "\n",
      "------ 8단 ------\n",
      "8 x 1 = 8\n",
      "8 x 3 = 24\n",
      "8 x 5 = 40\n",
      "8 x 7 = 56\n",
      "8 x 9 = 72\n",
      "\n",
      "\n"
     ]
    }
   ],
   "source": [
    "for i in range(2,9,2):\n",
    "    print(\"------ %d단 ------\"%(i))\n",
    "    for j in range(1,10,2):\n",
    "        print(\"%d x %d = %d\"%(i,j,i*j))\n",
    "    print(\"\\n\")"
   ]
  },
  {
   "cell_type": "markdown",
   "metadata": {
    "colab_type": "text",
    "id": "w1XqdJNn7_Mx"
   },
   "source": [
    "---\n",
    "#### ** 문제4) for loop iteration of list object (10pt)**\n",
    "\n",
    "- 문자열로 구성된 다음 리스트의 모든 요소값을, 요소값의 인덱스와 함께 출력하는 예제를 2가지 이상의 방법으로 구현해보자.\n",
    "> ```\n",
    "mylist = ['apple','banana','orange','kiwi','strawberry']\n",
    "```"
   ]
  },
  {
   "cell_type": "code",
   "execution_count": 7,
   "metadata": {},
   "outputs": [
    {
     "name": "stdout",
     "output_type": "stream",
     "text": [
      "1번째 방법\n",
      "apple, 1\n",
      "banana, 2\n",
      "orange, 3\n",
      "kiwi, 4\n",
      "strawberry, 5\n",
      "\n",
      "2번째 방법\n",
      "apple, 1\n",
      "banana, 2\n",
      "orange, 3\n",
      "kiwi, 4\n",
      "strawberry, 5\n"
     ]
    }
   ],
   "source": [
    "mylist = ['apple','banana','orange','kiwi','strawberry']\n",
    "i,j = 0,0\n",
    "print(\"1번째 방법\")\n",
    "for a in mylist:\n",
    "    i += 1\n",
    "    print(\"%s, %d\" % (a,i))\n",
    "print(\"\\n2번째 방법\")\n",
    "for j in range(1,6):\n",
    "    print(\"%s, %d\" % (mylist[j-1],j))"
   ]
  },
  {
   "cell_type": "markdown",
   "metadata": {
    "colab_type": "text",
    "id": "xIlYGiI57_M6"
   },
   "source": [
    "-------\n",
    "**문제5) 정수형 리스트의 생성 및 활용 (10pt) **: \n",
    "\n",
    "1) 1이상 1000이하 짝수들의 오름차순 리스트를 만들고, 그 요소들의 개수와 합을 출력하라.\n",
    "\n",
    "2) 1이상 1000이하 홀수들의 내림차수 리스트를 만들고, 그 요소들의 개수와 합을 출력하라.\n"
   ]
  },
  {
   "cell_type": "code",
   "execution_count": 14,
   "metadata": {},
   "outputs": [
    {
     "name": "stdout",
     "output_type": "stream",
     "text": [
      "1) 개수 : 500 , 합 : 250500\n",
      "2) 개수 : 500 , 합 : 250000\n"
     ]
    }
   ],
   "source": [
    "a = range(2,1001,2)\n",
    "num1,num2 = 0,0\n",
    "sum1,sum2 = 0,0\n",
    "for x in a:\n",
    "    num1 += 1\n",
    "    sum1 += x\n",
    "\n",
    "print(\"1) 개수 : %d , 합 : %d\" %(num1,sum1))\n",
    "b = range(999,0,-2)\n",
    "for y in b:\n",
    "    num2 += 1\n",
    "    sum2 += y\n",
    "    \n",
    "print(\"2) 개수 : %d , 합 : %d\" %(num2,sum2))"
   ]
  },
  {
   "cell_type": "markdown",
   "metadata": {
    "colab_type": "text",
    "id": "uS0avpF67_NL"
   },
   "source": [
    "---\n",
    "#### ** 문제6) for loop, 리스트 정보 탐색 및 변형 (10pt) **\n",
    "\n",
    "- 여러가지 자료형의 요소들로 구성된 다음의 리스트에서, 사전형만 뽑아서 그 사전형 요소의 (key, value)을 출력하는 프로그램을  구현해보자.\n",
    ">```python\n",
    "mylist2 = ['apple', 'banana', {'dog':10, 'cat':10, 'elephant':30}, ('rose','#FF0000') , 1, 2.0,]\n",
    "```\n",
    "\n",
    "- mylist2의 사전 데이터에 ```{'goldfish':10}```을 추가하고, 그 사전 데이터의 순서를 리스트의 맨 마지막 요소로 이동시켜보자. "
   ]
  },
  {
   "cell_type": "code",
   "execution_count": null,
   "metadata": {},
   "outputs": [],
   "source": [
    "mylist2 = ['apple', 'banana', {'dog':10, 'cat':10, 'elephant':30}, ('rose','#FF0000') , 1, 2.0,]\n",
    "mylist2[2]['goldfish'] = 10\n",
    "a = mylist2.pop(2)\n",
    "mylist2.append(a)\n",
    "for x in mylist2:\n",
    "    print(x)"
   ]
  },
  {
   "cell_type": "markdown",
   "metadata": {
    "colab_type": "text",
    "id": "xp_iRhDM7_Ng"
   },
   "source": [
    "---\n",
    "#### ** 문제7) 문자열 교집합, 합집합 [20pt]**\n",
    "\n",
    "문자열 2개를 입력받아서, 그들을 이루는 문자들의 교집합과 합집합을 구하는 프로그램을 작성하라"
   ]
  },
  {
   "cell_type": "code",
   "execution_count": 34,
   "metadata": {},
   "outputs": [
    {
     "name": "stdout",
     "output_type": "stream",
     "text": [
      "Hello, my name is Suzy.\n",
      "Wow, your name is beautiful!\n",
      "{'u', 'm', ',', 'l', 's', 'e', 'i', 'a', 'y', 'o', 'n'}\n",
      "{'m', 'l', 'z', 'b', 'e', 'i', 'a', 'f', 's', 't', '!', 'o', '.', 'W', 'n', 'u', 'S', 'w', 'H', ',', 'y', 'r'}\n"
     ]
    }
   ],
   "source": [
    "a = input()\n",
    "b = input()\n",
    "a_set = set()\n",
    "b_set = set()\n",
    "\n",
    "for x in a:\n",
    "    for y in x:\n",
    "        if y != ' ':\n",
    "            a_set.add(y)\n",
    "\n",
    "for x in b:\n",
    "    for y in x:\n",
    "        if y != ' ':\n",
    "            b_set.add(y)\n",
    "        \n",
    "\n",
    "print(a_set & b_set)\n",
    "print(a_set | b_set)"
   ]
  },
  {
   "cell_type": "markdown",
   "metadata": {
    "colab_type": "text",
    "id": "4J3REdOy7_Or"
   },
   "source": [
    "---\n",
    "#### **문제8) 문자열에 관한 내장함수와 사전, 리스트 내장의 활용 (20pt)**\n",
    "\n",
    "1) 본 지문에 포함된 단어의 갯수를 구하고, 각 단어들을 이루는 문자 갯수의 평균을 구하는 프로그램을 작성해보자. (중복 사용 여부를 따로 고려하지 않음, 쉼표나 마침표는 문자 갯수에서 제외할 수 있도록 주의.) (10pt)\n",
    "\n",
    "> *\"Torque is defined mathematically as the rate of change of angular momentum of an object. The definition of torque states that one or both of the angular velocity or the moment of inertia of an object are changing. Moment is the general term used for the tendency of one or more applied forces to rotate an object about an axis, but not necessarily to change the angular momentum of the object. For example, a rotational force applied to a shaft causing acceleration, such as a drill bit accelerating from rest, results in a moment called a torque. By contrast, a lateral force on a beam produces a moment, but since the angular momentum of the beam is not changing, this bending moment is not called a torque. Similarly with any force couple on an object that has no change to its angular momentum, such moment is also not called a torque.\"*\n",
    "\n",
    "2) 본 지문에서 모음에 해당하는 'a', 'e', 'i', 'o', 'u' 문자들이 등장하는 횟수를 구하고, 이 결과값을 사전형으로 출력하는 프로그램을 작성해보자. (리스트, 사전, zip(), dict() 등을 활용) (10pt)\n"
   ]
  },
  {
   "cell_type": "code",
   "execution_count": 2,
   "metadata": {},
   "outputs": [
    {
     "name": "stdout",
     "output_type": "stream",
     "text": [
      "Torque is defined mathematically as the rate of change of angular momentum of an object. The definition of torque states that one or both of the angular velocity or the moment of inertia of an object are changing. Moment is the general term used for the tendency of one or more applied forces to rotate an object about an axis, but not necessarily to change the angular momentum of the object. For example, a rotational force applied to a shaft causing acceleration, such as a drill bit accelerating from rest, results in a moment called a torque. By contrast, a lateral force on a beam produces a moment, but since the angular momentum of the beam is not changing, this bending moment is not called a torque. Similarly with any force couple on an object that has no change to its angular momentum, such moment is also not called a torque.\n",
      "\n",
      "1) 단어 수 : 151, 단어당 문자 갯수의 평균 : 4.47\n",
      "\n",
      "2) 'a' 갯수 : 69\n",
      "   'e' 갯수 : 78\n",
      "   'i' 갯수 : 33\n",
      "   'o' 갯수 : 66\n",
      "   'u' 갯수 : 24\n"
     ]
    }
   ],
   "source": [
    "paragraph = input()\n",
    "count = 0\n",
    "n_a = 0\n",
    "n_e = 0\n",
    "n_i = 0\n",
    "n_o = 0\n",
    "n_u = 0\n",
    "alphabet_count = 0\n",
    "word_list = paragraph.split(' ')\n",
    "for a in word_list:\n",
    "    for b in word_list[count]:\n",
    "        if (b!='.' and b!=',' and b!='!' and b!='?'):\n",
    "            alphabet_count += 1\n",
    "        if b == 'a':\n",
    "            n_a += 1\n",
    "        elif b == 'e':\n",
    "            n_e += 1\n",
    "        elif b == 'i':\n",
    "            n_i += 1\n",
    "        elif b == 'o':\n",
    "            n_o += 1\n",
    "        elif b == 'u':\n",
    "            n_u += 1\n",
    "    count += 1\n",
    "\n",
    "print(\"\")\n",
    "print(\"1) 단어 수 : %d, 단어당 문자 갯수의 평균 : %.2f\\n\" % (count, float(alphabet_count)/count))\n",
    "\n",
    "print (\"2) 'a' 갯수 : %d\"%(n_a))\n",
    "print (\"   'e' 갯수 : %d\"%(n_e))\n",
    "print (\"   'i' 갯수 : %d\"%(n_i))\n",
    "print (\"   'o' 갯수 : %d\"%(n_o))\n",
    "print (\"   'u' 갯수 : %d\"%(n_u))"
   ]
  },
  {
   "cell_type": "code",
   "execution_count": 4,
   "metadata": {},
   "outputs": [
    {
     "data": {
      "text/plain": [
       "'2.7.12 (default, Dec  4 2017, 14:50:18) \\n[GCC 5.4.0 20160609]'"
      ]
     },
     "execution_count": 4,
     "metadata": {},
     "output_type": "execute_result"
    }
   ],
   "source": [
    "import sys\n",
    "sys.version"
   ]
  },
  {
   "cell_type": "code",
   "execution_count": null,
   "metadata": {},
   "outputs": [],
   "source": []
  }
 ],
 "metadata": {
  "colab": {
   "collapsed_sections": [],
   "name": "homework_n02_sol_sample.ipynb",
   "provenance": [],
   "version": "0.3.2"
  },
  "kernelspec": {
   "display_name": "Python 3",
   "language": "python",
   "name": "python3"
  },
  "language_info": {
   "codemirror_mode": {
    "name": "ipython",
    "version": 3
   },
   "file_extension": ".py",
   "mimetype": "text/x-python",
   "name": "python",
   "nbconvert_exporter": "python",
   "pygments_lexer": "ipython3",
   "version": "3.5.2"
  }
 },
 "nbformat": 4,
 "nbformat_minor": 2
}
