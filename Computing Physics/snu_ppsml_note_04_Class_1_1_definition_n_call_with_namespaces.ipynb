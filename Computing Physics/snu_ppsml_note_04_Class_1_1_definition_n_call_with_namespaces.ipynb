{
 "cells": [
  {
   "cell_type": "markdown",
   "metadata": {
    "colab_type": "text",
    "id": "g8em0N-akz3C"
   },
   "source": [
    "## Class 1"
   ]
  },
  {
   "cell_type": "markdown",
   "metadata": {
    "colab_type": "text",
    "id": "rqsQitR3osID"
   },
   "source": [
    "### 1. 클래스 정의, 인스턴스를 통한 멤버 변수와 메소드의 호출  "
   ]
  },
  {
   "cell_type": "code",
   "execution_count": 1,
   "metadata": {
    "colab": {
     "autoexec": {
      "startup": false,
      "wait_interval": 0
     }
    },
    "colab_type": "code",
    "id": "9YBVrJEposIF"
   },
   "outputs": [],
   "source": [
    "class human0:\n",
    "    \"\"\"이것은 제 첫 클래스 입니다 \"\"\"  # 클래스 주석\n",
    "    pass  # pass로 정의없이 마무리"
   ]
  },
  {
   "cell_type": "code",
   "execution_count": 2,
   "metadata": {
    "colab": {
     "autoexec": {
      "startup": false,
      "wait_interval": 0
     },
     "base_uri": "https://localhost:8080/",
     "height": 521
    },
    "colab_type": "code",
    "executionInfo": {
     "elapsed": 724,
     "status": "ok",
     "timestamp": 1522835923528,
     "user": {
      "displayName": "Wonsang Cho",
      "photoUrl": "https://lh3.googleusercontent.com/a/default-user=s128",
      "userId": "104337466362937093046"
     },
     "user_tz": -540
    },
    "id": "hxhceSkNosIL",
    "outputId": "b90a65f6-48b0-45f9-9291-95616e3a21eb"
   },
   "outputs": [
    {
     "data": {
      "text/plain": [
       "['In',\n",
       " 'Out',\n",
       " '_',\n",
       " '__',\n",
       " '___',\n",
       " '__builtin__',\n",
       " '__builtins__',\n",
       " '__doc__',\n",
       " '__loader__',\n",
       " '__name__',\n",
       " '__package__',\n",
       " '__spec__',\n",
       " '_dh',\n",
       " '_i',\n",
       " '_i1',\n",
       " '_i2',\n",
       " '_ih',\n",
       " '_ii',\n",
       " '_iii',\n",
       " '_oh',\n",
       " 'exit',\n",
       " 'get_ipython',\n",
       " 'human0',\n",
       " 'quit']"
      ]
     },
     "execution_count": 2,
     "metadata": {},
     "output_type": "execute_result"
    }
   ],
   "source": [
    "dir()  # 전역 이름공간에 정의된 객체들을 확인"
   ]
  },
  {
   "cell_type": "code",
   "execution_count": 3,
   "metadata": {
    "colab": {
     "autoexec": {
      "startup": false,
      "wait_interval": 0
     },
     "base_uri": "https://localhost:8080/",
     "height": 35
    },
    "colab_type": "code",
    "executionInfo": {
     "elapsed": 688,
     "status": "ok",
     "timestamp": 1522835925295,
     "user": {
      "displayName": "Wonsang Cho",
      "photoUrl": "https://lh3.googleusercontent.com/a/default-user=s128",
      "userId": "104337466362937093046"
     },
     "user_tz": -540
    },
    "id": "ciiIO8tkosIN",
    "outputId": "4b73491c-c71d-4f67-8ee0-04db396e5a5d"
   },
   "outputs": [
    {
     "data": {
      "text/plain": [
       "type"
      ]
     },
     "execution_count": 3,
     "metadata": {},
     "output_type": "execute_result"
    }
   ],
   "source": [
    "type(human0)  # human0의 타입 확인"
   ]
  },
  {
   "cell_type": "code",
   "execution_count": 4,
   "metadata": {
    "colab": {
     "autoexec": {
      "startup": false,
      "wait_interval": 0
     }
    },
    "colab_type": "code",
    "id": "bo8paeP4osIP"
   },
   "outputs": [],
   "source": [
    "class human1:  # 멤버변수 하나만 있는 클래스\n",
    "    name = \"default name\""
   ]
  },
  {
   "cell_type": "markdown",
   "metadata": {
    "colab_type": "text",
    "id": "yJmxaYXUosIS"
   },
   "source": [
    "* **인스턴스의 선언과 멤버 변수의 호출**"
   ]
  },
  {
   "cell_type": "code",
   "execution_count": 5,
   "metadata": {
    "colab": {
     "autoexec": {
      "startup": false,
      "wait_interval": 0
     },
     "base_uri": "https://localhost:8080/",
     "height": 35
    },
    "colab_type": "code",
    "executionInfo": {
     "elapsed": 696,
     "status": "ok",
     "timestamp": 1522835928295,
     "user": {
      "displayName": "Wonsang Cho",
      "photoUrl": "https://lh3.googleusercontent.com/a/default-user=s128",
      "userId": "104337466362937093046"
     },
     "user_tz": -540
    },
    "id": "h1cjA3wMosIT",
    "outputId": "84a8dbfb-b199-4f9e-8fa0-4f3cd2d82384"
   },
   "outputs": [],
   "source": [
    "person1 = human1()  # human1 클래스의 인스턴스(person1) 선언 \n",
    "\n"
   ]
  },
  {
   "cell_type": "code",
   "execution_count": 6,
   "metadata": {
    "colab": {
     "autoexec": {
      "startup": false,
      "wait_interval": 0
     }
    },
    "colab_type": "code",
    "id": "4Zftc5PXWJE3"
   },
   "outputs": [
    {
     "data": {
      "text/plain": [
       "'default name'"
      ]
     },
     "execution_count": 6,
     "metadata": {},
     "output_type": "execute_result"
    }
   ],
   "source": [
    "\n",
    "person1.name  # person1인스턴스를 통한 person1이름공간에 속한 name멤버변수의 호출"
   ]
  },
  {
   "cell_type": "code",
   "execution_count": 7,
   "metadata": {
    "colab": {
     "autoexec": {
      "startup": false,
      "wait_interval": 0
     }
    },
    "colab_type": "code",
    "id": "wM3kMT2VosIV"
   },
   "outputs": [],
   "source": [
    "class human2: # 멤버변수와 메소드 둘 다 있는 클래스\n",
    "    name = \"default name\"\n",
    "    def mynameis(self,x):\n",
    "        print(\"My name is {0}.\".format(x))"
   ]
  },
  {
   "cell_type": "code",
   "execution_count": 8,
   "metadata": {
    "colab": {
     "autoexec": {
      "startup": false,
      "wait_interval": 0
     }
    },
    "colab_type": "code",
    "id": "oAsa1ycNosIX"
   },
   "outputs": [
    {
     "data": {
      "text/plain": [
       "['__class__',\n",
       " '__delattr__',\n",
       " '__dict__',\n",
       " '__dir__',\n",
       " '__doc__',\n",
       " '__eq__',\n",
       " '__format__',\n",
       " '__ge__',\n",
       " '__getattribute__',\n",
       " '__gt__',\n",
       " '__hash__',\n",
       " '__init__',\n",
       " '__le__',\n",
       " '__lt__',\n",
       " '__module__',\n",
       " '__ne__',\n",
       " '__new__',\n",
       " '__reduce__',\n",
       " '__reduce_ex__',\n",
       " '__repr__',\n",
       " '__setattr__',\n",
       " '__sizeof__',\n",
       " '__str__',\n",
       " '__subclasshook__',\n",
       " '__weakref__',\n",
       " 'mynameis',\n",
       " 'name']"
      ]
     },
     "execution_count": 8,
     "metadata": {},
     "output_type": "execute_result"
    }
   ],
   "source": [
    "# human2 클래스의 이름공간 확인\n",
    "dir(human2)"
   ]
  },
  {
   "cell_type": "code",
   "execution_count": 9,
   "metadata": {
    "colab": {
     "autoexec": {
      "startup": false,
      "wait_interval": 0
     }
    },
    "colab_type": "code",
    "id": "Aj319tACosIZ"
   },
   "outputs": [
    {
     "name": "stdout",
     "output_type": "stream",
     "text": [
      "My name is Neo.\n"
     ]
    }
   ],
   "source": [
    "# human2 클래스의 인스턴스(person2) 선언 \n",
    "person2 = human2()\n",
    "\n",
    "# person2인스턴스를 통한 mynameis메소드의 호출:\n",
    "#   인스턴스를 통한 메소드 호출시에는, 호출하는 인스턴스 객체의 정보가 \n",
    "#   기본인자로 암묵적으로 전달되기 때문에, 메소드 정의시 첫 인자로 self를 넣어주어야한다.\n",
    "\n",
    "# person2인스턴스를 통한 mynameis메소드의 호출 (호출객체 person2는 암묵적으로 전달)    \n",
    "person2.mynameis(\"Neo\") "
   ]
  },
  {
   "cell_type": "markdown",
   "metadata": {
    "colab_type": "text",
    "id": "W53kvdtMosIc"
   },
   "source": [
    "* **멤버 함수(메소드)의 기본적인 호출 방식**\n",
    "\n",
    "1) 바운드 호출: 인스턴스 객체를 호출 객체로 사용하기 때문에, 인스턴스 객체가 암묵적으로 (self로) 전달되며, 메소드의 호출인자에 명시해줄 필요가 없다.\n",
    "\n",
    "```python\n",
    "person2.mynameis(\"Neo\")\n",
    "\n",
    "```\n",
    "\n",
    "2) 언바운드 호출: 클래스 객체를 사용하여 메소드를 호출하며, 이때는 메소드의 호출인자에 호출하는 인스턴스를 명시해주어야 메소드에 정의된 (self)와 대응되어 작동한다.\n",
    "\n",
    "```python\n",
    "human2.mynameis(person2,\"Neo\")\n",
    "```"
   ]
  },
  {
   "cell_type": "code",
   "execution_count": 10,
   "metadata": {
    "colab": {
     "autoexec": {
      "startup": false,
      "wait_interval": 0
     }
    },
    "colab_type": "code",
    "id": "ZW_j93DEosId"
   },
   "outputs": [
    {
     "name": "stdout",
     "output_type": "stream",
     "text": [
      "My name is Neo.\n",
      "My name is Neo.\n"
     ]
    }
   ],
   "source": [
    "# 바운드 호출\n",
    "person2.mynameis(\"Neo\")\n",
    "# 언바운드 호출\n",
    "human2.mynameis(person2,\"Neo\")"
   ]
  },
  {
   "cell_type": "markdown",
   "metadata": {
    "colab_type": "text",
    "id": "myqCuTX-osIh"
   },
   "source": [
    "* ** 여러가지 호출방식의 메소드 정의와 이름공간에 따른 멤버 변수 사용 **\n",
    "\n",
    "1) 인스턴스 메소드 (Instance Method)\n",
    "> 기본. 메소드의 첫 인자로 'self'를 포함하여 함수를 정의하고, 이를 호출 인스턴스객체의 이름공간 지시자로 사용함. 인자 정의시 시작에 'self' 필요\n",
    "\n",
    "2) 클래스 메소드 (Class Method)\n",
    "> 메소드를 호출하는 인스턴스객체와 상관없이, 무조건 'self'를 클래스객체의 이름공간 지시자로 사용할때. 인자 정의시 시작에 'self' 혹은 'cls' 인자 필요\n",
    "\n",
    "> <클래스 메소드 만들기> : 내장함수 classmethod() 사용\n",
    ">\n",
    "```python\n",
    "<myclassmethod> = classmethod(<instance_method>)\n",
    "```\n",
    "\n",
    "3) 정적 메소드 (Static Method)\n",
    "> 내부적으로 클래스 공통의 변수만을 사용하는 메소드일때. 인자 정의시 'self'인자를 사용 안 함.\n",
    "\n",
    "> <정적 메소드 만들기> : 내장함수 staticmethod() 사용.\n",
    ">\n",
    "> 이를 통하여 임의의 인스턴스객체를 통한 호출시에, 즉 바운드 방식의 호출시에, 호출객체의 정보가 자동적으로 인자로 전달됨(에러 발생)을 방지할 수 있다.   \n",
    ">\n",
    "```python\n",
    "<mystaticmethod> = staticmethod(<method_with_no_self>)\n",
    "```"
   ]
  },
  {
   "cell_type": "code",
   "execution_count": 11,
   "metadata": {
    "colab": {
     "autoexec": {
      "startup": false,
      "wait_interval": 0
     }
    },
    "colab_type": "code",
    "id": "Wj84iG_oosIj"
   },
   "outputs": [],
   "source": [
    "# 전역에 선언된 변수(str_var)\n",
    "str_var = \"global string\"\n",
    "\n",
    "class method_test:\n",
    "    # 클래스 안에 선언된 변수(str_var)\n",
    "    str_var = \"class string\"\n",
    "    \n",
    "    #=====================================#\n",
    "    # 여러가지 호출방식의 메소드와 이름공간 활용예 \n",
    "    #=====================================#\n",
    "    \n",
    "    # 인스턴스 메소드 예1 #\n",
    "    # =============== #\n",
    "    # 세부기능: 인스턴스(self)를 (암묵적) 인자로 함께 받아서, \n",
    "    #         여분으로 입력된 x값을 인스턴스의 str_var값으로 입력 \n",
    "    # 특징: 인자정의 시에 인스턴스 인자(self)를 첫 번째로 선언해준다.\n",
    "    def Set(self, x):\n",
    "        self.str_var = x\n",
    "    # 호출방법: \n",
    "    #    ㄱ) 인스턴스(예를 들자면, a = method_test())를 통한 바운드 호출방식:\n",
    "    #        >>> a.Set(\"instance string\")\n",
    "    #  \n",
    "    #        : a를 통해 호출하기 때문에, Set(a,\"instance string\")처럼 굳이 a를\n",
    "    #          명시할 필요가 없으며, 암묵적으로 a인스턴스 객체가, 메소드의 인자에 첫번째로\n",
    "    #          정의된 self에 전달된다.\n",
    "    #\n",
    "    #    ㄴ) 클래스를 통한 언바운드 호출방식:\n",
    "    #        >>> method_test.Set(a,\"instance string\")\n",
    "    #\n",
    "    #        : 클래스를 메소드의 호출 객체로 사용하되, 구체적으로 self에 해당하는 \n",
    "    #          인스턴스의 정보(누가 호출하는 것인지) 호출함수의 인자에 명시해준다.\n",
    "\n",
    "    \n",
    "    # 인스턴스 메소드 예2  #\n",
    "    # ================ #\n",
    "    # 세부기능: 역시 인스턴스(self)를 (암묵적) 인자로 함께 받아서, \n",
    "    #         여러가지 이름공간에 정의된 str_var값을 확인\n",
    "    # 특징: 위와 같다. 다만 여분의 인자(x)를 받고있지 않음. \n",
    "    \n",
    "    def InstanceMethod(self):\n",
    "        \n",
    "        # 전달된 인스턴스 객체(self)의 이름공간에서 확인\n",
    "        print(\"self.str_var = \",self.str_var)\n",
    "      \n",
    "        # 전역 이름공간에서 확인\n",
    "        print(\"str_var = \",str_var)\n",
    "        \n",
    "        # 클래스 이름공간에서 확인\n",
    "        print(\"method_test.str_var = \",method_test.str_var)\n",
    "    \n",
    "    # 호출방법: (위의 예제와 같다)\n",
    "    #\n",
    "    #    ㄱ) 인스턴스(예를 들자면, a = method_test())를 통한 바운드 호출방식:\n",
    "    #        >>> a.InstanceMethod()\n",
    "    #        : a를 통해 호출하기 때문에, InstanceMethod(a)처럼 a를 명시하지 \n",
    "    #          않아도, 암묵적으로 a인스턴스 객체가, 메소드에 정의된 self에 전달된다.\n",
    "    #\n",
    "    #    ㄴ) 클래스를 통한 언바운드 호출방식:\n",
    "    #        >>> method_test.Set(a,\"instance string\")\n",
    "    #        : 클래스를 메소드의 호출 객체로 사용하되, 구체적으로 self에 해당하는 \n",
    "    #          인스턴스의 정보(누가 호출하는 것인지)를 명시해준다.  \n",
    "    #          인스턴스 객체 뿐만이 아니라 클래스 객체도 self에 해당하는 호출 인자로 \n",
    "    #          사용가능하다 (>>> method_test.Set(method_test,\"class string\"))\n",
    "    #\n",
    "    \n",
    "    \n",
    "    # 클래스 메소드 예 #\n",
    "    # ============= #\n",
    "    # 클래스 메소드: 어떤 인스턴스 메소드가 있을때,\n",
    "    #          오직 클래스 공통의 변수에만 관심있을 경우,기존의 인스턴스 메소드를 \n",
    "    #          <클래스메소드이름> = classmethod(<인스턴스 메소드 이름>)  \n",
    "    #          을 활용하여 클래스 메소드로 지정하면, 전달 객체가 무엇이든지 \n",
    "    #          클래스의 이름 공간에 정의된 클래스 변수를 활용하는 메소드가 된다. \n",
    "    # 특징: 암묵적 인자 전달 => ('self'나 'cls' 모두 상관없으나,관례적으로 'cls'.) \n",
    "    def Tobe_ClassMethod(cls):    # def get_func(self,x)\n",
    "        \n",
    "        # 전달된 객체 이름 공간에서 str_var 확인 \n",
    "        print(\"cls.str_var = \",cls.str_var)\n",
    "        \n",
    "        # 전역 공간에서 str_var 확인\n",
    "        print(\"str_var = \",str_var)\n",
    "        \n",
    "        # 클래스 이름공간에서 str_var 확인\n",
    "        print(\"method_test.str_var = \",method_test.str_var)\n",
    "        \n",
    "    # 다음의 구문으로 클래스 메소드('ClassMethod')로 등록 \n",
    "    ClassMethod = classmethod(Tobe_ClassMethod)   # g.ClassMethod(x) => cls = Gaussian\n",
    "\n",
    "    # 클래스 메소드 호출방법:\n",
    "    #\n",
    "    #   a) 기존 인스턴스 메소드처럼 호출하기\n",
    "    #    ㄱ) 클래스를 통한 언바운드 호출방식: \n",
    "    #       ex1) method_test.Tobe_ClassMethod(method_test)\n",
    "    #            ==> cls에 명시적으로 클래스 객체 전달\n",
    "    #       ex2) method_test.Tobe_ClassMethod(a)\n",
    "    #            ==> cls에 명시적으로 인스턴스 a 객체 전달\n",
    "    #    ㄴ) 인스턴스를 통한 바운드 호출방식 \n",
    "    #       ex1) a.Tobe_ClassMethod()\n",
    "    #            ==> cls에 암묵적으로 인스턴스 a 객체 전달\n",
    "    #\n",
    "    #   b) 클래스 메소드로서 호출하기\n",
    "    #       ex2) a.ClassMethod()\n",
    "    #            ==> 암묵인자 cls에 a가 아닌 a의 클래스 객체(method_test)가 전달됨 \n",
    "    \n",
    "                \n",
    "    # 정적메소드 예  #\n",
    "    # =========== #\n",
    "    # 정적메소드: 인스턴스 이름공간에의 접근이 필요없이, 오직 클래스 공통의 변수에만\n",
    "    #           관심있을 경우.\n",
    "    # 특징: 이름공간 인자 전달이 없음 => ('self'나'cls'같은 이름공간인자가 필요없다. )\n",
    "    def Tobe_StaticMethod():\n",
    "        \n",
    "        # 전역 변수 확인\n",
    "        print(\"str_var = \",str_var)\n",
    "        \n",
    "        # 클래스 변수 확인\n",
    "        print(\"method_test.str_var = \",method_test.str_var)\n",
    "    \n",
    "    # 다음의 구문으로 최종적으로 정적 메소드('StaticMethod')로 등록하면,\n",
    "    # 임의의 인스턴스를 통한 바운드 호출방식이 가능하다.\n",
    "    StaticMethod = staticmethod(Tobe_StaticMethod)\n",
    "    \n",
    "    # 정적메소드 호출방법: \n",
    "    #    ㄱ) 클래스를 통한 언바운드 호출방식 (ex: method_test.StaticMethod())\n",
    "    #    ㄴ) 인스턴스를 통한 바운드 호출방식 (ex: a.StaticMethod())은 에러가 난다 \n",
    "    #        왜냐하면 바운드 호출방식은 암묵적으로 해당 인스턴스(a)의 정보를 넘기고,\n",
    "    #        받아줄 self인자를 기대하기 때문이다.\n",
    "    #   \n",
    "        "
   ]
  },
  {
   "cell_type": "code",
   "execution_count": 12,
   "metadata": {
    "colab": {
     "autoexec": {
      "startup": false,
      "wait_interval": 0
     }
    },
    "colab_type": "code",
    "id": "PC__OyqjosIl"
   },
   "outputs": [],
   "source": [
    "# 인스턴스 a의 선언\n",
    "a = method_test()"
   ]
  },
  {
   "cell_type": "code",
   "execution_count": 13,
   "metadata": {
    "colab": {
     "autoexec": {
      "startup": false,
      "wait_interval": 0
     }
    },
    "colab_type": "code",
    "id": "_xHOmj3BosIn"
   },
   "outputs": [
    {
     "data": {
      "text/plain": [
       "'string of a'"
      ]
     },
     "execution_count": 13,
     "metadata": {},
     "output_type": "execute_result"
    }
   ],
   "source": [
    "# 인스턴스 a의 변수 str_var값을 Set 메소드를 통해 입력, 그리고 확인.\n",
    "# >>> 클래스 객체를 통한 언바운드 메소드 호출방식  \n",
    "method_test.Set(a,\"string of a\")\n",
    "a.str_var"
   ]
  },
  {
   "cell_type": "code",
   "execution_count": 14,
   "metadata": {
    "colab": {
     "autoexec": {
      "startup": false,
      "wait_interval": 0
     }
    },
    "colab_type": "code",
    "id": "W2JH3ZtyosIp"
   },
   "outputs": [
    {
     "data": {
      "text/plain": [
       "'string of a, 2'"
      ]
     },
     "execution_count": 14,
     "metadata": {},
     "output_type": "execute_result"
    }
   ],
   "source": [
    "# 인스턴스 a의 변수 str_var값을 Set 메소드를 통해 입력, 그리고 확인.\n",
    "# >>> 인스턴스 객체를 통한 바운드 메소드 호출방식 \n",
    "a.Set(\"string of a, 2\")\n",
    "a.str_var"
   ]
  },
  {
   "cell_type": "code",
   "execution_count": 15,
   "metadata": {},
   "outputs": [
    {
     "name": "stdout",
     "output_type": "stream",
     "text": [
      "self.str_var =  string of a, 2\n",
      "str_var =  global string\n",
      "method_test.str_var =  class string\n"
     ]
    }
   ],
   "source": [
    "# 인스턴스 객체를 통한 인스턴스 메소드 호출하기\n",
    "# => 변수의 이름공간(인스턴스객체/클래스객체/전역)에 따른 호출예 확인 \n",
    "a.InstanceMethod()"
   ]
  },
  {
   "cell_type": "code",
   "execution_count": 16,
   "metadata": {
    "colab": {
     "autoexec": {
      "startup": false,
      "wait_interval": 0
     }
    },
    "colab_type": "code",
    "id": "iidsa61losIt"
   },
   "outputs": [
    {
     "name": "stdout",
     "output_type": "stream",
     "text": [
      "cls.str_var =  class string\n",
      "str_var =  global string\n",
      "method_test.str_var =  class string\n",
      "cls.str_var =  string of a, 2\n",
      "str_var =  global string\n",
      "method_test.str_var =  class string\n",
      "cls.str_var =  string of a, 2\n",
      "str_var =  global string\n",
      "method_test.str_var =  class string\n"
     ]
    }
   ],
   "source": [
    "# 1. 호출객체가 정의된 메소드 호출시, 호출객체를 명시한 언바운드 호출방식은 언제나 작동한다.\n",
    "# 2. 이름공간이 명시되지않은 메소드안의 변수의 경우(str_var), 전역에서 참조함을 알 수 있다. \n",
    "method_test.Tobe_ClassMethod(method_test)\n",
    "method_test.Tobe_ClassMethod(a)\n",
    "# 바운드 호출방식으로 메소드 호출 : \n",
    "#    호출인자'cls'에 암묵적으로 인스턴스 객체 a가 똑같이 전달된다.\n",
    "a.Tobe_ClassMethod()"
   ]
  },
  {
   "cell_type": "code",
   "execution_count": 17,
   "metadata": {
    "colab": {
     "autoexec": {
      "startup": false,
      "wait_interval": 0
     }
    },
    "colab_type": "code",
    "id": "N02qomHUosIw"
   },
   "outputs": [
    {
     "name": "stdout",
     "output_type": "stream",
     "text": [
      "cls.str_var =  class string\n",
      "str_var =  global string\n",
      "method_test.str_var =  class string\n",
      "cls.str_var =  class string\n",
      "str_var =  global string\n",
      "method_test.str_var =  class string\n"
     ]
    }
   ],
   "source": [
    "# 클래스 메소드를 호출하면, 호출 객체가 무엇이든지, \n",
    "#     바운드 방식으로 오직 클래스 객체가 전달된다.\n",
    "method_test.ClassMethod()\n",
    "a.ClassMethod()"
   ]
  },
  {
   "cell_type": "code",
   "execution_count": 18,
   "metadata": {
    "colab": {
     "autoexec": {
      "startup": false,
      "wait_interval": 0
     }
    },
    "colab_type": "code",
    "id": "wzhTUsIxosIy"
   },
   "outputs": [
    {
     "name": "stdout",
     "output_type": "stream",
     "text": [
      "str_var =  global string\n",
      "method_test.str_var =  class string\n",
      "str_var =  global string\n",
      "method_test.str_var =  class string\n"
     ]
    },
    {
     "ename": "TypeError",
     "evalue": "Tobe_StaticMethod() takes 0 positional arguments but 1 was given",
     "output_type": "error",
     "traceback": [
      "\u001b[0;31m---------------------------------------------------------------------------\u001b[0m",
      "\u001b[0;31mTypeError\u001b[0m                                 Traceback (most recent call last)",
      "\u001b[0;32m<ipython-input-18-ae6e9b81c88f>\u001b[0m in \u001b[0;36m<module>\u001b[0;34m()\u001b[0m\n\u001b[1;32m      6\u001b[0m \u001b[0;31m# 에러가 발생한다. 왜냐하면 바운드 호출은 암묵적으로 인스턴스를 전달하기 때문인데,\u001b[0m\u001b[0;34m\u001b[0m\u001b[0;34m\u001b[0m\u001b[0m\n\u001b[1;32m      7\u001b[0m \u001b[0;31m# (Tobe_정적 메소드)는 그것을 받아주지 못하기 때문이다.\u001b[0m\u001b[0;34m\u001b[0m\u001b[0;34m\u001b[0m\u001b[0m\n\u001b[0;32m----> 8\u001b[0;31m \u001b[0ma\u001b[0m\u001b[0;34m.\u001b[0m\u001b[0mTobe_StaticMethod\u001b[0m\u001b[0;34m(\u001b[0m\u001b[0;34m)\u001b[0m\u001b[0;34m\u001b[0m\u001b[0m\n\u001b[0m",
      "\u001b[0;31mTypeError\u001b[0m: Tobe_StaticMethod() takes 0 positional arguments but 1 was given"
     ]
    }
   ],
   "source": [
    "# 호출 인자가 없는 (정적 메소드의 호출은) 클래스를 통해서는 언제든지 가능하다\n",
    "method_test.Tobe_StaticMethod()\n",
    "method_test.StaticMethod()\n",
    "\n",
    "# 정적 메소드 등록전의 (Tobe_정적메소드)는, 인스턴스를 통한 바운드 호출방식을 통하면 \n",
    "# 에러가 발생한다. 왜냐하면 바운드 호출은 암묵적으로 인스턴스를 전달하기 때문인데,\n",
    "# (Tobe_정적 메소드)는 그것을 받아주지 못하기 때문이다.\n",
    "a.Tobe_StaticMethod()"
   ]
  },
  {
   "cell_type": "code",
   "execution_count": null,
   "metadata": {
    "colab": {
     "autoexec": {
      "startup": false,
      "wait_interval": 0
     }
    },
    "colab_type": "code",
    "id": "4zVhtp4QosI5"
   },
   "outputs": [],
   "source": [
    "# 결국 인스턴스를 통한 (Tobe_정적메소드)의 호출은, 정적메소드로 등록된 함수를 통해서 가능하다. \n",
    "a.StaticMethod()"
   ]
  }
 ],
 "metadata": {
  "colab": {
   "collapsed_sections": [],
   "default_view": {},
   "name": "Class_1_1_definition_n_call_with_namespaces.ipynb",
   "provenance": [],
   "version": "0.3.2",
   "views": {}
  },
  "kernelspec": {
   "display_name": "Python 3",
   "language": "python",
   "name": "python3"
  },
  "language_info": {
   "codemirror_mode": {
    "name": "ipython",
    "version": 3
   },
   "file_extension": ".py",
   "mimetype": "text/x-python",
   "name": "python",
   "nbconvert_exporter": "python",
   "pygments_lexer": "ipython3",
   "version": "3.5.2"
  }
 },
 "nbformat": 4,
 "nbformat_minor": 2
}
