{
 "cells": [
  {
   "cell_type": "code",
   "execution_count": 12,
   "metadata": {
    "scrolled": true
   },
   "outputs": [
    {
     "name": "stdout",
     "output_type": "stream",
     "text": [
      "[[-0.79452025 -1.00307499  0.62396603 -0.25162424 -0.8154978  -0.62426362]\n",
      " [ 0.72019726 -0.05966956 -0.06130791 -1.13500871  1.66659059 -0.33626347]\n",
      " [ 0.88853272  0.85406825 -0.64088932  1.378114    1.91078182  1.67156857]\n",
      " [-1.56608169 -0.85729015 -0.10686482 -0.71898471  0.47054376 -0.24662623]\n",
      " [ 1.30444638 -0.19840947  1.55746377  0.43630195  0.13795713  0.60585692]]\n",
      "\n",
      "[[-0.79452025 -1.00307499  0.62396603 -0.25162424 -0.8154978  -0.62426362\n",
      "   0.72019726 -0.05966956 -0.06130791 -1.13500871]\n",
      " [ 1.66659059 -0.33626347  0.88853272  0.85406825 -0.64088932  1.378114\n",
      "   1.91078182  1.67156857 -1.56608169 -0.85729015]\n",
      " [-0.10686482 -0.71898471  0.47054376 -0.24662623  1.30444638 -0.19840947\n",
      "   1.55746377  0.43630195  0.13795713  0.60585692]]\n",
      "\n",
      "[[1 2]\n",
      " [1 1]]\n",
      "[1 2]\n",
      "[5 3]\n",
      "[1. 1.]\n"
     ]
    }
   ],
   "source": [
    "import numpy as np\n",
    "\n",
    "a = np.random.randn(5,6)\n",
    "print(a)\n",
    "print()\n",
    "b = a.reshape(3,10)\n",
    "print(b)\n",
    "print()\n",
    "c = np.array([[1,2],[1,1]])\n",
    "print(c)\n",
    "e = np.array([1,2])\n",
    "print(e)\n",
    "f = np.dot(c,e.T)\n",
    "print(f)\n",
    "\n",
    "fa = np.append(fd,fd)\n",
    "fd = np.array([[1.]])\n",
    "print(fa)"
   ]
  },
  {
   "cell_type": "code",
   "execution_count": 20,
   "metadata": {},
   "outputs": [
    {
     "name": "stdout",
     "output_type": "stream",
     "text": [
      "[[1.00000000e-04 1.00000000e-04 2.00000000e-04 1.00000000e-08]\n",
      " [1.00000000e-04 1.02329299e-04 2.02329299e-04 1.02329299e-08]\n",
      " [1.00000000e-04 1.04712855e-04 2.04712855e-04 1.04712855e-08]\n",
      " ...\n",
      " [9.77237221e+03 9.77237221e+03 1.95447444e+04 9.54992586e+07]\n",
      " [9.77237221e+03 1.00000000e+04 1.97723722e+04 9.77237221e+07]\n",
      " [1.00000000e+04 1.00000000e+04 2.00000000e+04 1.00000000e+08]]\n"
     ]
    }
   ],
   "source": [
    "import numpy as np\n",
    "\n",
    "\n",
    "\n",
    "data1 = np.array([10**(-4+i/100) for i in range(801)]) # 저장하는 데이터 10^-4~10^4\n",
    "temp = []\n",
    "for i in range(801):\n",
    "    for j in range(i,801):\n",
    "        temp.append([data1[i],data1[j],data1[i]+data1[j],data1[i]*data1[j]])\n",
    "\n",
    "data2 = np.array(temp)\n",
    "print(data2)\n",
    "\n",
    "#np.save('my_data.npy', data2) # numpy.ndarray 저장. @파일명, @값\n",
    "\n",
    "\n",
    "\n",
    "#data3 = np.load('my_data.npy') # 데이터 로드. @파일명"
   ]
  },
  {
   "cell_type": "code",
   "execution_count": null,
   "metadata": {},
   "outputs": [],
   "source": []
  }
 ],
 "metadata": {
  "kernelspec": {
   "display_name": "Python 3",
   "language": "python",
   "name": "python3"
  },
  "language_info": {
   "codemirror_mode": {
    "name": "ipython",
    "version": 3
   },
   "file_extension": ".py",
   "mimetype": "text/x-python",
   "name": "python",
   "nbconvert_exporter": "python",
   "pygments_lexer": "ipython3",
   "version": "3.5.2"
  }
 },
 "nbformat": 4,
 "nbformat_minor": 2
}
