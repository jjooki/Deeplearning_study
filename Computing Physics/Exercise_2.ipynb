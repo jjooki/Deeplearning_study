{
 "cells": [
  {
   "cell_type": "markdown",
   "metadata": {},
   "source": [
    "# Exercise 2"
   ]
  },
  {
   "cell_type": "markdown",
   "metadata": {},
   "source": [
    "$\\bullet$ for .. in .."
   ]
  },
  {
   "cell_type": "markdown",
   "metadata": {},
   "source": [
    "리스트 객체의 순환"
   ]
  },
  {
   "cell_type": "code",
   "execution_count": 1,
   "metadata": {},
   "outputs": [
    {
     "name": "stdout",
     "output_type": "stream",
     "text": [
      "True <class 'bool'>\n",
      "dog <class 'str'>\n",
      "10 <class 'int'>\n",
      "True <class 'bool'>\n",
      "dog <class 'str'>\n",
      "10 <class 'int'>\n"
     ]
    }
   ],
   "source": [
    "l = [True, \"dog\", 10]\n",
    "for i in l:\n",
    "    print(i,type(i))\n",
    "for i in iter(l):\n",
    "    print(i,type(i))"
   ]
  },
  {
   "cell_type": "markdown",
   "metadata": {},
   "source": [
    "사전 객체의 순환"
   ]
  },
  {
   "cell_type": "code",
   "execution_count": 2,
   "metadata": {},
   "outputs": [
    {
     "name": "stdout",
     "output_type": "stream",
     "text": [
      "orange\n",
      "apple\n",
      "melon\n",
      "orange\n",
      "apple\n",
      "melon\n"
     ]
    }
   ],
   "source": [
    "d = {\"orange\":10, \"apple\":20, \"melon\":30}\n",
    "for k in d:\n",
    "    print(k)\n",
    "for k in iter(d):\n",
    "    print(k)"
   ]
  },
  {
   "cell_type": "markdown",
   "metadata": {},
   "source": [
    "사전 객체의 순환 2"
   ]
  },
  {
   "cell_type": "code",
   "execution_count": 3,
   "metadata": {},
   "outputs": [
    {
     "name": "stdout",
     "output_type": "stream",
     "text": [
      "orange 10\n",
      "apple 20\n",
      "melon 30\n",
      "orange\n",
      "apple\n",
      "melon\n",
      "30\n",
      "30\n",
      "30\n"
     ]
    }
   ],
   "source": [
    "d = {\"orange\":10, \"apple\":20, \"melon\":30}\n",
    "for k,v in d.items():\n",
    "    print(k,v)\n",
    "for k in d.keys():\n",
    "    print(k)\n",
    "for k in d.values():\n",
    "    print(v)"
   ]
  },
  {
   "cell_type": "markdown",
   "metadata": {},
   "source": [
    "사전 객체의 순환 3"
   ]
  },
  {
   "cell_type": "code",
   "execution_count": 4,
   "metadata": {},
   "outputs": [
    {
     "name": "stdout",
     "output_type": "stream",
     "text": [
      "('orange', 10) <class 'tuple'>\n",
      "('apple', 20) <class 'tuple'>\n",
      "('melon', 30) <class 'tuple'>\n"
     ]
    }
   ],
   "source": [
    "d = {\"orange\":10, \"apple\":20, \"melon\":30}\n",
    "for i in d.items():\n",
    "    print(i, type(i))"
   ]
  },
  {
   "cell_type": "markdown",
   "metadata": {},
   "source": [
    "문자열 객체의 순환"
   ]
  },
  {
   "cell_type": "code",
   "execution_count": 5,
   "metadata": {},
   "outputs": [
    {
     "name": "stdout",
     "output_type": "stream",
     "text": [
      "y <class 'str'>\n",
      "= <class 'str'>\n",
      "x <class 'str'>\n",
      "y <class 'str'>\n",
      "= <class 'str'>\n",
      "x <class 'str'>\n"
     ]
    }
   ],
   "source": [
    "s = \"y=x\"\n",
    "for i in s:\n",
    "    print(i,type(i))\n",
    "for i in iter(s):\n",
    "    print(i,type(i))"
   ]
  },
  {
   "cell_type": "markdown",
   "metadata": {},
   "source": [
    "$\\bullet$ Break"
   ]
  },
  {
   "cell_type": "code",
   "execution_count": 6,
   "metadata": {},
   "outputs": [
    {
     "name": "stdout",
     "output_type": "stream",
     "text": [
      "5\n"
     ]
    }
   ],
   "source": [
    "for i in range(100000000):\n",
    "    if i == 5:\n",
    "        print(i)\n",
    "        break"
   ]
  },
  {
   "cell_type": "markdown",
   "metadata": {},
   "source": [
    "$\\bullet$ 시간복잡도"
   ]
  },
  {
   "cell_type": "markdown",
   "metadata": {},
   "source": [
    "$\\bullet$ While"
   ]
  },
  {
   "cell_type": "code",
   "execution_count": 7,
   "metadata": {},
   "outputs": [
    {
     "name": "stdout",
     "output_type": "stream",
     "text": [
      "0\n",
      "1\n",
      "2\n",
      "3\n",
      "4\n",
      "5\n",
      "6\n",
      "7\n",
      "8\n",
      "9\n"
     ]
    }
   ],
   "source": [
    "a=0\n",
    "while a<10:\n",
    "    print(a)\n",
    "    a = a+1"
   ]
  },
  {
   "cell_type": "code",
   "execution_count": 8,
   "metadata": {},
   "outputs": [
    {
     "name": "stdout",
     "output_type": "stream",
     "text": [
      "0\n",
      "1\n",
      "2\n",
      "3\n",
      "4\n",
      "5\n",
      "6\n",
      "7\n",
      "8\n",
      "9\n"
     ]
    }
   ],
   "source": [
    "a=0\n",
    "for a in range(99999999999999):\n",
    "    if a>=10:\n",
    "        break\n",
    "    print(a)"
   ]
  },
  {
   "cell_type": "markdown",
   "metadata": {},
   "source": [
    "두개가 같은 역할을 하는것을 확인할 수 있습니다."
   ]
  },
  {
   "cell_type": "markdown",
   "metadata": {},
   "source": [
    "$\\bullet$ While 문의 조건 판단 시기-iterate 할때 조건 판단 순서에 주의!"
   ]
  },
  {
   "cell_type": "code",
   "execution_count": 9,
   "metadata": {
    "scrolled": true
   },
   "outputs": [
    {
     "name": "stdout",
     "output_type": "stream",
     "text": [
      "0\n",
      "1\n",
      "2\n",
      "3\n",
      "4\n",
      "5\n",
      "6\n",
      "7\n",
      "8\n",
      "9\n",
      "10\n"
     ]
    }
   ],
   "source": [
    "a=0\n",
    "for a in range(99999999999999):\n",
    "    print(a)\n",
    "    if a>=10:\n",
    "        break"
   ]
  },
  {
   "cell_type": "markdown",
   "metadata": {},
   "source": [
    "$\\bullet$ Break & Continue"
   ]
  },
  {
   "cell_type": "code",
   "execution_count": 10,
   "metadata": {},
   "outputs": [
    {
     "name": "stdout",
     "output_type": "stream",
     "text": [
      "list item < 5 : 1\n",
      "list item < 5 : 2\n",
      "list item < 5 : 3\n",
      "list item < 5 : 4\n",
      "list item < 5 : 5\n",
      "list item (even): 2 3 4\n",
      "list item (even): 4 5 6\n",
      "list item (even): 6 7 8\n",
      "list item (even): 8 9 10\n",
      "list item (even): 10 11 12\n"
     ]
    }
   ],
   "source": [
    "LIST = [1,2,3,4,5,6,7,8,9,10]\n",
    "\n",
    "for i in LIST:\n",
    "    if i>5:\n",
    "        break\n",
    "    print(\"list item < 5 : %i\"%(i))\n",
    "\n",
    "for i in LIST:\n",
    "    if i %2 ==1:\n",
    "        continue\n",
    "    print(\"list item (even): {0} {1} {2}\".format(i,i+1,i+2))"
   ]
  },
  {
   "cell_type": "markdown",
   "metadata": {},
   "source": [
    "elif 를 사용해도 괜찮음. continue를 사용했을때 이하의 코드는 안돌기때문에 시간을 절약할 수 있다."
   ]
  },
  {
   "cell_type": "markdown",
   "metadata": {},
   "source": [
    "$\\bullet$ Range($\\pm$INT,$\\pm$INT,$\\pm$INT)"
   ]
  },
  {
   "cell_type": "code",
   "execution_count": 11,
   "metadata": {
    "scrolled": true
   },
   "outputs": [
    {
     "data": {
      "text/plain": [
       "[-3, 0, 3, 6, 9, 12, 15, 18, 21, 24, 27, 30, 33, 36, 39]"
      ]
     },
     "execution_count": 11,
     "metadata": {},
     "output_type": "execute_result"
    }
   ],
   "source": [
    "l1 = list(range(-3,40,3))\n",
    "l1"
   ]
  },
  {
   "cell_type": "code",
   "execution_count": 12,
   "metadata": {},
   "outputs": [
    {
     "name": "stdout",
     "output_type": "stream",
     "text": [
      " s[0] = A\n",
      " s[1] = w\n",
      " s[2] = e\n",
      " s[3] = s\n",
      " s[4] = o\n",
      " s[5] = m\n",
      " s[6] = e\n",
      " s[7] =  \n",
      " s[8] = P\n",
      " s[9] = y\n",
      " s[10] = t\n",
      " s[11] = h\n",
      " s[12] = o\n",
      " s[13] = n\n"
     ]
    }
   ],
   "source": [
    "s = \"Awesome Python\"\n",
    "for i in range(len(s)):\n",
    "    print(\" s[%i] = %s\"%(i,s[i]))"
   ]
  },
  {
   "cell_type": "markdown",
   "metadata": {},
   "source": [
    "$\\bullet$ Enumerate()"
   ]
  },
  {
   "cell_type": "code",
   "execution_count": 13,
   "metadata": {},
   "outputs": [
    {
     "name": "stdout",
     "output_type": "stream",
     "text": [
      " s[0] = A\n",
      " s[1] = w\n",
      " s[2] = e\n",
      " s[3] = s\n",
      " s[4] = o\n",
      " s[5] = m\n",
      " s[6] = e\n",
      " s[7] =  \n",
      " s[8] = P\n",
      " s[9] = y\n",
      " s[10] = t\n",
      " s[11] = h\n",
      " s[12] = o\n",
      " s[13] = n\n"
     ]
    }
   ],
   "source": [
    "for i, v in enumerate(s):\n",
    "    print(\" s[%i] = %s\"%(i,v))"
   ]
  },
  {
   "cell_type": "code",
   "execution_count": 14,
   "metadata": {},
   "outputs": [
    {
     "data": {
      "text/plain": [
       "(0, 'A')"
      ]
     },
     "execution_count": 14,
     "metadata": {},
     "output_type": "execute_result"
    }
   ],
   "source": [
    "es = enumerate(s)\n",
    "es.__next__()"
   ]
  },
  {
   "cell_type": "code",
   "execution_count": 15,
   "metadata": {},
   "outputs": [
    {
     "data": {
      "text/plain": [
       "(1, 'w')"
      ]
     },
     "execution_count": 15,
     "metadata": {},
     "output_type": "execute_result"
    }
   ],
   "source": [
    "es.__next__()"
   ]
  },
  {
   "cell_type": "markdown",
   "metadata": {},
   "source": [
    "첫번째 과제 마지막 문제"
   ]
  },
  {
   "cell_type": "code",
   "execution_count": 16,
   "metadata": {},
   "outputs": [
    {
     "name": "stdout",
     "output_type": "stream",
     "text": [
      "LIST index: 0, value: Apple\n",
      "LIST index: 1, value: Banana\n",
      "LIST index: 2, value: Orange\n"
     ]
    }
   ],
   "source": [
    "LIST=['Apple','Banana','Orange']\n",
    "\n",
    "for i in range(len(LIST)):\n",
    "    print(\"LIST index: {0}, value: {1}\".format(i,LIST[i]))"
   ]
  },
  {
   "cell_type": "code",
   "execution_count": 17,
   "metadata": {},
   "outputs": [
    {
     "name": "stdout",
     "output_type": "stream",
     "text": [
      "(0, 'Apple')\n",
      "(1, 'Banana')\n",
      "(2, 'Orange')\n",
      "-3 Apple\n",
      "-2 Banana\n",
      "-1 Orange\n",
      "103 Apple\n",
      "104 Banana\n",
      "105 Orange\n"
     ]
    }
   ],
   "source": [
    "for i in enumerate(LIST):\n",
    "    print(i)\n",
    "\n",
    "for index, value in enumerate(LIST,-3):\n",
    "    print(index,value)\n",
    "    \n",
    "for index, value in enumerate(LIST,103):\n",
    "    print(index,value)"
   ]
  },
  {
   "cell_type": "markdown",
   "metadata": {},
   "source": [
    "$\\bullet$ List comprehensions"
   ]
  },
  {
   "cell_type": "code",
   "execution_count": 18,
   "metadata": {},
   "outputs": [
    {
     "data": {
      "text/plain": [
       "[25, 4, 1, 16, 49, 100, 169, 256, 361]"
      ]
     },
     "execution_count": 18,
     "metadata": {},
     "output_type": "execute_result"
    }
   ],
   "source": [
    "# List Comprehension:\n",
    "List = list(range(-5,20,3))\n",
    "[i**2 for i in List]"
   ]
  },
  {
   "cell_type": "code",
   "execution_count": 19,
   "metadata": {},
   "outputs": [
    {
     "data": {
      "text/plain": [
       "[4, 5, 3]"
      ]
     },
     "execution_count": 19,
     "metadata": {},
     "output_type": "execute_result"
    }
   ],
   "source": [
    "TUPLE = (\"lion\",\"tiger\",\"cat\")\n",
    "[len(i) for i in TUPLE]"
   ]
  },
  {
   "cell_type": "code",
   "execution_count": 20,
   "metadata": {},
   "outputs": [
    {
     "data": {
      "text/plain": [
       "['LION', 'TIGER', 'CAT']"
      ]
     },
     "execution_count": 20,
     "metadata": {},
     "output_type": "execute_result"
    }
   ],
   "source": [
    "DICT = {1:\"lion\",2:\"tiger\",3:\"cat\"}\n",
    "[v.upper() for v in DICT.values()]"
   ]
  },
  {
   "cell_type": "markdown",
   "metadata": {},
   "source": [
    "$\\ast$ .upper() $\\leftarrow$ change to uppercase"
   ]
  },
  {
   "cell_type": "code",
   "execution_count": 21,
   "metadata": {},
   "outputs": [
    {
     "name": "stdout",
     "output_type": "stream",
     "text": [
      "[1, -2, 3, -4, 2, -4, 6, -8]\n"
     ]
    }
   ],
   "source": [
    "l1 = [1,2]\n",
    "l2 = [1,-2,3,-4]\n",
    "l3 = [x*y for x in l1 for y in l2]\n",
    "print(l3)"
   ]
  },
  {
   "cell_type": "markdown",
   "metadata": {},
   "source": [
    "$\\bullet$ Filter() Bool 함수 정의 후 사용, list가 아님"
   ]
  },
  {
   "cell_type": "code",
   "execution_count": 22,
   "metadata": {},
   "outputs": [
    {
     "name": "stdout",
     "output_type": "stream",
     "text": [
      "<filter object at 0x7f5f14f90e10>\n"
     ]
    },
    {
     "data": {
      "text/plain": [
       "[30, 40]"
      ]
     },
     "execution_count": 22,
     "metadata": {},
     "output_type": "execute_result"
    }
   ],
   "source": [
    "l1 = [10,2,30,40]\n",
    "\n",
    "def ftn(i):\n",
    "    return i > 20\n",
    "\n",
    "Iter = filter(ftn,l1)\n",
    "print(Iter)\n",
    "#for i in Iter:\n",
    "#    print(\"Iter's item : {0}\".format(i))\n",
    "l2 = list(Iter)\n",
    "l2"
   ]
  },
  {
   "cell_type": "markdown",
   "metadata": {},
   "source": [
    "$\\bullet$ zip()"
   ]
  },
  {
   "cell_type": "code",
   "execution_count": 23,
   "metadata": {},
   "outputs": [
    {
     "name": "stdout",
     "output_type": "stream",
     "text": [
      "<zip object at 0x7f5f14fb0d08>\n",
      "('a', 1)\n",
      "('b', 2)\n",
      "('c', 3)\n"
     ]
    },
    {
     "data": {
      "text/plain": [
       "[('a', 1), ('b', 2), ('c', 3)]"
      ]
     },
     "execution_count": 23,
     "metadata": {},
     "output_type": "execute_result"
    }
   ],
   "source": [
    "k = ['a','b','c']\n",
    "v = [1,2,3]\n",
    "iterZ = zip(k,v)\n",
    "print(iterZ)\n",
    "for i in iterZ:\n",
    "    print(i)\n",
    "l3 = list(zip(k,v))\n",
    "l3"
   ]
  },
  {
   "cell_type": "code",
   "execution_count": 24,
   "metadata": {
    "scrolled": true
   },
   "outputs": [
    {
     "name": "stdout",
     "output_type": "stream",
     "text": [
      "[('a', 1), ('b', 2), ('c', 3)] \n",
      " (('a', 1), ('b', 2), ('c', 3)) \n",
      " {'a': 1, 'b': 2, 'c': 3}\n"
     ]
    }
   ],
   "source": [
    "l = list(zip(k,v))\n",
    "t = tuple(zip(k,v))\n",
    "d = dict(zip(k,v))\n",
    "print(l,'\\n',t,'\\n',d)"
   ]
  },
  {
   "cell_type": "code",
   "execution_count": 25,
   "metadata": {},
   "outputs": [],
   "source": [
    "k2, v2 = zip(*l)"
   ]
  },
  {
   "cell_type": "code",
   "execution_count": 26,
   "metadata": {},
   "outputs": [
    {
     "data": {
      "text/plain": [
       "('a', 'b', 'c')"
      ]
     },
     "execution_count": 26,
     "metadata": {},
     "output_type": "execute_result"
    }
   ],
   "source": [
    "k2"
   ]
  },
  {
   "cell_type": "code",
   "execution_count": 27,
   "metadata": {},
   "outputs": [
    {
     "data": {
      "text/plain": [
       "(1, 2, 3)"
      ]
     },
     "execution_count": 27,
     "metadata": {},
     "output_type": "execute_result"
    }
   ],
   "source": [
    "v2"
   ]
  },
  {
   "cell_type": "markdown",
   "metadata": {},
   "source": [
    "$\\bullet$ map(함수이름,순환가능객체)"
   ]
  },
  {
   "cell_type": "code",
   "execution_count": 28,
   "metadata": {},
   "outputs": [],
   "source": [
    "l1 = [1,2,3,4,5]\n",
    "def add100(i):\n",
    "    return i+100"
   ]
  },
  {
   "cell_type": "code",
   "execution_count": 29,
   "metadata": {},
   "outputs": [
    {
     "name": "stdout",
     "output_type": "stream",
     "text": [
      "IterM's item : 101\n",
      "IterM's item : 102\n",
      "IterM's item : 103\n",
      "IterM's item : 104\n",
      "IterM's item : 105\n"
     ]
    }
   ],
   "source": [
    "IterM = map(add100,l1)\n",
    "for i in l1:\n",
    "    print(\"IterM's item : {0}\".format(add100(i)))"
   ]
  },
  {
   "cell_type": "code",
   "execution_count": 30,
   "metadata": {},
   "outputs": [
    {
     "name": "stdout",
     "output_type": "stream",
     "text": [
      "IterM's item : 101\n",
      "IterM's item : 102\n",
      "IterM's item : 103\n",
      "IterM's item : 104\n",
      "IterM's item : 105\n"
     ]
    }
   ],
   "source": [
    "for i in l1:\n",
    "    print(\"IterM's item : {0}\".format(add100(i)))"
   ]
  },
  {
   "cell_type": "markdown",
   "metadata": {},
   "source": [
    "$\\bullet$ Python 에서의 함수 필요할때 선언해서 사용가능(c-맨앞에, cpp-앞이나 뒤에)<br>$\\ast$ 하지만 사용하고자 하는 라인보다 앞에 선언되어 있어야 한다."
   ]
  },
  {
   "cell_type": "markdown",
   "metadata": {},
   "source": [
    "$\\bullet$ 변수의 수명은 local variable은 함수 안에서만, global variable 은 코드 내에서 유효<br>\n",
    "$\\bullet$ 스코핑 룰 Local $\\Rightarrow$ Global $\\Rightarrow$ Built-in<br>\n",
    "$\\bullet$ 함수 내에서 전역변수 사용하고 싶을때는 global 키워드 사용"
   ]
  },
  {
   "cell_type": "code",
   "execution_count": 31,
   "metadata": {},
   "outputs": [],
   "source": [
    "ㅎ=1\n",
    "def testScope(ㄱ):\n",
    "    global ㅎ\n",
    "    ㅎ = 2\n",
    "    return ㅎ+ㄱ"
   ]
  },
  {
   "cell_type": "code",
   "execution_count": 32,
   "metadata": {
    "scrolled": true
   },
   "outputs": [
    {
     "data": {
      "text/plain": [
       "3"
      ]
     },
     "execution_count": 32,
     "metadata": {},
     "output_type": "execute_result"
    }
   ],
   "source": [
    "testScope(1)"
   ]
  },
  {
   "cell_type": "markdown",
   "metadata": {},
   "source": [
    "$\\bullet$ 인자전달"
   ]
  },
  {
   "cell_type": "code",
   "execution_count": 33,
   "metadata": {},
   "outputs": [],
   "source": [
    "def FullName(given_name,family_name):\n",
    "    return family_name + ' ' + given_name"
   ]
  },
  {
   "cell_type": "code",
   "execution_count": 34,
   "metadata": {},
   "outputs": [
    {
     "data": {
      "text/plain": [
       "'Chanju Park'"
      ]
     },
     "execution_count": 34,
     "metadata": {},
     "output_type": "execute_result"
    }
   ],
   "source": [
    "FullName(family_name=\"Chanju\",given_name=\"Park\")"
   ]
  },
  {
   "cell_type": "code",
   "execution_count": 35,
   "metadata": {},
   "outputs": [],
   "source": [
    "def myarg(*arg):\n",
    "    print(type(arg))\n",
    "    print(arg)"
   ]
  },
  {
   "cell_type": "code",
   "execution_count": 36,
   "metadata": {},
   "outputs": [
    {
     "name": "stdout",
     "output_type": "stream",
     "text": [
      "<class 'tuple'>\n",
      "(1, 2, 'cat', 4, True)\n"
     ]
    }
   ],
   "source": [
    "myarg(1,2,'cat',4,True)"
   ]
  },
  {
   "cell_type": "code",
   "execution_count": 37,
   "metadata": {},
   "outputs": [],
   "source": [
    "def myarg2(**arg):\n",
    "    print(type(arg))\n",
    "    print(arg)"
   ]
  },
  {
   "cell_type": "code",
   "execution_count": 38,
   "metadata": {},
   "outputs": [
    {
     "name": "stdout",
     "output_type": "stream",
     "text": [
      "<class 'dict'>\n",
      "{'a': '1', 'b': '2', 'c': '3'}\n"
     ]
    }
   ],
   "source": [
    "myarg2(a='1',b='2',c='3')"
   ]
  },
  {
   "cell_type": "markdown",
   "metadata": {},
   "source": [
    "# 실습"
   ]
  },
  {
   "cell_type": "markdown",
   "metadata": {},
   "source": [
    "1.길이가 5를 초과하는 문자열만 포함하는 리스트 만들어서 출력해보기"
   ]
  },
  {
   "cell_type": "code",
   "execution_count": 39,
   "metadata": {},
   "outputs": [],
   "source": [
    "l1 = [\"apple\",\"banana\",\"kiwi\",\"orange\"]"
   ]
  },
  {
   "cell_type": "markdown",
   "metadata": {},
   "source": [
    "출력 : ['banana', 'orange']"
   ]
  },
  {
   "cell_type": "code",
   "execution_count": 47,
   "metadata": {},
   "outputs": [
    {
     "data": {
      "text/plain": [
       "['banana', 'orange']"
      ]
     },
     "execution_count": 47,
     "metadata": {},
     "output_type": "execute_result"
    }
   ],
   "source": [
    "l2 = [i for i in l1 if len(i)>5]\n",
    "l2"
   ]
  },
  {
   "cell_type": "markdown",
   "metadata": {},
   "source": [
    "2.리스트 3개를 사전으로 엮기"
   ]
  },
  {
   "cell_type": "code",
   "execution_count": 43,
   "metadata": {},
   "outputs": [],
   "source": [
    "k = ['a','b','c'] #keyword\n",
    "v1 = [1,2,3] #value 1\n",
    "v2 = [11,12,13] #value 2"
   ]
  },
  {
   "cell_type": "markdown",
   "metadata": {},
   "source": [
    "출력 : {'a': (1,11), 'b': (2,12), 'c': (3,13)}"
   ]
  },
  {
   "cell_type": "code",
   "execution_count": 49,
   "metadata": {},
   "outputs": [
    {
     "data": {
      "text/plain": [
       "{'a': (1, 11), 'b': (2, 12), 'c': (3, 13)}"
      ]
     },
     "execution_count": 49,
     "metadata": {},
     "output_type": "execute_result"
    }
   ],
   "source": [
    "d = dict(zip(k,list(zip(v1,v2))))\n",
    "d"
   ]
  },
  {
   "cell_type": "markdown",
   "metadata": {},
   "source": [
    "3.엮은 사전의 keyword 수를 반환하는 함수를 만들기"
   ]
  },
  {
   "cell_type": "code",
   "execution_count": 129,
   "metadata": {},
   "outputs": [],
   "source": [
    "def numkey(arg):\n",
    "    return len(arg)"
   ]
  },
  {
   "cell_type": "code",
   "execution_count": 122,
   "metadata": {},
   "outputs": [
    {
     "data": {
      "text/plain": [
       "3"
      ]
     },
     "execution_count": 122,
     "metadata": {},
     "output_type": "execute_result"
    }
   ],
   "source": [
    "numkey(d)"
   ]
  },
  {
   "cell_type": "code",
   "execution_count": 123,
   "metadata": {},
   "outputs": [],
   "source": [
    "def myarg3(**arg):\n",
    "    print(type(arg))\n",
    "    print(arg)"
   ]
  },
  {
   "cell_type": "code",
   "execution_count": 126,
   "metadata": {},
   "outputs": [
    {
     "name": "stdout",
     "output_type": "stream",
     "text": [
      "<class 'dict'>\n",
      "{'a': {'a': (1, 11), 'b': (2, 12), 'c': (3, 13)}, 'b': ['apple', 'banana', 'kiwi', 'orange']}\n"
     ]
    }
   ],
   "source": [
    "myarg3(a=d,b=l1)"
   ]
  },
  {
   "cell_type": "code",
   "execution_count": null,
   "metadata": {},
   "outputs": [],
   "source": []
  }
 ],
 "metadata": {
  "kernelspec": {
   "display_name": "Python 3",
   "language": "python",
   "name": "python3"
  },
  "language_info": {
   "codemirror_mode": {
    "name": "ipython",
    "version": 3
   },
   "file_extension": ".py",
   "mimetype": "text/x-python",
   "name": "python",
   "nbconvert_exporter": "python",
   "pygments_lexer": "ipython3",
   "version": "3.6.6"
  }
 },
 "nbformat": 4,
 "nbformat_minor": 2
}
