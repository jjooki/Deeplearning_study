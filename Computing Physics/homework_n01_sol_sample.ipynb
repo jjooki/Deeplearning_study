{
 "cells": [
  {
   "cell_type": "markdown",
   "metadata": {
    "colab_type": "text",
    "id": "gfrKNROhioFg"
   },
   "source": [
    "## SNU PPSML 1차 정규과제 (견본 답안)\n",
    "\n",
    "- Python data containers, conditional statements & loops \n",
    "- [9/14(금) 소개 ~  9/21(금) 24:00 마감] [총 100점]"
   ]
  },
  {
   "cell_type": "code",
   "execution_count": 0,
   "metadata": {
    "colab": {},
    "colab_type": "code",
    "id": "m7Ghj7f0ioFm"
   },
   "outputs": [],
   "source": [
    "# Printing all outputs in a cell (not only the last output)\n",
    "from IPython.core.interactiveshell import InteractiveShell\n",
    "InteractiveShell.ast_node_interactivity = \"all\""
   ]
  },
  {
   "cell_type": "markdown",
   "metadata": {
    "colab_type": "text",
    "id": "dR9JSYIG7_MH"
   },
   "source": [
    "---\n",
    "#### **문제1) 여러가지 자료형에 따른 print문의 활용 (formatted output) (10pt)** \n",
    "\n",
    "1) 물리상수 테이블([테이블1](https://en.wikipedia.org/wiki/Physical_constant), [테이블2](http://pdg.lbl.gov/2018/reviews/rpp2018-rev-phys-constants.pdf))을 참조하여, 이들 중 빛의 속력(speed of light in vacuum), 뉴튼중력상수(Newtonian constant of Gravitation), 플랑크상수(Planck constant)에 대하여, 각각 다음의 속성값 - (1. 물리상수 이름, 2. 상수심볼,  3. 상수측정값, 4. 단위)을 가진 Python data container를 작성해보자 (list & dictionary 등등 활용).\n",
    "\n",
    "\n",
    "2) 1)에서 작성한 data container에 담긴 정보를, 순환문 & print 내장함수를 활용하여, 테이블 형식으로 출력해보자. (각 행당 열간격과 좌우정렬유지) [[ref1](https://docs.python.org/3/tutorial/inputoutput.html),[ref2](https://www.python-course.eu/python3_formatted_output.php)]\n",
    "\n"
   ]
  },
  {
   "cell_type": "code",
   "execution_count": 0,
   "metadata": {
    "colab": {},
    "colab_type": "code",
    "id": "-VPIZS1SYTNb"
   },
   "outputs": [],
   "source": [
    "# 대부분 답안을 잘 작성하였음. 학생 답안 중 깔끔한 몇 가지를 선정."
   ]
  },
  {
   "cell_type": "code",
   "execution_count": 2,
   "metadata": {
    "colab": {
     "base_uri": "https://localhost:8080/",
     "height": 124
    },
    "colab_type": "code",
    "executionInfo": {
     "elapsed": 841,
     "status": "ok",
     "timestamp": 1539945201236,
     "user": {
      "displayName": "Wonsang Cho",
      "photoUrl": "",
      "userId": "03169000657209583434"
     },
     "user_tz": -540
    },
    "id": "YnPbDuun33Xw",
    "outputId": "e2550c29-edf1-4b1e-e038-e283257ae653"
   },
   "outputs": [
    {
     "name": "stdout",
     "output_type": "stream",
     "text": [
      "{'Speed of light in vacuum': ['c', 299792458, 'm s^-1'], 'Newtonian constant of Gravitation': ['G_N', 6.67408e-11, 'm^3 kg^-1 s^-2'], 'Planck constant': ['h', 6.62607004e-34, 'J s']} \n",
      "\n",
      "이름                                상수심볼   상수값        단위             \n",
      "Speed of light in vacuum           c        2.997925e+08 m s^-1         \n",
      "Newtonian constant of Gravitation  G_N      6.674080e-11 m^3 kg^-1 s^-2 \n",
      "Planck constant                    h        6.626070e-34 J s            \n"
     ]
    }
   ],
   "source": [
    "## 답안 1) by c2_2016-18324_정희원\n",
    "\n",
    "#1) \n",
    "c=['c',299792458,'m s^-1']\n",
    "G=['G_N',6.67408e-11,'m^3 kg^-1 s^-2']\n",
    "h=['h',6.626070040e-34,'J s']\n",
    "pythondatacontainer={'Speed of light in vacuum':c,'Newtonian constant of Gravitation':G,'Planck constant':h}\n",
    "print(pythondatacontainer,'\\n')\n",
    "\n",
    "#2)\n",
    "print(\"%s%s%s%s\"%('이름'.ljust(34),'상수심볼'.ljust(7),'상수값'.ljust(11),'단위'.ljust(15)))\n",
    "for key, value in pythondatacontainer.items():\n",
    "    print(\"%s%s%13e %s\"%(key.ljust(35),value[0].ljust(8),value[1],value[2].ljust(15)))"
   ]
  },
  {
   "cell_type": "code",
   "execution_count": 3,
   "metadata": {
    "colab": {
     "base_uri": "https://localhost:8080/",
     "height": 106
    },
    "colab_type": "code",
    "executionInfo": {
     "elapsed": 1141,
     "status": "ok",
     "timestamp": 1539945202480,
     "user": {
      "displayName": "Wonsang Cho",
      "photoUrl": "",
      "userId": "03169000657209583434"
     },
     "user_tz": -540
    },
    "id": "8Lu2zTPA33X7",
    "outputId": "9ae1d160-8a5b-455c-8df7-870185bf4c8a"
   },
   "outputs": [
    {
     "name": "stdout",
     "output_type": "stream",
     "text": [
      "Physical Constant                 symbol            value  unit\n",
      "____________________________________________________________________________\n",
      "speed of light in vacuum               c      299792458.0  m/s                 \n",
      "Newtonian constant of Gravitation      G      6.67408e-11  m^3 kg^(-1) s^(-2)  \n",
      "Planck constant                        h   6.62607004e-34  J s                 \n"
     ]
    }
   ],
   "source": [
    "## 답안 2) by c1_2016-20299 야나니세구니히로\n",
    "Constants = ['speed of light in vacuum','Newtonian constant of Gravitation','Planck constant']\n",
    "symbols = {'speed of light in vacuum':'c','Newtonian constant of Gravitation':'G','Planck constant':'h'}\n",
    "values = {'c':299792458.,'G':6.67408e-11,'h':6.626070040e-34}\n",
    "units = {'c':'m/s','G':'m^3 kg^(-1) s^(-2)','h':'J s'}\n",
    "\n",
    "print(\"{}{}{}{}\".format('Physical Constant'.ljust(34),'symbol','value'.rjust(17),'  unit'))\n",
    "print(\"____________________________________________________________________________\")\n",
    "for con in Constants:\n",
    "    sym = symbols[con]\n",
    "    val = values[sym]\n",
    "    un = units[sym]\n",
    "    print(\"{} {}  {}  {}\".format(con.ljust(37),sym.rjust(2),repr(val).rjust(15),un.ljust(20)))"
   ]
  },
  {
   "cell_type": "code",
   "execution_count": 4,
   "metadata": {
    "colab": {
     "base_uri": "https://localhost:8080/",
     "height": 160
    },
    "colab_type": "code",
    "executionInfo": {
     "elapsed": 974,
     "status": "ok",
     "timestamp": 1539945203681,
     "user": {
      "displayName": "Wonsang Cho",
      "photoUrl": "",
      "userId": "03169000657209583434"
     },
     "user_tz": -540
    },
    "id": "eQ3i1K474eb5",
    "outputId": "8ae4460e-7f96-46fa-bb94-7996745146fd"
   },
   "outputs": [
    {
     "name": "stdout",
     "output_type": "stream",
     "text": [
      "                               name                             simbol                              value                               unit\n",
      "\n",
      "           speed of light in vacuum                                  c                          299792458                                m/s\n",
      "\n",
      "  Newtonian constant of Gravitation                                  G                        6.67408e-11                         m^3/kg/s^2\n",
      "\n",
      "                    Planck constant                                  h                     6.62607004e-34                                 Js\n",
      "\n"
     ]
    }
   ],
   "source": [
    "# 답안 3) by c1_2016-18898_정제성 \n",
    "o = {'name': 'name', 'simbol': 'simbol', 'value': 'value', 'unit': 'unit'}\n",
    "c = {'name': 'speed of light in vacuum', 'simbol': 'c', 'value': 299792458, 'unit': 'm/s'}\n",
    "G = {'name': 'Newtonian constant of Gravitation', 'simbol': 'G', 'value': 6.67408E-11, 'unit': 'm^3/kg/s^2'}\n",
    "h = {'name': 'Planck constant', 'simbol': 'h', 'value': 6.626070040E-34, 'unit': 'Js'}\n",
    "data = [o, c, G, h]\n",
    "\n",
    "for i in data:\n",
    "    for key, value in i.items():\n",
    "        print('%s' %(str(value).rjust(35)), end = '')\n",
    "    print('\\n')"
   ]
  },
  {
   "cell_type": "markdown",
   "metadata": {
    "colab_type": "text",
    "id": "y0kzo95g33YD"
   },
   "source": []
  },
  {
   "cell_type": "markdown",
   "metadata": {
    "colab_type": "text",
    "id": "axjKTDNU7_Md"
   },
   "source": [
    "---\n",
    "#### **문제2) math 모듈과 여러가지 수치연산 (내장) 함수의 활용 (10pt)**\n",
    "\n",
    "input내장함수를 사용하여 숫자 a,b를 입력받아, 여러가지 수치연산의 결과를 다음과 같이 출력하는 프로그램을 작성하라.\n",
    "\n",
    "- 입력\n",
    ">```\n",
    "a : 10\n",
    "b : 3\n",
    "```\n",
    "\n",
    "- 출력\n",
    ">```\n",
    "10.0 / 3.0 의 몫은 3.0, 나머지는 1.0\n",
    "10.0의 3.0승은 1000.0\n",
    "Exp[10.0] * 상용로그[3.0]은 10509.2944...\n",
    "sin[10.0도] + cos[3.0도]는 1.1722...\n",
    "```"
   ]
  },
  {
   "cell_type": "code",
   "execution_count": 5,
   "metadata": {
    "colab": {
     "base_uri": "https://localhost:8080/",
     "height": 142
    },
    "colab_type": "code",
    "executionInfo": {
     "elapsed": 11351,
     "status": "ok",
     "timestamp": 1539945227208,
     "user": {
      "displayName": "Wonsang Cho",
      "photoUrl": "",
      "userId": "03169000657209583434"
     },
     "user_tz": -540
    },
    "id": "Y7ij0HD57_Me",
    "outputId": "ee2c5bd8-8cf0-4fff-e0fc-5a30861e13c3"
   },
   "outputs": [
    {
     "name": "stdout",
     "output_type": "stream",
     "text": [
      " > a : 10\n",
      " > b : 3\n",
      " > 10.0 / 3.0의 몫은 3.0, 나머지는 1.0\n",
      " > 10.0 / 3.0의 몫은 3.0, 나머지는 1.0\n",
      " > 10.0의 3.0승은 = 1000.0\n",
      " > Exp[10.0] * 상용로그 Log[3.0]은 10509.294997057908\n",
      " > sin[10.0도] + cos[3.0도]는 1.1722777124215042\n"
     ]
    }
   ],
   "source": [
    "import math\n",
    "\n",
    "a = float(input(' > a : '))\n",
    "b = float(input(' > b : '))\n",
    "print(' > {0} / {1}의 몫은 {2}, 나머지는 {3}'.format(a,b,a//b,a%b)) # v1\n",
    "print(' > {0} / {1}의 몫은 {2}, 나머지는 {3}'.format(a,b,divmod(a,b)[0],divmod(a,b)[1])) # v2\n",
    "print(' > {0}의 {1}승은 = {2}'.format(a,b,pow(a,b)))\n",
    "print(' > Exp[{0}] * 상용로그 Log[{1}]은 {2}'.format(a,b,math.exp(a)*math.log(b,10)))\n",
    "print(' > sin[{0}도] + cos[{1}도]는 {2}'.format(a,b,math.sin(math.radians(a))+math.cos(math.radians(b)))) # math.pi/180 등등 모두 정답 처리\n",
    "\n",
    "# 자주하는 실수 : 자연로그(log) 사용 (-2), deg->rad 변환 안함 (-2), input function 사용하지 않고 직접 a, b의 값 지정 (-3)"
   ]
  },
  {
   "cell_type": "markdown",
   "metadata": {
    "colab_type": "text",
    "id": "kBWqdVku7_Ml"
   },
   "source": [
    "---\n",
    "#### **문제3) for loop iteration of integer objects (10pt), 채점자: 이용선**\n",
    "\n",
    "\n",
    "(짝수 * 홀수) 조합의 구구단 테이블을 출력하는 프로그램을 작성하라\n",
    "\n",
    "출력예)\n",
    "> ```\n",
    "------ 2단 ------\n",
    "2 x 1 = 2\n",
    "2 x 3 = 6\n",
    "2 x 5 = 10\n",
    "2 x 7 = 14\n",
    "2 x 9 = 18\n",
    "...\n",
    "```\n",
    "\n",
    "주석 없음: -5%\n"
   ]
  },
  {
   "cell_type": "code",
   "execution_count": 6,
   "metadata": {
    "colab": {
     "base_uri": "https://localhost:8080/",
     "height": 446
    },
    "colab_type": "code",
    "executionInfo": {
     "elapsed": 887,
     "status": "ok",
     "timestamp": 1539945232204,
     "user": {
      "displayName": "Wonsang Cho",
      "photoUrl": "",
      "userId": "03169000657209583434"
     },
     "user_tz": -540
    },
    "id": "MW3bTkpq7_Mo",
    "outputId": "4991aeb1-4c1d-49ad-b3f7-136451a7a567"
   },
   "outputs": [
    {
     "name": "stdout",
     "output_type": "stream",
     "text": [
      "------ 2단 ------\n",
      "2 x 1 = 2\n",
      "2 x 3 = 6\n",
      "2 x 5 = 10\n",
      "2 x 7 = 14\n",
      "2 x 9 = 18\n",
      "------ 4단 ------\n",
      "4 x 1 = 4\n",
      "4 x 3 = 12\n",
      "4 x 5 = 20\n",
      "4 x 7 = 28\n",
      "4 x 9 = 36\n",
      "------ 6단 ------\n",
      "6 x 1 = 6\n",
      "6 x 3 = 18\n",
      "6 x 5 = 30\n",
      "6 x 7 = 42\n",
      "6 x 9 = 54\n",
      "------ 8단 ------\n",
      "8 x 1 = 8\n",
      "8 x 3 = 24\n",
      "8 x 5 = 40\n",
      "8 x 7 = 56\n",
      "8 x 9 = 72\n"
     ]
    }
   ],
   "source": [
    "for i in range(1,10):\n",
    "    if i%2 == 0: # 2의 배수\n",
    "        print(\"------ {}단 ------\".format(i)) # 2n단, 2n < 10\n",
    "        for j in range(1,10):\n",
    "            if j%2 == 1: # 2n x j, j는 9 이하의 홀수\n",
    "                print(\"{0} x {1} = {2}\".format(i,j,i*j))"
   ]
  },
  {
   "cell_type": "markdown",
   "metadata": {
    "colab_type": "text",
    "id": "w1XqdJNn7_Mx"
   },
   "source": [
    "---\n",
    "#### ** 문제4) for loop iteration of list object (10pt)**\n",
    "\n",
    "- 문자열로 구성된 다음 리스트의 모든 요소값을, 요소값의 인덱스와 함께 출력하는 예제를 2가지 이상의 방법으로 구현해보자.\n",
    "> ```\n",
    "mylist = ['apple','banana','orange','kiwi','strawberry']\n",
    "```"
   ]
  },
  {
   "cell_type": "code",
   "execution_count": 7,
   "metadata": {
    "colab": {
     "base_uri": "https://localhost:8080/",
     "height": 214
    },
    "colab_type": "code",
    "executionInfo": {
     "elapsed": 1131,
     "status": "ok",
     "timestamp": 1539945236111,
     "user": {
      "displayName": "Wonsang Cho",
      "photoUrl": "",
      "userId": "03169000657209583434"
     },
     "user_tz": -540
    },
    "id": "-chf-Uti7_My",
    "outputId": "9a06e9aa-4383-4083-d66a-fc7a3ef6f700"
   },
   "outputs": [
    {
     "name": "stdout",
     "output_type": "stream",
     "text": [
      "idx, val =  0 ,  apple\n",
      "idx, val =  1 ,  banana\n",
      "idx, val =  2 ,  orange\n",
      "idx, val =  3 ,  kiwi\n",
      "idx, val =  4 ,  strawberry\n",
      "\n",
      "idx, val =  0 ,  apple\n",
      "idx, val =  1 ,  banana\n",
      "idx, val =  2 ,  orange\n",
      "idx, val =  3 ,  kiwi\n",
      "idx, val =  4 ,  strawberry\n"
     ]
    }
   ],
   "source": [
    "#1)\n",
    "mylist = ['apple','banana','orange','kiwi','strawberry']\n",
    "for i in range(len(mylist)):\n",
    "    print('idx, val = ',i,', ',mylist[i])\n",
    "    \n",
    "print('')\n",
    "\n",
    "#2)\n",
    "for idx, val in enumerate(mylist):\n",
    "    print('idx, val = ',idx,', ',val)\n",
    "    "
   ]
  },
  {
   "cell_type": "markdown",
   "metadata": {
    "colab_type": "text",
    "id": "xIlYGiI57_M6"
   },
   "source": [
    "-------\n",
    "#### **문제5) 정수형 리스트의 생성 및 활용 (10pt) **: \n",
    "\n",
    "1) 1이상 1000이하 짝수들의 오름차순 리스트를 만들고, 그 요소들의 개수와 합을 출력하라.\n",
    "\n",
    "2) 1이상 1000이하 홀수들의 내림차수 리스트를 만들고, 그 요소들의 개수와 합을 출력하라.\n"
   ]
  },
  {
   "cell_type": "code",
   "execution_count": 8,
   "metadata": {
    "colab": {
     "base_uri": "https://localhost:8080/",
     "height": 108
    },
    "colab_type": "code",
    "executionInfo": {
     "elapsed": 958,
     "status": "ok",
     "timestamp": 1539945254440,
     "user": {
      "displayName": "Wonsang Cho",
      "photoUrl": "",
      "userId": "03169000657209583434"
     },
     "user_tz": -540
    },
    "id": "sJ5FuanX7_M8",
    "outputId": "f8977540-6e79-4c56-e657-1b4f85e31cf6"
   },
   "outputs": [
    {
     "name": "stdout",
     "output_type": "stream",
     "text": [
      "[2, 4, 6, 8, 10, 12, 14, 16, 18, 20, 22, 24, 26, 28, 30, 32, 34, 36, 38, 40, 42, 44, 46, 48, 50, 52, 54, 56, 58, 60, 62, 64, 66, 68, 70, 72, 74, 76, 78, 80, 82, 84, 86, 88, 90, 92, 94, 96, 98, 100, 102, 104, 106, 108, 110, 112, 114, 116, 118, 120, 122, 124, 126, 128, 130, 132, 134, 136, 138, 140, 142, 144, 146, 148, 150, 152, 154, 156, 158, 160, 162, 164, 166, 168, 170, 172, 174, 176, 178, 180, 182, 184, 186, 188, 190, 192, 194, 196, 198, 200, 202, 204, 206, 208, 210, 212, 214, 216, 218, 220, 222, 224, 226, 228, 230, 232, 234, 236, 238, 240, 242, 244, 246, 248, 250, 252, 254, 256, 258, 260, 262, 264, 266, 268, 270, 272, 274, 276, 278, 280, 282, 284, 286, 288, 290, 292, 294, 296, 298, 300, 302, 304, 306, 308, 310, 312, 314, 316, 318, 320, 322, 324, 326, 328, 330, 332, 334, 336, 338, 340, 342, 344, 346, 348, 350, 352, 354, 356, 358, 360, 362, 364, 366, 368, 370, 372, 374, 376, 378, 380, 382, 384, 386, 388, 390, 392, 394, 396, 398, 400, 402, 404, 406, 408, 410, 412, 414, 416, 418, 420, 422, 424, 426, 428, 430, 432, 434, 436, 438, 440, 442, 444, 446, 448, 450, 452, 454, 456, 458, 460, 462, 464, 466, 468, 470, 472, 474, 476, 478, 480, 482, 484, 486, 488, 490, 492, 494, 496, 498, 500, 502, 504, 506, 508, 510, 512, 514, 516, 518, 520, 522, 524, 526, 528, 530, 532, 534, 536, 538, 540, 542, 544, 546, 548, 550, 552, 554, 556, 558, 560, 562, 564, 566, 568, 570, 572, 574, 576, 578, 580, 582, 584, 586, 588, 590, 592, 594, 596, 598, 600, 602, 604, 606, 608, 610, 612, 614, 616, 618, 620, 622, 624, 626, 628, 630, 632, 634, 636, 638, 640, 642, 644, 646, 648, 650, 652, 654, 656, 658, 660, 662, 664, 666, 668, 670, 672, 674, 676, 678, 680, 682, 684, 686, 688, 690, 692, 694, 696, 698, 700, 702, 704, 706, 708, 710, 712, 714, 716, 718, 720, 722, 724, 726, 728, 730, 732, 734, 736, 738, 740, 742, 744, 746, 748, 750, 752, 754, 756, 758, 760, 762, 764, 766, 768, 770, 772, 774, 776, 778, 780, 782, 784, 786, 788, 790, 792, 794, 796, 798, 800, 802, 804, 806, 808, 810, 812, 814, 816, 818, 820, 822, 824, 826, 828, 830, 832, 834, 836, 838, 840, 842, 844, 846, 848, 850, 852, 854, 856, 858, 860, 862, 864, 866, 868, 870, 872, 874, 876, 878, 880, 882, 884, 886, 888, 890, 892, 894, 896, 898, 900, 902, 904, 906, 908, 910, 912, 914, 916, 918, 920, 922, 924, 926, 928, 930, 932, 934, 936, 938, 940, 942, 944, 946, 948, 950, 952, 954, 956, 958, 960, 962, 964, 966, 968, 970, 972, 974, 976, 978, 980, 982, 984, 986, 988, 990, 992, 994, 996, 998, 1000]\n",
      "[999, 997, 995, 993, 991, 989, 987, 985, 983, 981, 979, 977, 975, 973, 971, 969, 967, 965, 963, 961, 959, 957, 955, 953, 951, 949, 947, 945, 943, 941, 939, 937, 935, 933, 931, 929, 927, 925, 923, 921, 919, 917, 915, 913, 911, 909, 907, 905, 903, 901, 899, 897, 895, 893, 891, 889, 887, 885, 883, 881, 879, 877, 875, 873, 871, 869, 867, 865, 863, 861, 859, 857, 855, 853, 851, 849, 847, 845, 843, 841, 839, 837, 835, 833, 831, 829, 827, 825, 823, 821, 819, 817, 815, 813, 811, 809, 807, 805, 803, 801, 799, 797, 795, 793, 791, 789, 787, 785, 783, 781, 779, 777, 775, 773, 771, 769, 767, 765, 763, 761, 759, 757, 755, 753, 751, 749, 747, 745, 743, 741, 739, 737, 735, 733, 731, 729, 727, 725, 723, 721, 719, 717, 715, 713, 711, 709, 707, 705, 703, 701, 699, 697, 695, 693, 691, 689, 687, 685, 683, 681, 679, 677, 675, 673, 671, 669, 667, 665, 663, 661, 659, 657, 655, 653, 651, 649, 647, 645, 643, 641, 639, 637, 635, 633, 631, 629, 627, 625, 623, 621, 619, 617, 615, 613, 611, 609, 607, 605, 603, 601, 599, 597, 595, 593, 591, 589, 587, 585, 583, 581, 579, 577, 575, 573, 571, 569, 567, 565, 563, 561, 559, 557, 555, 553, 551, 549, 547, 545, 543, 541, 539, 537, 535, 533, 531, 529, 527, 525, 523, 521, 519, 517, 515, 513, 511, 509, 507, 505, 503, 501, 499, 497, 495, 493, 491, 489, 487, 485, 483, 481, 479, 477, 475, 473, 471, 469, 467, 465, 463, 461, 459, 457, 455, 453, 451, 449, 447, 445, 443, 441, 439, 437, 435, 433, 431, 429, 427, 425, 423, 421, 419, 417, 415, 413, 411, 409, 407, 405, 403, 401, 399, 397, 395, 393, 391, 389, 387, 385, 383, 381, 379, 377, 375, 373, 371, 369, 367, 365, 363, 361, 359, 357, 355, 353, 351, 349, 347, 345, 343, 341, 339, 337, 335, 333, 331, 329, 327, 325, 323, 321, 319, 317, 315, 313, 311, 309, 307, 305, 303, 301, 299, 297, 295, 293, 291, 289, 287, 285, 283, 281, 279, 277, 275, 273, 271, 269, 267, 265, 263, 261, 259, 257, 255, 253, 251, 249, 247, 245, 243, 241, 239, 237, 235, 233, 231, 229, 227, 225, 223, 221, 219, 217, 215, 213, 211, 209, 207, 205, 203, 201, 199, 197, 195, 193, 191, 189, 187, 185, 183, 181, 179, 177, 175, 173, 171, 169, 167, 165, 163, 161, 159, 157, 155, 153, 151, 149, 147, 145, 143, 141, 139, 137, 135, 133, 131, 129, 127, 125, 123, 121, 119, 117, 115, 113, 111, 109, 107, 105, 103, 101, 99, 97, 95, 93, 91, 89, 87, 85, 83, 81, 79, 77, 75, 73, 71, 69, 67, 65, 63, 61, 59, 57, 55, 53, 51, 49, 47, 45, 43, 41, 39, 37, 35, 33, 31, 29, 27, 25, 23, 21, 19, 17, 15, 13, 11, 9, 7, 5, 3, 1]\n",
      " > 짝수 갯수 & 합 =  500 250500\n",
      " > 홀수 갯수 & 합 =  500 250000\n"
     ]
    }
   ],
   "source": [
    "l_even = list(range(2,1002,+2))\n",
    "l_odd = list(range(999,-1,-2))\n",
    "\n",
    "print(l_even)\n",
    "print(l_odd)\n",
    "\n",
    "print(' > 짝수 갯수 & 합 = ',len(l_even),sum(l_even))\n",
    "print(' > 홀수 갯수 & 합 = ',len(l_odd),sum(l_odd))"
   ]
  },
  {
   "cell_type": "markdown",
   "metadata": {
    "colab_type": "text",
    "id": "uS0avpF67_NL"
   },
   "source": [
    "---\n",
    "#### ** 문제6) for loop, 리스트 정보 탐색 및 변형 (10pt) **\n",
    "\n",
    "- 여러가지 자료형의 요소들로 구성된 다음의 리스트에서, 사전형만 뽑아서 그 사전형 요소의 (key, value)을 출력하는 프로그램을  구현해보자.\n",
    ">```python\n",
    "mylist2 = ['apple', 'banana', {'dog':10, 'cat':10, 'elephant':30}, ('rose','#FF0000') , 1, 2.0,]\n",
    "```\n",
    "\n",
    "- mylist2의 사전 데이터에 ```{'goldfish':10}```을 추가하고, 그 사전 데이터의 순서를 리스트의 맨 마지막 요소로 이동시켜보자. "
   ]
  },
  {
   "cell_type": "code",
   "execution_count": 9,
   "metadata": {
    "colab": {
     "base_uri": "https://localhost:8080/",
     "height": 71
    },
    "colab_type": "code",
    "executionInfo": {
     "elapsed": 1015,
     "status": "ok",
     "timestamp": 1539945257389,
     "user": {
      "displayName": "Wonsang Cho",
      "photoUrl": "",
      "userId": "03169000657209583434"
     },
     "user_tz": -540
    },
    "id": "N6t3MXfe7_NM",
    "outputId": "ae5c9fe7-0af9-4098-b2bf-07d8db7a9470"
   },
   "outputs": [
    {
     "name": "stdout",
     "output_type": "stream",
     "text": [
      "key, val =  dog ,  10\n",
      "key, val =  cat ,  10\n",
      "key, val =  elephant ,  30\n"
     ]
    }
   ],
   "source": [
    "#1) (5점)\n",
    "mylist2 = ['apple', 'banana', {'dog':10, 'cat':10, 'elephant':30}, ('rose','#FF0000') , 1, 2.0,]\n",
    "\n",
    "for i in mylist2:\n",
    "    if type(i) == dict: # type(x)==dict & isinstance 모두 가능\n",
    "        for key,val in i.items():\n",
    "            print('key, val = ',key,', ',val)\n",
    "            \n",
    "## Dictionary 자체를 출력시켜도 정답.\n",
    "    "
   ]
  },
  {
   "cell_type": "code",
   "execution_count": 10,
   "metadata": {
    "colab": {
     "base_uri": "https://localhost:8080/",
     "height": 35
    },
    "colab_type": "code",
    "executionInfo": {
     "elapsed": 970,
     "status": "ok",
     "timestamp": 1539945260699,
     "user": {
      "displayName": "Wonsang Cho",
      "photoUrl": "",
      "userId": "03169000657209583434"
     },
     "user_tz": -540
    },
    "id": "aZB8TJsg7_NS",
    "outputId": "292d225f-a1c3-4a0c-f7a3-153f07683792"
   },
   "outputs": [
    {
     "name": "stdout",
     "output_type": "stream",
     "text": [
      "['apple', 'banana', ('rose', '#FF0000'), 1, 2.0, {'dog': 10, 'cat': 10, 'elephant': 30, 'goldfish': 10}]\n"
     ]
    }
   ],
   "source": [
    "#2) (5점)\n",
    "idx_dict = None\n",
    "\n",
    "# goldfish 추가하기 (2점)\n",
    "for idx, x in enumerate(mylist2):\n",
    "    if isinstance(x,dict)==True: # type(x)==dict & isinstance 모두 가능\n",
    "        mylist2[idx]['goldfish'] = 10 # update 사용도 정답\n",
    "        idx_dict = idx\n",
    "        \n",
    "        # mylist2[idx=2]는 사전( = {'dog':10, 'cat':10, 'elephant':3})\n",
    "        # 사전['key'] = value \n",
    "        # ...이 구문은 \n",
    "        # => 키('key')가 사전에 등록되어 있을때는 키값을 value로 교체\n",
    "        # => 사전에 등록되어 있지 않은 키라면, 사전에 'key':value를 추가\n",
    "        \n",
    "# dict를 리스트의 맨 뒤로 옮기기 (3점)\n",
    "mylist2.append(mylist2.pop(idx_dict))  \n",
    "# 리스트 mylist2 에서 사전데이터의 위치(=idx_dict)를 사용하여 사전데이터를 꺼내서\n",
    "# 다시 mylist2의 맨 뒤로 붙임\n",
    "\n",
    "# remove & append 사용도 정답 처리\n",
    "# extend는 dictionary가 아닌 list를 출력하므로 감점\n",
    "\n",
    "print(mylist2)"
   ]
  },
  {
   "cell_type": "markdown",
   "metadata": {
    "colab_type": "text",
    "id": "xp_iRhDM7_Ng"
   },
   "source": [
    "---\n",
    "#### ** 문제7) 문자열 교집합, 합집합 [20pt], 채점자: 이용선**\n",
    "\n",
    "문자열 2개를 입력받아서, 그들을 이루는 문자들의 교집합과 합집합을 구하는 프로그램을 작성하라\n",
    "\n",
    "\n",
    "실행 오류: - 20%\n",
    "\n",
    "\n",
    "주석 없음: -5%\n",
    "\n",
    "\n",
    "검증 논의 없음: -5%"
   ]
  },
  {
   "cell_type": "code",
   "execution_count": 11,
   "metadata": {
    "colab": {
     "base_uri": "https://localhost:8080/",
     "height": 88
    },
    "colab_type": "code",
    "executionInfo": {
     "elapsed": 15235,
     "status": "ok",
     "timestamp": 1539945277592,
     "user": {
      "displayName": "Wonsang Cho",
      "photoUrl": "",
      "userId": "03169000657209583434"
     },
     "user_tz": -540
    },
    "id": "E5StacgYnQZ6",
    "outputId": "13973d5c-d754-487c-e5e6-08d6f9291420"
   },
   "outputs": [
    {
     "name": "stdout",
     "output_type": "stream",
     "text": [
      "input 1 :물냉\n",
      "input 2 :비냉\n",
      " * intersection of string_1 & _2 =  ['냉']\n",
      " * union of string_1 & _2 =  ['냉', '물', '비']\n"
     ]
    }
   ],
   "source": [
    "# 선택 1\n",
    "\n",
    "# 집합을 다루는 것이기에 중복을 허용하지 않는 set을 써도 무방함\n",
    "string_1=set(input('input 1 :')) \n",
    "string_2=set(input('input 2 :'))\n",
    "\n",
    "# 교집합\n",
    "print(' * intersection of string_1 & _2 = ',sorted(string_1&string_2)) # &는 교집합\n",
    "\n",
    "# 합집합\n",
    "print(' * union of string_1 & _2 = ',sorted(string_1|string_2)) # |는 합집합\n",
    "\n"
   ]
  },
  {
   "cell_type": "code",
   "execution_count": 12,
   "metadata": {
    "colab": {
     "base_uri": "https://localhost:8080/",
     "height": 88
    },
    "colab_type": "code",
    "executionInfo": {
     "elapsed": 13815,
     "status": "ok",
     "timestamp": 1539945300027,
     "user": {
      "displayName": "Wonsang Cho",
      "photoUrl": "",
      "userId": "03169000657209583434"
     },
     "user_tz": -540
    },
    "id": "rwlCmfNW7_Nh",
    "outputId": "324ee970-4f25-4170-d653-6b1cc1ab1f8d"
   },
   "outputs": [
    {
     "name": "stdout",
     "output_type": "stream",
     "text": [
      " string 1 = 파이썬\n",
      " string 2 = 애플파이\n",
      " * intersection of string_1 & _2 =  ['이', '파']\n",
      " * union of string_1 & _2 =  ['썬', '애', '이', '파', '플']\n"
     ]
    }
   ],
   "source": [
    "# 선택 2\n",
    "\n",
    "string_1 = input(' string 1 = ')\n",
    "string_2 = input(' string 2 = ')\n",
    "\n",
    "list_intersection = []\n",
    "list_union = []\n",
    "\n",
    "# 교집합\n",
    "for i in string_1:\n",
    "    for j in string_2:\n",
    "        if j == i and (j not in list_intersection):\n",
    "            list_intersection.append(j)\n",
    "\n",
    "print(' * intersection of string_1 & _2 = ',sorted(list_intersection))\n",
    "\n",
    "# 합집합\n",
    "for i in string_1:\n",
    "    for j in string_2:\n",
    "        if j == i and (j not in list_union):\n",
    "            list_union.append(j)\n",
    "        elif j !=i:\n",
    "            if i not in list_union:\n",
    "                list_union.append(i)\n",
    "            if j not in list_union:\n",
    "                list_union.append(j)\n",
    "            \n",
    "print(' * union of string_1 & _2 = ',sorted(list_union))"
   ]
  },
  {
   "cell_type": "code",
   "execution_count": 0,
   "metadata": {
    "colab": {},
    "colab_type": "code",
    "id": "ddFpvokmm8-V"
   },
   "outputs": [],
   "source": [
    "# 간단한 검증\n",
    "\n",
    "string_1=set('physics')\n",
    "string_2=set('astronomy')\n",
    "\n",
    "# 원하는 결과를 보이는지 확인\n",
    "\n",
    "# 교집합\n",
    "assert(sorted(string_1&string_2) == ['s', 'y']) # sorted 함수의 반환 타입은 list\n",
    "\n",
    "# 합집합\n",
    "assert(sorted(string_1|string_2) == ['a', 'c', 'h', 'i', 'm', 'n', 'o', 'p', 'r', 's', 't', 'y'])\n",
    "\n",
    "# 사실 더 많은 예에 대해 검증해야함"
   ]
  },
  {
   "cell_type": "markdown",
   "metadata": {
    "colab_type": "text",
    "id": "4J3REdOy7_Or"
   },
   "source": [
    "---\n",
    "#### **문제8) 문자열에 관한 내장함수와 사전, 리스트 내장의 활용 (20pt)**\n",
    "\n",
    "1) 본 지문에 포함된 단어의 갯수를 구하고, 각 단어들을 이루는 문자 갯수의 평균을 구하는 프로그램을 작성해보자. (중복 사용 여부를 따로 고려하지 않음, 쉼표나 마침표는 문자 갯수에서 제외할 수 있도록 주의.) (10pt)\n",
    "\n",
    "> *\"Torque is defined mathematically as the rate of change of angular momentum of an object. The definition of torque states that one or both of the angular velocity or the moment of inertia of an object are changing. Moment is the general term used for the tendency of one or more applied forces to rotate an object about an axis, but not necessarily to change the angular momentum of the object. For example, a rotational force applied to a shaft causing acceleration, such as a drill bit accelerating from rest, results in a moment called a torque. By contrast, a lateral force on a beam produces a moment, but since the angular momentum of the beam is not changing, this bending moment is not called a torque. Similarly with any force couple on an object that has no change to its angular momentum, such moment is also not called a torque.\"*\n",
    "\n",
    "2) 본 지문에서 모음에 해당하는 'a', 'e', 'i', 'o', 'u' 문자들이 등장하는 횟수를 구하고, 이 결과값을 사전형으로 출력하는 프로그램을 작성해보자. (리스트, 사전, zip(), dict() 등을 활용) (10pt)\n"
   ]
  },
  {
   "cell_type": "code",
   "execution_count": 14,
   "metadata": {
    "colab": {
     "base_uri": "https://localhost:8080/",
     "height": 144
    },
    "colab_type": "code",
    "executionInfo": {
     "elapsed": 863,
     "status": "ok",
     "timestamp": 1539945308812,
     "user": {
      "displayName": "Wonsang Cho",
      "photoUrl": "",
      "userId": "03169000657209583434"
     },
     "user_tz": -540
    },
    "id": "6uqgw2uM7_Ot",
    "outputId": "4de5d07e-1e72-4f44-d4ff-f34f4175d2c3"
   },
   "outputs": [
    {
     "name": "stdout",
     "output_type": "stream",
     "text": [
      "['Torque', 'is', 'defined', 'mathematically', 'as', 'the', 'rate', 'of', 'change', 'of', 'angular', 'momentum', 'of', 'an', 'object.', 'The', 'definition', 'of', 'torque', 'states', 'that', 'one', 'or', 'both', 'of', 'the', 'angular', 'velocity', 'or', 'the', 'moment', 'of', 'inertia', 'of', 'an', 'object', 'are', 'changing.', 'Moment', 'is', 'the', 'general', 'term', 'used', 'for', 'the', 'tendency', 'of', 'one', 'or', 'more', 'applied', 'forces', 'to', 'rotate', 'an', 'object', 'about', 'an', 'axis,', 'but', 'not', 'necessarily', 'to', 'change', 'the', 'angular', 'momentum', 'of', 'the', 'object.', 'For', 'example,', 'a', 'rotational', 'force', 'applied', 'to', 'a', 'shaft', 'causing', 'acceleration,', 'such', 'as', 'a', 'drill', 'bit', 'accelerating', 'from', 'rest,', 'results', 'in', 'a', 'moment', 'called', 'a', 'torque.', 'By', 'contrast,', 'a', 'lateral', 'force', 'on', 'a', 'beam', 'produces', 'a', 'moment,', 'but', 'since', 'the', 'angular', 'momentum', 'of', 'the', 'beam', 'is', 'not', 'changing,', 'this', 'bending', 'moment', 'is', 'not', 'called', 'a', 'torque.', 'Similarly', 'with', 'any', 'force', 'couple', 'on', 'an', 'object', 'that', 'has', 'no', 'change', 'to', 'its', 'angular', 'momentum,', 'such', 'moment', 'is', 'also', 'not', 'called', 'a', 'torque.']\n",
      "['Torque', 'is', 'defined', 'mathematically', 'as', 'the', 'rate', 'of', 'change', 'of', 'angular', 'momentum', 'of', 'an', 'object.', 'The', 'definition', 'of', 'torque', 'states', 'that', 'one', 'or', 'both', 'of', 'the', 'angular', 'velocity', 'or', 'the', 'moment', 'of', 'inertia', 'of', 'an', 'object', 'are', 'changing.', 'Moment', 'is', 'the', 'general', 'term', 'used', 'for', 'the', 'tendency', 'of', 'one', 'or', 'more', 'applied', 'forces', 'to', 'rotate', 'an', 'object', 'about', 'an', 'axis', 'but', 'not', 'necessarily', 'to', 'change', 'the', 'angular', 'momentum', 'of', 'the', 'object.', 'For', 'example', 'a', 'rotational', 'force', 'applied', 'to', 'a', 'shaft', 'causing', 'acceleration', 'such', 'as', 'a', 'drill', 'bit', 'accelerating', 'from', 'rest', 'results', 'in', 'a', 'moment', 'called', 'a', 'torque.', 'By', 'contrast', 'a', 'lateral', 'force', 'on', 'a', 'beam', 'produces', 'a', 'moment', 'but', 'since', 'the', 'angular', 'momentum', 'of', 'the', 'beam', 'is', 'not', 'changing', 'this', 'bending', 'moment', 'is', 'not', 'called', 'a', 'torque.', 'Similarly', 'with', 'any', 'force', 'couple', 'on', 'an', 'object', 'that', 'has', 'no', 'change', 'to', 'its', 'angular', 'momentum', 'such', 'moment', 'is', 'also', 'not', 'called', 'a', 'torque.']\n",
      " > list of strings =  ['Torque', 'is', 'defined', 'mathematically', 'as', 'the', 'rate', 'of', 'change', 'of', 'angular', 'momentum', 'of', 'an', 'object', 'The', 'definition', 'of', 'torque', 'states', 'that', 'one', 'or', 'both', 'of', 'the', 'angular', 'velocity', 'or', 'the', 'moment', 'of', 'inertia', 'of', 'an', 'object', 'are', 'changing', 'Moment', 'is', 'the', 'general', 'term', 'used', 'for', 'the', 'tendency', 'of', 'one', 'or', 'more', 'applied', 'forces', 'to', 'rotate', 'an', 'object', 'about', 'an', 'axis', 'but', 'not', 'necessarily', 'to', 'change', 'the', 'angular', 'momentum', 'of', 'the', 'object', 'For', 'example', 'a', 'rotational', 'force', 'applied', 'to', 'a', 'shaft', 'causing', 'acceleration', 'such', 'as', 'a', 'drill', 'bit', 'accelerating', 'from', 'rest', 'results', 'in', 'a', 'moment', 'called', 'a', 'torque', 'By', 'contrast', 'a', 'lateral', 'force', 'on', 'a', 'beam', 'produces', 'a', 'moment', 'but', 'since', 'the', 'angular', 'momentum', 'of', 'the', 'beam', 'is', 'not', 'changing', 'this', 'bending', 'moment', 'is', 'not', 'called', 'a', 'torque', 'Similarly', 'with', 'any', 'force', 'couple', 'on', 'an', 'object', 'that', 'has', 'no', 'change', 'to', 'its', 'angular', 'momentum', 'such', 'moment', 'is', 'also', 'not', 'called', 'a', 'torque']\n",
      " > number of words =  151\n",
      " > list of string length =  [6, 2, 7, 14, 2, 3, 4, 2, 6, 2, 7, 8, 2, 2, 6, 3, 10, 2, 6, 6, 4, 3, 2, 4, 2, 3, 7, 8, 2, 3, 6, 2, 7, 2, 2, 6, 3, 8, 6, 2, 3, 7, 4, 4, 3, 3, 8, 2, 3, 2, 4, 7, 6, 2, 6, 2, 6, 5, 2, 4, 3, 3, 11, 2, 6, 3, 7, 8, 2, 3, 6, 3, 7, 1, 10, 5, 7, 2, 1, 5, 7, 12, 4, 2, 1, 5, 3, 12, 4, 4, 7, 2, 1, 6, 6, 1, 6, 2, 8, 1, 7, 5, 2, 1, 4, 8, 1, 6, 3, 5, 3, 7, 8, 2, 3, 4, 2, 3, 8, 4, 7, 6, 2, 3, 6, 1, 6, 9, 4, 3, 5, 6, 2, 2, 6, 4, 3, 2, 6, 2, 3, 7, 8, 4, 6, 2, 4, 3, 6, 1, 6]\n",
      " > averaged number of characters in each word =  4.470198675496689\n"
     ]
    }
   ],
   "source": [
    "# 1)\n",
    "\n",
    "# 단락을 통째로 문자열로 입력\n",
    "paragraph = \"Torque is defined mathematically as the rate of change of angular momentum of an object. The definition of torque states that one or both of the angular velocity or the moment of inertia of an object are changing. Moment is the general term used for the tendency of one or more applied forces to rotate an object about an axis, but not necessarily to change the angular momentum of the object. For example, a rotational force applied to a shaft causing acceleration, such as a drill bit accelerating from rest, results in a moment called a torque. By contrast, a lateral force on a beam produces a moment, but since the angular momentum of the beam is not changing, this bending moment is not called a torque. Similarly with any force couple on an object that has no change to its angular momentum, such moment is also not called a torque.\"\n",
    "\n",
    "# 문자열을 빈칸(\" \")을 중심으로 조각내고, 조각낸 문자열들을 리스트로 저장\n",
    "para_list = paragraph.split(\" \")\n",
    "print(para_list)\n",
    "\n",
    "# 조각낸 문자열 리스트를 순회하면서 리스트 내장과 문자열의 replace함수를 사용하여 콤마\",\"를 지우기\n",
    "para_list2 = [ i.replace(',',\"\") for i in para_list ]\n",
    "print(para_list2)\n",
    "\n",
    "# 조각낸 문자열 리스트를 순회하면서 리스트 내장과 문자열의 replace함수를 사용하여 마침표\".\"를 지우기\n",
    "# => 단어들의 리스트(para_list3)를 얻음\n",
    "para_list3 = [ i.replace('.',\"\") for i in para_list2 ]\n",
    "print(' > list of strings = ',para_list3)\n",
    "print(' > number of words = ',len(para_list3))\n",
    "\n",
    "# 조각낸 문자열 리스트를 순회하면서 리스트 내장과 len()함수를 사용하여 각 조각문자열의 길이를 리스트로 저장\n",
    "nletters_list = [ len(i) for i in para_list3 ]\n",
    "\n",
    "print(' > list of string length = ',nletters_list)\n",
    "print(' > averaged number of characters in each word = ',sum(nletters_list)/len(nletters_list))"
   ]
  },
  {
   "cell_type": "code",
   "execution_count": 15,
   "metadata": {
    "colab": {
     "base_uri": "https://localhost:8080/",
     "height": 53
    },
    "colab_type": "code",
    "executionInfo": {
     "elapsed": 872,
     "status": "ok",
     "timestamp": 1539945311650,
     "user": {
      "displayName": "Wonsang Cho",
      "photoUrl": "",
      "userId": "03169000657209583434"
     },
     "user_tz": -540
    },
    "id": "JIlmIfS47_Ow",
    "outputId": "a66ebea3-ca8f-4a0a-9964-53c343d559cf"
   },
   "outputs": [
    {
     "name": "stdout",
     "output_type": "stream",
     "text": [
      " 모음 갯수 사전 = \n",
      " {'a': 69, 'b': 13, 'c': 32, 'd': 13, 'e': 78}\n"
     ]
    }
   ],
   "source": [
    "# 2)\n",
    "# 키의 리스트(key_aeiou)와 키값의 리스트(num_aeiou)를 생성하고 이를 사용하여 사전(dict_aeiou)를 생성\n",
    "key_aeiou = ['a','b','c','d','e']\n",
    "num_aeiou = 5*[0]\n",
    "dict_aeiou = dict(zip(key_aeiou, num_aeiou))\n",
    "\n",
    "# 위에서 생성한 단어들의 리스트(para_list3)를 순회하면서,\n",
    "# 각 단어(val)에 대하여, 각 사전의 키(a,e,i,o,u)가 몇 번씩 등장하는지 카운트(val.count(key))하고, 사전의 각 키값에 저장.\n",
    "for idx, val in enumerate(para_list3):\n",
    "    for key in dict_aeiou.keys():\n",
    "        dict_aeiou[key] += val.count(key)\n",
    "\n",
    "print(' 모음 갯수 사전 = \\n',dict_aeiou)"
   ]
  },
  {
   "cell_type": "markdown",
   "metadata": {
    "colab_type": "text",
    "id": "BjOZwk7kbDvt"
   },
   "source": [
    "+ 기타 모범답안"
   ]
  },
  {
   "cell_type": "code",
   "execution_count": 16,
   "metadata": {
    "colab": {
     "base_uri": "https://localhost:8080/",
     "height": 53
    },
    "colab_type": "code",
    "executionInfo": {
     "elapsed": 911,
     "status": "ok",
     "timestamp": 1539945315980,
     "user": {
      "displayName": "Wonsang Cho",
      "photoUrl": "",
      "userId": "03169000657209583434"
     },
     "user_tz": -540
    },
    "id": "DDQlJOTKbK1w",
    "outputId": "7b67b857-800e-4a90-97b1-7fe70f858cf5"
   },
   "outputs": [
    {
     "name": "stdout",
     "output_type": "stream",
     "text": [
      "개수: 151 / 평균: 4.470198675496689\n",
      "{'a': 69, 'e': 78, 'i': 33, 'o': 66, 'u': 24}\n"
     ]
    }
   ],
   "source": [
    "# 2017-19871 남준오 님 답변\n",
    "# Only using string functions\n",
    "\n",
    "# 1)\n",
    "words = paragraph.replace(',', '').replace('.', '').split()\n",
    "print(\"개수:\", len(words), \"/ 평균:\", sum(map(len, words))/len(words))\n",
    "\n",
    "# 2)\n",
    "print({c: paragraph.count(c) for c in 'aeiou'})"
   ]
  },
  {
   "cell_type": "code",
   "execution_count": 17,
   "metadata": {
    "colab": {
     "base_uri": "https://localhost:8080/",
     "height": 35
    },
    "colab_type": "code",
    "executionInfo": {
     "elapsed": 1081,
     "status": "ok",
     "timestamp": 1539945318145,
     "user": {
      "displayName": "Wonsang Cho",
      "photoUrl": "",
      "userId": "03169000657209583434"
     },
     "user_tz": -540
    },
    "id": "qFMdYPpmbMSm",
    "outputId": "363877a6-9e80-43c4-dee3-635a783e7d51"
   },
   "outputs": [
    {
     "name": "stdout",
     "output_type": "stream",
     "text": [
      "포함된 단어의 갯수 = 151, 평균 단어 길이 = 4.47\n"
     ]
    }
   ],
   "source": [
    "#2014-13569 이완희 님 답변\n",
    "#Split 과 Average 함수를 직접 구현했습니다. \n",
    "\n",
    "def Split(a='',separate=' '):\n",
    "    output=[]\n",
    "    temp=''\n",
    "    for i in range(len(a)):\n",
    "        if a[i]==separate:\n",
    "            output.append(temp)\n",
    "            temp=''\n",
    "            continue\n",
    "        if not((a[i] == ',') or (a[i]=='.')):\n",
    "            temp+=a[i]\n",
    "    output.append(temp)\n",
    "    return output\n",
    "\n",
    "def Ave(a):\n",
    "    length=0\n",
    "    for i in range(len(a)):\n",
    "        length+=len(a[i])\n",
    "        length=float(length)\n",
    "    return float(length/len(a))\n",
    "\n",
    "b=Split(paragraph)\n",
    "print('포함된 단어의 갯수 = {0}, 평균 단어 길이 = {1:.2f}'.format(len(b),Ave(b)))"
   ]
  },
  {
   "cell_type": "code",
   "execution_count": 0,
   "metadata": {
    "colab": {},
    "colab_type": "code",
    "id": "Djj_XqBlcLgT"
   },
   "outputs": [],
   "source": []
  }
 ],
 "metadata": {
  "colab": {
   "collapsed_sections": [],
   "name": "homework_n01_sol_sample.ipynb",
   "provenance": [],
   "version": "0.3.2"
  },
  "kernelspec": {
   "display_name": "Python 3",
   "language": "python",
   "name": "python3"
  },
  "language_info": {
   "codemirror_mode": {
    "name": "ipython",
    "version": 3
   },
   "file_extension": ".py",
   "mimetype": "text/x-python",
   "name": "python",
   "nbconvert_exporter": "python",
   "pygments_lexer": "ipython3",
   "version": "3.5.2"
  }
 },
 "nbformat": 4,
 "nbformat_minor": 1
}
