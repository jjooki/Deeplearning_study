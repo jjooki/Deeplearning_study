{
 "cells": [
  {
   "cell_type": "markdown",
   "metadata": {
    "colab_type": "text",
    "id": "gfrKNROhioFg"
   },
   "source": [
    "## SNU PPSML 3차 정규과제 [10/05(금) 24:00 마감]"
   ]
  },
  {
   "cell_type": "code",
   "execution_count": 0,
   "metadata": {
    "colab": {},
    "colab_type": "code",
    "id": "m7Ghj7f0ioFm"
   },
   "outputs": [],
   "source": [
    "# Printing all outputs in a cell (not only the last output)\n",
    "from IPython.core.interactiveshell import InteractiveShell\n",
    "InteractiveShell.ast_node_interactivity = \"all\""
   ]
  },
  {
   "cell_type": "markdown",
   "metadata": {
    "colab_type": "text",
    "id": "0DBgpcWDioHC"
   },
   "source": [
    "----\n",
    "## ** [정규과제03) 문제 1번] **\n",
    "### ** 가우시안 확률 분포 *클래스* (Gaussian Distribution Class)의 구현 및 활용 [100pt] **\n",
    "\n",
    "가우시안 분포 함수 (Gaussian distribution) $G$는 다음과 같이 평균(mean, $\\mu$)과 표준편차(standard deviation,$\\sigma$) 두 개의 파라메터를 가지고\n",
    "다음과 같이 정의된다 :\n",
    "\n",
    "> $G(x; \\mu, \\sigma) =\\frac{1}{\\sigma\\sqrt{2 \\pi}} \\exp[-\\frac{(x-\\mu)^2}{2\\sigma^2}]$\n",
    "\n",
    "과제 하단의 **[정규과제03) 문제 1번 참고자료]**를 참조하여, 다음의 과제를 수행해보자."
   ]
  },
  {
   "cell_type": "markdown",
   "metadata": {
    "colab_type": "text",
    "id": "BWoVcOhxoHVk"
   },
   "source": [
    "---\n",
    "\n",
    "** 1. 가우시안 클래스 (Gaussian Class) 만들기 [40pt] **\n",
    "\n",
    "어떤 가우시안 클래스는\n",
    "- 가우시안 함수를 특성화하는 파라메터($\\mu$,$\\sigma$)와 같은 멤버 변수 \n",
    "- 이 파라메터들로 정의된 가우시안 함수값을 반환하거나 [get_func() 메소드], 역시 이들을 기반으로 적분값을 반환하는 [get_integral() 메소드] 등등의, 여러가지 메소드\n",
    "\n",
    "들로 정의될 수 있다.\n",
    "\n",
    "이때 다음과 같은 구조를 포함하는 자신만의 가우시안 클래스를 만들어보자. \n",
    "\n",
    "[(추가점수옵션) 추가속성부여하기 : 가우시안 난수 데이터의 발생기능과 발생된 데이터 자체도, 그 가우시안 클래스가 가지는 메소드와 멤버데이터로 포함시킬 수도 있겠다. 이와 관련된 [gen_rand()]메소드과 [sample]멤버변수의 구현은 옵션. 추가점수 +5]\n",
    "\n",
    "```python \n",
    "class Gaussian:\n",
    "\n",
    "    # (멤버변수) 가우시안의 평균과 표준편차 파라메터 \n",
    "    m, sb = 0., 1.\n",
    "    \n",
    "    # (멤버변수) gen_rand() 메소드를 통해 발생시킨 난수 샘플을 저장하는 리스트\n",
    "    #sample = []\n",
    "    \n",
    "    # (메소드) 가우시안 클래스 생성자\n",
    "    def __init__():\n",
    "    \n",
    "    # (메소드) 가우시안 함수\n",
    "    def get_func():\n",
    "    \n",
    "    # (메소드) 가우시안 함수를 적분하는 함수\n",
    "    def get_integral():\n",
    "    \n",
    "    # (메소드) 가우시안 함수를 미분하는 함수\n",
    "    def get_diff():\n",
    "\n",
    "    # (메소드) 인스턴스 객체의 가우시안 함수를 따르는 난수를 발생시키는 함수 (numpy.random 혹은 random 모듈 사용 가능)\n",
    "    #def gen_rand():\n",
    "           \n",
    "    # (메소드) 가우시안 클래스 소멸자\n",
    "    def __del__():\n",
    "\n",
    "\n",
    "\n",
    "```"
   ]
  },
  {
   "cell_type": "code",
   "execution_count": 42,
   "metadata": {
    "colab": {},
    "colab_type": "code",
    "id": "O-yC-eKAnXdq"
   },
   "outputs": [],
   "source": [
    "import random\n",
    "import math\n",
    "class Gaussian:\n",
    "    m, sb = 0., 1.\n",
    "    \n",
    "    def __init__(self, m=0., sb=1.):\n",
    "        self.m = m\n",
    "        self.sb = sb\n",
    "        \n",
    "    def get_func(self,x):\n",
    "        return 1./(self.sb*math.sqrt(2.*math.pi))*math.exp(-(x-self.m)**2/(2.*self.sb**2))\n",
    "        \n",
    "    def get_integral(self,N,x1,x2,mode):\n",
    "        if(type(N) == int and N > 0):\n",
    "            h = (x2-x1)/float(N)\n",
    "            \n",
    "        integral = 0\n",
    "        \n",
    "        for i in range(0,N):\n",
    "            x_i = x1 + i*h\n",
    "            x_i1 = x_i + h\n",
    "            if(mode == 0):\n",
    "                integral += (x_i1 - x_i)*(self.get_func(x_i1)+self.get_func(x_i))/2.\n",
    "            elif(mode == 1):\n",
    "                integral += (x_i1 - x_i)*(x_i1*self.get_func(x_i1)+x_i*self.get_func(x_i))/2.\n",
    "            elif(mode == 2):\n",
    "                integral += (x_i1 - x_i)*(x_i1**2*self.get_func(x_i1)+x_i**2*self.get_func(x_i))/2.\n",
    "            \n",
    "        return integral\n",
    "        \n",
    "    def get_diff(self,x):\n",
    "        h = 1.e-10\n",
    "        diff = (self.get_func(x+h) - self.get_func(x-h)) / (2.*h)\n",
    "        return diff\n",
    "        \n",
    "    def gen_rand(self):\n",
    "        s = 1.\n",
    "        while(s >= 1 or s == 0):\n",
    "            v1 = 2*random.random() - 1  #-1부터 1사이의 임의의 실수\n",
    "            v2 = 2*random.random() - 1  #-1부터 1사이의 임의의 실수\n",
    "            s = v1 * v1 + v2 * v2\n",
    "        \n",
    "        s = math.sqrt(2 * math.log(1./s) / s)\n",
    "        \n",
    "        result = v1 * s\n",
    "        result = (self.sb * result) + self.m\n",
    "        \n",
    "        return result\n",
    "    \n",
    "    def __del__(self):\n",
    "        self.m = 0.\n",
    "        self.sb = 0."
   ]
  },
  {
   "cell_type": "markdown",
   "metadata": {
    "colab_type": "text",
    "id": "l7V9i1wwoTnq"
   },
   "source": [
    "---\n",
    "\n",
    "** 2. 인스턴스의 생성과 활용 1 [20pt] ** \n",
    "\n",
    "위에서 구현한 가우시안 클래스에 속하는 인스턴스를 생성해보고,\n",
    "\n",
    "```python \n",
    "ex) g = Gaussian(0.0, 2.0)\n",
    "```\n",
    "\n",
    "- 이러한 인스턴스를 통하여, 1차원 가우시안 함수($\\mu = 0,\\,\\sigma = 2.0$)를 수치적으로 적분하여보자. \n",
    "(적분 결과가 1에 최대한 가까워지도록, 총 적분 구간($x_{min}$, $x_{max}$)과 세부 구분 구간($\\Delta{x}$)의 크기과 갯수를 잘 조절하여보자) [7pt]\n",
    "\n",
    "- $x\\in[-1\\sigma,+1\\sigma]$의 영역에서의 적분값은 전체영역에서의 적분값 대비 몇 퍼센트인지 구해보자. [7pt]\n",
    "\n",
    "- 역시 인스턴스의 메소드를 활용하여, 1차원 가우시안 함수($\\mu = 0,\\,\\sigma = 2.0$)를 $x=0$에서 수치적으로 미분하여보자. [6pt]"
   ]
  },
  {
   "cell_type": "code",
   "execution_count": 53,
   "metadata": {
    "colab": {},
    "colab_type": "code",
    "id": "RldrztJ5nXdy"
   },
   "outputs": [
    {
     "name": "stdout",
     "output_type": "stream",
     "text": [
      "1) 가우시안 함수 적분값 : 1.000000\n",
      "\n",
      "2) −1σ~+1σ의 영역에서의 적분값의 퍼센티지 : 68.3\n",
      "\n",
      "3) x = 0에서의 미분값 : 0.000000\n"
     ]
    }
   ],
   "source": [
    "g = Gaussian(0.,2.)\n",
    "result1 = g.get_integral(100000,-1e4,1e4,0)\n",
    "result2 = g.get_integral(1000,-2.,2.,0)\n",
    "result2 = 100 * (result2/result1)\n",
    "result3 = g.get_diff(0.)\n",
    "print(\"1) 가우시안 함수 적분값 : %f\\n\" % (result1))\n",
    "print(\"2) −1σ~+1σ의 영역에서의 적분값의 퍼센티지 : %.1f\\n\" % (result2))\n",
    "print(\"3) x = 0에서의 미분값 : %f\" % (result3))"
   ]
  },
  {
   "cell_type": "markdown",
   "metadata": {
    "colab_type": "text",
    "id": "RmYQuNxGnXd3"
   },
   "source": [
    "\n",
    "---\n",
    "\n",
    "** 3. 인스턴스의 생성과 활용 2 [20pt] ** \n",
    "\n",
    "위의 가우시안 인스턴스를 활용하여, 임의의 평균($\\mu$)과 표준편차($\\sigma$)값을 파라메터로 가진 가우시안 분포 함수의 (모)평균과 (모)표준편차를, 수치 적분을 통해  계산해보자."
   ]
  },
  {
   "cell_type": "code",
   "execution_count": 51,
   "metadata": {
    "colab": {},
    "colab_type": "code",
    "id": "2KUdv0oHop2j"
   },
   "outputs": [
    {
     "name": "stdout",
     "output_type": "stream",
     "text": [
      "[-1000,1000]범위내의 임의의 평균과 (0,1000]범위내 임의의 표준편차값을 파라메터로 가지는 가우시안 분포함수를 분석해보자.\n",
      "\n",
      "임의의 평균 : 936.978230, 적분을 통해 구한 가우시안 분포 함수의 평균 : 936.978230\n",
      "\n",
      "임의의 표준편차 : 520.832477, 적분을 통해 구한 표준편차 : 520.832477\n"
     ]
    }
   ],
   "source": [
    "m = 2000*random.random()-1000\n",
    "sb = 0\n",
    "while(sb <= 0 or sb > 1000):\n",
    "    sb = 1000*random.random()\n",
    "\n",
    "g1 = Gaussian(m,sb)\n",
    "est_m = g1.get_integral(100000,m-1.e4,m+1.e4,1)\n",
    "est_sb = g1.get_integral(100000,m-1.e4,m+1.e4,2)\n",
    "est_sb = math.sqrt(est_sb - est_m**2)\n",
    "print(\"[-1000,1000]범위내의 임의의 평균과 (0,1000]범위내 임의의 표준편차값을 파라메터로 가지는 가우시안 분포함수를 분석해보자.\\n\")\n",
    "print(\"임의의 평균 : %f, 적분을 통해 구한 가우시안 분포 함수의 평균 : %f\\n\" % (m,est_m))\n",
    "print(\"임의의 표준편차 : %f, 적분을 통해 구한 표준편차 : %f\" % (sb,est_sb))"
   ]
  },
  {
   "cell_type": "markdown",
   "metadata": {
    "colab_type": "text",
    "id": "elNuGTR9nXd4"
   },
   "source": [
    "---\n",
    "\n",
    "** 4. Numpy와 Matplotlib의 활용 [20pt] ** \n",
    "\n",
    "생성한 가우시안 클래스의 인스턴스가 가진 함수의 그래프를, Numpy와 Matplotlib를 통해 시각화해보자.\n",
    "\n",
    "\n"
   ]
  },
  {
   "cell_type": "code",
   "execution_count": 55,
   "metadata": {
    "colab": {},
    "colab_type": "code",
    "id": "fKlJ9G_xt5Ol"
   },
   "outputs": [
    {
     "data": {
      "image/png": "[encoded data removed]",
      "text/plain": [
       "<Figure size 504x504 with 1 Axes>"
      ]
     },
     "metadata": {
      "needs_background": "light"
     },
     "output_type": "display_data"
    }
   ],
   "source": [
    "import numpy as np\n",
    "import matplotlib.pyplot as plt\n",
    "\n",
    "m = 0.\n",
    "sb = 2.\n",
    "N = 1000\n",
    "\n",
    "xmin, xmax = m-10.*sb, m+10.*sb\n",
    "\n",
    "x_list = np.linspace(xmin, xmax, N) # plot에 쓰일 x값들을 np.array로 정의(linspace 활용)\n",
    "G_list = np.array([ g.get_func(i) for i in x_list ]) # plot에 쓰일 f(x)값들을 np.array로 정의(리스트 내장과 numpy를 함께 활용)\n",
    "\n",
    "fig = plt.figure(figsize=(7,7)) # pyplot figure class의 인스턴스를 선언\n",
    "\n",
    "ax = fig.add_subplot(1,1,1) # figure객체의 add_subplot()을 활용한 axes클래스의 인스턴스(ax)의 선언\n",
    "ax.plot(x_list, G_list, label = 'Gaussian Probability Distribution ($\\mu$= %4.1f, $\\sigma$=%3.1f)'%(m,sb),color='blue',linestyle='dashed') # ax에 플랏(axes.plot()함수의 doc을 열어 참조할 것)\n",
    "ax.set_xlabel('x') # x축 라벨 정의\n",
    "ax.set_xbound(-10,10) # x축 범위 설정\n",
    "ax.set_ylabel('Gaussian($x$; $\\mu$,$\\sigma$)') # y축 라벨 정의\n",
    "ax.set_ybound(0,0.25) # y축 범위 설정\n",
    "ax.grid(True) # 그리드 온\n",
    "ax.legend(loc='upper left') # 레전드 출력하기(위치)\n",
    "\n",
    "plt.show() # 현재 노트에 출력"
   ]
  },
  {
   "cell_type": "markdown",
   "metadata": {
    "colab_type": "text",
    "id": "oag3o9BSt9C2"
   },
   "source": []
  },
  {
   "cell_type": "markdown",
   "metadata": {
    "colab_type": "text",
    "id": "SsoQdKvnnXd5"
   },
   "source": [
    "-------------------"
   ]
  },
  {
   "cell_type": "markdown",
   "metadata": {
    "colab_type": "text",
    "id": "oElGk8G5zQpy"
   },
   "source": [
    "## ** [정규과제03) 문제 1번 참고자료] **\n",
    "### ** 가우시안 확률 분포 (Gaussian Distribution)의 구현 및 활용 **\n",
    "\n",
    "가우시안 분포 함수 (Gaussian distribution) $G$ 는 다음과 같이 평균(mean, $\\mu$)과 표준편차(standard deviation,$\\sigma$) 두 개의 파라메터를 가지고\n",
    "다음과 같이 정의된다 :\n",
    "\n",
    "> $G(x; \\mu, \\sigma) =\\frac{1}{\\sigma\\sqrt{2 \\pi}} \\exp[-\\frac{(x-\\mu)^2}{2\\sigma^2}]$"
   ]
  },
  {
   "cell_type": "markdown",
   "metadata": {
    "colab_type": "text",
    "id": "cXELxOPHnXeA"
   },
   "source": [
    "----\n",
    "**1. 위의 가우시안 분포 함수식을 이용하여, 평균($m$)과 표준편차($sb$)을 파라메터로 가지는 정규화된 가우시안 함수를, 파이썬에서 정의해보자. **\n"
   ]
  },
  {
   "cell_type": "code",
   "execution_count": 13,
   "metadata": {
    "colab": {
     "base_uri": "https://localhost:8080/",
     "height": 35
    },
    "colab_type": "code",
    "executionInfo": {
     "elapsed": 967,
     "status": "ok",
     "timestamp": 1538197122493,
     "user": {
      "displayName": "Wonsang Cho",
      "photoUrl": "",
      "userId": "03169000657209583434"
     },
     "user_tz": -540
    },
    "id": "1ffw-ukIG-IC",
    "outputId": "c1eb0c58-d9b7-4e95-a325-306d1d5572d1"
   },
   "outputs": [
    {
     "data": {
      "text/plain": [
       "0.19947114020071635"
      ]
     },
     "execution_count": 13,
     "metadata": {
      "tags": []
     },
     "output_type": "execute_result"
    }
   ],
   "source": [
    "import math\n",
    "\n",
    "# 가우시안 분포 함수의 정의\n",
    "def G(x,m=0.,sb=1.):\n",
    "    \"\"\"\n",
    "    1) x : 분포 함수가 정의된 공간값 입력\n",
    "    2) m : 평균값 파라메터\n",
    "    3) sb : 편차값 파라메터\n",
    "    \"\"\"\n",
    "    return 1./(sb*math.sqrt(2.*math.pi))*math.exp(-(x-m)**2/(2.*sb**2))\n",
    "\n",
    "G(0.,0.,2.)\n",
    "# G(0.)"
   ]
  },
  {
   "cell_type": "markdown",
   "metadata": {
    "colab_type": "text",
    "id": "4ulsHuSFnXeR"
   },
   "source": [
    "\n",
    "---\n",
    "**2. 구분 구적법을 구현하는 메소드를 작성하여, 1번에서 정의한 1차원 가우시안 함수($\\mu = 0,\\,\\sigma = 2.0$)를 수치적으로 적분하여보자. 적분 결과가 1에 최대한 가까워지도록, 총 적분 구간($x_{min}$, $x_{max}$)과 세부 구분 구간($\\Delta{x}$)의 크기과 갯수를 잘 조절하여보자. ** "
   ]
  },
  {
   "cell_type": "code",
   "execution_count": 0,
   "metadata": {
    "colab": {},
    "colab_type": "code",
    "id": "37E-nNolBFTO"
   },
   "outputs": [],
   "source": [
    "\n",
    "# 입력함수에 대한 여러가지 적분값(0,1,2차 모멘트)을 반환해주는 함수를 정의 \n",
    "def Integrals(x_min, x_max, N_x, moment_order, myfunc, **kwargs):\n",
    "    \"\"\"\n",
    "    1) 'x_min' : 적분하한\n",
    "    2) 'x_max' : 적분상한\n",
    "    3) 'N_x' : [x_min, x_max)에서의 구분구적법을 위한 구분간격수\n",
    "    4) 'moment_order' :  \n",
    "       if 0, calc & return ordinary integral of 'myfunc'\n",
    "       if 1, calc & return mean (평균) of 'myfunc', \n",
    "       if 2, calc variation (분산) & return standard deviation (표준편차) of 'myfunc'\n",
    "    5) 'myfunc' : 입력함수\n",
    "    6) 'kwargs' : dictionary of function parameters\n",
    "       ex) for Gaussian, kwargs = {\"m\": m, \"sb\": sb} \n",
    "    \"\"\"\n",
    "    \n",
    "    # N_x의 적절성 판정\n",
    "    if (type(N_x) != int or N_x<0): \n",
    "        return \" => check if your N is correctly assigned as a positive integrer.\"\n",
    "    \n",
    "    dx = (x_max-x_min)/N_x\n",
    "    \n",
    "    # 일반 적분 계산(0th order moment)\n",
    "    if moment_order == 0: \n",
    "\n",
    "        integral = 0.\n",
    "        for i in range(N_x):\n",
    "            xi = x_min + i*dx\n",
    "            integral += dx*myfunc(xi, **kwargs)\n",
    "        \n",
    "        print(\"Integral of myfunc in [%5.1f,%5.1f] with %i bins = %f\"\n",
    "          %(x_min,x_max,N_x,integral))\n",
    "    \n",
    "        result = integral\n",
    "        \n",
    "    # (모)평균값/(모)분산값 계산(mean/variation calculation =  1st/2nd order moment)\n",
    "    elif moment_order == 1 or moment_order == 2: \n",
    "    \n",
    "        mean = 0.\n",
    "        for i in range(N_x):\n",
    "            xi = x_min + i*dx\n",
    "            mean += dx*myfunc(xi, **kwargs)*xi\n",
    "        \n",
    "        print(\"Mean of myfunc in [%5.1f,%5.1f] with %i bins = %f\"\n",
    "          %(x_min,x_max,N_x,mean))\n",
    "        \n",
    "        result = mean\n",
    "        \n",
    "        # variation(& standard deviation) calculation\n",
    "        if moment_order == 2:\n",
    "        \n",
    "            var = 0.\n",
    "            for i in range(N_x):\n",
    "                xi = x_min + i*dx\n",
    "                var += dx*myfunc(xi, **kwargs)*(xi-mean)**2\n",
    "\n",
    "            print(\"..and \\n standard deviation of myfunc in [%5.1f,%5.1f] with %i bins = %f\"\n",
    "              %(x_min,x_max,N_x,math.sqrt(var)))\n",
    "\n",
    "            result = math.sqrt(var)\n",
    "\n",
    "\n",
    "    # 현재 입력 함수의 파라메터 출력 \n",
    "    n_par = 0\n",
    "    for key, val in kwargs.items():\n",
    "        n_par += 1\n",
    "        print ('  for myfunc par %s) %s  = %s' % (n_par, key, val))\n",
    "    print('')\n",
    "\n",
    "            \n",
    "    return round(result,10) "
   ]
  },
  {
   "cell_type": "code",
   "execution_count": 17,
   "metadata": {
    "colab": {
     "base_uri": "https://localhost:8080/",
     "height": 106
    },
    "colab_type": "code",
    "executionInfo": {
     "elapsed": 628,
     "status": "ok",
     "timestamp": 1538197287813,
     "user": {
      "displayName": "Wonsang Cho",
      "photoUrl": "",
      "userId": "03169000657209583434"
     },
     "user_tz": -540
    },
    "id": "zveQExHJqUdw",
    "outputId": "a55d7d7b-eef6-408b-ba57-ebda91243dd7"
   },
   "outputs": [
    {
     "name": "stdout",
     "output_type": "stream",
     "text": [
      "Integral of myfunc in [-20.0, 20.0] with 1000 bins = 1.000000\n",
      "  for myfunc par 1) m  = 0.0\n",
      "  for myfunc par 2) sb  = 1.0\n",
      "\n"
     ]
    },
    {
     "data": {
      "text/plain": [
       "1.0"
      ]
     },
     "execution_count": 17,
     "metadata": {
      "tags": []
     },
     "output_type": "execute_result"
    }
   ],
   "source": [
    "# Setting Gaussian function parameters\n",
    "gauss_pars = {\"m\":0., \"sb\":1.}\n",
    "\n",
    "# Integral (0th-order moment) value test\n",
    "Integrals(x_min=-20., x_max=20., N_x=1000, moment_order=0, myfunc=G, **gauss_pars)"
   ]
  },
  {
   "cell_type": "markdown",
   "metadata": {
    "colab_type": "text",
    "id": "mbuQRmeDnXej"
   },
   "source": [
    "---\n",
    "**3. 2번에서 구현한 수치 적분 프로그램을 사용하여 임의의 평균($\\mu$)과 표준편차($\\sigma$)값을 파라메터로 가진 가우시안 함수의 (모)평균과 (모)표준편차를 계산하여보자. **"
   ]
  },
  {
   "cell_type": "code",
   "execution_count": 19,
   "metadata": {
    "colab": {
     "base_uri": "https://localhost:8080/",
     "height": 106
    },
    "colab_type": "code",
    "executionInfo": {
     "elapsed": 826,
     "status": "ok",
     "timestamp": 1538197322915,
     "user": {
      "displayName": "Wonsang Cho",
      "photoUrl": "",
      "userId": "03169000657209583434"
     },
     "user_tz": -540
    },
    "id": "dvYupn0LpWGY",
    "outputId": "3c8d203e-76dc-451a-f28b-01531d8ad8fe"
   },
   "outputs": [
    {
     "name": "stdout",
     "output_type": "stream",
     "text": [
      "Mean of myfunc in [-20.0, 20.0] with 1000 bins = -0.000000\n",
      "  for myfunc par 1) m  = 0.0\n",
      "  for myfunc par 2) sb  = 2.0\n",
      "\n"
     ]
    },
    {
     "data": {
      "text/plain": [
       "-0.0"
      ]
     },
     "execution_count": 19,
     "metadata": {
      "tags": []
     },
     "output_type": "execute_result"
    }
   ],
   "source": [
    "# Setting Gaussian function parameters\n",
    "gauss_pars = {\"m\":0., \"sb\":2.}\n",
    "\n",
    "# Mean (1st-order moment) value test\n",
    "Integrals(x_min=-20., x_max=20., N_x=1000, moment_order=1, myfunc=G, **gauss_pars)"
   ]
  },
  {
   "cell_type": "code",
   "execution_count": 20,
   "metadata": {
    "colab": {
     "base_uri": "https://localhost:8080/",
     "height": 142
    },
    "colab_type": "code",
    "executionInfo": {
     "elapsed": 692,
     "status": "ok",
     "timestamp": 1538197326795,
     "user": {
      "displayName": "Wonsang Cho",
      "photoUrl": "",
      "userId": "03169000657209583434"
     },
     "user_tz": -540
    },
    "id": "Tx8I-pwkpZst",
    "outputId": "84b55108-d68f-4404-d19b-7189b7a4ff45"
   },
   "outputs": [
    {
     "name": "stdout",
     "output_type": "stream",
     "text": [
      "Mean of myfunc in [-20.0, 20.0] with 1000 bins = -0.000000\n",
      "..and \n",
      " standard deviation of myfunc in [-20.0, 20.0] with 1000 bins = 2.000000\n",
      "  for myfunc par 1) m  = 0.0\n",
      "  for myfunc par 2) sb  = 2.0\n",
      "\n"
     ]
    },
    {
     "data": {
      "text/plain": [
       "2.0"
      ]
     },
     "execution_count": 20,
     "metadata": {
      "tags": []
     },
     "output_type": "execute_result"
    }
   ],
   "source": [
    "# Setting Gaussian function parameters\n",
    "gauss_pars = {\"m\":0., \"sb\":2.}\n",
    "\n",
    "# Standard Deviation (2nd-order moment) test\n",
    "Integrals(x_min=-20., x_max=20., N_x=1000, moment_order=2, myfunc=G, **gauss_pars)"
   ]
  },
  {
   "cell_type": "markdown",
   "metadata": {
    "colab_type": "text",
    "id": "gpT_LDdVnXe0"
   },
   "source": [
    "---\n",
    "**4. 구현한 가우시안 함수를 Numpy와 Matplotlib를 활용하여 시각화해보자. **"
   ]
  },
  {
   "cell_type": "code",
   "execution_count": 21,
   "metadata": {
    "colab": {
     "base_uri": "https://localhost:8080/",
     "height": 446
    },
    "colab_type": "code",
    "executionInfo": {
     "elapsed": 1171,
     "status": "ok",
     "timestamp": 1538197341104,
     "user": {
      "displayName": "Wonsang Cho",
      "photoUrl": "",
      "userId": "03169000657209583434"
     },
     "user_tz": -540
    },
    "id": "31f4GmiQBFT2",
    "outputId": "8b844f66-a9e5-4f97-d33c-a665db17c201"
   },
   "outputs": [
    {
     "data": {
      "image/png": "[encoded data removed]",
      "text/plain": [
       "<matplotlib.figure.Figure at 0x7f61c4fd6ef0>"
      ]
     },
     "metadata": {
      "tags": []
     },
     "output_type": "display_data"
    }
   ],
   "source": [
    "# ploting the function using Numpy and Matplotlib\n",
    "import numpy as np\n",
    "import matplotlib.pyplot as plt\n",
    "\n",
    "m = 0.\n",
    "sb = 2.\n",
    "N = 1000\n",
    "\n",
    "xmin, xmax = m-10.*sb, m+10.*sb\n",
    "\n",
    "x_list = np.linspace(xmin, xmax, N) # plot에 쓰일 x값들을 np.array로 정의(linspace 활용)\n",
    "G_list = np.array([ G(i, m, sb) for i in x_list ]) # plot에 쓰일 f(x)값들을 np.array로 정의(리스트 내장과 numpy를 함께 활용)\n",
    "\n",
    "fig = plt.figure(figsize=(7,7)) # pyplot figure class의 인스턴스를 선언\n",
    "\n",
    "ax = fig.add_subplot(1,1,1) # figure객체의 add_subplot()을 활용한 axes클래스의 인스턴스(ax)의 선언\n",
    "ax.plot(x_list, G_list, label = 'Gaussian Probability Distribution ($\\mu$= %4.1f, $\\sigma$=%3.1f)'%(m,sb),color='blue',linestyle='dashed') # ax에 플랏(axes.plot()함수의 doc을 열어 참조할 것)\n",
    "ax.set_xlabel('x') # x축 라벨 정의\n",
    "ax.set_xbound(-10,10) # x축 범위 설정\n",
    "ax.set_ylabel('Gaussian($x$; $\\mu$,$\\sigma$)') # y축 라벨 정의\n",
    "ax.set_ybound(0,0.25) # y축 범위 설정\n",
    "ax.grid(True) # 그리드 온\n",
    "ax.legend(loc='upper left') # 레전드 출력하기(위치)\n",
    "\n",
    "\n",
    "plt.savefig('./gaussian.png', dpi=fig.dpi, bbox_inches='tight') # 플랏을 .png파일로 저장\n",
    "plt.show() # 현재 노트에 출력\n"
   ]
  },
  {
   "cell_type": "code",
   "execution_count": 0,
   "metadata": {
    "colab": {},
    "colab_type": "code",
    "id": "qWNPtIJqnXe9"
   },
   "outputs": [],
   "source": []
  }
 ],
 "metadata": {
  "colab": {
   "collapsed_sections": [],
   "name": "homework_n03.ipynb",
   "provenance": [],
   "version": "0.3.2"
  },
  "kernelspec": {
   "display_name": "Python 3",
   "language": "python",
   "name": "python3"
  },
  "language_info": {
   "codemirror_mode": {
    "name": "ipython",
    "version": 3
   },
   "file_extension": ".py",
   "mimetype": "text/x-python",
   "name": "python",
   "nbconvert_exporter": "python",
   "pygments_lexer": "ipython3",
   "version": "3.5.2"
  }
 },
 "nbformat": 4,
 "nbformat_minor": 1
}
