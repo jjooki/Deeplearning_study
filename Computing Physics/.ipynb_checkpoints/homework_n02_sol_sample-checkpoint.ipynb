{
 "cells": [
  {
   "cell_type": "markdown",
   "metadata": {
    "colab_type": "text",
    "id": "gfrKNROhioFg"
   },
   "source": [
    "## SNU PPSML 2차 정규과제 (견본 답안)\n",
    "\n",
    "- Python function & class (to be added)\n",
    "- [9/21(금) 소개 ~  9/28(금) 24:00 마감] [총 100점]"
   ]
  },
  {
   "cell_type": "code",
   "execution_count": 0,
   "metadata": {
    "colab": {},
    "colab_type": "code",
    "id": "m7Ghj7f0ioFm"
   },
   "outputs": [],
   "source": [
    "# Printing all outputs in a cell (not only the last output)\n",
    "from IPython.core.interactiveshell import InteractiveShell\n",
    "InteractiveShell.ast_node_interactivity = \"all\""
   ]
  },
  {
   "cell_type": "markdown",
   "metadata": {
    "colab_type": "text",
    "id": "ae5BXRqTioFy"
   },
   "source": [
    "-----\n",
    "** 1) 화씨나 섭씨를 입력받아 서로간의 변환을 해주는 프로그램을 작성해보자.**"
   ]
  },
  {
   "cell_type": "code",
   "execution_count": 3,
   "metadata": {
    "colab": {
     "base_uri": "https://localhost:8080/",
     "height": 196
    },
    "colab_type": "code",
    "executionInfo": {
     "elapsed": 17834,
     "status": "ok",
     "timestamp": 1539945356526,
     "user": {
      "displayName": "Wonsang Cho",
      "photoUrl": "",
      "userId": "03169000657209583434"
     },
     "user_tz": -540
    },
    "id": "KSr7ZcU-ioF2",
    "outputId": "c79afeba-7985-44d1-c950-2f8497cfb77b"
   },
   "outputs": [
    {
     "name": "stdout",
     "output_type": "stream",
     "text": [
      "\n",
      " ** 화씨, 섭씨 온도 변환기 **\n",
      "\n",
      " > 섭씨 입력이면 \"c\"를, 화씨 입력이면 \"f\"를 입력해주세요 (종료=\"x\") :f\n",
      " > 변환을 원하는 화씨 온도값을 입력해주세요 :911\n",
      " (!) 화씨 911.00도는 섭씨 488.33도 입니다.\n",
      "\n",
      " > 계속하시겠습니까? (계속=\"y\", 중지=아무키나) :\n",
      " > 온도 변환 작업을 마무리 하였습니다.\n",
      "\n"
     ]
    }
   ],
   "source": [
    "# -*- coding: utf-8 -*-\n",
    "\n",
    "def get_init():\n",
    "    temp, temp_type = None, None\n",
    "    \n",
    "    while(True):\n",
    "        temp_type = input(' > 섭씨 입력이면 \"c\"를, 화씨 입력이면 \"f\"를 입력해주세요 (종료=\"x\") :')\n",
    "\n",
    "        if temp_type == 'c' or temp_type == 'f' or temp_type == 'x':\n",
    "            \n",
    "            if temp_type == 'c':\n",
    "                \n",
    "                while True:\n",
    "                    try:\n",
    "                        temp = float(input(' > 변환을 원하는 섭씨 온도값을 입력해주세요 :'))\n",
    "                    except ValueError:\n",
    "                        print(\" (?) 입력값이 숫자가 아니군요.\\n\")\n",
    "                        continue\n",
    "                    else:\n",
    "                        break\n",
    "                \n",
    "            elif temp_type == 'f':\n",
    "\n",
    "                while True:\n",
    "                    try:\n",
    "                        temp = float(input(' > 변환을 원하는 화씨 온도값을 입력해주세요 :'))\n",
    "                    except ValueError:\n",
    "                        print(\" (?) 입력값이 숫자가 아니군요.\")\n",
    "                        continue\n",
    "                    else:\n",
    "                        break\n",
    "            \n",
    "            break\n",
    "            \n",
    "    return temp_type, temp\n",
    "\n",
    "def do_again():\n",
    "    return input(' > 계속하시겠습니까? (계속=\"y\", 중지=아무키나) :')\n",
    "\n",
    "def convert(t_type, t):\n",
    "    if t_type == 'f':\n",
    "        t2 = 5./9.*(t-32.)\n",
    "        print(' (!) 화씨 %6.2f도는 섭씨 %6.2f도 입니다.\\n'%(t,t2))\n",
    "\n",
    "    elif t_type == 'c':\n",
    "        t2 = 9./5.*t + 32.\n",
    "        print(' (!) 섭씨 %6.2f도는 화씨 %6.2f도 입니다.\\n'%(t,t2))    \n",
    "    \n",
    "def main():\n",
    "\n",
    "    print(\"\\n ** 화씨, 섭씨 온도 변환기 **\\n\")\n",
    "\n",
    "    while(True):\n",
    "        \n",
    "        temp_type, temp = get_init()\n",
    "\n",
    "        if temp_type == 'x':\n",
    "            print(' > 변환없이 중간에 프로그램을 종료합니다.\\n')\n",
    "            break\n",
    "            \n",
    "        convert(temp_type, temp)\n",
    "        \n",
    "        if do_again() == \"y\":\n",
    "            continue\n",
    "        else:\n",
    "            print(' > 온도 변환 작업을 마무리 하였습니다.\\n')\n",
    "            break\n",
    "\n",
    "    \n",
    "if __name__ == '__main__':\n",
    "    main()\n",
    "    \n",
    "else:\n",
    "    print(' * This script is not yet designed to be imported by other main script.')\n",
    "\n"
   ]
  },
  {
   "cell_type": "markdown",
   "metadata": {
    "colab_type": "text",
    "id": "etWhlZDTioHi"
   },
   "source": [
    "----\n",
    "**2) 정수$(n\\ge0)$를 입력받아 $n!=n\\times(n-1)\\times...\\times 1$을 계산하는 프로그램을 작성해보자.**"
   ]
  },
  {
   "cell_type": "code",
   "execution_count": 0,
   "metadata": {
    "colab": {},
    "colab_type": "code",
    "id": "pRZlPRiSioHm"
   },
   "outputs": [],
   "source": [
    "def factorial(n):\n",
    "    \n",
    "    if type(n) != int or n < 0:\n",
    "        return ' => Check if n is a positive integer.'\n",
    "    \n",
    "    if 0 <= n <= 1:\n",
    "        return 1\n",
    "    \n",
    "    return n*factorial(n-1)"
   ]
  },
  {
   "cell_type": "code",
   "execution_count": 5,
   "metadata": {
    "colab": {
     "base_uri": "https://localhost:8080/",
     "height": 196
    },
    "colab_type": "code",
    "executionInfo": {
     "elapsed": 1079,
     "status": "ok",
     "timestamp": 1539945368720,
     "user": {
      "displayName": "Wonsang Cho",
      "photoUrl": "",
      "userId": "03169000657209583434"
     },
     "user_tz": -540
    },
    "id": "a-oh4O2iioH0",
    "outputId": "9df29724-4c8f-40df-f681-c4beb601d62a"
   },
   "outputs": [
    {
     "name": "stdout",
     "output_type": "stream",
     "text": [
      " * 0! = 1\n",
      " * 1! = 1\n",
      " * 2! = 2\n",
      " * 3! = 6\n",
      " * 4! = 24\n",
      " * 5! = 120\n",
      " * 6! = 720\n",
      " * 7! = 5040\n",
      " * 8! = 40320\n",
      " * 9! = 362880\n"
     ]
    }
   ],
   "source": [
    "# factorial(N) 값 확인\n",
    "\n",
    "N=10\n",
    "for i in range(N):\n",
    "    print(' * {0}! = {1}'.format(i, factorial(i)))    "
   ]
  },
  {
   "cell_type": "markdown",
   "metadata": {
    "colab_type": "text",
    "id": "EfmNq0w-ioGK"
   },
   "source": [
    "---\n",
    "** 3) $sin(x)$와 $cos(x)$에 대한 테일러 전개를 사용하여, $x = 0.1 \\pi$ 일때의 근사값을 반복문을 통하여 구하고, 이를 math 모듈의 $sin(x)$, $cos(x)$값과 비교해본다. 모듈값과의 차이가 0.0001 이하이려면 몇 차 항까지 전개가 필요한가 ? **\n",
    "\n",
    "1. $\\sin(x) = \\sum_{n=0}^{\\infty} \\left[(-1)^{n}\\frac{x^{(2n+1)}}{(2n+1)!} \\right]$\n",
    "2. $\\cos(x) = \\sum_{n=0}^{\\infty} \\left[(-1)^{n}\\frac{x^{(2n)}}{(2n)!} \\right]$\n",
    "\n"
   ]
  },
  {
   "cell_type": "code",
   "execution_count": 0,
   "metadata": {
    "colab": {},
    "colab_type": "code",
    "id": "Ka6EAk1KioGN"
   },
   "outputs": [],
   "source": [
    "import math\n",
    "\n",
    "def factorial(n):\n",
    "    \n",
    "    if type(n) != int or n < 0:\n",
    "        return ' => Check if n is a positive integer (n>=0).'\n",
    "    \n",
    "    if 0 <= n <= 1:\n",
    "        return 1\n",
    "    \n",
    "    return n*factorial(n-1)\n",
    "\n",
    "\n",
    "def sin_taylor(x,N):\n",
    "    \n",
    "    if type(N) != int or N < 1:\n",
    "        return ' => Check if N is a positive integer (N>=1).'\n",
    "    \n",
    "    sin = 0.\n",
    "    for i in range(N):\n",
    "        sin += x**(2*i+1)/factorial(2*i+1)*(-1)**(i)\n",
    "    return sin\n",
    "\n",
    "\n",
    "def cos_taylor(x,N):\n",
    "\n",
    "    if type(N) != int or N < 1:\n",
    "        return ' => Check if N is a positive integer (N>=1).'\n",
    "\n",
    "    cos = 0.\n",
    "    for i in range(N):\n",
    "        cos += x**(2*i)/factorial(2*i)*(-1)**(i)\n",
    "    return cos\n",
    "\n",
    "\n",
    "def diff_sin(x, N):\n",
    "    \n",
    "    diff = abs(math.sin(x) - sin_taylor(x,N))  # 차이의 절대값(abs())\n",
    "    \n",
    "    print(' * Difference of sine values = %10.9f for x = %4.3f, N = %i' % (diff,x,N))\n",
    "    \n",
    "    return diff\n",
    "\n",
    "    \n",
    "def diff_cos(x, N):\n",
    "    \n",
    "    diff = abs(math.cos(x) - cos_taylor(x,N))  # 차이의 절대값(abs())\n",
    "\n",
    "    print(' * Difference of cosine values = %10.9f for x = %4.3f, N = %i' % (diff,x,N))\n",
    "\n",
    "    return diff\n"
   ]
  },
  {
   "cell_type": "code",
   "execution_count": 7,
   "metadata": {
    "colab": {
     "base_uri": "https://localhost:8080/",
     "height": 35
    },
    "colab_type": "code",
    "executionInfo": {
     "elapsed": 1040,
     "status": "ok",
     "timestamp": 1539945377253,
     "user": {
      "displayName": "Wonsang Cho",
      "photoUrl": "",
      "userId": "03169000657209583434"
     },
     "user_tz": -540
    },
    "id": "FZO1c8KoioGY",
    "outputId": "19161c81-1103-4aa4-908c-a89907ea8246"
   },
   "outputs": [
    {
     "data": {
      "text/plain": [
       "' => Check if N is a positive integer (N>=1).'"
      ]
     },
     "execution_count": 7,
     "metadata": {
      "tags": []
     },
     "output_type": "execute_result"
    },
    {
     "data": {
      "text/plain": [
       "0.3141592653589793"
      ]
     },
     "execution_count": 7,
     "metadata": {
      "tags": []
     },
     "output_type": "execute_result"
    },
    {
     "data": {
      "text/plain": [
       "0.30899155257892935"
      ]
     },
     "execution_count": 7,
     "metadata": {
      "tags": []
     },
     "output_type": "execute_result"
    },
    {
     "data": {
      "text/plain": [
       "0.3090170542193281"
      ]
     },
     "execution_count": 7,
     "metadata": {
      "tags": []
     },
     "output_type": "execute_result"
    },
    {
     "data": {
      "text/plain": [
       "0.3090169942928752"
      ]
     },
     "execution_count": 7,
     "metadata": {
      "tags": []
     },
     "output_type": "execute_result"
    },
    {
     "data": {
      "text/plain": [
       "' => Check if N is a positive integer (N>=1).'"
      ]
     },
     "execution_count": 7,
     "metadata": {
      "tags": []
     },
     "output_type": "execute_result"
    },
    {
     "data": {
      "text/plain": [
       "1.0"
      ]
     },
     "execution_count": 7,
     "metadata": {
      "tags": []
     },
     "output_type": "execute_result"
    },
    {
     "data": {
      "text/plain": [
       "0.9506519779945533"
      ]
     },
     "execution_count": 7,
     "metadata": {
      "tags": []
     },
     "output_type": "execute_result"
    },
    {
     "data": {
      "text/plain": [
       "0.9510578492071949"
      ]
     },
     "execution_count": 7,
     "metadata": {
      "tags": []
     },
     "output_type": "execute_result"
    },
    {
     "data": {
      "text/plain": [
       "0.951056513944426"
      ]
     },
     "execution_count": 7,
     "metadata": {
      "tags": []
     },
     "output_type": "execute_result"
    }
   ],
   "source": [
    "# Sin(x) at x = 0.1 pi\n",
    "sin_taylor(x = 0.1*math.pi, N=0)\n",
    "sin_taylor(x = 0.1*math.pi, N=1)\n",
    "sin_taylor(x = 0.1*math.pi, N=2)\n",
    "sin_taylor(x = 0.1*math.pi, N=3)\n",
    "sin_taylor(x = 0.1*math.pi, N=4)\n",
    "\n",
    "# Cos(x) at x = 0.1 pi\n",
    "cos_taylor(x = 0.1*math.pi, N=0)\n",
    "cos_taylor(x = 0.1*math.pi, N=1)\n",
    "cos_taylor(x = 0.1*math.pi, N=2)\n",
    "cos_taylor(x = 0.1*math.pi, N=3)\n",
    "cos_taylor(x = 0.1*math.pi, N=4)"
   ]
  },
  {
   "cell_type": "code",
   "execution_count": 8,
   "metadata": {
    "colab": {
     "base_uri": "https://localhost:8080/",
     "height": 231
    },
    "colab_type": "code",
    "executionInfo": {
     "elapsed": 944,
     "status": "ok",
     "timestamp": 1539945378984,
     "user": {
      "displayName": "Wonsang Cho",
      "photoUrl": "",
      "userId": "03169000657209583434"
     },
     "user_tz": -540
    },
    "id": "MMay9NmJioGo",
    "outputId": "8b773703-343e-48ec-d84a-f33b7fe49afc"
   },
   "outputs": [
    {
     "name": "stdout",
     "output_type": "stream",
     "text": [
      " * Difference of sine values = 0.005142271 for x = 0.314, N = 1\n"
     ]
    },
    {
     "data": {
      "text/plain": [
       "0.005142270984031916"
      ]
     },
     "execution_count": 8,
     "metadata": {
      "tags": []
     },
     "output_type": "execute_result"
    },
    {
     "name": "stdout",
     "output_type": "stream",
     "text": [
      " * Difference of sine values = 0.000025442 for x = 0.314, N = 2\n"
     ]
    },
    {
     "data": {
      "text/plain": [
       "2.5441796018044194e-05"
      ]
     },
     "execution_count": 8,
     "metadata": {
      "tags": []
     },
     "output_type": "execute_result"
    },
    {
     "name": "stdout",
     "output_type": "stream",
     "text": [
      " * Difference of sine values = 0.000000060 for x = 0.314, N = 3\n"
     ]
    },
    {
     "data": {
      "text/plain": [
       "5.984438072870191e-08"
      ]
     },
     "execution_count": 8,
     "metadata": {
      "tags": []
     },
     "output_type": "execute_result"
    },
    {
     "name": "stdout",
     "output_type": "stream",
     "text": [
      " * Difference of sine values = 0.000000000 for x = 0.314, N = 4\n"
     ]
    },
    {
     "data": {
      "text/plain": [
       "8.20721823835413e-11"
      ]
     },
     "execution_count": 8,
     "metadata": {
      "tags": []
     },
     "output_type": "execute_result"
    },
    {
     "name": "stdout",
     "output_type": "stream",
     "text": [
      "\n",
      "\n",
      "\n",
      " * Difference of cosine values = 0.048943484 for x = 0.314, N = 1\n"
     ]
    },
    {
     "data": {
      "text/plain": [
       "0.04894348370484647"
      ]
     },
     "execution_count": 8,
     "metadata": {
      "tags": []
     },
     "output_type": "execute_result"
    },
    {
     "name": "stdout",
     "output_type": "stream",
     "text": [
      " * Difference of cosine values = 0.000404538 for x = 0.314, N = 2\n"
     ]
    },
    {
     "data": {
      "text/plain": [
       "0.00040453830060027673"
      ]
     },
     "execution_count": 8,
     "metadata": {
      "tags": []
     },
     "output_type": "execute_result"
    },
    {
     "name": "stdout",
     "output_type": "stream",
     "text": [
      " * Difference of cosine values = 0.000001333 for x = 0.314, N = 3\n"
     ]
    },
    {
     "data": {
      "text/plain": [
       "1.332912041407397e-06"
      ]
     },
     "execution_count": 8,
     "metadata": {
      "tags": []
     },
     "output_type": "execute_result"
    },
    {
     "name": "stdout",
     "output_type": "stream",
     "text": [
      " * Difference of cosine values = 0.000000002 for x = 0.314, N = 4\n"
     ]
    },
    {
     "data": {
      "text/plain": [
       "2.3507275015433038e-09"
      ]
     },
     "execution_count": 8,
     "metadata": {
      "tags": []
     },
     "output_type": "execute_result"
    }
   ],
   "source": [
    "# 모듈값과 Sin_tylor(x = 0.1 pi)와의 차이\n",
    "diff_sin(x = 0.1*math.pi, N=1)\n",
    "diff_sin(x = 0.1*math.pi, N=2)\n",
    "diff_sin(x = 0.1*math.pi, N=3)\n",
    "diff_sin(x = 0.1*math.pi, N=4)\n",
    "\n",
    "print('\\n\\n')\n",
    "\n",
    "# 모듈값과 Cos_tylor(x = 0.1 pi)와의 차이\n",
    "diff_cos(x = 0.1*math.pi, N=1)\n",
    "diff_cos(x = 0.1*math.pi, N=2)\n",
    "diff_cos(x = 0.1*math.pi, N=3)\n",
    "diff_cos(x = 0.1*math.pi, N=4)"
   ]
  },
  {
   "cell_type": "code",
   "execution_count": 0,
   "metadata": {
    "colab": {},
    "colab_type": "code",
    "id": "WWFMOTJyioG2"
   },
   "outputs": [],
   "source": [
    "# 임의의 x에 대해 모듈값과의 차이가 epsilon 이하가 되는 N을 구하기\n",
    "\n",
    "Nmax=1000\n",
    "epsilon=0.0001\n",
    "x = float(input(' x = '))\n",
    "\n",
    "# for sine\n",
    "for i in range(1,Nmax):\n",
    "\n",
    "    if diff_sin(x,i)<epsilon:  \n",
    "        print(' ==> difference between math.sin(x={0}) and sin_taylor(x={0}) becomes less than {1}, if N >= {2}'.format(x, epsilon, i))\n",
    "        break\n",
    "    \n",
    "print('\\n')\n",
    "\n",
    "# for cosine\n",
    "for i in range(1,Nmax):\n",
    "\n",
    "    if diff_cos(x,i)<epsilon:  \n",
    "        print(' ==> difference between math.cos(x={0}) and cos_taylor(x={0}) becomes less than {1}, if N >= {2}'.format(x, epsilon, i))\n",
    "        break"
   ]
  }
 ],
 "metadata": {
  "colab": {
   "collapsed_sections": [],
   "name": "homework_n02_sol_sample.ipynb",
   "provenance": [],
   "version": "0.3.2"
  },
  "kernelspec": {
   "display_name": "Python 3",
   "language": "python",
   "name": "python3"
  },
  "language_info": {
   "codemirror_mode": {
    "name": "ipython",
    "version": 3
   },
   "file_extension": ".py",
   "mimetype": "text/x-python",
   "name": "python",
   "nbconvert_exporter": "python",
   "pygments_lexer": "ipython3",
   "version": "3.5.2"
  }
 },
 "nbformat": 4,
 "nbformat_minor": 1
}
