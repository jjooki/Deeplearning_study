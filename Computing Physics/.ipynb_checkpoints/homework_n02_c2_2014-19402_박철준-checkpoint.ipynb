{
 "cells": [
  {
   "cell_type": "markdown",
   "metadata": {
    "colab_type": "text",
    "id": "gfrKNROhioFg"
   },
   "source": [
    "## SNU PPSML 2차 정규과제\n",
    "\n",
    "- Python function\n",
    "- [9/17~21(금) 소개, 9/28(금) 24:00 마감] [총 100점]"
   ]
  },
  {
   "cell_type": "code",
   "execution_count": 1,
   "metadata": {
    "colab": {},
    "colab_type": "code",
    "id": "m7Ghj7f0ioFm"
   },
   "outputs": [],
   "source": [
    "# Printing all outputs in a cell (not only the last output)\n",
    "from IPython.core.interactiveshell import InteractiveShell\n",
    "InteractiveShell.ast_node_interactivity = \"all\""
   ]
  },
  {
   "cell_type": "markdown",
   "metadata": {
    "colab_type": "text",
    "id": "ae5BXRqTioFy"
   },
   "source": [
    "-----\n",
    "** 1) 화씨나 섭씨를 입력받아 서로간의 변환을 해주는 프로그램을 작성해보자. [20pt] **"
   ]
  },
  {
   "cell_type": "code",
   "execution_count": 3,
   "metadata": {},
   "outputs": [
    {
     "name": "stdout",
     "output_type": "stream",
     "text": [
      "섭씨온도 입력 : 100\n",
      "화씨온도 : 212.0\n",
      "\n",
      "화씨온도 입력 : 50\n",
      "섭씨온도 : 10.0\n"
     ]
    }
   ],
   "source": [
    "c_temp = input(\"섭씨온도 입력 : \")\n",
    "print(\"화씨온도 : %.1f\\n\" % (float(c_temp) * 1.8 + 32))\n",
    "f_temp = input(\"화씨온도 입력 : \")\n",
    "print(\"섭씨온도 : %.1f\" % ((float(f_temp) - 32) / 1.8))"
   ]
  },
  {
   "cell_type": "markdown",
   "metadata": {
    "colab_type": "text",
    "id": "etWhlZDTioHi"
   },
   "source": [
    "----\n",
    "**2) 정수$(n\\ge0)$를 입력받아 $n!=n\\times(n-1)\\times...\\times 1$을 계산하는 프로그램을 작성해보자. [20pt]**"
   ]
  },
  {
   "cell_type": "code",
   "execution_count": 1,
   "metadata": {},
   "outputs": [
    {
     "name": "stdout",
     "output_type": "stream",
     "text": [
      "정수를 입력하세요 : 10\n",
      "result : 3628800\n"
     ]
    }
   ],
   "source": [
    "n = input(\"정수를 입력하세요 : \")\n",
    "n = int(n)\n",
    "factorial = 1\n",
    "i = 0\n",
    "while i < n:\n",
    "    i += 1\n",
    "    factorial *= i\n",
    "print(\"result : %d\" % (factorial))"
   ]
  },
  {
   "cell_type": "markdown",
   "metadata": {
    "colab_type": "text",
    "id": "EfmNq0w-ioGK"
   },
   "source": [
    "---\n",
    "** 3) $sin(x)$와 $cos(x)$에 대한 테일러 전개를 사용하여, 임의의 $x$값에서의 근사값을 반복문을 통하여 구하고, 이를 math 모듈의 $sin(x)$, $cos(x)$값과 비교해본다. $x = 0.1 \\pi$ 일때 모듈값과의 차이가 0.0001 이하이려면 몇 차 항까지 전개가 필요한가 ? [40pt]**\n",
    "\n",
    "1. $\\sin(x) = \\sum_{n=0}^{\\infty} \\left[(-1)^{n}\\frac{x^{(2n+1)}}{(2n+1)!} \\right]$\n",
    "2. $\\cos(x) = \\sum_{n=0}^{\\infty} \\left[(-1)^{n}\\frac{x^{(2n)}}{(2n)!} \\right]$\n",
    "\n"
   ]
  },
  {
   "cell_type": "code",
   "execution_count": 4,
   "metadata": {},
   "outputs": [
    {
     "name": "stdout",
     "output_type": "stream",
     "text": [
      "x값을 입력하세요 : 0.3\n",
      "테일러 급수를 몇 차 항까지 사용하시겠습니까? : 4\n",
      "math 모듈의 sin(x) 값 : 0.295520\n",
      "테일러급수로 구한 sin(x) 값 : 0.295500\n",
      "math 모듈의 cos(x) 값 : 0.955336\n",
      "테일러급수로 구한 cos(x) 값 : 0.955337\n",
      "\n",
      "sin은 3차항까지 전개가 필요합니다.\n",
      "cos은 4차항까지 전개가 필요합니다.\n"
     ]
    }
   ],
   "source": [
    "import math\n",
    "def factorial(n):\n",
    "    fac = 1\n",
    "    i = 0\n",
    "    while i < n:\n",
    "        i += 1\n",
    "        fac *= i\n",
    "    return fac\n",
    "\n",
    "x_input = input(\"x값을 입력하세요 : \")\n",
    "x_input = float(x_input)\n",
    "n = input(\"테일러 급수를 몇 차 항까지 사용하시겠습니까? : \")\n",
    "n = int(n)\n",
    "cos_x = 0.\n",
    "sin_x = 0.\n",
    "for i in range(0,n//2 + 1):\n",
    "    cos_x += ((-1)**i) * x_input**(2*i) / factorial(2*i)\n",
    "for i in range(0,(n-1)//2 + 1):\n",
    "    sin_x += ((-1)**i) * x_input**(2*i+1) / factorial(2*i+1)\n",
    "    \n",
    "\n",
    "print(\"math 모듈의 sin(x) 값 : %f\"%(math.sin(x_input)))\n",
    "print(\"테일러급수로 구한 sin(x) 값 : %f\"%(sin_x))\n",
    "print(\"math 모듈의 cos(x) 값 : %f\"%(math.cos(x_input)))\n",
    "print(\"테일러급수로 구한 cos(x) 값 : %f\\n\"%(cos_x))\n",
    "#----------------------------------------------------------\n",
    "x = 0.1 * math.pi\n",
    "real_sin = math.sin(x)\n",
    "n_sin = 0\n",
    "estimate_sin = 0.\n",
    "while math.fabs(real_sin - estimate_sin) > 0.0001:\n",
    "    dim_sin = 2*n_sin + 1\n",
    "    estimate_sin += ((-1)**n_sin) * x**dim_sin / factorial(dim_sin)\n",
    "    n_sin += 1\n",
    "                                       \n",
    "print(\"sin은 %d차항까지 전개가 필요합니다.\" %(dim_sin))\n",
    "\n",
    "real_cos = math.cos(x)\n",
    "n_cos = 0\n",
    "estimate_cos = 0.\n",
    "while math.fabs(real_cos - estimate_cos) > 0.0001:\n",
    "    dim_cos = 2*n_cos\n",
    "    estimate_cos += ((-1)**n_cos) * x**dim_cos / factorial(dim_cos)\n",
    "    n_cos += 1\n",
    "\n",
    "print(\"cos은 %d차항까지 전개가 필요합니다.\" %(dim_cos))"
   ]
  },
  {
   "cell_type": "markdown",
   "metadata": {
    "colab_type": "text",
    "id": "j--12teC7_NZ"
   },
   "source": [
    "---\n",
    "** 4) 함수의 정의와 재귀적 호출 (20pt)**\n",
    "\n",
    "피보나치(Fibonaci) 수열은 다음의 점화식으로 표현된다. 피보나치 수열을 출력하는 함수를 재귀적 호출을 사용하여 작성하여보고, 첫 20개의 수열값을 출력해보자.\n",
    "\n",
    "$F_n =\n",
    "  \\begin{cases}\n",
    "0&{\\mbox{if }}n=0;\\\\\n",
    "1&{\\mbox{if }}n=1;\\\\\n",
    "F_{n-1}+F_{n-2}&{\\mbox{if }}n>1.\\\\\n",
    "  \\end{cases}\n",
    "$"
   ]
  },
  {
   "cell_type": "code",
   "execution_count": 12,
   "metadata": {},
   "outputs": [
    {
     "name": "stdout",
     "output_type": "stream",
     "text": [
      "n = 0 일때 수열값 : 0\n",
      "n = 1 일때 수열값 : 1\n",
      "n = 2 일때 수열값 : 1\n",
      "n = 3 일때 수열값 : 2\n",
      "n = 4 일때 수열값 : 3\n",
      "n = 5 일때 수열값 : 5\n",
      "n = 6 일때 수열값 : 8\n",
      "n = 7 일때 수열값 : 13\n",
      "n = 8 일때 수열값 : 21\n",
      "n = 9 일때 수열값 : 34\n",
      "n = 10 일때 수열값 : 55\n",
      "n = 11 일때 수열값 : 89\n",
      "n = 12 일때 수열값 : 144\n",
      "n = 13 일때 수열값 : 233\n",
      "n = 14 일때 수열값 : 377\n",
      "n = 15 일때 수열값 : 610\n",
      "n = 16 일때 수열값 : 987\n",
      "n = 17 일때 수열값 : 1597\n",
      "n = 18 일때 수열값 : 2584\n",
      "n = 19 일때 수열값 : 4181\n"
     ]
    }
   ],
   "source": [
    "def fibonacci(n):\n",
    "    if n == 0:\n",
    "        return 0\n",
    "    elif n == 1:\n",
    "        return 1\n",
    "    else:\n",
    "        return fibonacci(n-1) + fibonacci(n-2)\n",
    "\n",
    "for i in range(20):\n",
    "    print(\"n = %d 일때 수열값 : %d\"%(i,fibonacci(i)))"
   ]
  },
  {
   "cell_type": "code",
   "execution_count": null,
   "metadata": {},
   "outputs": [],
   "source": []
  }
 ],
 "metadata": {
  "colab": {
   "collapsed_sections": [],
   "name": "homework_n02_sol_sample.ipynb",
   "provenance": [],
   "version": "0.3.2"
  },
  "kernelspec": {
   "display_name": "Python 3",
   "language": "python",
   "name": "python3"
  },
  "language_info": {
   "codemirror_mode": {
    "name": "ipython",
    "version": 3
   },
   "file_extension": ".py",
   "mimetype": "text/x-python",
   "name": "python",
   "nbconvert_exporter": "python",
   "pygments_lexer": "ipython3",
   "version": "3.5.2"
  }
 },
 "nbformat": 4,
 "nbformat_minor": 2
}
