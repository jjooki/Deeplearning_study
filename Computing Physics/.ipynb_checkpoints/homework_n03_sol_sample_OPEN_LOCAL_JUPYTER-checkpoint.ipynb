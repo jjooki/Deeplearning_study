{
 "cells": [
  {
   "cell_type": "markdown",
   "metadata": {
    "colab_type": "text",
    "id": "gfrKNROhioFg"
   },
   "source": [
    "## SNU PPSML 3차 정규과제 [10/05(금) 24:00 마감]"
   ]
  },
  {
   "cell_type": "code",
   "execution_count": 0,
   "metadata": {
    "colab": {},
    "colab_type": "code",
    "id": "m7Ghj7f0ioFm"
   },
   "outputs": [],
   "source": [
    "# Printing all outputs in a cell (not only the last output)\n",
    "from IPython.core.interactiveshell import InteractiveShell\n",
    "InteractiveShell.ast_node_interactivity = \"all\""
   ]
  },
  {
   "cell_type": "markdown",
   "metadata": {
    "colab_type": "text",
    "id": "0DBgpcWDioHC"
   },
   "source": [
    "----\n",
    "## ** [정규과제03) 문제 1번] **\n",
    "### ** 가우시안 확률 분포 *클래스* (Gaussian Distribution Class)의 구현 및 활용 [100pt] **\n",
    "\n",
    "가우시안 분포 함수 (Gaussian distribution) $G$는 다음과 같이 평균(mean, $\\mu$)과 분산(standard deviation,$\\sigma$) 두 개의 파라메터를 가지고\\\n",
    "다음과 같이 정의된다 :\n",
    "\n",
    "> $G(x; \\mu, \\sigma) =\\frac{1}{\\sigma\\sqrt{2 \\pi}} \\exp[-\\frac{(x-\\mu)^2}{2\\sigma^2}]$\n",
    "\n",
    "과제 하단의 **[정규과제03) 문제 1번 참고자료]**를 참조하여, 다음의 과제를 수행해보자."
   ]
  },
  {
   "cell_type": "code",
   "execution_count": 0,
   "metadata": {
    "colab": {},
    "colab_type": "code",
    "id": "_tf0yFKN0s69"
   },
   "outputs": [],
   "source": [
    "# 3-1) 가우시안 클래스 만들기 답안 "
   ]
  },
  {
   "cell_type": "code",
   "execution_count": 0,
   "metadata": {
    "colab": {},
    "colab_type": "code",
    "id": "UU2elbK9BFMa"
   },
   "outputs": [],
   "source": [
    "import math\n",
    "import random\n",
    "\n",
    "class Gaussian:\n",
    "    \n",
    "    mean, sigma = 0., 1.0  # (멤버변수) 가우시안의 평균과 분산 파라메터:\n",
    "    \n",
    "    list_sample = []  # (멤버변수) 가우시안 샘플을 저장할 리스트\n",
    "    \n",
    "    def __init__(self, mean, sigma):  # (메소드) 가우시안 클래스의 생성자 (인스턴스 생성시 자동 호출)\n",
    "        self.mean = mean\n",
    "        self.sigma = sigma\n",
    "        print(' * A Gaussian instance has been created with mean = {0} and sigma = {1}'.format(self.mean,self.sigma))\n",
    "        \n",
    "    def get_func(self,x):    \n",
    "        \"\"\"\n",
    "        * 가우시안 함수값 반환 (인스턴스 메소드)\n",
    "        \"\"\"\n",
    "        return 1./(self.sigma*math.sqrt(2*math.pi))*math.exp(-(x-self.mean)**2/(2*self.sigma**2))\n",
    "    \n",
    "    get_func_class=classmethod(get_func)  \n",
    "    \"\"\"\n",
    "    * 클래스 메소드로 등록: 등록된 get_func_class를 사용하면, \n",
    "    무조건 'self=클래스 객체'를 의미하도록, 인스턴스나 클래스 객체에서 바운드 메소드로 호출 가능\n",
    "    \"\"\"\n",
    "    \n",
    "    def get_func2(x,mean,sigma):\n",
    "        \"\"\"\n",
    "        * 가우시안 함수값 반환 (정적메소드: 호출자의 속성값과 상관없는 메소드의 정의(self가 없다). \n",
    "        - 클래스 객체에서는 바로 호출가능. ex) Gaussian.get_func2(x= , mean= ,sigma=)\n",
    "        - 인스턴스 객체가 바로 바운드 메소드로 호출하면 에러 => x=self로 인식 ex) g1.get_func2(x= , mean= ,sigma=) => Error! \n",
    "        \"\"\"\n",
    "        return 1./(sigma*math.sqrt(2*math.pi))*math.exp(-(x-mean)**2/(2*sigma**2))\n",
    "    \n",
    "    get_func2_static=staticmethod(get_func2)\n",
    "    \"\"\"\n",
    "    * 정적 메소드로 등록: 등록된 get_func2_static을 사용하면, 인스턴스에서도 호출가능)\n",
    "    \"\"\"\n",
    "\n",
    "    def get_integral(self, x_min, x_max, N_x, moment_order):    \n",
    "        \"\"\"\n",
    "        * 가우시안 함수의 적분값을 반환하는 메소드\n",
    "        1) integration of 'get_func(x)' for x in ['x_min', 'x_max']\n",
    "        2) 'N_x' = number of bins in x-axis\n",
    "        3) 'moment_order' = { 0:'integral', 1:'mean', 2:'std_dev', else: 'error'} \n",
    "        \"\"\"\n",
    "        if (type(N_x) != int or N_x<0): \n",
    "            return \" => check if your N_x is correctly assigned as a positive integrer.\"\n",
    "        if (x_min > x_max): \n",
    "            return \" => check if x_min < x_max.\"\n",
    "        \n",
    "        dx = (x_max-x_min)/float(N_x) \n",
    "        # <= bin width (N_x개의 막대 그래프가 있을때, 막대 그래프 한 밑변의 길이)\n",
    "        \n",
    "\n",
    "        if moment_order == 0:         \n",
    "        # moment_order 입력이 0이면, get_func(x)함수의 적분을 구분구적법으로 계산. \n",
    "\n",
    "            integral = 0.\n",
    "            for i in range(N_x):\n",
    "                xi = x_min + i*dx\n",
    "                integral += dx*self.get_func(xi)\n",
    "\n",
    "            print(\" * Integral of my Gaussian function for x in [%5.1f,%5.1f] with %i bins = %f\"\n",
    "              %(x_min,x_max,N_x,integral))\n",
    "\n",
    "            result = integral\n",
    "\n",
    "        elif moment_order == 1 or moment_order == 2: \n",
    "        # moment_order입력이 1이면, get_func(x)의 평균(=1차 모멘트)을 계산, \n",
    "        # 2이면 분산(sigma**2=2차모멘트)을 계산\n",
    "\n",
    "            # 평균의 계산\n",
    "            mean = 0.\n",
    "            for i in range(N_x):\n",
    "                xi = x_min + i*dx\n",
    "                mean += dx*self.get_func(xi)*xi\n",
    "\n",
    "            print(\" * Mean of my Gaussian function for x in [%5.1f,%5.1f] with %i bins = %f\"\n",
    "              %(x_min,x_max,N_x,mean))\n",
    "            result = mean\n",
    "\n",
    "            # 분산의 계산\n",
    "            if moment_order == 2:\n",
    "                var = 0.\n",
    "                for i in range(N_x):\n",
    "                    xi = x_min + i*dx\n",
    "                    var += dx*self.get_func(xi)*(xi-mean)**2\n",
    "\n",
    "                print(\" * Stadard Deviation of my Gaussian function for x in [%5.1f,%5.1f] with %i bins = %f\"\n",
    "                  %(x_min,x_max,N_x,math.sqrt(var)))\n",
    "                result = math.sqrt(var)\n",
    "        else:\n",
    "            return (\" => check if your input of moment_order is correctly assigned. { moment_order = 0(적분) or 1(모평균) or 2(모표준편차) } \")\n",
    "\n",
    "        return round(result,5)\n",
    "\n",
    "\n",
    "    def get_diff(self,x,dx=0.0001):\n",
    "        \"\"\"\n",
    "        * 가우시안 함수의 도함수값을 반환 \n",
    "        > {'x':미분점, 'dx':}\n",
    "        \"\"\"\n",
    "        return (self.get_func(x+dx) - self.get_func(x-dx))/dx\n",
    "\n",
    "    \n",
    "    def get_rand(self, N):\n",
    "        \"\"\"\n",
    "        * 호출 인스턴스의 가우시안 함수분포를 따르는 N개의 난수를 생성하여, 인스턴스의 리스트 변수에 저장해주는 함수.\n",
    "        \"\"\"\n",
    "        self.list_sample = []\n",
    "        for i in range(N):\n",
    "            self.list_sample.append(random.gauss(self.mean, self.sigma))\n",
    "        print(' * New Gaussian samples with size(N={0}), \\\n",
    "has been appended to \"list_sample\"'.format(N))  # 줄 바꿔쓰기(\\)\n",
    "        return\n",
    "            \n",
    "    # (메소드) 가우시안 클래스 소멸자\n",
    "    def __del__(self):\n",
    "        del self\n",
    "#         print(' * Current instance has been deleted.')\n",
    "        return\n"
   ]
  },
  {
   "cell_type": "code",
   "execution_count": 9,
   "metadata": {
    "colab": {
     "base_uri": "https://localhost:8080/",
     "height": 178
    },
    "colab_type": "code",
    "executionInfo": {
     "elapsed": 888,
     "status": "ok",
     "timestamp": 1539945408505,
     "user": {
      "displayName": "Wonsang Cho",
      "photoUrl": "",
      "userId": "03169000657209583434"
     },
     "user_tz": -540
    },
    "id": "OV7NaFciBFNk",
    "outputId": "8b24798d-b5a4-42f7-bff5-0af76e84740a"
   },
   "outputs": [
    {
     "name": "stdout",
     "output_type": "stream",
     "text": [
      " * A Gaussian instance has been created with mean = 0.0 and sigma = 2.0\n",
      "0.0\n",
      "2.0\n",
      "0.19947114020071635\n",
      "0.19947114020071635\n",
      "0.3989422804014327\n",
      "0.3989422804014327\n",
      "0.19947114020071635\n",
      "0.19947114020071635\n"
     ]
    }
   ],
   "source": [
    "# Just for testing (답안 관련 없음)\n",
    "\n",
    "g = Gaussian(0.,2.0) # 가우시안 클래스의 인스턴스 선언\n",
    "\n",
    "print(g.mean)\n",
    "print(g.sigma)\n",
    "print(g.get_func(0.)) # get_func를 바운드 방식으로 호출\n",
    "print(Gaussian.get_func(g,0.))  # 클래스 객체를 통하여 get_func를 언바운드 방식으로 호출 (self=g)\n",
    "print(g.get_func_class(0.)) # 클래스 메소드 get_func_class를 바운드 방식으로 호출(self=클래스 객체, Gaussian)\n",
    "print(Gaussian.get_func_class(0.)) # 클래스 메소드 get_func_class를 클래스 객체를 통한 바운드 방식으로 호출 (self=Gaussian)\n",
    "print(g.get_func2_static(x=0., mean=0.0,sigma=2.0)) # 인스턴스g를 통한 정적 메소드의 호출 (g를 넘기지 않는다.)\n",
    "print(Gaussian.get_func2_static(x=0., mean=0., sigma=2.0)) # 클래스 객체를 통한 정적 메소드의 호출 (Gaussian을 넘기지 않는다)"
   ]
  },
  {
   "cell_type": "code",
   "execution_count": 0,
   "metadata": {
    "colab": {},
    "colab_type": "code",
    "id": "uM25-25o0s7X"
   },
   "outputs": [],
   "source": [
    "# 3-2) 답안"
   ]
  },
  {
   "cell_type": "code",
   "execution_count": 3,
   "metadata": {
    "colab": {
     "base_uri": "https://localhost:8080/",
     "height": 142
    },
    "colab_type": "code",
    "executionInfo": {
     "elapsed": 916,
     "status": "ok",
     "timestamp": 1539944474244,
     "user": {
      "displayName": "Wonsang Cho",
      "photoUrl": "",
      "userId": "03169000657209583434"
     },
     "user_tz": -540
    },
    "id": "MvxhYLLc0s7c",
    "outputId": "81c39d4d-f62d-435c-83e8-5ccf85817f0e"
   },
   "outputs": [
    {
     "name": "stdout",
     "output_type": "stream",
     "text": [
      " * A Gaussian instance has been created with mean = 0.0 and sigma = 2.0\n",
      " * Integral of my Gaussian function for x in [ -5.0,  5.0] with 10000 bins = 0.987581\n",
      "0.98758\n",
      " * Integral of my Gaussian function for x in [-10.0, 10.0] with 10000 bins = 0.999999\n",
      "1.0\n",
      " * Integral of my Gaussian function for x in [-11.0, 11.0] with 10000 bins = 1.000000\n",
      "1.0\n"
     ]
    }
   ],
   "source": [
    "g2 = Gaussian(0.,2.0)\n",
    "\n",
    "# 가우시안 적분 1\n",
    "print(g2.get_integral(x_min=-5., x_max=+5, N_x=10000, moment_order=0))\n",
    "\n",
    "# 가우시안 적분 2\n",
    "print(g2.get_integral(x_min=-10., x_max=+10, N_x=10000, moment_order=0))\n",
    "\n",
    "# 가우시안 적분 3\n",
    "print(g2.get_integral(x_min=-11., x_max=+11, N_x=10000, moment_order=0))"
   ]
  },
  {
   "cell_type": "code",
   "execution_count": 4,
   "metadata": {
    "colab": {
     "base_uri": "https://localhost:8080/",
     "height": 106
    },
    "colab_type": "code",
    "executionInfo": {
     "elapsed": 853,
     "status": "ok",
     "timestamp": 1539944478235,
     "user": {
      "displayName": "Wonsang Cho",
      "photoUrl": "",
      "userId": "03169000657209583434"
     },
     "user_tz": -540
    },
    "id": "K1Rojwfl0s7n",
    "outputId": "0a2f37df-433b-4068-8963-8be50cbb658c"
   },
   "outputs": [
    {
     "name": "stdout",
     "output_type": "stream",
     "text": [
      " * A Gaussian instance has been created with mean = 0.0 and sigma = 10.0\n",
      " * Integral of my Gaussian function for x in [-10.0, 10.0] with 10000 bins = 0.682689\n",
      " * Integral of my Gaussian function for x in [-100.0,100.0] with 10000 bins = 1.000000\n",
      "\n",
      " * => Area_1sigma/Area_tot = 0.682690\n"
     ]
    }
   ],
   "source": [
    "# Integration in 1-sigma area\n",
    "sigma = 10.0\n",
    "g2 = Gaussian(0.,sigma)\n",
    "\n",
    "Area_1sigma = g2.get_integral(x_min=-sigma,x_max=+sigma, N_x=10000, moment_order=0)\n",
    "Area_tot = g2.get_integral(x_min=-10.*sigma, x_max=+10.*sigma, N_x=10000, moment_order=0)\n",
    "\n",
    "print (\"\\n * => Area_1sigma/Area_tot = %7.6f\"%(Area_1sigma/Area_tot))"
   ]
  },
  {
   "cell_type": "code",
   "execution_count": 5,
   "metadata": {
    "colab": {
     "base_uri": "https://localhost:8080/",
     "height": 71
    },
    "colab_type": "code",
    "executionInfo": {
     "elapsed": 836,
     "status": "ok",
     "timestamp": 1539944480297,
     "user": {
      "displayName": "Wonsang Cho",
      "photoUrl": "",
      "userId": "03169000657209583434"
     },
     "user_tz": -540
    },
    "id": "XEHovDre0s7x",
    "outputId": "b051e65b-69d2-47c5-8518-2c31111a85f1"
   },
   "outputs": [
    {
     "name": "stdout",
     "output_type": "stream",
     "text": [
      " * A Gaussian instance has been created with mean = 0.0 and sigma = 1.0\n",
      "\n",
      " * => Diff at (x = 0.000000) is 0.000\n"
     ]
    }
   ],
   "source": [
    "# Differentiation at x = mean \n",
    "\n",
    "mean = 0.0\n",
    "sigma = 1.0\n",
    "\n",
    "g2 = Gaussian(mean,sigma)\n",
    "Diff = g2.get_diff(x=mean)\n",
    "\n",
    "print (\"\\n * => Diff at (x = %f) is %5.3f\"%(mean,Diff))"
   ]
  },
  {
   "cell_type": "code",
   "execution_count": 0,
   "metadata": {
    "colab": {},
    "colab_type": "code",
    "id": "Yc3gCl2Z1E1J"
   },
   "outputs": [],
   "source": [
    "# 3-3) 답안 : 적분을 통한 모평균, 모표준편차 체크"
   ]
  },
  {
   "cell_type": "code",
   "execution_count": 6,
   "metadata": {
    "colab": {
     "base_uri": "https://localhost:8080/",
     "height": 160
    },
    "colab_type": "code",
    "executionInfo": {
     "elapsed": 844,
     "status": "ok",
     "timestamp": 1539944483108,
     "user": {
      "displayName": "Wonsang Cho",
      "photoUrl": "",
      "userId": "03169000657209583434"
     },
     "user_tz": -540
    },
    "id": "mJHnCxdhBFQG",
    "outputId": "6454dab4-5b5f-4a86-b407-94922bfe4fde"
   },
   "outputs": [
    {
     "name": "stdout",
     "output_type": "stream",
     "text": [
      " * A Gaussian instance has been created with mean = 10.0 and sigma = 3.0\n",
      " * Integral of my Gaussian function for x in [-10.0, 30.0] with 10000 bins = 1.000000\n",
      "1.0\n",
      " * Mean of my Gaussian function for x in [-10.0, 30.0] with 10000 bins = 10.000000\n",
      "10.0\n",
      " * Mean of my Gaussian function for x in [-10.0, 30.0] with 10000 bins = 10.000000\n",
      " * Stadard Deviation of my Gaussian function for x in [-10.0, 30.0] with 10000 bins = 3.000000\n",
      "3.0\n"
     ]
    }
   ],
   "source": [
    "g2 = Gaussian(mean=10., sigma=3.0)\n",
    "\n",
    "# 가우시안 적분\n",
    "print(g2.get_integral(x_min=-10., x_max=+30, N_x=10000, moment_order=0))\n",
    "\n",
    "# 가우시안 분포의 모평균\n",
    "print(g2.get_integral(x_min=-10., x_max=+30, N_x=10000, moment_order=1))\n",
    "\n",
    "# 가우시안 분포의 모표준편차\n",
    "print(g2.get_integral(x_min=-10., x_max=+30, N_x=10000, moment_order=2))"
   ]
  },
  {
   "cell_type": "code",
   "execution_count": 0,
   "metadata": {
    "colab": {},
    "colab_type": "code",
    "id": "zsEIByg31yqJ"
   },
   "outputs": [],
   "source": [
    "# 3-4 답안 : 시각화"
   ]
  },
  {
   "cell_type": "code",
   "execution_count": 7,
   "metadata": {
    "cellView": "code",
    "colab": {
     "base_uri": "https://localhost:8080/",
     "height": 482
    },
    "colab_type": "code",
    "executionInfo": {
     "elapsed": 1633,
     "status": "ok",
     "timestamp": 1539944486620,
     "user": {
      "displayName": "Wonsang Cho",
      "photoUrl": "",
      "userId": "03169000657209583434"
     },
     "user_tz": -540
    },
    "id": "9PTYzGzMwQOx",
    "outputId": "f2fcdce4-b23f-482c-b94d-4330d45daaba"
   },
   "outputs": [
    {
     "name": "stdout",
     "output_type": "stream",
     "text": [
      " * A Gaussian instance has been created with mean = 0.0 and sigma = 2.0\n",
      " * New Gaussian samples with size(N=10000), has been appended to \"list_sample\"\n"
     ]
    },
    {
     "data": {
      "image/png": "[encoded data removed]",
      "text/plain": [
       "<matplotlib.figure.Figure at 0x7fcd835c8ac8>"
      ]
     },
     "metadata": {
      "tags": []
     },
     "output_type": "display_data"
    }
   ],
   "source": [
    "# ploting Gaussian function using Numpy and Matplotlib\n",
    "import numpy as np\n",
    "import matplotlib.pyplot as plt\n",
    "\n",
    "# * Preparation of Gaussian function data using an instance.\n",
    "# ---------------------------------------------------------\n",
    "m = 0.\n",
    "sb = 2.\n",
    "N = 1000\n",
    "\n",
    "g = Gaussian(m, sb)\n",
    "\n",
    "xmin, xmax = m-10.*sb, m+10.*sb\n",
    "\n",
    "x_list = np.linspace(xmin, xmax, N) # plot에 쓰일 x값들을 np.array로 정의(linspace 활용)\n",
    "G_func_list = np.array([ g.get_func(i) for i in x_list ]) # plot에 쓰일 f(x)값들을 np.array로 정의(리스트 내장과 numpy를 함께 활용)\n",
    "\n",
    "\n",
    "# * Preparation of Gaussian random sample data\n",
    "# ---------------------------------------------------------\n",
    "g.get_rand(10000) # g의 가우시안 프로파일을 따르는 1000개의 난수를 생성하여 g.list_sample (리스트)에 저장 \n",
    "# print ('list_sample of g = ',g.list_sample)\n",
    "\n",
    "\n",
    "# * Declaration of matplotlib figure & axes objects\n",
    "# * Plotting the function data (as a graph) & the random sampling data (as a histogram)\n",
    "# ---------------------------------------------------------\n",
    "fig = plt.figure(figsize=(7,7)) # pyplot figure class의 인스턴스를 선언\n",
    "\n",
    "ax = fig.add_subplot(1,1,1) # figure객체의 add_subplot()을 활용한 axes클래스의 인스턴스(ax)의 선언\n",
    "\n",
    "# G_func_list data plot\n",
    "ax.plot(x_list, G_func_list, \\\n",
    "        label = 'Gaussian Probability Distribution ($\\mu$= %4.1f, $\\sigma$=%3.1f)'%(m,sb),color='black',linestyle='dashed') \n",
    "\n",
    "# g.list_sample data plot (on the same axes)\n",
    "ax.hist(g.list_sample, bins=50, density=True, weights=None, facecolor='orange', alpha=0.75,\\\n",
    "        label='Gaussian Sample ($\\mu$= %4.1f, $\\sigma$=%3.1f, N=%i)'%(m,sb,N))\n",
    "\n",
    "ax.set_xlabel('x') # x축 라벨 정의\n",
    "ax.set_xbound(-10,10) # x축 범위 설정\n",
    "ax.set_ylabel('Gaussian($x$; $\\mu$,$\\sigma$)') # y축 라벨 정의\n",
    "ax.set_ybound(0,0.3) # y축 범위 설정\n",
    "ax.grid(True) # 그리드 온\n",
    "\n",
    "\n",
    "ax.legend(loc='upper left') # 레전드 출력하기(위치)\n",
    "plt.savefig('./gaussian.png', dpi=fig.dpi, bbox_inches='tight') # 플랏을 .png파일로 저장\n",
    "plt.show() # 현재 노트에 출력\n",
    "    "
   ]
  },
  {
   "cell_type": "markdown",
   "metadata": {
    "colab_type": "text",
    "id": "J35pQpy3BFQg"
   },
   "source": [
    "----"
   ]
  },
  {
   "cell_type": "markdown",
   "metadata": {
    "colab_type": "text",
    "id": "oElGk8G5zQpy"
   },
   "source": [
    "## ** [정규과제03) 1번 참고자료] **\n",
    "### ** 가우시안 확률 분포 (Gaussian Distribution)의 구현 및 활용 **\n",
    "\n",
    "가우시안 분포 함수 (Gaussian distribution) $G$ 는 다음과 같이 평균(mean, $\\mu$)과 분산(standard deviation,$\\sigma$) 두 개의 파라메터를 가지고\\\n",
    "다음과 같이 정의된다 :\n",
    "\n",
    "> $G(x; \\mu, \\sigma) =\\frac{1}{\\sigma\\sqrt{2 \\pi}} \\exp[-\\frac{(x-\\mu)^2}{2\\sigma^2}]$\n",
    "\n",
    "**1** 위의 가우시안 분포 함수식을 이용하여, 평균($m$)과 표준편차($sb$)을 파라메터로 가지는 정규화된 가우시안 함수를, 파이썬에서 정의해보자.\n",
    "\n",
    "**2** 구분 구적법을 구현하는 메소드를 작성하여, 1번에서 정의한 1차원 가우시안 함수($\\mu = 0,\\,\\sigma = 2.0$)를 수치적으로 적분하여보자. 적분 결과가 1에 최대한 가까워지도록, 총 적분 구간($x_{min}$, $x_{max}$)과 세부 구분 구간($\\Delta{x}$)의 크기과 갯수를 잘 조절하여보자. \n",
    "\n",
    "**3** 2번에서 구현한 수치 적분 프로그램을 사용하여 임의의 평균($\\mu$)과 분산($\\sigma^2$)값을 파라메터로 가진 가우시안 함수의 (모)평균과 (모)분산을 계산하여보자.\n",
    "\n",
    "**4** 구현한 가우시안 함수를 Numpy와 Matplotlib를 활용하여 시각화해보자."
   ]
  },
  {
   "cell_type": "markdown",
   "metadata": {
    "colab_type": "text",
    "id": "-H_ax1xT0s8i"
   },
   "source": [
    "** [sample code for 1] **"
   ]
  },
  {
   "cell_type": "code",
   "execution_count": 0,
   "metadata": {
    "colab": {},
    "colab_type": "code",
    "id": "1ffw-ukIG-IC"
   },
   "outputs": [],
   "source": [
    "import math\n",
    "\n",
    "# 가우시안 분포 함수의 정의\n",
    "def G(x,m=0.,sb=1.):\n",
    "    \"\"\"\n",
    "    1) x : 분포 함수가 정의된 공간값 입력\n",
    "    2) m : 평균값 파라메터\n",
    "    3) sb : 분산값 파라메터\n",
    "    \"\"\"\n",
    "    return 1./(sb*math.sqrt(2.*math.pi))*math.exp(-(x-m)**2/(2.*sb**2))\n",
    "\n",
    "G(0.,0.,2.)\n",
    "# G(0.)"
   ]
  },
  {
   "cell_type": "markdown",
   "metadata": {
    "colab_type": "text",
    "id": "-nW1odj90s8t"
   },
   "source": [
    "** [sample code for 2] **"
   ]
  },
  {
   "cell_type": "code",
   "execution_count": 0,
   "metadata": {
    "colab": {},
    "colab_type": "code",
    "id": "37E-nNolBFTO"
   },
   "outputs": [],
   "source": [
    "\n",
    "# 입력함수에 대한 여러가지 적분값(0,1,2차 모멘트)을 반환해주는 함수를 정의 \n",
    "def Integrals(x_min, x_max, N_x, moment_order, myfunc, **kwargs):\n",
    "    \"\"\"\n",
    "    1) 'x_min' : 적분하한\n",
    "    2) 'x_max' : 적분상한\n",
    "    3) 'N_x' : [x_min, x_max)에서의 구분구적법을 위한 구분간격수\n",
    "    4) 'moment_order' :  \n",
    "       if 0, calc & return ordinary integral of 'myfunc'\n",
    "       if 1, calc & return mean of 'myfunc', \n",
    "       if 2, calc & return standard deviation of 'myfunc'\n",
    "    5) 'myfunc' : 입력함수\n",
    "    5) 'kwargs' : dictionary of function parameters\n",
    "       ex) for Gaussian, kwargs = {\"m\": m, \"sb\": sb} \n",
    "    \"\"\"\n",
    "    \n",
    "    # N_x의 적절성 판정\n",
    "    if (type(N_x) != int or N_x<0): \n",
    "        return \" => check if your N is correctly assigned as a positive integrer.\"\n",
    "    \n",
    "    dx = (x_max-x_min)/N_x\n",
    "    \n",
    "    # 일반 적분 계산(0th order moment)\n",
    "    if moment_order == 0: \n",
    "\n",
    "        integral = 0.\n",
    "        for i in range(N_x):\n",
    "            xi = x_min + i*dx\n",
    "            integral += dx*myfunc(xi, **kwargs)\n",
    "        \n",
    "        print(\"Integral of myfunc in [%5.1f,%5.1f] with %i bins = %f\"\n",
    "          %(x_min,x_max,N_x,integral))\n",
    "    \n",
    "        result = integral\n",
    "        \n",
    "    # (모)평균값/(모)분산값 계산(mean/standard dev calculation =  1st/2nd order moment)\n",
    "    elif moment_order == 1 or moment_order == 2: \n",
    "    \n",
    "        mean = 0.\n",
    "        for i in range(N_x):\n",
    "            xi = x_min + i*dx\n",
    "            mean += dx*myfunc(xi, **kwargs)*xi\n",
    "        \n",
    "        print(\"Mean of myfunc in [%5.1f,%5.1f] with %i bins = %f\"\n",
    "          %(x_min,x_max,N_x,mean))\n",
    "        \n",
    "        result = mean\n",
    "        \n",
    "        # std_dev calculation\n",
    "        if moment_order == 2:\n",
    "        \n",
    "            var = 0.\n",
    "            for i in range(N_x):\n",
    "                xi = x_min + i*dx\n",
    "                var += dx*myfunc(xi, **kwargs)*(xi-mean)**2\n",
    "\n",
    "            print(\"..and \\nStd Dev of myfunc in [%5.1f,%5.1f] with %i bins = %f\"\n",
    "              %(x_min,x_max,N_x,math.sqrt(var)))\n",
    "\n",
    "            result = math.sqrt(var)\n",
    "\n",
    "\n",
    "    # 현재 입력 함수의 파라메터 출력 \n",
    "    n_par = 0\n",
    "    for key, val in kwargs.items():\n",
    "        n_par += 1\n",
    "        print ('  with myfunc par %s) %s  = %s' % (n_par, key, val))\n",
    "    print('')\n",
    "\n",
    "            \n",
    "    return round(result,10)"
   ]
  },
  {
   "cell_type": "markdown",
   "metadata": {
    "colab_type": "text",
    "id": "SZRmuF3j0s86"
   },
   "source": [
    "** [sample code for 3] **"
   ]
  },
  {
   "cell_type": "markdown",
   "metadata": {
    "colab_type": "text",
    "id": "GnrfIQ8O0s9D"
   },
   "source": [
    "** [sample code for 4] **"
   ]
  },
  {
   "cell_type": "code",
   "execution_count": 0,
   "metadata": {
    "colab": {},
    "colab_type": "code",
    "id": "31f4GmiQBFT2"
   },
   "outputs": [],
   "source": [
    "# ploting the function using Numpy and Matplotlib\n",
    "import numpy as np\n",
    "import matplotlib.pyplot as plt\n",
    "\n",
    "m = 0.\n",
    "sb = 2.\n",
    "N = 1000\n",
    "\n",
    "xmin, xmax = m-10.*sb, m+10.*sb\n",
    "\n",
    "x_list = np.linspace(xmin, xmax, N) # plot에 쓰일 x값들을 np.array로 정의(linspace 활용)\n",
    "G_list = np.array([ G(i, m, sb) for i in x_list ]) # plot에 쓰일 f(x)값들을 np.array로 정의(리스트 내장과 numpy를 함께 활용)\n",
    "\n",
    "fig = plt.figure(figsize=(7,7)) # pyplot figure class의 인스턴스를 선언\n",
    "\n",
    "ax = fig.add_subplot(1,1,1) # figure객체의 add_subplot()을 활용한 axes클래스의 인스턴스(ax)의 선언\n",
    "ax.plot(x_list, G_list, label = 'Gaussian Probability Distribution ($\\mu$= %4.1f, $\\sigma$=%3.1f)'%(m,sb),color='red',linestyle='dashed') # ax에 플랏(axes.plot()함수의 doc을 열어 참조할 것)\n",
    "ax.set_xlabel('x') # x축 라벨 정의\n",
    "ax.set_xbound(-10,10) # x축 범위 설정\n",
    "ax.set_ylabel('Gaussian($x$; $\\mu$,$\\sigma$)') # y축 라벨 정의\n",
    "ax.set_ybound(0,0.25) # y축 범위 설정\n",
    "ax.grid(True) # 그리드 온\n",
    "ax.legend(loc='upper left') # 레전드 출력하기(위치)\n",
    "\n",
    "\n",
    "plt.savefig('./gaussian.png', dpi=hist_fig.dpi, bbox_inches='tight') # 플랏을 .png파일로 저장\n",
    "plt.show() # 현재 노트에 출력\n"
   ]
  },
  {
   "cell_type": "code",
   "execution_count": 0,
   "metadata": {
    "colab": {},
    "colab_type": "code",
    "id": "IOfcsy_00s9U"
   },
   "outputs": [],
   "source": []
  }
 ],
 "metadata": {
  "colab": {
   "collapsed_sections": [],
   "name": "homework_n03_sol_sample_OPEN_LOCAL_JUPYTER.ipynb",
   "provenance": [],
   "version": "0.3.2"
  },
  "kernelspec": {
   "display_name": "Python 3",
   "language": "python",
   "name": "python3"
  },
  "language_info": {
   "codemirror_mode": {
    "name": "ipython",
    "version": 3
   },
   "file_extension": ".py",
   "mimetype": "text/x-python",
   "name": "python",
   "nbconvert_exporter": "python",
   "pygments_lexer": "ipython3",
   "version": "3.5.2"
  }
 },
 "nbformat": 4,
 "nbformat_minor": 1
}
