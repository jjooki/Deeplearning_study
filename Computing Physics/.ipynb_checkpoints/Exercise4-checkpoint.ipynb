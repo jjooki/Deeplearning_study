{
 "cells": [
  {
   "cell_type": "markdown",
   "metadata": {},
   "source": [
    "# 클래스의 상속, 메소드 재정의 & 메소드 중복정의"
   ]
  },
  {
   "cell_type": "markdown",
   "metadata": {},
   "source": [
    "## 1.클래스의 상속"
   ]
  },
  {
   "cell_type": "code",
   "execution_count": 2,
   "metadata": {},
   "outputs": [],
   "source": [
    "# 부모 클래스 \n",
    "class Parent:\n",
    "    \n",
    "    str_var = \"string_parent\" \n",
    "    \n",
    "    def __init__(self, a, b):\n",
    "        self.A = a\n",
    "        self.B = b\n",
    " \n",
    "    def print_parent_data(self):\n",
    "        print(\" Parent_Data (A:{0}, B:{1})\".format(self.A, self.B))\n",
    "        \n",
    "    def print_all_data(self):\n",
    "        print(\" Parent_Data (A:{0}, B:{1})\".format(self.A, self.B))"
   ]
  },
  {
   "cell_type": "code",
   "execution_count": 16,
   "metadata": {},
   "outputs": [],
   "source": [
    "# 자식 클래스\n",
    "class Child(Parent):  # <-- 자식 클래스는 상속받을 부모 클래스의 리스트를 괄호 안에 기입한다. 한 개 이상의 다중 상속일경우 ','로 구분해서 기입한다. \n",
    "    # 이렇게 부모클래스를 상속하면 부모 클래스의 모든 속성을 그대로 물려받음.\n",
    "    \n",
    "    def __init__(self, a, b, c, d):\n",
    "        self.A = a\n",
    "        self.B = b\n",
    "        self.C = c\n",
    "        self.D = d"
   ]
  },
  {
   "cell_type": "code",
   "execution_count": 17,
   "metadata": {},
   "outputs": [],
   "source": [
    "p = Parent(\"A_parent\",\"B_parent\")  # 부모 클래스의 인스턴스 p 생성\n",
    "c = Child(\"A_child\",\"B_child\",\"C_child\",\"D_child\")  # 자식 클래스의 인스턴스 c 생성"
   ]
  },
  {
   "cell_type": "code",
   "execution_count": 18,
   "metadata": {
    "scrolled": true
   },
   "outputs": [
    {
     "data": {
      "text/plain": [
       "'string_parent'"
      ]
     },
     "execution_count": 18,
     "metadata": {},
     "output_type": "execute_result"
    }
   ],
   "source": [
    "# 자식 클래스의 인스턴스에서, 부모 클래스에 정의된 변수의 호출\n",
    "c.str_var"
   ]
  },
  {
   "cell_type": "code",
   "execution_count": 19,
   "metadata": {},
   "outputs": [
    {
     "name": "stdout",
     "output_type": "stream",
     "text": [
      " Parent_Data (A:A_child, B:B_child)\n",
      " Parent_Data (A:A_child, B:B_child)\n"
     ]
    }
   ],
   "source": [
    "# 자식 클래스의 인스턴스 c에서, 부모 클래스에 정의된 메소드의 호출\n",
    "c.print_all_data()\n",
    "c.print_parent_data()"
   ]
  },
  {
   "cell_type": "code",
   "execution_count": 20,
   "metadata": {},
   "outputs": [],
   "source": [
    "# 자식 클래스\n",
    "class Child2(Parent):  # <-- 자식 클래스는 상속받을 부모 클래스의 리스트를 괄호 안에 기입한다. 한 개 이상의 다중 상속일경우 ','로 구분해서 기입한다. \n",
    "    # 이렇게 부모클래스를 상속하면 부모 클래스의 모든 속성을 그대로 물려받음.\n",
    "    \n",
    "    def __init__(self, a, b, c, d):\n",
    "        Parent.__init__(self, a, b)  # <-- 언바운드 호출 방식으로, 부모 클래스의 생성자를 호출(명시적으로 self를 전달)\n",
    "        self.C = c\n",
    "        self.D = d\n",
    "    "
   ]
  },
  {
   "cell_type": "code",
   "execution_count": 21,
   "metadata": {},
   "outputs": [
    {
     "data": {
      "text/plain": [
       "{'A': 'A_child2', 'B': 'B_child2', 'C': 'C_child2', 'D': 'D_child2'}"
      ]
     },
     "execution_count": 21,
     "metadata": {},
     "output_type": "execute_result"
    }
   ],
   "source": [
    "c2 = Child2(\"A_child2\",\"B_child2\",\"C_child2\",\"D_child2\")  # 자식 클래스의 인스턴스 생성\n",
    "c2.__dict__"
   ]
  },
  {
   "cell_type": "code",
   "execution_count": 22,
   "metadata": {},
   "outputs": [],
   "source": [
    "# 자식 클래스에 변수와 메소드를 추가\n",
    "\n",
    "class Child3(Parent):\n",
    "    \n",
    "    C = \"default C of Child3\"  # 자식 클래스만의 새로운 변수 C추가\n",
    "    D = \"default D of Child3\"  # 자식 클래스만의 새로운 변수 D추가\n",
    "    \n",
    "    def __init__(self, a, b, c, d):\n",
    "        Parent.__init__(self, a, b)\n",
    "        self.C = c\n",
    "        self.D = d\n",
    "    \n",
    "    def print_child_data(self):  # <-- 자식 클래스만의 새로운 메소드 추가\n",
    "        print(\" Child_Data (C:{0}, D:{1})\".format(self.C, self.D))\n"
   ]
  },
  {
   "cell_type": "code",
   "execution_count": 23,
   "metadata": {},
   "outputs": [],
   "source": [
    "c3 = Child3(\"A_child3\",\"B_child3\",\"C_child3\",\"D_child3\")   # Child3 클래스의 인스턴스 생성"
   ]
  },
  {
   "cell_type": "code",
   "execution_count": 24,
   "metadata": {},
   "outputs": [
    {
     "name": "stdout",
     "output_type": "stream",
     "text": [
      " Parent_Data (A:A_child3, B:B_child3)\n"
     ]
    }
   ],
   "source": [
    "c3.print_parent_data()  # <-- 부모 클래스로부터 상속받은 메소드 호출 "
   ]
  },
  {
   "cell_type": "code",
   "execution_count": 25,
   "metadata": {},
   "outputs": [
    {
     "name": "stdout",
     "output_type": "stream",
     "text": [
      " Child_Data (C:C_child3, D:D_child3)\n"
     ]
    }
   ],
   "source": [
    "c3.print_child_data()  # <-- 자식 클래스(Child3)에 추가된 메소드 호출"
   ]
  },
  {
   "cell_type": "markdown",
   "metadata": {},
   "source": [
    "## 2.메소드의 확장"
   ]
  },
  {
   "cell_type": "code",
   "execution_count": 26,
   "metadata": {},
   "outputs": [],
   "source": [
    "# 자식 클래스에서 부모 클래스 메소드의 확장\n",
    "class Child4(Parent):\n",
    "    \n",
    "    C = \"default C of Child5\"  # 자식 클래스만의 새로운 변수 C추가\n",
    "    D = \"default D of Child5\"  # 자식 클래스만의 새로운 변수 D추가\n",
    "    \n",
    "    def __init__(self, a, b, c, d):\n",
    "        Parent.__init__(self, a, b)\n",
    "        self.C = c\n",
    "        self.D = d\n",
    "    \n",
    "    def print_child_data(self):  # <-- 자식 클래스만의 새로운 메소드 추가\n",
    "        print(\" Child_Data (C:{0}, D:{1})\".format(self.C, self.D))\n",
    "\n",
    "    def print_all_data(self):  # <-- 자식 클래스에서 print_all_data() 메소드를 확장\n",
    "        # print(\" Parent_Data (A:{0}, A:{1})\".format(self.A, self.B))  # <-- 기존 Child4클래스에서 재정의시에, 부모 클래스 Parent.print_all_data()의 내용과 중복됨.\n",
    "        Parent.print_all_data(self)  # <-- 확장시, 부모 클래스와 중복되는 내용은 부모 클래스의 메소드를 직접 명시적으로 호출 \n",
    "        print(\" Child_Data (C:{0}, D:{1})\".format(self.C, self.D))  # <-- 자식 클래스에서 확장되는 부문 "
   ]
  },
  {
   "cell_type": "code",
   "execution_count": 29,
   "metadata": {},
   "outputs": [],
   "source": [
    "c5 = Child4(\"A_child5\",\"B_child5\",\"C_child5\",\"D_child5\")   # Child5 클래스의 인스턴스 생성"
   ]
  },
  {
   "cell_type": "code",
   "execution_count": 30,
   "metadata": {},
   "outputs": [
    {
     "name": "stdout",
     "output_type": "stream",
     "text": [
      " Parent_Data (A:A_child5, B:B_child5)\n",
      " Child_Data (C:C_child5, D:D_child5)\n"
     ]
    }
   ],
   "source": [
    "c5.print_all_data()  # <-- 확장한 메소드를 호출"
   ]
  },
  {
   "cell_type": "markdown",
   "metadata": {},
   "source": [
    "다중상속"
   ]
  },
  {
   "cell_type": "code",
   "execution_count": 31,
   "metadata": {},
   "outputs": [],
   "source": [
    "# 다중 상속\n",
    "\n",
    "class mother:\n",
    "    \n",
    "    def playing_piano(self):\n",
    "        print(\"I can play the piano very well\")\n",
    "        \n",
    "    def cooking(self):\n",
    "        print(\"I cook so well like as mother\")\n",
    "        \n",
    "class father:\n",
    "    \n",
    "    def playing_soccer(self):\n",
    "        print(\"I can play soccer very well\")\n",
    "        \n",
    "    def cooking(self):\n",
    "        print(\"I cook so well like as father\")\n",
    "    \n",
    "class baby(mother, father):  # <-- 다중 상속받은 자식 클래스. (<1>,<2>,...) 순서로 상속\n",
    "    def drawing(self):\n",
    "        print(\"I can also draw a picture quite well\")\n",
    "        "
   ]
  },
  {
   "cell_type": "code",
   "execution_count": 32,
   "metadata": {},
   "outputs": [],
   "source": [
    "b = baby()"
   ]
  },
  {
   "cell_type": "code",
   "execution_count": 33,
   "metadata": {},
   "outputs": [
    {
     "name": "stdout",
     "output_type": "stream",
     "text": [
      "I can play the piano very well\n",
      "I can play soccer very well\n",
      "I can also draw a picture quite well\n"
     ]
    }
   ],
   "source": [
    "b.playing_piano()\n",
    "b.playing_soccer()\n",
    "b.drawing()"
   ]
  },
  {
   "cell_type": "markdown",
   "metadata": {},
   "source": [
    "## 3. 연산자 중복 정의"
   ]
  },
  {
   "cell_type": "markdown",
   "metadata": {},
   "source": [
    "파이썬에 내장되어 있는 여러가지 기호로 된 연산자들을 각각 대응되어 있는 메소드의 이름을 이용해 새로운 메소드에 기호들을 대응시킬 수 있다."
   ]
  },
  {
   "cell_type": "markdown",
   "metadata": {},
   "source": [
    "`+       __add__(self,other)`\n",
    "\n",
    "`-       __sub__(self,other)`\n",
    "\n",
    "`*       __mul__(self,other)`\n",
    "\n",
    "`/       __truediv__(self,other)`\n",
    "\n",
    "`str     __str__(self)`"
   ]
  },
  {
   "cell_type": "code",
   "execution_count": 39,
   "metadata": {},
   "outputs": [],
   "source": [
    "# 예1) 수치 연산자의 간단한 중복정의\n",
    "\n",
    "class arithmetic:\n",
    "\n",
    "    def __init__(self,num):\n",
    "        self.num = num\n",
    "        print(\"initializer called with num = \",self.num)\n",
    "        \n",
    "    def __add__(self,num2):\n",
    "        self.num *= num2\n",
    "        return arithmetic(self.num)\n",
    "    \n",
    "    def __sub__(self,num2):\n",
    "        self.num += num2\n",
    "        return arithmetic(self.num)\n",
    "\n",
    "    def __mul__(self,num2):\n",
    "        self.num -= num2\n",
    "        return arithmetic(self.num)\n",
    "    \n",
    "    def __truediv__(self,num2):\n",
    "        self.num /= num2\n",
    "        return arithmetic(self.num)\n",
    "        \n",
    "    def __gt__(self,num2):  # 대소비교 :True or False\n",
    "        return self.num > num2\n",
    "    \n",
    "    def __lt__(self,num2):  # 대소비교 :True or False\n",
    "        return self.num < num2\n",
    "    \n",
    "    def __str__(self):  # print시 호출될 문자열 지정\n",
    "#         print(\"num value of this object = {0}\".format(self.num))\n",
    "        return \"num value of this object = {0}\".format(self.num)"
   ]
  },
  {
   "cell_type": "code",
   "execution_count": 40,
   "metadata": {},
   "outputs": [
    {
     "name": "stdout",
     "output_type": "stream",
     "text": [
      "initializer called with num =  100\n",
      "initializer called with num =  200\n",
      "num value of this object = 100\n",
      "num value of this object = 200\n"
     ]
    },
    {
     "data": {
      "text/plain": [
       "'num value of this object = 200'"
      ]
     },
     "execution_count": 40,
     "metadata": {},
     "output_type": "execute_result"
    }
   ],
   "source": [
    "A = arithmetic(100)  # arithmetic 클래스의 인스턴스 \n",
    "B = arithmetic(200)\n",
    "\n",
    "print(A)\n",
    "print(B)\n",
    "A.__str__()\n",
    "B.__str__()"
   ]
  },
  {
   "cell_type": "code",
   "execution_count": 41,
   "metadata": {
    "scrolled": true
   },
   "outputs": [
    {
     "name": "stdout",
     "output_type": "stream",
     "text": [
      "initializer called with num =  10000\n",
      "num value of this object = 10000\n"
     ]
    }
   ],
   "source": [
    "B = A + 100 # A.__add__(100)\n",
    "print(B)  # B.__str__()"
   ]
  },
  {
   "cell_type": "markdown",
   "metadata": {},
   "source": [
    "#### 클래스 안의 함수"
   ]
  },
  {
   "cell_type": "code",
   "execution_count": 5,
   "metadata": {},
   "outputs": [],
   "source": [
    "class ww:\n",
    "    x = 0.\n",
    "    def good(self,a):\n",
    "        return a+self.x\n",
    "    \n",
    "    def bad(self,a):\n",
    "        return self.good(a)*self.x"
   ]
  },
  {
   "cell_type": "code",
   "execution_count": 6,
   "metadata": {},
   "outputs": [
    {
     "data": {
      "text/plain": [
       "0.0"
      ]
     },
     "execution_count": 6,
     "metadata": {},
     "output_type": "execute_result"
    }
   ],
   "source": [
    "yay = ww()\n",
    "yay.bad(10)"
   ]
  },
  {
   "cell_type": "markdown",
   "metadata": {},
   "source": [
    "## matplot & numpy"
   ]
  },
  {
   "cell_type": "markdown",
   "metadata": {},
   "source": [
    "### Install"
   ]
  },
  {
   "cell_type": "markdown",
   "metadata": {},
   "source": [
    "` $sudo python3 -m pip install matplotlib numpy`\n",
    "\n",
    "` >>pip install matplotlib`<br>\n",
    "` >>pip install numpy`"
   ]
  },
  {
   "cell_type": "markdown",
   "metadata": {},
   "source": [
    "### Import"
   ]
  },
  {
   "cell_type": "code",
   "execution_count": 7,
   "metadata": {},
   "outputs": [],
   "source": [
    "import math\n",
    "import matplotlib\n",
    "import matplotlib.pyplot as plt #pyplot 를 plt 로 가져오기\n",
    "#jupyter 에서 plot 출력\n",
    "%matplotlib inline\n",
    "\n",
    "import numpy as np"
   ]
  },
  {
   "cell_type": "code",
   "execution_count": 8,
   "metadata": {},
   "outputs": [
    {
     "data": {
      "text/plain": [
       "module"
      ]
     },
     "execution_count": 8,
     "metadata": {},
     "output_type": "execute_result"
    }
   ],
   "source": [
    "type(matplotlib)"
   ]
  },
  {
   "cell_type": "code",
   "execution_count": 9,
   "metadata": {},
   "outputs": [
    {
     "data": {
      "text/plain": [
       "module"
      ]
     },
     "execution_count": 9,
     "metadata": {},
     "output_type": "execute_result"
    }
   ],
   "source": [
    "type(plt)"
   ]
  },
  {
   "cell_type": "code",
   "execution_count": 10,
   "metadata": {},
   "outputs": [
    {
     "data": {
      "text/plain": [
       "<Figure size 432x288 with 0 Axes>"
      ]
     },
     "metadata": {},
     "output_type": "display_data"
    }
   ],
   "source": [
    "fig = plt.figure()"
   ]
  },
  {
   "cell_type": "markdown",
   "metadata": {},
   "source": [
    "### Steps"
   ]
  },
  {
   "cell_type": "markdown",
   "metadata": {},
   "source": [
    "1. 데이터 준비 - 계산 한 데이터나 파일\n",
    "2. matplotlib.pyplot에 속한 객체 선언\n",
    "3. 프로토 타입으로 빠른 Plotting 완성\n",
    "4. 세부 설정 보정\n",
    "5. 저장 및 출력"
   ]
  },
  {
   "cell_type": "markdown",
   "metadata": {},
   "source": [
    "#### Step 1"
   ]
  },
  {
   "cell_type": "markdown",
   "metadata": {},
   "source": [
    "+ 데이터 준비"
   ]
  },
  {
   "cell_type": "code",
   "execution_count": 11,
   "metadata": {},
   "outputs": [
    {
     "data": {
      "text/plain": [
       "array([0.        , 0.03173326, 0.06346652, 0.09519978, 0.12693304,\n",
       "       0.1586663 , 0.19039955, 0.22213281, 0.25386607, 0.28559933,\n",
       "       0.31733259, 0.34906585, 0.38079911, 0.41253237, 0.44426563,\n",
       "       0.47599889, 0.50773215, 0.53946541, 0.57119866, 0.60293192,\n",
       "       0.63466518, 0.66639844, 0.6981317 , 0.72986496, 0.76159822,\n",
       "       0.79333148, 0.82506474, 0.856798  , 0.88853126, 0.92026451,\n",
       "       0.95199777, 0.98373103, 1.01546429, 1.04719755, 1.07893081,\n",
       "       1.11066407, 1.14239733, 1.17413059, 1.20586385, 1.23759711,\n",
       "       1.26933037, 1.30106362, 1.33279688, 1.36453014, 1.3962634 ,\n",
       "       1.42799666, 1.45972992, 1.49146318, 1.52319644, 1.5549297 ,\n",
       "       1.58666296, 1.61839622, 1.65012947, 1.68186273, 1.71359599,\n",
       "       1.74532925, 1.77706251, 1.80879577, 1.84052903, 1.87226229,\n",
       "       1.90399555, 1.93572881, 1.96746207, 1.99919533, 2.03092858,\n",
       "       2.06266184, 2.0943951 , 2.12612836, 2.15786162, 2.18959488,\n",
       "       2.22132814, 2.2530614 , 2.28479466, 2.31652792, 2.34826118,\n",
       "       2.37999443, 2.41172769, 2.44346095, 2.47519421, 2.50692747,\n",
       "       2.53866073, 2.57039399, 2.60212725, 2.63386051, 2.66559377,\n",
       "       2.69732703, 2.72906028, 2.76079354, 2.7925268 , 2.82426006,\n",
       "       2.85599332, 2.88772658, 2.91945984, 2.9511931 , 2.98292636,\n",
       "       3.01465962, 3.04639288, 3.07812614, 3.10985939, 3.14159265])"
      ]
     },
     "execution_count": 11,
     "metadata": {},
     "output_type": "execute_result"
    }
   ],
   "source": [
    "x1 = np.linspace(0.0,np.pi,100)\n",
    "x1"
   ]
  },
  {
   "cell_type": "code",
   "execution_count": 12,
   "metadata": {},
   "outputs": [
    {
     "data": {
      "text/plain": [
       "array([ 1.        ,  0.94957216,  0.86486903,  0.75133238,  0.61520423,\n",
       "        0.46323203,  0.30237189,  0.13950204, -0.0188432 , -0.16670938,\n",
       "       -0.29892074, -0.41123594, -0.50045762, -0.56449405, -0.60237342,\n",
       "       -0.61421326, -0.60114883, -0.56522584, -0.50926393, -0.43669812,\n",
       "       -0.35140574, -0.2575266 , -0.15928395, -0.06081307,  0.03399608,\n",
       "        0.12163686,  0.19910044,  0.26396361,  0.31444812,  0.34945105,\n",
       "        0.36854668,  0.37196158,  0.36052562,  0.33560218,  0.29900168,\n",
       "        0.25288284,  0.19964628,  0.14182514,  0.08197728,  0.022583  ,\n",
       "       -0.03404775, -0.08585587, -0.13109868, -0.16839911, -0.19677737,\n",
       "       -0.21566512, -0.22490255, -0.22471948, -0.21570244, -0.19874958,\n",
       "       -0.17501621, -0.14585345, -0.11274307, -0.07723109, -0.04086299,\n",
       "       -0.00512291,  0.02862099,  0.05916328,  0.08549865,  0.1068492 ,\n",
       "        0.1226811 ,  0.13271055,  0.13689959,  0.1354425 ,  0.12874382,\n",
       "        0.11738957,  0.10211294,  0.08375644,  0.06323202,  0.04148084,\n",
       "        0.01943451, -0.00202107, -0.02207769, -0.04003194, -0.05530639,\n",
       "       -0.06746463, -0.07621971, -0.0814363 , -0.08312666, -0.08144111,\n",
       "       -0.07665359, -0.0691433 , -0.05937329, -0.04786707, -0.03518431,\n",
       "       -0.02189658, -0.00856409,  0.00428562,  0.01617645,  0.02669934,\n",
       "        0.03552421,  0.04240813,  0.04719948,  0.04983837,  0.05035328,\n",
       "        0.04885455,  0.04552502,  0.04060831,  0.03439557,  0.02721101])"
      ]
     },
     "execution_count": 12,
     "metadata": {},
     "output_type": "execute_result"
    }
   ],
   "source": [
    "y1 = np.cos(2*np.pi*x1)*np.exp(-x1)\n",
    "y1"
   ]
  },
  {
   "cell_type": "markdown",
   "metadata": {},
   "source": [
    "#### Step 2"
   ]
  },
  {
   "cell_type": "markdown",
   "metadata": {},
   "source": [
    "+ matplot 의 구성:\n",
    "    >1.figure: 전체 그림판을 지칭하는 객체\n",
    "    \n",
    "    >2.axes: figure을 구성하는 subplot"
   ]
  },
  {
   "cell_type": "code",
   "execution_count": 15,
   "metadata": {},
   "outputs": [
    {
     "data": {
      "text/plain": [
       "[<matplotlib.lines.Line2D at 0x7fbb65213780>]"
      ]
     },
     "execution_count": 15,
     "metadata": {},
     "output_type": "execute_result"
    },
    {
     "data": {
      "image/png": "[encoded data removed]",
      "text/plain": [
       "<Figure size 360x360 with 2 Axes>"
      ]
     },
     "metadata": {
      "needs_background": "light"
     },
     "output_type": "display_data"
    }
   ],
   "source": [
    "fig1 = plt.figure(figsize=(5,5)) #그림판의 크기\n",
    "\n",
    "ax1_1 = fig1.add_subplot(2,2,1) #fig1 을 2,2로 나누고 1번째 subplot\n",
    "ax1_4 = fig1.add_subplot(3,2,4) # 4번째\n",
    "\n",
    "ax1_1.plot(x1,y1)\n",
    "ax1_4.plot(y1,x1)"
   ]
  },
  {
   "cell_type": "markdown",
   "metadata": {},
   "source": [
    "#### Step3 세부설정"
   ]
  },
  {
   "cell_type": "code",
   "execution_count": 17,
   "metadata": {
    "scrolled": true
   },
   "outputs": [
    {
     "data": {
      "image/png": "[encoded data removed]",
      "text/plain": [
       "<Figure size 288x432 with 2 Axes>"
      ]
     },
     "metadata": {
      "needs_background": "light"
     },
     "output_type": "display_data"
    }
   ],
   "source": [
    "fig2 = plt.figure(figsize=(4,6))\n",
    "\n",
    "ax1 = plt.subplot(2,1,1)\n",
    "ax1.plot(x1,y1,'.-') #plot w dot\n",
    "ax1.set_title('axes 1 title')\n",
    "ax1.set_ylabel(\"Damped oscillation\")\n",
    "\n",
    "ax2 = plt.subplot(2,1,2)\n",
    "ax2.plot(y1,x1,'bo-')\n",
    "ax2.set_ylabel(\"Dumped poo\")\n",
    "\n",
    "fig2.tight_layout() #양옆으로 tight하게"
   ]
  },
  {
   "cell_type": "markdown",
   "metadata": {},
   "source": [
    "#### Step 4 저장 & 출력"
   ]
  },
  {
   "cell_type": "code",
   "execution_count": 98,
   "metadata": {},
   "outputs": [],
   "source": [
    "fig2.savefig('draw.png')"
   ]
  },
  {
   "cell_type": "markdown",
   "metadata": {},
   "source": [
    "생긴 파일 열어보기"
   ]
  },
  {
   "cell_type": "markdown",
   "metadata": {},
   "source": [
    "#### 디자인 몇가지"
   ]
  },
  {
   "cell_type": "markdown",
   "metadata": {},
   "source": [
    "> 'bo-' : 파란 o 와 -<br>\n",
    "> '.-'  : . - 점과 선<br>\n",
    "> '--'  : 점선 ----랑<br>\n",
    "> '+'   : +++++<br>\n",
    "> '(색)(디자인)'<br>\n",
    "> r:빨강 b:파랑 g:초록 y:노랑<br>"
   ]
  },
  {
   "cell_type": "markdown",
   "metadata": {},
   "source": [
    "#### matplotlib.gridspec 모듈"
   ]
  },
  {
   "cell_type": "code",
   "execution_count": 18,
   "metadata": {},
   "outputs": [],
   "source": [
    "import matplotlib.gridspec as gs"
   ]
  },
  {
   "cell_type": "code",
   "execution_count": 21,
   "metadata": {
    "scrolled": true
   },
   "outputs": [
    {
     "data": {
      "text/plain": [
       "[<matplotlib.lines.Line2D at 0x7fbb64e256d8>]"
      ]
     },
     "execution_count": 21,
     "metadata": {},
     "output_type": "execute_result"
    },
    {
     "data": {
      "image/png": "[encoded data removed]",
      "text/plain": [
       "<Figure size 360x360 with 4 Axes>"
      ]
     },
     "metadata": {
      "needs_background": "light"
     },
     "output_type": "display_data"
    }
   ],
   "source": [
    "fig3 = plt.figure(figsize=(5,5))\n",
    "G = gs.GridSpec(3,3)\n",
    "ax1 = fig3.add_subplot(G[0,0:2]) #0, 0 에서 2 까지\n",
    "ax1.set_facecolor('brown')\n",
    "ax2 = fig3.add_subplot(G[1,0:2]) #1, 0 to 2\n",
    "ax3 = fig3.add_subplot(G[2,0:2]) #2, 0 to 2\n",
    "ax4 = fig3.add_subplot(G[:,2])   #0 to 2 at t\n",
    "\n",
    "ax1.plot([1,2],[1,2],'o') #plot x = 1,2 y = 1,2 , w dot\n",
    "x = np.linspace(0,2)\n",
    "x\n",
    "ax2.plot(x,x**2,'r--')\n",
    "\n",
    "plt.plot(x,x**2)"
   ]
  },
  {
   "cell_type": "markdown",
   "metadata": {},
   "source": [
    "### Random"
   ]
  },
  {
   "cell_type": "code",
   "execution_count": 22,
   "metadata": {
    "scrolled": true
   },
   "outputs": [
    {
     "name": "stdout",
     "output_type": "stream",
     "text": [
      "2.4065499958735823\n",
      "3.109093304603168\n",
      "1.9068237361936982\n",
      "4.242241886560166\n",
      "1.9513596327411393\n",
      "4.268922895734715\n",
      "4.285743620791222\n",
      "3.2431065973406255\n",
      "3.7322469088100934\n",
      "3.5994966633970327\n",
      "4.288127950180016\n",
      "3.537501348374017\n",
      "2.762128284434879\n",
      "2.4674662256880646\n",
      "2.463002868351882\n",
      "3.025981753338424\n",
      "3.7721160885940432\n",
      "3.4745006489864037\n",
      "1.8234258256788163\n",
      "3.8621925358311406\n",
      "2.511403650116713\n",
      "3.7752666066305016\n",
      "2.5656060931888995\n",
      "2.9876335629660224\n",
      "2.976924254921054\n",
      "2.187811723032583\n",
      "1.010746891276152\n",
      "3.6283105949341867\n",
      "2.6337106972488575\n",
      "1.893170339334319\n",
      "2.8613273543704674\n",
      "4.266356938633079\n",
      "3.2233655255303124\n",
      "3.358760075770122\n",
      "3.1019020359699425\n",
      "2.5591076521690854\n",
      "2.414880891218673\n",
      "2.4459436662640464\n",
      "2.3359653220351233\n",
      "2.261580707830487\n",
      "3.5628162363937466\n",
      "2.5887889645949045\n",
      "1.4839682627706525\n",
      "2.8750478535232813\n",
      "2.695157926747066\n",
      "2.00130407914278\n",
      "3.809911437677074\n",
      "5.466683256915382\n",
      "5.980528135775362\n",
      "2.8176136784937817\n",
      "5.386022235344768\n",
      "2.8715660643522067\n",
      "2.9643942000457937\n",
      "3.7576906587748002\n",
      "3.9638108143725415\n",
      "3.0253661572002737\n",
      "3.1371271017649356\n",
      "2.3625131581406063\n",
      "1.5998827967371114\n",
      "3.2520644570507327\n",
      "4.963836401395695\n",
      "1.3897135344107034\n",
      "3.122049864568979\n",
      "4.161961052742538\n",
      "2.557091177638657\n",
      "2.9399201300657962\n",
      "4.281046315433922\n",
      "4.099768597096605\n",
      "2.660101024245699\n",
      "3.1152710234566827\n",
      "1.2455256148913008\n",
      "4.024301292243047\n",
      "1.456076872831554\n",
      "2.524128252633074\n",
      "3.5130542043247357\n",
      "2.0968347825988087\n",
      "4.111568301360947\n",
      "3.298774212252624\n",
      "4.807189186236269\n",
      "2.6907105258012773\n",
      "4.0448115127831095\n",
      "2.2319997613912252\n",
      "4.081757801251419\n",
      "2.0385395812202827\n",
      "4.392947066747793\n",
      "2.3991296003279756\n",
      "4.282933262875219\n",
      "3.6997781376675363\n",
      "2.4437544218463585\n",
      "1.9367325972584963\n",
      "3.7382127231020252\n",
      "4.8600389850699415\n",
      "2.2383315589000228\n",
      "2.5470228289645487\n",
      "3.947251006654702\n",
      "2.2499954512129534\n",
      "1.3436026193918373\n",
      "2.3921356189088465\n",
      "2.9805110102390326\n",
      "1.9984301764684107\n"
     ]
    }
   ],
   "source": [
    "import random\n",
    "for i in range(100):\n",
    "    print(random.gauss(3,1))"
   ]
  },
  {
   "cell_type": "code",
   "execution_count": 33,
   "metadata": {
    "scrolled": true
   },
   "outputs": [
    {
     "data": {
      "text/plain": [
       "[<matplotlib.lines.Line2D at 0x7fbb64c160f0>]"
      ]
     },
     "execution_count": 33,
     "metadata": {},
     "output_type": "execute_result"
    },
    {
     "data": {
      "image/png": "[encoded data removed]",
      "text/plain": [
       "<Figure size 144x144 with 1 Axes>"
      ]
     },
     "metadata": {
      "needs_background": "light"
     },
     "output_type": "display_data"
    }
   ],
   "source": [
    "#크로마토 그래피\n",
    "figg = plt.figure(figsize=(2,2))\n",
    "\n",
    "x = [i for i in range(10)]\n",
    "y = [0 for i in range(10)]\n",
    "for i in range(100):\n",
    "    j = int(random.gauss(5,1))\n",
    "    y[j]+=1\n",
    "    \n",
    "ax = plt.subplot(1,1,1)\n",
    "ax.plot(x,y)"
   ]
  },
  {
   "cell_type": "markdown",
   "metadata": {},
   "source": [
    "여러가지 랜덤 생성자"
   ]
  },
  {
   "cell_type": "markdown",
   "metadata": {},
   "source": [
    "randint(init,final) 사이의 랜덤 정수<br>\n",
    "random() 0에서 1까지의 float 형 랜덤<br>\n",
    "gauss(mean,sd) gauss분포<br>\n",
    "uniform(init,final) 범위안의 랜덤 정수\n"
   ]
  },
  {
   "cell_type": "code",
   "execution_count": 39,
   "metadata": {},
   "outputs": [
    {
     "data": {
      "text/plain": [
       "[<matplotlib.lines.Line2D at 0x7fbb649df908>]"
      ]
     },
     "execution_count": 39,
     "metadata": {},
     "output_type": "execute_result"
    },
    {
     "data": {
      "image/png": "[encoded data removed]",
      "text/plain": [
       "<Figure size 144x144 with 1 Axes>"
      ]
     },
     "metadata": {
      "needs_background": "light"
     },
     "output_type": "display_data"
    }
   ],
   "source": [
    "#N 과 메소드를 바꿔가며 해볼수 있따\n",
    "#gauss 는 도메인이 달라서 위에꺼로\n",
    "N = 100  #number of generating random number\n",
    "figg = plt.figure(figsize=(2,2))\n",
    "\n",
    "x = [i for i in range(11)]\n",
    "y = [0 for i in range(11)]\n",
    "for i in range(N):\n",
    "    j = int(random.randint(0,10))\n",
    "    y[j]+=1\n",
    "    \n",
    "ax = plt.subplot(1,1,1)\n",
    "ax.set_ylim([0,int(N*2/10)])\n",
    "ax.plot(x,y,'o')"
   ]
  },
  {
   "cell_type": "markdown",
   "metadata": {},
   "source": [
    "https://matplotlib.org/gallery/index.html\n",
    "\n",
    "가면 다양한 예제들이 있음\n",
    "matplotlib samples"
   ]
  },
  {
   "cell_type": "markdown",
   "metadata": {},
   "source": [
    "### Numpy 행렬"
   ]
  },
  {
   "cell_type": "code",
   "execution_count": 43,
   "metadata": {},
   "outputs": [
    {
     "name": "stdout",
     "output_type": "stream",
     "text": [
      "[[1 2 3]\n",
      " [4 5 6]]\n"
     ]
    },
    {
     "data": {
      "text/plain": [
       "array([[1, 2, 3],\n",
       "       [4, 5, 6]])"
      ]
     },
     "execution_count": 43,
     "metadata": {},
     "output_type": "execute_result"
    }
   ],
   "source": [
    "#reshape - 배열을 재정렬함\n",
    "a2 = np.arange(1,7,1).reshape(2,3)\n",
    "print(a2)\n",
    "a2"
   ]
  },
  {
   "cell_type": "code",
   "execution_count": 164,
   "metadata": {},
   "outputs": [
    {
     "name": "stdout",
     "output_type": "stream",
     "text": [
      "[[1 1 1]\n",
      " [1 1 1]]\n"
     ]
    }
   ],
   "source": [
    "b2 = np.ones(6).reshape(2,3).astype(int)\n",
    "print(b2)"
   ]
  },
  {
   "cell_type": "code",
   "execution_count": 165,
   "metadata": {},
   "outputs": [
    {
     "data": {
      "text/plain": [
       "array([[2, 3, 4],\n",
       "       [5, 6, 7]])"
      ]
     },
     "execution_count": 165,
     "metadata": {},
     "output_type": "execute_result"
    }
   ],
   "source": [
    "a2+b2"
   ]
  },
  {
   "cell_type": "code",
   "execution_count": 166,
   "metadata": {},
   "outputs": [
    {
     "data": {
      "text/plain": [
       "array([[ 1,  4,  9],\n",
       "       [16, 25, 36]])"
      ]
     },
     "execution_count": 166,
     "metadata": {},
     "output_type": "execute_result"
    }
   ],
   "source": [
    "a2*a2 #다만 행렬곱은 아니다 "
   ]
  },
  {
   "cell_type": "code",
   "execution_count": 167,
   "metadata": {},
   "outputs": [
    {
     "ename": "ValueError",
     "evalue": "operands could not be broadcast together with shapes (2,3) (3,2) ",
     "output_type": "error",
     "traceback": [
      "\u001b[0;31m---------------------------------------------------------------------------\u001b[0m",
      "\u001b[0;31mValueError\u001b[0m                                Traceback (most recent call last)",
      "\u001b[0;32m<ipython-input-167-b9a49513c9b9>\u001b[0m in \u001b[0;36m<module>\u001b[0;34m()\u001b[0m\n\u001b[1;32m      1\u001b[0m \u001b[0mb2\u001b[0m \u001b[0;34m=\u001b[0m \u001b[0mnp\u001b[0m\u001b[0;34m.\u001b[0m\u001b[0marange\u001b[0m\u001b[0;34m(\u001b[0m\u001b[0;36m1\u001b[0m\u001b[0;34m,\u001b[0m\u001b[0;36m7\u001b[0m\u001b[0;34m,\u001b[0m\u001b[0;36m1\u001b[0m\u001b[0;34m)\u001b[0m\u001b[0;34m.\u001b[0m\u001b[0mreshape\u001b[0m\u001b[0;34m(\u001b[0m\u001b[0;36m3\u001b[0m\u001b[0;34m,\u001b[0m\u001b[0;36m2\u001b[0m\u001b[0;34m)\u001b[0m\u001b[0;34m\u001b[0m\u001b[0m\n\u001b[0;32m----> 2\u001b[0;31m \u001b[0ma2\u001b[0m\u001b[0;34m*\u001b[0m\u001b[0mb2\u001b[0m\u001b[0;34m\u001b[0m\u001b[0m\n\u001b[0m",
      "\u001b[0;31mValueError\u001b[0m: operands could not be broadcast together with shapes (2,3) (3,2) "
     ]
    }
   ],
   "source": [
    "b2 = np.arange(1,7,1).reshape(3,2)\n",
    "a2*b2"
   ]
  },
  {
   "cell_type": "code",
   "execution_count": 168,
   "metadata": {},
   "outputs": [
    {
     "name": "stdout",
     "output_type": "stream",
     "text": [
      "[[ 9 12 15]\n",
      " [19 26 33]\n",
      " [29 40 51]]\n"
     ]
    }
   ],
   "source": [
    "#행렬 곱 \n",
    "c2 = np.matmul(b2,a2)\n",
    "print(c2)"
   ]
  },
  {
   "cell_type": "code",
   "execution_count": 169,
   "metadata": {},
   "outputs": [
    {
     "data": {
      "text/plain": [
       "matrix([[1, 2],\n",
       "        [3, 4]])"
      ]
     },
     "execution_count": 169,
     "metadata": {},
     "output_type": "execute_result"
    }
   ],
   "source": [
    "#행렬로 정의\n",
    "a = np.matrix('1 2; 3 4')\n",
    "a"
   ]
  },
  {
   "cell_type": "code",
   "execution_count": 172,
   "metadata": {},
   "outputs": [
    {
     "data": {
      "text/plain": [
       "matrix([[ 9, 12, 15],\n",
       "        [19, 26, 33]])"
      ]
     },
     "execution_count": 172,
     "metadata": {},
     "output_type": "execute_result"
    }
   ],
   "source": [
    "#이경우에는 행렬곱 \n",
    "a*a2"
   ]
  },
  {
   "cell_type": "code",
   "execution_count": 173,
   "metadata": {},
   "outputs": [
    {
     "data": {
      "text/plain": [
       "matrix([[1, 3],\n",
       "        [2, 4]])"
      ]
     },
     "execution_count": 173,
     "metadata": {},
     "output_type": "execute_result"
    }
   ],
   "source": [
    "a.transpose()"
   ]
  },
  {
   "cell_type": "code",
   "execution_count": 174,
   "metadata": {},
   "outputs": [
    {
     "data": {
      "text/plain": [
       "matrix([[5]])"
      ]
     },
     "execution_count": 174,
     "metadata": {},
     "output_type": "execute_result"
    }
   ],
   "source": [
    "a.trace()"
   ]
  },
  {
   "cell_type": "code",
   "execution_count": 176,
   "metadata": {
    "scrolled": true
   },
   "outputs": [
    {
     "data": {
      "text/plain": [
       "matrix([[1, 2],\n",
       "        [3, 4]])"
      ]
     },
     "execution_count": 176,
     "metadata": {},
     "output_type": "execute_result"
    }
   ],
   "source": [
    "a.conjugate()"
   ]
  },
  {
   "cell_type": "code",
   "execution_count": 185,
   "metadata": {},
   "outputs": [
    {
     "data": {
      "text/plain": [
       "-2.0000000000000004"
      ]
     },
     "execution_count": 185,
     "metadata": {},
     "output_type": "execute_result"
    }
   ],
   "source": [
    "#linear algebra determinant\n",
    "np.linalg.det(a)"
   ]
  },
  {
   "cell_type": "code",
   "execution_count": 181,
   "metadata": {},
   "outputs": [
    {
     "data": {
      "text/plain": [
       "array([ 4., -2.])"
      ]
     },
     "execution_count": 181,
     "metadata": {},
     "output_type": "execute_result"
    }
   ],
   "source": [
    "#linear algebra eigenvalues\n",
    "b = np.matrix('1 3; 3 1')\n",
    "np.linalg.eigvals(b)"
   ]
  },
  {
   "cell_type": "markdown",
   "metadata": {},
   "source": [
    "## 실습"
   ]
  },
  {
   "cell_type": "markdown",
   "metadata": {},
   "source": [
    "1. 3번 상속되며 중복 상속받는 class를 만들어보고 메소드 하나를 오버라이딩 해보자!"
   ]
  },
  {
   "cell_type": "markdown",
   "metadata": {},
   "source": [
    "class grand_parents: # 최상위 클래스\n",
    "    \n",
    "    def 함수(self):\n",
    "\n",
    "class mother(grand_parents): # 상위 클래스 1 (상속)\n",
    "    \n",
    "    def 함수1(self):\n",
    "                \n",
    "class father(grand_parents): # 상위 클래스 2 (상속)\n",
    "    \n",
    "    def 함수2(self):\n",
    "        \n",
    "class baby(mother, father):  # <-- 하위 클래스 (다중 상속)\n",
    "\n",
    "    def 함수(self): #override\n"
   ]
  },
  {
   "cell_type": "markdown",
   "metadata": {},
   "source": [
    "2. 연산자 중복 정의를 활용하여 복소수의 곱셈을 구현해 보고 a+bi형태로 출력하도록 만들어보자!"
   ]
  },
  {
   "cell_type": "markdown",
   "metadata": {},
   "source": [
    "`+       __add__(self,other)`\n",
    "\n",
    "`-       __sub__(self,other)`\n",
    "\n",
    "`*       __mul__(self,other)`\n",
    "\n",
    "`/       __truediv__(self,other)`\n",
    "\n",
    "`str     __str__(self)`"
   ]
  },
  {
   "cell_type": "markdown",
   "metadata": {},
   "source": [
    "class complexnum:\n",
    "\n",
    "    __re  = 0.\n",
    "    __im  = 0.\n",
    "    \n",
    "    def __mul__(self,x):\n",
    "    "
   ]
  },
  {
   "cell_type": "markdown",
   "metadata": {},
   "source": [
    "3. 아래의 그래프를 그려보자"
   ]
  },
  {
   "cell_type": "code",
   "execution_count": 99,
   "metadata": {},
   "outputs": [
    {
     "data": {
      "text/plain": [
       "[<matplotlib.lines.Line2D at 0x7fd5f813d7b8>]"
      ]
     },
     "execution_count": 99,
     "metadata": {},
     "output_type": "execute_result"
    },
    {
     "data": {
      "image/png": "[encoded data removed]",
      "text/plain": [
       "<Figure size 288x216 with 3 Axes>"
      ]
     },
     "metadata": {
      "needs_background": "light"
     },
     "output_type": "display_data"
    }
   ],
   "source": []
  }
 ],
 "metadata": {
  "kernelspec": {
   "display_name": "Python 3",
   "language": "python",
   "name": "python3"
  },
  "language_info": {
   "codemirror_mode": {
    "name": "ipython",
    "version": 3
   },
   "file_extension": ".py",
   "mimetype": "text/x-python",
   "name": "python",
   "nbconvert_exporter": "python",
   "pygments_lexer": "ipython3",
   "version": "3.5.2"
  }
 },
 "nbformat": 4,
 "nbformat_minor": 2
}
