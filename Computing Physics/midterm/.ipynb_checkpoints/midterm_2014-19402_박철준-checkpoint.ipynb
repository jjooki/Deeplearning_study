{
 "cells": [
  {
   "cell_type": "markdown",
   "metadata": {
    "colab_type": "text",
    "id": "iBK6Q7AV7_L5"
   },
   "source": [
    "# 전산물리학 중간고사 (2018 가을학기)\n",
    "## Python Programming for Science and Machine Learning\n",
    "### (10월 26일 1:00-3:30 pm, 56동 105호)\n",
    "\n",
    "----"
   ]
  },
  {
   "cell_type": "markdown",
   "metadata": {
    "colab_type": "text",
    "id": "oEVf4LGN7_L9"
   },
   "source": [
    "#### 채점기준: 기능구현 여부 (80%), 가독성 (+주석) (20%)\n",
    "##### 기타: 본격적인 답안작성전, 아래의 스크립트를 실행하면 테스트 셀안의 모든 인쇄물을 확인할 수 있습니다.  "
   ]
  },
  {
   "cell_type": "code",
   "execution_count": 0,
   "metadata": {
    "colab": {},
    "colab_type": "code",
    "id": "VDNiCZBj7_L-"
   },
   "outputs": [],
   "source": [
    "# Printing all outputs in a cell (not only the last output)\n",
    "from IPython.core.interactiveshell import InteractiveShell\n",
    "InteractiveShell.ast_node_interactivity = \"all\""
   ]
  },
  {
   "cell_type": "markdown",
   "metadata": {
    "colab_type": "text",
    "id": "pKYxk7jXzQnW"
   },
   "source": [
    "\n",
    "---\n",
    "### ** 문제1) 난수를 활용하여 $\\pi$값 구하기 (25pt) **\n",
    "\n",
    "한변의 길이가 $R$인 정사각형(S)의 내접하는, 반지름 길이 $R$인 사분원(C)를 고려해보자. [[참조그림]](https://drive.google.com/open?id=1f-wvkkEmRG5Qsrvw2Iq4wfoUNNqU__QN)  \n",
    "\n",
    "이들의 면적비는 $r\\equiv\\frac{A_{C}}{A_{S}}=\\frac{\\pi}{4}$ 가 되며, 이를 통해 $\\pi$값은 다음과 같이 표현된다.\n",
    "\n",
    "> $\\pi = 4 \\frac{A_{C}}{A_{S}}$\n",
    "\n",
    "1) $\\pi$와 면적간의 비율 관계식, 그리고 파이썬의 난수생성함수 ( 예) nummpy.random.uniform(0,R) )를 활용하여 $\\pi$값을 추정하는 프로그램을 작성해보자. [15pt]\n",
    "\n",
    "2) 추정에 쓰인 난수 표본의 갯수($N_s$)에 따라, 평가된 $\\pi$ 값을 $\\pi(N_s)$라 할때, 실제값으로 점근해나가는 양상을 담은 $\\pi(N_s)\\,vs\\,N_s$ 그래프를 numpy.pi값과 함께, [다음](https://drive.google.com/open?id=108_bb-JS72kVJU6GhAcog120vnMenfRp)과 같이 시각화해보자. [10pt]\n"
   ]
  },
  {
   "cell_type": "code",
   "execution_count": 67,
   "metadata": {
    "colab": {},
    "colab_type": "code",
    "id": "hKIoDMkWIt7b"
   },
   "outputs": [],
   "source": [
    "import math\n",
    "import numpy as np\n",
    "import matplotlib\n",
    "import matplotlib.pyplot as plt #pyplot 를 plt 로 가져오기\n",
    "\n",
    "#1X1 정사각형 안의 임의의 점들을 생성하는 함수\n",
    "def make_N_points(n):   #n은 만들고 싶은 좌표의 갯수 \n",
    "    array = []\n",
    "    for i in range(n):\n",
    "        x = np.random.uniform(0,1)   #[0,1]구간의 임의의 x좌표\n",
    "        y = np.random.uniform(0,1)   #[0,1]구간의 임의의 y좌표\n",
    "        array.append([x,y])\n",
    "    return array\n",
    "\n",
    "#정사각형의 넓이가 1이기 때문에 (사분원 안의 점의 갯수)/(정사각형 안의 점의 갯수)가 사분원의 넓이가 된다.\n",
    "def find_pi(n):\n",
    "    points = make_N_points(n)    #points는 위에서 만든 랜덤한 좌표들의 2중 array([[x1,y1],[x2,y2],...]형태)\n",
    "    n = len(points)              #전체 point 갯수\n",
    "    n_C = 0                      #사분원 안의 점의 갯수\n",
    "    for coord in points:\n",
    "        x = coord[0]             #coord[0]은 한 좌표의 x값\n",
    "        y = coord[1]             #coord[0]은 한 좌표의 y값\n",
    "        if x**2 + y**2 <= 1:     #사분원 안에 있을 조건 : x^2 + y^2 <= 1\n",
    "            n_C += 1\n",
    "    return 4 * n_C/n             #결과값은 4 * A_C/A_S, 즉 pi값이다."
   ]
  },
  {
   "cell_type": "code",
   "execution_count": 70,
   "metadata": {
    "colab": {},
    "colab_type": "code",
    "id": "R3GmsdwGIt7i"
   },
   "outputs": [
    {
     "data": {
      "image/png": "[encoded data removed]",
      "text/plain": [
       "<Figure size 432x288 with 1 Axes>"
      ]
     },
     "metadata": {
      "needs_background": "light"
     },
     "output_type": "display_data"
    }
   ],
   "source": [
    "N_s = [10,20,50,100,200,500,700,1000,1500,2000,3000,5000,7000,10000,20000,30000,50000,100000,200000,500000,1000000]      #난수 표본의 갯수\n",
    "pi_N = []                                                   #그에 따라 평가된 pi값\n",
    "pi = [np.pi for i in range(len(N_s))]                       #numpy.pi값을 위의 배열과 숫자를 맞춘 것\n",
    "for n in N_s:\n",
    "    pi_N.append(find_pi(n))                                 #위의 pi값 찾는 함수를 통해 표본 개수에 따라 구한 pi값들\n",
    "\n",
    "fig = plt.figure()\n",
    "ax = plt.subplot()\n",
    "ax.plot(N_s,pi_N,label='pi(N_s)')\n",
    "ax.plot(N_s,pi,label='numpy.pi')\n",
    "ax.set_xlabel(\"N_s\")\n",
    "ax.set_xscale(\"log\")\n",
    "ax.legend(loc='upper right')\n",
    "plt.show()"
   ]
  },
  {
   "cell_type": "markdown",
   "metadata": {
    "colab_type": "text",
    "id": "W4Z9pNdvuHhK"
   },
   "source": [
    "---\n",
    "### ** 문제2) 중심극한정리 (25pt) ** \n",
    "\n",
    "표본을 취하는 모집단의 확률분포함수(probability distribution function)가 다음과 같은 함수형태를 따를때, 표본의 크기($n_s$)가 커짐에 따라서 표본평균($\\bar{X}$)의 분포가 특정 정규확률분포에 점근하는 현상을, 파이썬을 통하여 시연해보자.  \n",
    "( $n_s = 10, 100$ 에 대해서 시연 )\n",
    "\n",
    "> $\n",
    "p(x) = \n",
    "\\begin{cases}\n",
    "\\frac{3}{2}x^2&\\,\\, \\text{for}&\\,\\, -1<x<1\\\\ \n",
    "\\\\\n",
    "0&\\,\\, \\text{for}&\\,\\,\\text{others}\n",
    "\\end{cases}\n",
    "$"
   ]
  },
  {
   "cell_type": "code",
   "execution_count": 34,
   "metadata": {
    "colab": {},
    "colab_type": "code",
    "id": "UT45Mha9It7o"
   },
   "outputs": [
    {
     "data": {
      "text/plain": [
       "Text(0.5,1,'Histogram of rand_num generator + p(x) graph')"
      ]
     },
     "execution_count": 34,
     "metadata": {},
     "output_type": "execute_result"
    },
    {
     "data": {
      "image/png": "[encoded data removed]",
      "text/plain": [
       "<Figure size 432x288 with 1 Axes>"
      ]
     },
     "metadata": {
      "needs_background": "light"
     },
     "output_type": "display_data"
    }
   ],
   "source": [
    "import math\n",
    "import numpy as np\n",
    "import matplotlib\n",
    "import matplotlib.pyplot as plt #pyplot 를 plt 로 가져오기\n",
    "\n",
    "#p(x)를 따르는 랜덤변수들의 배열을 만드는 함수\n",
    "def make_rand(n):\n",
    "    result = []\n",
    "    for i in range(n):\n",
    "        x = np.random.uniform(-1,1)       #uniform random number -1~1\n",
    "        if x < 0:\n",
    "            result.append(-math.pow(-x,1/3))    #음수일 경우 -2y의 세제곱근에 음수를 붙이는 식으로 계산\n",
    "        else:\n",
    "            result.append(math.pow(x,1/3))    # x = P^-1(x) -> x = (2y)^(1/3)\n",
    "    return result\n",
    "\n",
    "array = make_rand(10000)\n",
    "x = [(2*i-1000)/1000 for i in range(1001)]\n",
    "y = [3*k**2/2 for k in x]\n",
    "\n",
    "f = plt.figure()\n",
    "plt.hist(array,x,density=1,color='cyan')\n",
    "plt.plot(x,y,color='r')\n",
    "plt.title('Histogram of rand_num generator + p(x) graph')"
   ]
  },
  {
   "cell_type": "code",
   "execution_count": 45,
   "metadata": {
    "colab": {},
    "colab_type": "code",
    "id": "8qTkYNdSIt7s"
   },
   "outputs": [
    {
     "data": {
      "text/plain": [
       "<Figure size 432x288 with 0 Axes>"
      ]
     },
     "metadata": {},
     "output_type": "display_data"
    },
    {
     "data": {
      "image/png": "[encoded data removed]",
      "text/plain": [
       "<Figure size 720x720 with 2 Axes>"
      ]
     },
     "metadata": {
      "needs_background": "light"
     },
     "output_type": "display_data"
    }
   ],
   "source": [
    "#문제 조건을 만족시키는 확률변수들을 가지는 랜덤한 표본평균들을 m개 만드는 함수\n",
    "def make_sa(m,n):\n",
    "    array = [0 for i in range(m)]\n",
    "\n",
    "    for i in range(m):\n",
    "        rv = make_rand(n)           #랜덤변수\n",
    "        average = 0.                #표본평균\n",
    "        for j in range(0,n):\n",
    "            average += rv[j]\n",
    "        average /= n\n",
    "        array[i] = average\n",
    "    return array\n",
    "\n",
    "#Gaussian function for comparison\n",
    "def gaussian_func(x,u,sb):\n",
    "    return 1./(sb*math.sqrt(2.*math.pi))*math.exp(-(x-u)**2/(2.*sb**2))\n",
    "\n",
    "m = 1000                              #표본집단의 갯수\n",
    "n = [10,100]                          #표본의 원소의 갯수\n",
    "x = []                                #x-axis linespaces \n",
    "y = []                                #y-axis values(real gaussian function values)\n",
    "for i in range(2):\n",
    "    x.append([2*j/100 - 1 for j in range(101)])                            #-1~1까지의 linespace\n",
    "    y.append([gaussian_func(k,0,math.sqrt(3/n[i]/5)) for k in x[i]])  #average = 0.75, sigma = sqrt(3/(80*n))\n",
    "\n",
    "sa = []  #Array of Sample Averages array\n",
    "for i in range(2):\n",
    "    sa.append(make_sa(m,n[i]))\n",
    "\n",
    "#그래프 그리기 매크로\n",
    "def draw_hist_and_graph(ax,x,sa,y,num):\n",
    "    ax.hist(sa,x,color='cyan',density = 1)\n",
    "    ax.plot(x,y,linewidth=2.0,color='r')\n",
    "    ax.set_xlabel('Sample Average')\n",
    "    ax.set_ylabel('Nomalized Counting #')\n",
    "    ax.set_title('Histogram + Gaussian of sample size ' + str(num))\n",
    "    ax.grid(True)\n",
    "    \n",
    "fig = plt.figure()\n",
    "fig, axes = plt.subplots(nrows=1, ncols=2, figsize=(10,10))\n",
    "for j in range(2):\n",
    "    draw_hist_and_graph(axes[j],x[j],sa[j],y[j],n[j])"
   ]
  },
  {
   "cell_type": "markdown",
   "metadata": {
    "colab_type": "text",
    "id": "lB4zow2I7_OK"
   },
   "source": [
    "---\n",
    "### ** 문제3) 연산자의 중복정의(operator overloading)를 활용한 mynumpy 클래스의 생성 (25pt) **\n",
    "\n",
    "파이썬의 리스트는 여러가지 다양한 자료형의 데이터를, 자유로운 형태로 저장가능한 매우 편리한 순환가능객체이나,  \n",
    "(Numpy의 array에 비교할 때) 수치자료형으로 이루어진 리스트의 산술연산과 행렬연산 기능은 매우 부족한 편이다.\n",
    "\n",
    "이에 불편을 느낀 당신은 직접 (수치자료형) 리스트의 연산 기능을 보완한 새로운 순환가능(수치자료형) 클래스 - 'mynumpy' (약칭 'mnp')를 개발하기로 결심하였다.\n",
    "\n",
    "시작이 반이라, 다음과 같은 기능과 구조를 가진 mynumpy 클래스를 구현해보자.\n",
    "\n",
    "1. **클래스 요구 기능/메소드**\n",
    "\n",
    "    1) mynumpy array 생성자\n",
    "    \n",
    "    > mnp(<입력 리스트>)를 통하여 배열 객체(인스턴스)를 생성.  \n",
    "    <입력 리스트>는 복수개의 수치자료형(integer, float, complex) 요소를 가진 **1차원 구조로 제한**\n",
    "\n",
    "    2) 산술연산\n",
    "    \n",
    "    > size가 같은 array간, **클래스에 중복정의된 (+)연산자를 활용한 덧셈 기능**\n",
    "\n",
    "    3) array size의 입력에 대해, 0으로 초기화된 mnp 배열 생성자 (**numpy.zeros()와 비슷한 기능의 메소드**)  \n",
    "    \n",
    "    > mnp.zeros(size=, dtype=<수치자료형>)\n",
    "\n",
    "    4) print로 현재 array의 값 출력 가능  \n",
    "    \n",
    "    > print(<인스턴스>) \n",
    "    \n",
    "2. **기본 클래스 구조 (클래스와 메소드의 이름 외 변경가능) **  \n",
    "\n",
    "```python \n",
    "    class mynumpy:\n",
    "\n",
    "        __array = []\n",
    "\n",
    "        def __init__(self, array):\n",
    "            \n",
    "        def __add__(self, b):\n",
    "        \n",
    "        def zeros(size, dtype):\n",
    "         \n",
    "        def __str__(seff):\n",
    "        \n",
    "        def __del__(self):\n",
    "\n",
    "```\n",
    "\n"
   ]
  },
  {
   "cell_type": "code",
   "execution_count": 65,
   "metadata": {
    "colab": {},
    "colab_type": "code",
    "id": "ZthM_54RIt70"
   },
   "outputs": [],
   "source": [
    "class mynumpy:\n",
    "    array = []\n",
    "    def __init__(self, array):\n",
    "        self.array = array\n",
    "        for x in array:\n",
    "            if type(x) != int and type(x) != float and type(x) != complex:   #int,float,complex가 아닌 요소가 하나라도 있으면 배열을 비워둔다.\n",
    "                self.__array = []\n",
    "                break\n",
    "                \n",
    "    def __add__(self, b):\n",
    "        n1 = len(self.array)    #현재 클래스변수(배열)의 길이\n",
    "        n2 = len(b.array)       #더해줄 클래스변수(배열)의 길이\n",
    "        if n1 == n2:\n",
    "            for i in range(n1):\n",
    "                self.array[i] += b.array[i]         #같은 위치의 요소들끼리 더한 수들의 배열을 만듦.\n",
    "                \n",
    "    def zeros(size, dtype=int):\n",
    "        if dtype == int:                      #dtype이 비어있거나(dtype=int를 default값으로 설정) 정수이면 size만큼의 0으로 초기화\n",
    "            array = [0 for i in range(size)]\n",
    "        elif dtype == float:                  #dtype이 실수이면 size만큼의 0.0으로 초기화\n",
    "            array = [0. for i in range(size)]\n",
    "        elif dtype == complex:                #dtype이 복소수이면 size만큼의 0j로 초기화\n",
    "            array = [0j for i in range(size)]\n",
    "        return array\n",
    "    \n",
    "    def __str__(self):\n",
    "        string = \"[\"\n",
    "        for i in range(len(self.array)):\n",
    "            if i == len(self.array) - 1:\n",
    "                string += str(self.array[i])\n",
    "            else:\n",
    "                string += str(self.array[i]) + \", \"\n",
    "        string += \"]\"\n",
    "        return string\n",
    "    \n",
    "    def __del__(self):\n",
    "        self.array = []"
   ]
  },
  {
   "cell_type": "code",
   "execution_count": 66,
   "metadata": {
    "colab": {},
    "colab_type": "code",
    "id": "U4OonWHDIt76"
   },
   "outputs": [
    {
     "name": "stdout",
     "output_type": "stream",
     "text": [
      "[13, 232, 42, 12, 34, 21, 44, 23]\n",
      "[10, 57, 134, 64, 17, 12, 63, 34]\n",
      "[2, 3.13, 54, 2.43, 35, 34.53, 634.43, 2.0]\n",
      "[23, 289, 176, 76, 51, 33, 107, 57]\n",
      "[25, 292.13, 230, 78.43, 86, 67.53, 741.43, 59.0]\n",
      "[0, 0, 0, 0, 0, 0, 0, 0, 0, 0]\n",
      "[0, 0, 0, 0, 0, 0, 0, 0, 0, 0]\n",
      "[0.0, 0.0, 0.0, 0.0, 0.0, 0.0, 0.0, 0.0, 0.0, 0.0]\n",
      "[0j, 0j, 0j, 0j, 0j, 0j, 0j, 0j, 0j, 0j]\n"
     ]
    }
   ],
   "source": [
    "arr1 = [13,232,42,12,34,21,44,23]\n",
    "arr2 = [10,57,134,64,17,12,63,34]\n",
    "arr3 = [2,3.13,54,2.43,35,34.53,634.43,2.]\n",
    "mnp1 = mynumpy(arr1)\n",
    "mnp2 = mynumpy(arr2)\n",
    "mnp3 = mynumpy(arr3)\n",
    "\n",
    "print(mnp1)\n",
    "print(mnp2)\n",
    "print(mnp3)\n",
    "\n",
    "mnp1 + mnp2\n",
    "print(mnp1)\n",
    "\n",
    "mnp1 + mnp3\n",
    "print(mnp1)\n",
    "\n",
    "arr4 = mynumpy.zeros(10,)\n",
    "arr5 = mynumpy.zeros(10,dtype=int)\n",
    "arr6 = mynumpy.zeros(10,dtype=float)\n",
    "arr7 = mynumpy.zeros(10,dtype=complex)\n",
    "print(arr4)\n",
    "print(arr5)\n",
    "print(arr6)\n",
    "print(arr7)"
   ]
  },
  {
   "cell_type": "markdown",
   "metadata": {
    "colab_type": "text",
    "id": "4J3REdOy7_Or"
   },
   "source": [
    "---\n",
    "### ** 문제4) 최후의 질문 ** : 순환가능객체와 리스트 내장, 그리고 여러가지 관련 메소드의 활용 (25+100j pt)\n",
    "\n",
    "다음 [링크](https://drive.google.com/open?id=1LbjhIigd3GcF8fr1_NaNADMYdJYAYCl5)는 아이작 아시모프(Isaac Asimov)의 소설 'The Last Question' (1956) 를 담고 있다.\n",
    "\n",
    "1) 이 파일을 다운로드하여, 본문 중에서 {'of','for','in','on','at','and','but','a','an','the','is','are'}를 제외하고, 가장 많이 등장하는 단어와 각각의 등장 횟수를 5순위 그룹까지 구해보자 (복수의 단어가 같은 등장횟수를 가질때, 이 모두를 하나의 해당순위그룹으로 처리) [15pt]. \n",
    "\n",
    "> ```python\n",
    "    with open('theLQ_sample.txt', 'r') as myfile:\n",
    "        data=myfile.read() # or myfile.read().replace('\\n','')\n",
    "    print (type(data), len(data))\n",
    "    print (data)\n",
    "```\n",
    "\n",
    "\n",
    "2) 1)의 결과를 히스토그래밍해보자 (x: 1순위-5순위까지의 단어 (순위순), y: 등장횟수). [10pt]\n",
    "\n",
    "\n",
    "3) (본 소설에서의) 최후의 질문에 대해, 최후의 기계가 내어놓은 최후의 답변을 예측해보고 본 소설을 다음 수업시간까지 읽어보자. [100j pt]\n"
   ]
  },
  {
   "cell_type": "code",
   "execution_count": 73,
   "metadata": {
    "colab": {},
    "colab_type": "code",
    "id": "N_DztbE5It8F"
   },
   "outputs": [
    {
     "ename": "TypeError",
     "evalue": "'set' object is not subscriptable",
     "output_type": "error",
     "traceback": [
      "\u001b[0;31m---------------------------------------------------------------------------\u001b[0m",
      "\u001b[0;31mTypeError\u001b[0m                                 Traceback (most recent call last)",
      "\u001b[0;32m<ipython-input-73-4817f8c0d275>\u001b[0m in \u001b[0;36m<module>\u001b[0;34m()\u001b[0m\n\u001b[1;32m     16\u001b[0m \u001b[0;32mfor\u001b[0m \u001b[0mi\u001b[0m \u001b[0;32min\u001b[0m \u001b[0mwords_set\u001b[0m\u001b[0;34m:\u001b[0m\u001b[0;34m\u001b[0m\u001b[0m\n\u001b[1;32m     17\u001b[0m     \u001b[0;32mfor\u001b[0m \u001b[0mj\u001b[0m \u001b[0;32min\u001b[0m \u001b[0mwords\u001b[0m\u001b[0;34m:\u001b[0m\u001b[0;34m\u001b[0m\u001b[0m\n\u001b[0;32m---> 18\u001b[0;31m         \u001b[0;32mif\u001b[0m \u001b[0mwords_set\u001b[0m\u001b[0;34m[\u001b[0m\u001b[0mi\u001b[0m\u001b[0;34m]\u001b[0m \u001b[0;34m==\u001b[0m \u001b[0mwords\u001b[0m\u001b[0;34m[\u001b[0m\u001b[0mj\u001b[0m\u001b[0;34m]\u001b[0m\u001b[0;34m:\u001b[0m\u001b[0;34m\u001b[0m\u001b[0m\n\u001b[0m\u001b[1;32m     19\u001b[0m             \u001b[0mnum_set\u001b[0m\u001b[0;34m[\u001b[0m\u001b[0mi\u001b[0m\u001b[0;34m]\u001b[0m \u001b[0;34m+=\u001b[0m \u001b[0;36m1\u001b[0m\u001b[0;34m\u001b[0m\u001b[0m\n\u001b[1;32m     20\u001b[0m \u001b[0;34m\u001b[0m\u001b[0m\n",
      "\u001b[0;31mTypeError\u001b[0m: 'set' object is not subscriptable"
     ]
    }
   ],
   "source": [
    "with open('theLQ_sample.txt', 'r') as myfile:\n",
    "    data = myfile.read().replace('\\n','')\n",
    "#특수문자들 제거\n",
    "data.replace('\"',' ')\n",
    "data.replace('--',' ')\n",
    "data.replace(\"'\",' ')\n",
    "data.replace('.',' ')\n",
    "data.replace(',',' ')\n",
    "data.replace('!',' ')\n",
    "data.replace('?',' ')\n",
    "words = data.split()\n",
    "words_set = set(words)\n",
    "num_set = [0 for i in words_set]\n",
    "new_set = [word for word in words_set]\n",
    "\n",
    "for i in words_set:\n",
    "    for j in words:\n",
    "        if words_set[i] == words[j]:\n",
    "            num_set[i] += 1\n",
    "            \n",
    "for i in range(len(num_set)):\n",
    "    for j in range(i, len(num_set)):\n",
    "        if num_set[i] < num_set[j]:\n",
    "            imsi1 = num_set[i]\n",
    "            imsi2 = new_set[i]\n",
    "            num_set[i] = num_set[j]\n",
    "            new_set[i] = new_set[j]\n",
    "            num_set[j] = imsi1\n",
    "            new_set[j] = imsi2\n",
    "            \n",
    "for i in range(5):\n",
    "    print(new_set[i],num_set[i])"
   ]
  },
  {
   "cell_type": "code",
   "execution_count": 0,
   "metadata": {
    "colab": {},
    "colab_type": "code",
    "id": "uT9WOL_0It8M"
   },
   "outputs": [],
   "source": []
  },
  {
   "cell_type": "markdown",
   "metadata": {
    "colab_type": "text",
    "id": "81lyvlJu7_O2"
   },
   "source": [
    "---\n",
    "#### ** 수고 많았습니다. **"
   ]
  }
 ],
 "metadata": {
  "colab": {
   "collapsed_sections": [],
   "name": "snu_ppsml_midterm_prob.ipynb",
   "provenance": [],
   "version": "0.3.2"
  },
  "kernelspec": {
   "display_name": "Python 3",
   "language": "python",
   "name": "python3"
  },
  "language_info": {
   "codemirror_mode": {
    "name": "ipython",
    "version": 3
   },
   "file_extension": ".py",
   "mimetype": "text/x-python",
   "name": "python",
   "nbconvert_exporter": "python",
   "pygments_lexer": "ipython3",
   "version": "3.5.2"
  }
 },
 "nbformat": 4,
 "nbformat_minor": 1
}
