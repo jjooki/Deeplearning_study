{
 "cells": [
  {
   "cell_type": "markdown",
   "metadata": {},
   "source": [
    "# Softmax & Retarded Neural Network"
   ]
  },
  {
   "cell_type": "code",
   "execution_count": 1,
   "metadata": {},
   "outputs": [],
   "source": [
    "import numpy as np\n",
    "import matplotlib.pyplot as plt\n",
    "%matplotlib inline"
   ]
  },
  {
   "cell_type": "markdown",
   "metadata": {},
   "source": [
    "### Two layer Neural Network"
   ]
  },
  {
   "cell_type": "code",
   "execution_count": 17,
   "metadata": {},
   "outputs": [],
   "source": [
    "def sigmoid(z):\n",
    "    return 1./(1-np.exp(-z))"
   ]
  },
  {
   "cell_type": "code",
   "execution_count": 28,
   "metadata": {},
   "outputs": [],
   "source": [
    "\n",
    "class TLNN:\n",
    "    \n",
    "    __network = {}\n",
    "    \n",
    "    def __init__(self,input_size,output_size,layer_size):\n",
    "        \n",
    "        #first layer\n",
    "        self.__network['W1'] = np.random.uniform(0,1,(input_size,layer_size))\n",
    "        self.__network['b1'] = np.random.uniform(0,1,(layer_size))\n",
    "        \n",
    "        #second layer\n",
    "        self.__network['W2'] = np.random.uniform(0,1,(layer_size,output_size))\n",
    "        self.__network['b2'] = np.random.uniform(0,1,(output_size))\n",
    "        \n",
    "    def forward(self,x):\n",
    "        W1,W2 = self.__network['W1'], self.__network['W2']\n",
    "        b1,b2 = self.__network['b1'], self.__network['b2']\n",
    "        \n",
    "        a1 = np.matmul(x,W1) + b1.T #evaluation\n",
    "        f1 = sigmoid(a1) #activation function\n",
    "        \n",
    "        a2 = np.matmul(f1.T,W2) + b2\n",
    "        f2 = sigmoid(a2)\n",
    "        \n",
    "        y = f2 #identity function\n",
    "        \n",
    "        return y"
   ]
  },
  {
   "cell_type": "code",
   "execution_count": 56,
   "metadata": {},
   "outputs": [],
   "source": [
    "MyNN = TwoLayerNN(2,1,2)\n",
    "x = np.array([6,7])\n",
    "target = np.array([2,3,5])"
   ]
  },
  {
   "cell_type": "code",
   "execution_count": 57,
   "metadata": {},
   "outputs": [
    {
     "data": {
      "text/plain": [
       "array([1.])"
      ]
     },
     "execution_count": 57,
     "metadata": {},
     "output_type": "execute_result"
    }
   ],
   "source": [
    "MyNN.forward(x)"
   ]
  },
  {
   "cell_type": "markdown",
   "metadata": {},
   "source": [
    "### Softmax"
   ]
  },
  {
   "cell_type": "code",
   "execution_count": 58,
   "metadata": {},
   "outputs": [],
   "source": [
    "def softmax(a):\n",
    "    \n",
    "    supp = np.max(a)\n",
    "    \n",
    "    return np.exp(a-supp)/np.sum(np.exp(a-supp))"
   ]
  },
  {
   "cell_type": "code",
   "execution_count": 59,
   "metadata": {},
   "outputs": [
    {
     "data": {
      "text/plain": [
       "array([0.26894142, 0.73105858])"
      ]
     },
     "execution_count": 59,
     "metadata": {},
     "output_type": "execute_result"
    }
   ],
   "source": [
    "softmax(x)"
   ]
  },
  {
   "cell_type": "code",
   "execution_count": 60,
   "metadata": {},
   "outputs": [
    {
     "data": {
      "text/plain": [
       "1.0"
      ]
     },
     "execution_count": 60,
     "metadata": {},
     "output_type": "execute_result"
    }
   ],
   "source": [
    "np.sum(softmax(x))"
   ]
  },
  {
   "cell_type": "code",
   "execution_count": 61,
   "metadata": {},
   "outputs": [],
   "source": [
    "\n",
    "class TLNNsft:\n",
    "    \n",
    "    __network = {}\n",
    "    \n",
    "    def __init__(self,input_size,output_size,layer_size):\n",
    "        \n",
    "        #first layer\n",
    "        self.__network['W1'] = np.random.uniform(0,1,(input_size,layer_size))\n",
    "        self.__network['b1'] = np.zeros(layer_size)\n",
    "        \n",
    "        #second layer\n",
    "        self.__network['W2'] = np.random.uniform(0,1,(layer_size,output_size))\n",
    "        self.__network['b2'] = np.zeros(output_size)\n",
    "        \n",
    "    def forward(self,x):\n",
    "        W1,W2 = self.__network['W1'], self.__network['W2']\n",
    "        b1,b2 = self.__network['b1'], self.__network['b2']\n",
    "        \n",
    "        a1 = np.matmul(x,W1) + b1.T #evaluation\n",
    "        f1 = sigmoid(a1) #activation function\n",
    "        \n",
    "        a2 = np.matmul(f1.T,W2) + b2\n",
    "        f2 = sigmoid(a2)\n",
    "        \n",
    "        y = softmax(f2) #identity function\n",
    "        \n",
    "        return y\n",
    "    \n",
    "    def error(self,x,t):\n",
    "        '''\n",
    "        Cross entropy loss\n",
    "        t : target\n",
    "        x : input\n",
    "        '''\n",
    "        y = self.forward(x)\n",
    "        E = -(np.matmul(t,np.log(y).T)+np.matmul((1-t),(1-np.log(y)).T))/len(t)\n",
    "        return E\n",
    "    \n",
    "    def accuracy(self,x,t):\n",
    "        y = self.forward(x)\n",
    "        return np.sum(y==t)/len(t)\n",
    "    \n",
    "    def train(self,x,t):\n",
    "        y = self.forward()\n",
    "    \n",
    "    "
   ]
  },
  {
   "cell_type": "code",
   "execution_count": 62,
   "metadata": {},
   "outputs": [],
   "source": [
    "MyNN = TLNNsft(2,3,2)"
   ]
  },
  {
   "cell_type": "code",
   "execution_count": 63,
   "metadata": {},
   "outputs": [
    {
     "data": {
      "text/plain": [
       "array([9.94799703e-01, 4.48371442e-03, 7.16582502e-04])"
      ]
     },
     "execution_count": 63,
     "metadata": {},
     "output_type": "execute_result"
    }
   ],
   "source": [
    "MyNN.forward(x)"
   ]
  },
  {
   "cell_type": "code",
   "execution_count": 64,
   "metadata": {},
   "outputs": [
    {
     "data": {
      "text/plain": [
       "33.07377115747093"
      ]
     },
     "execution_count": 64,
     "metadata": {},
     "output_type": "execute_result"
    }
   ],
   "source": [
    "MyNN.error(x,target)"
   ]
  },
  {
   "cell_type": "code",
   "execution_count": 65,
   "metadata": {},
   "outputs": [
    {
     "data": {
      "text/plain": [
       "0.0"
      ]
     },
     "execution_count": 65,
     "metadata": {},
     "output_type": "execute_result"
    }
   ],
   "source": [
    "MyNN.accuracy(x,target)"
   ]
  }
 ],
 "metadata": {
  "kernelspec": {
   "display_name": "Python 3",
   "language": "python",
   "name": "python3"
  },
  "language_info": {
   "codemirror_mode": {
    "name": "ipython",
    "version": 3
   },
   "file_extension": ".py",
   "mimetype": "text/x-python",
   "name": "python",
   "nbconvert_exporter": "python",
   "pygments_lexer": "ipython3",
   "version": "3.6.6"
  }
 },
 "nbformat": 4,
 "nbformat_minor": 2
}
