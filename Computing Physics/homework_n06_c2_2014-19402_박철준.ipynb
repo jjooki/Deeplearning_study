{
 "cells": [
  {
   "cell_type": "markdown",
   "metadata": {
    "colab_type": "text",
    "id": "gfrKNROhioFg"
   },
   "source": [
    "## SNU PPSML 6차 정규과제 [12/8(토) 24:00 마감]"
   ]
  },
  {
   "cell_type": "code",
   "execution_count": 0,
   "metadata": {
    "colab": {},
    "colab_type": "code",
    "id": "m7Ghj7f0ioFm"
   },
   "outputs": [],
   "source": [
    "# Printing all outputs in a cell (not only the last output)\n",
    "from IPython.core.interactiveshell import InteractiveShell\n",
    "InteractiveShell.ast_node_interactivity = \"all\""
   ]
  },
  {
   "cell_type": "markdown",
   "metadata": {
    "colab_type": "text",
    "id": "dql3CXqiSF7Q"
   },
   "source": [
    "\n",
    "----\n",
    "\n",
    "## ** Evaluation in Machine Learning **\n"
   ]
  },
  {
   "cell_type": "markdown",
   "metadata": {
    "colab_type": "text",
    "id": "xEmhfDx8SwSY"
   },
   "source": [
    "---\n",
    "### **정규과제06 문제1) 학습곡선 (Learning Curve) ** \n",
    "\n",
    "2차원의 속성공간에 분포한 2종 데이터의 분류문제를 고려해보자 \n",
    "\n",
    ">참조: [ppsml_note_07](https://drive.google.com/open?id=1eq9Na1bmzCGZR1zKUCjBElo6ZjWPYe0c)  [ppsml_note_09](https://drive.google.com/open?id=1K049UX6r1wURymG5CfS6MJyAczOGq1w3)\n",
    "\n",
    "\n",
    "1. NNfactory.MLP클래스를 활용하여 (적절한 구조의 신경망과 활성화함수 그리고 학습률을 상정), 2종의 spinral 데이터(2classes_2d_spirals.npy)에 대한 분류모형의 학습을 시도해보자.  \n",
    "[훈련데이터(1000~5000개), 테스트데이터(1000개) 사용]  \n",
    "\n",
    "    이때 각 **epoch**마다의 **에러함수**값과 **정확도**를 모니터링하여, 이 정보를 **학습곡선 그래프**(X: epoch, Y1: error, Y2: accuracy)로 그려보자. [학습곡선그래프구현: +20pt] \n",
    "\n",
    "2. 위의 신경망의 훈련과정을 최적화해보고 가장 훈련이 잘된 신경망 모형의 성능(에러함수값, 정확도)을 테스트데이터에 대해 출력해보고, 그 모형을 MLP class에서 로드할 수 있는 .npy형식으로 저장하여 제출해보자.\n",
    "[최종 테스트데이터 정확도 > 90+i% : +(i+1)pt]\n",
    "\n",
    "3. 훈련과정에서의 학습(곡선)정보를 내부적으로 모니터링하여 기록할 수 있는 적절한 멤버변수 및 메소드를 각 각자의 NNfactory.py에 구현하여보자. [권장. 0pt]\n"
   ]
  },
  {
   "cell_type": "code",
   "execution_count": 8,
   "metadata": {
    "colab": {},
    "colab_type": "code",
    "id": "sQwo5wUD03R2"
   },
   "outputs": [
    {
     "name": "stdout",
     "output_type": "stream",
     "text": [
      "3\n"
     ]
    }
   ],
   "source": [
    "# (모듈로서) NNfactory.py의 로딩\n",
    "# autoreload 구문을 통해 \n",
    "# NNfactory.py에의 최신 수정 사항이 재import시마다 반영되도록 한다. \n",
    "%reload_ext autoreload\n",
    "%autoreload 2\n",
    "# NNfactory.py 참조\n",
    "import NNfactory\n",
    "import numpy as np\n",
    "data = np.load('2Classes_2d_spirals.npy') #데이터불러오기\n",
    "data_test = data[:1000] #테스트에 쓸 데이터\n",
    "training_data_list = data # 학습에 쓸 데이터\n",
    "# 완전연결순방향앞먹임 신경망 (fully connected feed-forward neural network, MLP) 구조의 설정\n",
    "model_str = '2:identity|'+'2:softmax'\n",
    "# 학습률\n",
    "lr = 0.01\n",
    "# 모델이름\n",
    "name_tag = 'circle_lr'+str(lr)"
   ]
  },
  {
   "cell_type": "markdown",
   "metadata": {
    "colab_type": "text",
    "id": "Azl2kzoRICql"
   },
   "source": [
    "---\n",
    "### **정규과제06 문제2) ROC 곡선 (Receiver Operating Characteristic Curve) ** \n",
    "\n",
    "문제1)번의 분류모형의 훈련에서, \n",
    "- 테스트샘플에 대한 정확도가 0.8부근이 될 때까지만 훈련된 신경망 모형1을 준비해보자.\n",
    "- 테스트샘플에 대한 정확도가 1.0가까이 잘 훈련된 신경망 모형2를 준비해보자.\n",
    "\n",
    "이때 [ppsml_note_09](https://drive.google.com/open?id=1K049UX6r1wURymG5CfS6MJyAczOGq1w3)의 마지막 예제를 참조하여 두 신경망 모형의 **ROC 곡선**을 함께 그려보고 [+30pt], 각 ROC curve의 밑면적(**AUC**, area under curve)를 구해보자. [+20pt]\n"
   ]
  },
  {
   "cell_type": "code",
   "execution_count": 0,
   "metadata": {
    "colab": {},
    "colab_type": "code",
    "id": "AUeZw0l5IDdD"
   },
   "outputs": [],
   "source": []
  }
 ],
 "metadata": {
  "colab": {
   "collapsed_sections": [],
   "name": "homework_n06.ipynb",
   "provenance": [],
   "version": "0.3.2"
  },
  "kernelspec": {
   "display_name": "Python 3",
   "language": "python",
   "name": "python3"
  },
  "language_info": {
   "codemirror_mode": {
    "name": "ipython",
    "version": 3
   },
   "file_extension": ".py",
   "mimetype": "text/x-python",
   "name": "python",
   "nbconvert_exporter": "python",
   "pygments_lexer": "ipython3",
   "version": "3.5.2"
  }
 },
 "nbformat": 4,
 "nbformat_minor": 1
}
