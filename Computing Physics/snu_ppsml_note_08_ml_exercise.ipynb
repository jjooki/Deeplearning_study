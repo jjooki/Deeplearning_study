{
 "cells": [
  {
   "cell_type": "markdown",
   "metadata": {
    "colab_type": "text",
    "id": "gfrKNROhioFg"
   },
   "source": [
    "## SNU PPSML - Machine Learning Exercise 2 (Note08)"
   ]
  },
  {
   "cell_type": "markdown",
   "metadata": {
    "colab_type": "text",
    "id": "fIeqMK47xj1X"
   },
   "source": [
    "#### **Contents**\n",
    "---\n",
    "* ML exercise 1: Gradient Descent [Optimization @ ML] (HW05)  "
   ]
  },
  {
   "cell_type": "markdown",
   "metadata": {
    "colab_type": "text",
    "id": "n0PmZbFvxj_G"
   },
   "source": [
    "---\n",
    "* **ML exercise 2: Neural Network [Representation @ ML] (실습과제 11/5-8 & 11/9 강의)**\n",
    "    - 입력 속성데이터와 지도라벨값 $\\{(x_i, y_i)\\}$ @ 인코딩: 입력과 출력층의 설정  \n",
    "\n",
    "    - 순전파 신경망(def feedforward())의 구성을 위한 여러가지 파라메터들     \n",
    "        - $N_{layers}$ & $N_{nodes}$ in each layer\n",
    "        - 가중치와 편향치 ($W$ & $B$)\n",
    "        - 가중합(퍼셉트론 입력) : \n",
    "        \n",
    "        > $a_j=W_{ji} f_i(a_i)$ (전층의 출력 $f_i$에 대한 가중합)\n",
    "        \n",
    "        - 활성화 함수(출력) : $f_j(a_j)$\n",
    "        \n",
    "        > $f(a)=\\frac{1}{1+\\exp^{-a}}$ for sigmoid  \n",
    "        \n",
    "        > $f(a)=\\tanh(a)$ for tanh  \n",
    "        \n",
    "        > $f(a_k)=\\frac{\\exp[a_k]}{\\sum_{k'}\\exp[a_{k'}]}$ for softmax  \n",
    "        \n",
    "        > $f(a)=a$ for $ a > 0$ otherwise $0$ (ReLU)\n",
    "        \n",
    "        - 데이터의 순전파를 통한 최종 출력값 얻기: def feedforward(input)\n",
    "        - ...\n",
    "        \n",
    "    - 오차보정의 역전파:  \n",
    "    \n",
    "        - 지도라벨값의 인코딩과 오차함수($E(w;x)$)의 정의\n",
    "        - $\\delta_j$ (가중합 $a_j$에 대한 오차보정항 $\\equiv\\frac{\\partial E}{\\partial a_j}$)\n",
    "        - $\\delta_j$를 통한 가중치보정 역전파의 구현\n",
    "        - ...\n",
    "        \n",
    "    - 많은 데이터에 대한 학습 알고리즘 구현\n",
    "    - check a contour of MLP's probability output for classification of 2D data  \n",
    "    \n",
    "---   \n",
    "* ML exercise 3: Training a NN for Regression & Classification [Evaluation, Rep, Opt @ ML] (HW06)\n",
    "    - batch GD, mini-batch GD, stochastic GD  \n",
    "        - Visualize the minimizers in 2D\n",
    "    - Validation of model, Over-fitting, Bias & Variance  \n",
    "        - Visualize an over-fitted status\n",
    "    - Evaluation of model performance\n",
    "        - error(loss), accuracy (...)\n",
    "        - NN score & ROC(Receiver Operating Characteristic) curve\n"
   ]
  },
  {
   "cell_type": "code",
   "execution_count": 0,
   "metadata": {
    "colab": {},
    "colab_type": "code",
    "id": "m7Ghj7f0ioFm"
   },
   "outputs": [],
   "source": [
    "# Printing all outputs in a cell (not only the last output)\n",
    "from IPython.core.interactiveshell import InteractiveShell\n",
    "InteractiveShell.ast_node_interactivity = \"all\""
   ]
  },
  {
   "cell_type": "markdown",
   "metadata": {
    "colab_type": "text",
    "id": "0DBgpcWDioHC"
   },
   "source": [
    "----\n",
    "### ** 2. Neural Netowork Representation for ML ** \n",
    "\n",
    "### For Supervised Learning\n",
    "\n",
    "    1) [이종분류(Binary Classification)] (in note 07) \n",
    "\n",
    "    2) [회귀(Regression)] (in note 07) \n",
    "\n",
    "    3) MNIST 데이터를 사용한 다종분류(Multi-Class Classification) (here, note08)\n"
   ]
  },
  {
   "cell_type": "markdown",
   "metadata": {
    "colab_type": "text",
    "id": "GHT3Bwo9xm8U"
   },
   "source": [
    "---\n",
    "#### ** 3) MNIST 데이터를 사용한 다종분류(Multi-Class Classification) **  \n",
    "\n",
    "##### **0~9까지 10종의 손글씨 이미지 데이터를 신경망에 학습시켜, 주어진 숫자 이미지를 알아맞추는 기게모형을 건설해보자 **\n",
    "\n",
    "- **MNIST dataset**  \n",
    "   MNIST handwritten digit dataset은 사람들이 손글씨로 적은 0~9까지의 숫자 이미지 데이터로서, 패턴 인식이나 기계학습 알고리즘들의 성능 측정에 많이 사용되어왔다. 공식 홈페이지([MNIST](http://yann.lecun.com/exdb/mnist/))에서 여러가지 인식모형들이 달성한 기록들을 제공하고 있으며, 기본적으로 60000개의 훈련 데이터(training set)와 10000개의 테스트 셋(test set)을 제공한다. (현재 최고의 성능을 보이는 모형은 2012년 CNN을 사용하여 0.23%의 오차율을 달성하고 있다.)\n",
    "\n",
    "- **MNIST dataset in CSV**  \n",
    "   보다 정제된 CSV형식의 MNIST data를 다운받기:  \n",
    "   > [학습 데이터 (training data) 다운로드](http://www.pjreddie.com/media/files/mnist_train.csv)  \n",
    "   > [테스트 데이터 (test data) 다운로드](http://www.pjreddie.com/media/files/mnist_test.csv)  \n",
    "   \n",
    "   다운받은 데이터를 노트북과 같은 위치에 'mnist_dataset'이라는 폴더에 저장\n",
    "    "
   ]
  },
  {
   "cell_type": "code",
   "execution_count": 0,
   "metadata": {
    "colab": {},
    "colab_type": "code",
    "id": "X-ZH6BMNqBpZ"
   },
   "outputs": [],
   "source": [
    "# 데이터 불러오기 (MNIST 손글씨 데이터)\n",
    "training_data_file = open(\"mnist_dataset/mnist_train_100.csv\",'r')\n",
    "training_data_list = training_data_file.readlines()\n",
    "training_data_file.close()"
   ]
  },
  {
   "cell_type": "code",
   "execution_count": 0,
   "metadata": {
    "colab": {},
    "colab_type": "code",
    "id": "lH12RDPxqBph",
    "outputId": "6991e64a-bfd5-4aab-e330-2a5dbe38a7c3"
   },
   "outputs": [
    {
     "data": {
      "text/plain": [
       "str"
      ]
     },
     "execution_count": 22,
     "metadata": {
      "tags": []
     },
     "output_type": "execute_result"
    }
   ],
   "source": [
    "# 데이터 갯수 체크\n",
    "len(training_data_list)\n",
    "# 데이터 타입\n",
    "type(training_data_list[0])"
   ]
  },
  {
   "cell_type": "code",
   "execution_count": 0,
   "metadata": {
    "colab": {},
    "colab_type": "code",
    "id": "yUctfruLqBpt",
    "outputId": "e0450111-662f-4e37-cd79-958603552fb0"
   },
   "outputs": [
    {
     "name": "stdout",
     "output_type": "stream",
     "text": [
      "5,0,0,0,0,0,0,0,0,0,0,0,0,0,0,0,0,0,0,0,0,0,0,0,0,0,0,0,0,0,0,0,0,0,0,0,0,0,0,0,0,0,0,0,0,0,0,0,0,0,0,0,0,0,0,0,0,0,0,0,0,0,0,0,0,0,0,0,0,0,0,0,0,0,0,0,0,0,0,0,0,0,0,0,0,0,0,0,0,0,0,0,0,0,0,0,0,0,0,0,0,0,0,0,0,0,0,0,0,0,0,0,0,0,0,0,0,0,0,0,0,0,0,0,0,0,0,0,0,0,0,0,0,0,0,0,0,0,0,0,0,0,0,0,0,0,0,0,0,0,0,0,0,3,18,18,18,126,136,175,26,166,255,247,127,0,0,0,0,0,0,0,0,0,0,0,0,30,36,94,154,170,253,253,253,253,253,225,172,253,242,195,64,0,0,0,0,0,0,0,0,0,0,0,49,238,253,253,253,253,253,253,253,253,251,93,82,82,56,39,0,0,0,0,0,0,0,0,0,0,0,0,18,219,253,253,253,253,253,198,182,247,241,0,0,0,0,0,0,0,0,0,0,0,0,0,0,0,0,0,0,80,156,107,253,253,205,11,0,43,154,0,0,0,0,0,0,0,0,0,0,0,0,0,0,0,0,0,0,0,14,1,154,253,90,0,0,0,0,0,0,0,0,0,0,0,0,0,0,0,0,0,0,0,0,0,0,0,0,0,139,253,190,2,0,0,0,0,0,0,0,0,0,0,0,0,0,0,0,0,0,0,0,0,0,0,0,0,11,190,253,70,0,0,0,0,0,0,0,0,0,0,0,0,0,0,0,0,0,0,0,0,0,0,0,0,0,35,241,225,160,108,1,0,0,0,0,0,0,0,0,0,0,0,0,0,0,0,0,0,0,0,0,0,0,0,81,240,253,253,119,25,0,0,0,0,0,0,0,0,0,0,0,0,0,0,0,0,0,0,0,0,0,0,0,45,186,253,253,150,27,0,0,0,0,0,0,0,0,0,0,0,0,0,0,0,0,0,0,0,0,0,0,0,16,93,252,253,187,0,0,0,0,0,0,0,0,0,0,0,0,0,0,0,0,0,0,0,0,0,0,0,0,0,249,253,249,64,0,0,0,0,0,0,0,0,0,0,0,0,0,0,0,0,0,0,0,0,0,46,130,183,253,253,207,2,0,0,0,0,0,0,0,0,0,0,0,0,0,0,0,0,0,0,0,39,148,229,253,253,253,250,182,0,0,0,0,0,0,0,0,0,0,0,0,0,0,0,0,0,0,24,114,221,253,253,253,253,201,78,0,0,0,0,0,0,0,0,0,0,0,0,0,0,0,0,0,23,66,213,253,253,253,253,198,81,2,0,0,0,0,0,0,0,0,0,0,0,0,0,0,0,0,18,171,219,253,253,253,253,195,80,9,0,0,0,0,0,0,0,0,0,0,0,0,0,0,0,0,55,172,226,253,253,253,253,244,133,11,0,0,0,0,0,0,0,0,0,0,0,0,0,0,0,0,0,0,136,253,253,253,212,135,132,16,0,0,0,0,0,0,0,0,0,0,0,0,0,0,0,0,0,0,0,0,0,0,0,0,0,0,0,0,0,0,0,0,0,0,0,0,0,0,0,0,0,0,0,0,0,0,0,0,0,0,0,0,0,0,0,0,0,0,0,0,0,0,0,0,0,0,0,0,0,0,0,0,0,0,0,0,0,0,0,0,0,0,0,0,0,0,0,0,0,0,0,0,0,0,0,0,0,0,0,0\n",
      "\n"
     ]
    }
   ],
   "source": [
    "print(training_data_list[0])"
   ]
  },
  {
   "cell_type": "code",
   "execution_count": 0,
   "metadata": {
    "colab": {},
    "colab_type": "code",
    "id": "b02qXeaRqBp1"
   },
   "outputs": [],
   "source": [
    "# 하나의 문자열로 이루어진 이미지 데이터를 1+784개의 요소를 갖는 리스트로 변환 \n",
    "image_list = training_data_list[0].split(',')\n"
   ]
  },
  {
   "cell_type": "code",
   "execution_count": 0,
   "metadata": {
    "colab": {},
    "colab_type": "code",
    "id": "PzW9a7szqBp_",
    "outputId": "1d21bc0a-d0b2-4be3-b883-06c7c52f2821"
   },
   "outputs": [
    {
     "data": {
      "text/plain": [
       "<matplotlib.image.AxesImage at 0x7fcc00d62978>"
      ]
     },
     "execution_count": 27,
     "metadata": {
      "tags": []
     },
     "output_type": "execute_result"
    },
    {
     "data": {
      "image/png": "[encoded data removed]",
      "text/plain": [
       "<Figure size 432x288 with 1 Axes>"
      ]
     },
     "metadata": {
      "tags": []
     },
     "output_type": "display_data"
    }
   ],
   "source": [
    "import numpy as np\n",
    "import matplotlib.pyplot as plt\n",
    "\n",
    "image_array = np.asfarray(image_list[1:]).reshape((28,28))\n",
    "# print (image_array)\n",
    "\n",
    "plt.imshow(image_array, cmap='Greys')"
   ]
  },
  {
   "cell_type": "code",
   "execution_count": 0,
   "metadata": {
    "colab": {},
    "colab_type": "code",
    "id": "59CPRySFqBqK",
    "outputId": "5e9bb0ec-d964-40af-bd25-ce4a00757b83"
   },
   "outputs": [
    {
     "data": {
      "image/png": "[encoded data removed]",
      "text/plain": [
       "<Figure size 1440x1440 with 25 Axes>"
      ]
     },
     "metadata": {
      "tags": []
     },
     "output_type": "display_data"
    }
   ],
   "source": [
    "# 1) take the data from a list, rearrange it into a 28*28 array\n",
    "# 2) plot it as an image using an axes object of matplotlib\n",
    "\n",
    "import matplotlib.pyplot as plt\n",
    "import numpy as np\n",
    "\n",
    "sfactor = 4\n",
    "nx, ny = 5, 5\n",
    "figsize = sfactor*np.array([nx,ny])\n",
    "\n",
    "fig = plt.figure(figsize=figsize)\n",
    "ax = [ fig.add_subplot(ny,nx,i+1) for i in range(nx*ny) ]\n",
    "\n",
    "for i in range(nx*ny):\n",
    "    image_list = training_data_list[i].split(',')    \n",
    "    image_array = numpy.asfarray(image_list[1:]).reshape((28,28))\n",
    "    ax[i].imshow(image_array, cmap='Greys', interpolation='None')\n",
    "    ax[i].grid(True)\n",
    "    \n",
    "fig.tight_layout()\n",
    "plt.show()"
   ]
  },
  {
   "cell_type": "markdown",
   "metadata": {
    "colab_type": "text",
    "id": "-pO_LvUtqBqa"
   },
   "source": [
    "---\n",
    "3-2. ** 신경망 모형의 구성 ** \n"
   ]
  },
  {
   "cell_type": "code",
   "execution_count": 0,
   "metadata": {
    "colab": {},
    "colab_type": "code",
    "id": "bwLWLfpHxVIS"
   },
   "outputs": [],
   "source": [
    "%reload_ext autoreload\n",
    "%autoreload 2\n",
    "\n",
    "import NNfactory"
   ]
  },
  {
   "cell_type": "code",
   "execution_count": 0,
   "metadata": {
    "colab": {},
    "colab_type": "code",
    "id": "V2p-ZQk9xVIW"
   },
   "outputs": [],
   "source": [
    "model_str = '784:identity|'+2*'100:relu|'+'10:softmax'\n",
    "lr = 0.005\n",
    "name_tag = 'MNIST_'+model_str+'_lr'+str(lr)"
   ]
  },
  {
   "cell_type": "code",
   "execution_count": 0,
   "metadata": {
    "colab": {},
    "colab_type": "code",
    "id": "Af1nypdnxVIe",
    "outputId": "453952ae-e8b7-441e-b421-6ae39e90dd8a"
   },
   "outputs": [
    {
     "name": "stdout",
     "output_type": "stream",
     "text": [
      "\n",
      " * 다음과 같은 구조의 다층퍼셉트론 연결이 초기화 되었습니다 *\n",
      "\n",
      " > 모델이름 = MNIST_784:identity|100:relu|100:relu|10:softmax_lr0.005\n",
      " > 총 층수 (입력 + 은닉(s) + 출력) =  4\n",
      " > 각 층에서의 노드수 =  [784, 100, 100, 10]\n",
      " > 각 층에서의 활성화 함수 =  ['identity', 'relu', 'relu', 'softmax']\n",
      " > 학습률(Learning Rate) =  0.005\n",
      " > 지도라벨 인코딩 방식 =  one-hot\n"
     ]
    }
   ],
   "source": [
    "mynn = NNfactory.MLP(model_structure=model_str, \\\n",
    "                     model_nametag=name_tag, \\\n",
    "                     learning_rate=lr, \\\n",
    "                     encoding='one-hot')"
   ]
  },
  {
   "cell_type": "markdown",
   "metadata": {
    "colab_type": "text",
    "id": "sbqTAAe-qBqy"
   },
   "source": [
    "---\n",
    "3-3. ** 신경망 모형의 훈련 ** \n"
   ]
  },
  {
   "cell_type": "code",
   "execution_count": 0,
   "metadata": {
    "colab": {},
    "colab_type": "code",
    "id": "lUlKiyYTxVIm"
   },
   "outputs": [],
   "source": [
    "from time import sleep\n",
    "import sys\n",
    "import numpy as np\n",
    "\n",
    "# 데이터 불러오기 (MNIST 손글씨 데이터)\n",
    "## 훈련데이터\n",
    "training_data_file = open(\"mnist_dataset/mnist_train.csv\",'r')\n",
    "training_data_list = training_data_file.readlines()\n",
    "## 테스트데이터\n",
    "test_data_file = open(\"mnist_dataset/mnist_test.csv\",'r')\n",
    "test_data_list = test_data_file.readlines()\n",
    "\n",
    "# 훈련 준비\n",
    "data_type='mnist'\n",
    "encoding='one-hot' #'integer' # 'float'\n",
    "\n",
    "# 최대학습주기 설정\n",
    "epochs = 200\n",
    "\n",
    "n_data_tot=len(training_data_list)\n",
    "n_data_train=10000  # 훈련에 사용할 데이터 갯수 (max 60000)\n",
    "n_data_test=5000  # 테스트에 사용할 테이터 갯수 (max 10000)\n",
    "dn_data = int(n_data_train/20) # 프로세스 게이지용 단위 데이터셋"
   ]
  },
  {
   "cell_type": "code",
   "execution_count": 0,
   "metadata": {
    "colab": {},
    "colab_type": "code",
    "id": "fayhtaSKxVI0",
    "outputId": "b1dc1318-449e-4b82-dc3d-e5ef8633a95d"
   },
   "outputs": [
    {
     "name": "stdout",
     "output_type": "stream",
     "text": [
      " * epoch = 1\n",
      " [====================] 100%\n",
      " > 훈련 샘플에 대한 성능 (정확도 & 평균에러) \n",
      " \n",
      " * 현재 정확도  =  0.8869  | (정답수)/(테스트 데이터수) =  8869 / 10000\n",
      " * 현재 평균에러 =  0.0178598229427\n",
      "\n",
      " > 테스트 샘플에 대한 성능 (정확도 & 평균에러) \n",
      " \n",
      " * 현재 정확도  =  0.8568  | (정답수)/(테스트 데이터수) =  4284 / 5000\n",
      " * 현재 평균에러 =  0.0217348358436\n",
      "\n",
      "\n",
      " * epoch = 2\n",
      " [====================] 100%\n",
      " > 훈련 샘플에 대한 성능 (정확도 & 평균에러) \n",
      " \n",
      " * 현재 정확도  =  0.9105  | (정답수)/(테스트 데이터수) =  9105 / 10000\n",
      " * 현재 평균에러 =  0.0142111442978\n",
      "\n",
      " > 테스트 샘플에 대한 성능 (정확도 & 평균에러) \n",
      " \n",
      " * 현재 정확도  =  0.8778  | (정답수)/(테스트 데이터수) =  4389 / 5000\n",
      " * 현재 평균에러 =  0.0189958889094\n",
      "\n",
      "\n",
      " * epoch = 3\n",
      " [====================] 100%\n",
      " > 훈련 샘플에 대한 성능 (정확도 & 평균에러) \n",
      " \n",
      " * 현재 정확도  =  0.9244  | (정답수)/(테스트 데이터수) =  9244 / 10000\n",
      " * 현재 평균에러 =  0.012101881989\n",
      "\n",
      " > 테스트 샘플에 대한 성능 (정확도 & 평균에러) \n",
      " \n",
      " * 현재 정확도  =  0.888  | (정답수)/(테스트 데이터수) =  4440 / 5000\n",
      " * 현재 평균에러 =  0.0172153792536\n",
      "\n",
      "\n",
      " * epoch = 4\n",
      " [====================] 100%\n",
      " > 훈련 샘플에 대한 성능 (정확도 & 평균에러) \n",
      " \n",
      " * 현재 정확도  =  0.9351  | (정답수)/(테스트 데이터수) =  9351 / 10000\n",
      " * 현재 평균에러 =  0.0106037896502\n",
      "\n",
      " > 테스트 샘플에 대한 성능 (정확도 & 평균에러) \n",
      " \n",
      " * 현재 정확도  =  0.898  | (정답수)/(테스트 데이터수) =  4490 / 5000\n",
      " * 현재 평균에러 =  0.0158607906092\n",
      "\n",
      "\n",
      " * epoch = 5\n",
      " [====================] 100%\n",
      " > 훈련 샘플에 대한 성능 (정확도 & 평균에러) \n",
      " \n",
      " * 현재 정확도  =  0.941  | (정답수)/(테스트 데이터수) =  9410 / 10000\n",
      " * 현재 평균에러 =  0.00967502021005\n",
      "\n",
      " > 테스트 샘플에 대한 성능 (정확도 & 평균에러) \n",
      " \n",
      " * 현재 정확도  =  0.9  | (정답수)/(테스트 데이터수) =  4500 / 5000\n",
      " * 현재 평균에러 =  0.0151653318026\n",
      "\n",
      "\n",
      " * epoch = 6\n",
      " [====================] 100%\n",
      " > 훈련 샘플에 대한 성능 (정확도 & 평균에러) \n",
      " \n",
      " * 현재 정확도  =  0.9465  | (정답수)/(테스트 데이터수) =  9465 / 10000\n",
      " * 현재 평균에러 =  0.00884346387046\n",
      "\n",
      " > 테스트 샘플에 대한 성능 (정확도 & 평균에러) \n",
      " \n",
      " * 현재 정확도  =  0.906  | (정답수)/(테스트 데이터수) =  4530 / 5000\n",
      " * 현재 평균에러 =  0.0144853515159\n",
      "\n",
      "\n",
      " * epoch = 7\n",
      " [====================] 100%\n",
      " > 훈련 샘플에 대한 성능 (정확도 & 평균에러) \n",
      " \n",
      " * 현재 정확도  =  0.95  | (정답수)/(테스트 데이터수) =  9500 / 10000\n",
      " * 현재 평균에러 =  0.00819627432374\n",
      "\n",
      " > 테스트 샘플에 대한 성능 (정확도 & 평균에러) \n",
      " \n",
      " * 현재 정확도  =  0.9108  | (정답수)/(테스트 데이터수) =  4554 / 5000\n",
      " * 현재 평균에러 =  0.0139043330354\n",
      "\n",
      "\n",
      " * epoch = 8\n",
      " [====================] 100%\n",
      " > 훈련 샘플에 대한 성능 (정확도 & 평균에러) \n",
      " \n",
      " * 현재 정확도  =  0.9536  | (정답수)/(테스트 데이터수) =  9536 / 10000\n",
      " * 현재 평균에러 =  0.00761756653643\n",
      "\n",
      " > 테스트 샘플에 대한 성능 (정확도 & 평균에러) \n",
      " \n",
      " * 현재 정확도  =  0.9144  | (정답수)/(테스트 데이터수) =  4572 / 5000\n",
      " * 현재 평균에러 =  0.0133897047767\n",
      "\n",
      "\n",
      " * epoch = 9\n",
      " [=================   ] 85%"
     ]
    },
    {
     "ename": "KeyboardInterrupt",
     "evalue": "",
     "output_type": "error",
     "traceback": [
      "\u001b[0;31m---------------------------------------------------------------------------\u001b[0m",
      "\u001b[0;31mKeyboardInterrupt\u001b[0m                         Traceback (most recent call last)",
      "\u001b[0;32m<ipython-input-22-015bdb383c38>\u001b[0m in \u001b[0;36m<module>\u001b[0;34m()\u001b[0m\n\u001b[1;32m     17\u001b[0m             \u001b[0msys\u001b[0m\u001b[0;34m.\u001b[0m\u001b[0mstdout\u001b[0m\u001b[0;34m.\u001b[0m\u001b[0mwrite\u001b[0m\u001b[0;34m(\u001b[0m\u001b[0;34m' [%-20s] %d%%'\u001b[0m \u001b[0;34m%\u001b[0m \u001b[0;34m(\u001b[0m \u001b[0;34m'='\u001b[0m\u001b[0;34m*\u001b[0m\u001b[0;34m(\u001b[0m\u001b[0mid_data\u001b[0m\u001b[0;34m//\u001b[0m\u001b[0mdn_data\u001b[0m\u001b[0;34m)\u001b[0m\u001b[0;34m,\u001b[0m \u001b[0;36m5\u001b[0m\u001b[0;34m*\u001b[0m\u001b[0;34m(\u001b[0m\u001b[0mid_data\u001b[0m\u001b[0;34m//\u001b[0m\u001b[0mdn_data\u001b[0m\u001b[0;34m)\u001b[0m\u001b[0;34m)\u001b[0m\u001b[0;34m)\u001b[0m\u001b[0;34m\u001b[0m\u001b[0m\n\u001b[1;32m     18\u001b[0m             \u001b[0msys\u001b[0m\u001b[0;34m.\u001b[0m\u001b[0mstdout\u001b[0m\u001b[0;34m.\u001b[0m\u001b[0mflush\u001b[0m\u001b[0;34m(\u001b[0m\u001b[0;34m)\u001b[0m\u001b[0;34m\u001b[0m\u001b[0m\n\u001b[0;32m---> 19\u001b[0;31m             \u001b[0msleep\u001b[0m\u001b[0;34m(\u001b[0m\u001b[0;36m0.25\u001b[0m\u001b[0;34m)\u001b[0m\u001b[0;34m\u001b[0m\u001b[0m\n\u001b[0m\u001b[1;32m     20\u001b[0m \u001b[0;34m\u001b[0m\u001b[0m\n\u001b[1;32m     21\u001b[0m         \u001b[0;31m# 입력/지도 데이터 가공\u001b[0m\u001b[0;34m\u001b[0m\u001b[0;34m\u001b[0m\u001b[0m\n",
      "\u001b[0;31mKeyboardInterrupt\u001b[0m: "
     ]
    }
   ],
   "source": [
    "# 설정된 최대학습주기동안 훈련\n",
    "\n",
    "# file = open(mynn.model_nametag+\"_performance.txt\",\"w\")\n",
    "\n",
    "for e in range(epochs):\n",
    "    \n",
    "    # go through all data in the training data set\n",
    "    print(' * epoch = {}'.format(e+1))\n",
    "    id_data = 0\n",
    "    \n",
    "    for data in training_data_list[:n_data_train]:\n",
    "        \n",
    "        # 프로세스 게이지\n",
    "        id_data += 1\n",
    "        if (id_data%dn_data==0):\n",
    "            sys.stdout.write('\\r')\n",
    "            sys.stdout.write(' [%-20s] %d%%' % ( '='*(id_data//dn_data), 5*(id_data//dn_data)))\n",
    "            sys.stdout.flush()\n",
    "            sleep(0.25)\n",
    "        \n",
    "        # 입력/지도 데이터 가공 \n",
    "        if data_type == 'mnist':\n",
    "            # split the mnist data by the ',' commas\n",
    "            all_list = data.split(',')\n",
    "            # 입력 속성 데이터 스케일링 (preprocessing)\n",
    "            input_list = np.asfarray(all_list[1:])/ 255.0 #* 0.99) + 0.01\n",
    "            # 지도 라벨 벡터 가공 (shape = (10,))\n",
    "            target_list = np.zeros(10) #mynn.n_nodes[-1])\n",
    "            # all_values[0] is the target label for this data\n",
    "            target_list[int(all_list[0])] = 1.0\n",
    "            \n",
    "        else:\n",
    "        \n",
    "            input_list = data[1:] #np.asfarray(all_values[1:])        \n",
    "            target_origin = data[0]\n",
    "            \n",
    "            if encoding == 'one-hot':\n",
    "\n",
    "                target_list = np.zeros(mynn.n_nodes[-1])\n",
    "                target_list[int(data[0])] = 1\n",
    "    \n",
    "            elif encoding == 'integer':\n",
    "                \n",
    "                target_list = np.zeros(1)\n",
    "                target_list[0] = int(data[0])\n",
    "\n",
    "            elif encoding == 'float':\n",
    "                \n",
    "                target_list = np.zeros(1)\n",
    "                target_list[0] = data[0]\n",
    "                \n",
    "            else:\n",
    "                raise ValueError(' => check your encoding scheme. ')\n",
    "                \n",
    "        mynn.train(input_list, target_list)\n",
    "        \n",
    "        pass\n",
    "    \n",
    "    print('')\n",
    "    print(' > 훈련 샘플에 대한 성능 (정확도 & 평균에러) ')\n",
    "    mynn.check_accuracy_error(training_data_list, 0, n_data_train-1, data_type='mnist')\n",
    "    print('')\n",
    "    print(' > 테스트 샘플에 대한 성능 (정확도 & 평균에러) ')\n",
    "    mynn.check_accuracy_error(test_data_list, 0, n_data_test-1, data_type='mnist')\n",
    "\n",
    "#     file.write('')\n",
    "#     file.write(' > 훈련 샘플에 대한 성능 (정확도 & 평균에러) ')\n",
    "#     file.write(str(mynn.check_accuracy_error(training_data_list, 0, n_data_train-1, data_type='mnist')))\n",
    "#     file.write('')\n",
    "#     file.write(' > 테스트 샘플에 대한 성능 (정확도 & 평균에러) ')\n",
    "#     file.write(str(mynn.check_accuracy_error(test_data_list, 0, n_data_test-1, data_type='mnist')))\n",
    "\n",
    "    print('\\n')\n",
    "    \n",
    "    pass"
   ]
  },
  {
   "cell_type": "markdown",
   "metadata": {
    "colab_type": "text",
    "id": "Mk8AHDdVqBrC"
   },
   "source": [
    "---\n",
    "3-4. ** 훈련한 모형의 저장 및 재구성/리로드 ** \n",
    "\n",
    "훈련된 모형은 NNfactory.MLP클래스 안의 save_model메소드를 사용하여 .npy포맷의 numpy array로 저장할 수 있다."
   ]
  },
  {
   "cell_type": "code",
   "execution_count": 0,
   "metadata": {
    "colab": {},
    "colab_type": "code",
    "id": "wkpqVG_ZxVI_"
   },
   "outputs": [],
   "source": [
    "mynn.save_model(fname='mlp_mnist_2relu.npy', nametag='MNIST_2relu')\n"
   ]
  },
  {
   "cell_type": "markdown",
   "metadata": {
    "colab_type": "text",
    "id": "sASjw8pxxVJD"
   },
   "source": [
    "**저장된 모형 불러오기 :  **\n",
    "\n",
    "저장된 .npy파일로부터 신경망정보가 담긴 넘파이 배열을 직접 로드하고, 이 넘파이 배열을 새 신경망 인스턴스 생성에 사용하여 저장된 모형과 똑같은 신경망을 로드한다."
   ]
  },
  {
   "cell_type": "code",
   "execution_count": 0,
   "metadata": {
    "colab": {},
    "colab_type": "code",
    "id": "q6iONXCexVJF",
    "outputId": "2c9f24c8-22dd-4fb1-e8ad-1e8f27767823"
   },
   "outputs": [
    {
     "name": "stdout",
     "output_type": "stream",
     "text": [
      "\n",
      " * 다음과 같은 구조의 다층퍼셉트론 모형이 \"load_model_np\" 정보로부터 로드되었습니다. *\n",
      "\n",
      " > 모델이름 = MNIST_2relu\n",
      " > 총 층수 (입력 + 은닉(s) + 출력) =  4\n",
      " > 각 층에서의 노드수 =  [784, 100, 100, 10]\n",
      " > 각 층에서의 활성화 함수 =  ['identity', 'relu', 'relu', 'softmax']\n",
      " > 학습률(Learning Rate) =  0.005\n",
      " > 지도라벨 인코딩 방식 =  one-hot\n"
     ]
    }
   ],
   "source": [
    "mynn_npy = np.load('mlp_mnist_2relu.npy')\n",
    "mynn_load = NNfactory.MLP(load_model_np=mynn_npy)"
   ]
  },
  {
   "cell_type": "markdown",
   "metadata": {
    "colab_type": "text",
    "id": "9le73IDeqBrk"
   },
   "source": [
    "---\n",
    "3-5. ** 학습된 (혹은 학습되어 리로드된)모형의 테스트 ** \n"
   ]
  },
  {
   "cell_type": "code",
   "execution_count": 0,
   "metadata": {
    "colab": {},
    "colab_type": "code",
    "id": "MdrM2dSOqBrn"
   },
   "outputs": [],
   "source": [
    "# 데이터 불러오기 (MNIST 손글씨 데이터)\n",
    "## 훈련데이터\n",
    "training_data_file = open(\"mnist_dataset/mnist_train.csv\",'r')\n",
    "training_data_list = training_data_file.readlines()\n",
    "## 테스트데이터\n",
    "test_data_file = open(\"mnist_dataset/mnist_test.csv\",'r')\n",
    "test_data_list = test_data_file.readlines()"
   ]
  },
  {
   "cell_type": "code",
   "execution_count": 0,
   "metadata": {
    "colab": {},
    "colab_type": "code",
    "id": "ekHqzeIIqBry",
    "outputId": "7cc4ffce-43d7-4451-b37e-7e622880fcb0"
   },
   "outputs": [
    {
     "name": "stdout",
     "output_type": "stream",
     "text": [
      " * data_id : 0\n",
      " ===============\n",
      " > 정답클래스 : 9\n",
      " > 예측클래스 : 9\n",
      " ---------------\n",
      " >> 각 클래스당 예측확률\n",
      "    p[0] : 0.000\n",
      "    p[1] : 0.000\n",
      "    p[2] : 0.000\n",
      "    p[3] : 0.000\n",
      "    p[4] : 0.000\n",
      "    p[5] : 0.000\n",
      "    p[6] : 0.000\n",
      "    p[7] : 0.014\n",
      "    p[8] : 0.000\n",
      "    p[9] : 0.986\n"
     ]
    },
    {
     "data": {
      "text/plain": [
       "<matplotlib.image.AxesImage at 0x7f6109d2e7f0>"
      ]
     },
     "execution_count": 54,
     "metadata": {
      "tags": []
     },
     "output_type": "execute_result"
    },
    {
     "data": {
      "image/png": "[encoded data removed]",
      "text/plain": [
       "<Figure size 432x288 with 1 Axes>"
      ]
     },
     "metadata": {
      "tags": []
     },
     "output_type": "display_data"
    }
   ],
   "source": [
    "# 데이터와 모형의 출력 확인\n",
    "\n",
    "## 테스트 데이터 아이디\n",
    "data_id=20\n",
    "\n",
    "all_list=test_data_list[data_id].split(',')\n",
    "\n",
    "## 로드한 데이터가 속한 정답 클래스\n",
    "true_class = all_list[0]\n",
    "## 로드한 데이터에 대해 학습모형이 예측하는, 각 클래스에 속할 확률 (출력) \n",
    "p_classes = mynn_load.feedforward((np.asfarray(all_list[1:]) / 255.0))\n",
    "## 예측된 확률이 가장 큰 클래스\n",
    "predicted_class = np.argmax(p_classes)\n",
    "\n",
    "## 결과 정리\n",
    "print (\" * data_id : %i\"%(data_id))\n",
    "print (\" ===============\")\n",
    "print (\" > 정답클래스 : %s\"%(str(true_class)))\n",
    "print (\" > 예측클래스 : %s\"%(str(predicted_class)))\n",
    "print (\" ---------------\")\n",
    "print (\" >> 각 클래스당 예측확률\")\n",
    "for i, p in enumerate(p_classes):\n",
    "    print (\"    p[%s] : %4.3f\"%(str(i),p))\n",
    "\n",
    "    \n",
    "## 이미지 데이터 확인\n",
    "image_array=np.asfarray(all_list[1:]).reshape((28,28))\n",
    "plt.imshow(image_array, cmap='Greys', interpolation='None')\n"
   ]
  },
  {
   "cell_type": "code",
   "execution_count": 0,
   "metadata": {
    "colab": {},
    "colab_type": "code",
    "id": "g4LIfsWAxVJb",
    "outputId": "2348bf86-6d5e-481b-9ced-62b541691d3c"
   },
   "outputs": [
    {
     "name": "stdout",
     "output_type": "stream",
     "text": [
      " * data_id : 149\n",
      " ===============\n",
      " > 정답클래스 : 2\n",
      " > 예측클래스 : 1\n",
      " ---------------\n",
      " >> 각 클래스당 예측확률\n",
      "    p[0] : 0.004\n",
      "    p[1] : 0.506\n",
      "    p[2] : 0.074\n",
      "    p[3] : 0.054\n",
      "    p[4] : 0.044\n",
      "    p[5] : 0.086\n",
      "    p[6] : 0.040\n",
      "    p[7] : 0.004\n",
      "    p[8] : 0.118\n",
      "    p[9] : 0.070\n"
     ]
    },
    {
     "data": {
      "image/png": "[encoded data removed]",
      "text/plain": [
       "<Figure size 432x288 with 1 Axes>"
      ]
     },
     "metadata": {
      "tags": []
     },
     "output_type": "display_data"
    }
   ],
   "source": [
    "## 예측이 틀리는 데이터 확인..\n",
    "\n",
    "### 모형이 틀리는 데이터 아이디 (0,1,...) \n",
    "target_error_id=11\n",
    "error_id=0\n",
    "\n",
    "for data_id, data in enumerate(test_data_list):\n",
    "    \n",
    "    all_list=data.split(',')\n",
    "    \n",
    "    ## 로드한 데이터가 속한 정답 클래스\n",
    "    true_class = all_list[0]\n",
    "    \n",
    "    ## 로드한 데이터에 대해 학습모형이 예측하는, 각 클래스에 속할 확률 (출력) \n",
    "    p_classes = mynn_load.feedforward((np.asfarray(all_list[1:]) / 255.0))\n",
    "    \n",
    "    ## 예측된 확률이 가장 큰 클래스\n",
    "    predicted_class = np.argmax(p_classes)\n",
    "    \n",
    "    ## 정답과 예측이 틀릴 경우 출력\n",
    "    if (int(true_class) != int(predicted_class)):\n",
    "        error_id+=1\n",
    "        if (error_id==target_error_id):\n",
    "            \n",
    "            ## 결과 정리\n",
    "            print (\" * data_id : %i\"%(data_id))\n",
    "            print (\" ===============\")\n",
    "            print (\" > 정답클래스 : %s\"%(str(true_class)))\n",
    "            print (\" > 예측클래스 : %s\"%(str(predicted_class)))\n",
    "            print (\" ---------------\")\n",
    "            print (\" >> 각 클래스당 예측확률\")\n",
    "            for i, p in enumerate(p_classes):\n",
    "                print (\"    p[%s] : %4.3f\"%(str(i),p))\n",
    "\n",
    "            ## 이미지 데이터 확인\n",
    "            image_array=np.asfarray(all_list[1:]).reshape((28,28))\n",
    "            plt.imshow(image_array, cmap='Greys', interpolation='None')\n",
    "                \n",
    "            break\n",
    "        "
   ]
  },
  {
   "cell_type": "code",
   "execution_count": 0,
   "metadata": {
    "colab": {},
    "colab_type": "code",
    "id": "huQoAKcvqBsJ"
   },
   "outputs": [],
   "source": []
  }
 ],
 "metadata": {
  "colab": {
   "collapsed_sections": [],
   "name": "snu_ppsml_note_08_ml_exercise.ipynb",
   "provenance": [],
   "version": "0.3.2"
  },
  "kernelspec": {
   "display_name": "Python 3",
   "language": "python",
   "name": "python3"
  },
  "language_info": {
   "codemirror_mode": {
    "name": "ipython",
    "version": 3
   },
   "file_extension": ".py",
   "mimetype": "text/x-python",
   "name": "python",
   "nbconvert_exporter": "python",
   "pygments_lexer": "ipython3",
   "version": "3.5.2"
  }
 },
 "nbformat": 4,
 "nbformat_minor": 1
}
